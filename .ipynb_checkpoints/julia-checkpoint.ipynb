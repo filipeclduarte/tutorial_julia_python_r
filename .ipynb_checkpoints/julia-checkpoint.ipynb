{
 "cells": [
  {
   "cell_type": "markdown",
   "metadata": {},
   "source": [
    "# Julia"
   ]
  },
  {
   "cell_type": "markdown",
   "metadata": {},
   "source": [
    "### DataFrames\n",
    "\n",
    "Utilidade: Manipulação de dados."
   ]
  },
  {
   "cell_type": "code",
   "execution_count": 1,
   "metadata": {},
   "outputs": [],
   "source": [
    "# importando biblioteca\n",
    "# using Pkg\n",
    "# Pkg.add(\"DataFrames\")\n",
    "# Pkg.add(\"CSV\")\n",
    "# Pkg.add(\"Queryverse\")\n",
    "using DataFrames\n",
    "using CSV\n",
    "using Queryverse"
   ]
  },
  {
   "cell_type": "code",
   "execution_count": 3,
   "metadata": {},
   "outputs": [
    {
     "data": {
      "text/html": [
       "<table class=\"data-frame\"><thead><tr><th></th><th>symbol</th><th>date</th><th>open</th><th>high</th><th>low</th><th>close</th><th>volume</th></tr><tr><th></th><th>String</th><th>Date…</th><th>Float64?</th><th>Float64?</th><th>Float64?</th><th>Float64</th><th>Int64</th></tr></thead><tbody><p>497,472 rows × 7 columns</p><tr><th>1</th><td>AAL</td><td>2014-01-02</td><td>25.07</td><td>25.82</td><td>25.06</td><td>25.36</td><td>8998943</td></tr><tr><th>2</th><td>AAPL</td><td>2014-01-02</td><td>79.3828</td><td>79.5756</td><td>78.8601</td><td>79.0185</td><td>58791957</td></tr><tr><th>3</th><td>AAP</td><td>2014-01-02</td><td>110.36</td><td>111.88</td><td>109.29</td><td>109.74</td><td>542711</td></tr><tr><th>4</th><td>ABBV</td><td>2014-01-02</td><td>52.12</td><td>52.33</td><td>51.52</td><td>51.98</td><td>4569061</td></tr><tr><th>5</th><td>ABC</td><td>2014-01-02</td><td>70.11</td><td>70.23</td><td>69.48</td><td>69.89</td><td>1148391</td></tr><tr><th>6</th><td>ABT</td><td>2014-01-02</td><td>38.09</td><td>38.4</td><td>38.0</td><td>38.23</td><td>4967472</td></tr><tr><th>7</th><td>ACN</td><td>2014-01-02</td><td>81.5</td><td>81.92</td><td>81.09</td><td>81.13</td><td>2405384</td></tr><tr><th>8</th><td>ADBE</td><td>2014-01-02</td><td>59.06</td><td>59.53</td><td>58.94</td><td>59.29</td><td>2746370</td></tr><tr><th>9</th><td>ADI</td><td>2014-01-02</td><td>49.52</td><td>49.75</td><td>49.04</td><td>49.28</td><td>2799092</td></tr><tr><th>10</th><td>ADM</td><td>2014-01-02</td><td>43.22</td><td>43.29</td><td>42.79</td><td>42.99</td><td>2753765</td></tr><tr><th>11</th><td>ADP</td><td>2014-01-02</td><td>80.17</td><td>80.45</td><td>79.38</td><td>79.86</td><td>1965869</td></tr><tr><th>12</th><td>ADSK</td><td>2014-01-02</td><td>49.33</td><td>49.74</td><td>48.88</td><td>49.25</td><td>2488043</td></tr><tr><th>13</th><td>ADS</td><td>2014-01-02</td><td>262.44</td><td>262.68</td><td>258.78</td><td>262.34</td><td>547808</td></tr><tr><th>14</th><td>AEE</td><td>2014-01-02</td><td>36.05</td><td>36.11</td><td>35.47</td><td>35.53</td><td>1394264</td></tr><tr><th>15</th><td>AEP</td><td>2014-01-02</td><td>46.98</td><td>47.06</td><td>46.04</td><td>46.13</td><td>2752002</td></tr><tr><th>16</th><td>AES</td><td>2014-01-02</td><td>14.51</td><td>14.56</td><td>14.19</td><td>14.27</td><td>3987216</td></tr><tr><th>17</th><td>AET</td><td>2014-01-02</td><td>68.21</td><td>68.6</td><td>67.52</td><td>67.56</td><td>1650687</td></tr><tr><th>18</th><td>AFL</td><td>2014-01-02</td><td>66.63</td><td>66.694</td><td>65.81</td><td>65.96</td><td>1914657</td></tr><tr><th>19</th><td>AGN</td><td>2014-01-02</td><td>167.33</td><td>170.71</td><td>166.594</td><td>168.05</td><td>1268722</td></tr><tr><th>20</th><td>AIG</td><td>2014-01-02</td><td>50.81</td><td>51.3</td><td>50.47</td><td>50.71</td><td>9198092</td></tr><tr><th>21</th><td>AIV</td><td>2014-01-02</td><td>25.9</td><td>26.14</td><td>25.66</td><td>25.91</td><td>844901</td></tr><tr><th>22</th><td>AIZ</td><td>2014-01-02</td><td>66.04</td><td>66.19</td><td>65.15</td><td>65.32</td><td>375524</td></tr><tr><th>23</th><td>AJG</td><td>2014-01-02</td><td>46.67</td><td>46.89</td><td>46.09</td><td>46.15</td><td>483694</td></tr><tr><th>24</th><td>AKAM</td><td>2014-01-02</td><td>47.11</td><td>47.1799</td><td>46.42</td><td>46.53</td><td>935107</td></tr><tr><th>25</th><td>ALB</td><td>2014-01-02</td><td>63.38</td><td>63.6</td><td>62.6</td><td>63.14</td><td>548782</td></tr><tr><th>26</th><td>ALGN</td><td>2014-01-02</td><td>57.06</td><td>57.37</td><td>56.43</td><td>56.96</td><td>437600</td></tr><tr><th>27</th><td>ALK</td><td>2014-01-02</td><td>36.665</td><td>36.965</td><td>36.275</td><td>36.59</td><td>900234</td></tr><tr><th>28</th><td>ALLE</td><td>2014-01-02</td><td>44.08</td><td>44.18</td><td>43.27</td><td>43.65</td><td>992872</td></tr><tr><th>29</th><td>ALL</td><td>2014-01-02</td><td>54.09</td><td>54.45</td><td>53.5</td><td>53.55</td><td>1909106</td></tr><tr><th>30</th><td>ALXN</td><td>2014-01-02</td><td>132.46</td><td>133.82</td><td>130.54</td><td>133.44</td><td>760197</td></tr><tr><th>&vellip;</th><td>&vellip;</td><td>&vellip;</td><td>&vellip;</td><td>&vellip;</td><td>&vellip;</td><td>&vellip;</td><td>&vellip;</td></tr></tbody></table>"
      ],
      "text/latex": [
       "\\begin{tabular}{r|ccccccc}\n",
       "\t& symbol & date & open & high & low & close & volume\\\\\n",
       "\t\\hline\n",
       "\t& String & Date… & Float64? & Float64? & Float64? & Float64 & Int64\\\\\n",
       "\t\\hline\n",
       "\t1 & AAL & 2014-01-02 & 25.07 & 25.82 & 25.06 & 25.36 & 8998943 \\\\\n",
       "\t2 & AAPL & 2014-01-02 & 79.3828 & 79.5756 & 78.8601 & 79.0185 & 58791957 \\\\\n",
       "\t3 & AAP & 2014-01-02 & 110.36 & 111.88 & 109.29 & 109.74 & 542711 \\\\\n",
       "\t4 & ABBV & 2014-01-02 & 52.12 & 52.33 & 51.52 & 51.98 & 4569061 \\\\\n",
       "\t5 & ABC & 2014-01-02 & 70.11 & 70.23 & 69.48 & 69.89 & 1148391 \\\\\n",
       "\t6 & ABT & 2014-01-02 & 38.09 & 38.4 & 38.0 & 38.23 & 4967472 \\\\\n",
       "\t7 & ACN & 2014-01-02 & 81.5 & 81.92 & 81.09 & 81.13 & 2405384 \\\\\n",
       "\t8 & ADBE & 2014-01-02 & 59.06 & 59.53 & 58.94 & 59.29 & 2746370 \\\\\n",
       "\t9 & ADI & 2014-01-02 & 49.52 & 49.75 & 49.04 & 49.28 & 2799092 \\\\\n",
       "\t10 & ADM & 2014-01-02 & 43.22 & 43.29 & 42.79 & 42.99 & 2753765 \\\\\n",
       "\t11 & ADP & 2014-01-02 & 80.17 & 80.45 & 79.38 & 79.86 & 1965869 \\\\\n",
       "\t12 & ADSK & 2014-01-02 & 49.33 & 49.74 & 48.88 & 49.25 & 2488043 \\\\\n",
       "\t13 & ADS & 2014-01-02 & 262.44 & 262.68 & 258.78 & 262.34 & 547808 \\\\\n",
       "\t14 & AEE & 2014-01-02 & 36.05 & 36.11 & 35.47 & 35.53 & 1394264 \\\\\n",
       "\t15 & AEP & 2014-01-02 & 46.98 & 47.06 & 46.04 & 46.13 & 2752002 \\\\\n",
       "\t16 & AES & 2014-01-02 & 14.51 & 14.56 & 14.19 & 14.27 & 3987216 \\\\\n",
       "\t17 & AET & 2014-01-02 & 68.21 & 68.6 & 67.52 & 67.56 & 1650687 \\\\\n",
       "\t18 & AFL & 2014-01-02 & 66.63 & 66.694 & 65.81 & 65.96 & 1914657 \\\\\n",
       "\t19 & AGN & 2014-01-02 & 167.33 & 170.71 & 166.594 & 168.05 & 1268722 \\\\\n",
       "\t20 & AIG & 2014-01-02 & 50.81 & 51.3 & 50.47 & 50.71 & 9198092 \\\\\n",
       "\t21 & AIV & 2014-01-02 & 25.9 & 26.14 & 25.66 & 25.91 & 844901 \\\\\n",
       "\t22 & AIZ & 2014-01-02 & 66.04 & 66.19 & 65.15 & 65.32 & 375524 \\\\\n",
       "\t23 & AJG & 2014-01-02 & 46.67 & 46.89 & 46.09 & 46.15 & 483694 \\\\\n",
       "\t24 & AKAM & 2014-01-02 & 47.11 & 47.1799 & 46.42 & 46.53 & 935107 \\\\\n",
       "\t25 & ALB & 2014-01-02 & 63.38 & 63.6 & 62.6 & 63.14 & 548782 \\\\\n",
       "\t26 & ALGN & 2014-01-02 & 57.06 & 57.37 & 56.43 & 56.96 & 437600 \\\\\n",
       "\t27 & ALK & 2014-01-02 & 36.665 & 36.965 & 36.275 & 36.59 & 900234 \\\\\n",
       "\t28 & ALLE & 2014-01-02 & 44.08 & 44.18 & 43.27 & 43.65 & 992872 \\\\\n",
       "\t29 & ALL & 2014-01-02 & 54.09 & 54.45 & 53.5 & 53.55 & 1909106 \\\\\n",
       "\t30 & ALXN & 2014-01-02 & 132.46 & 133.82 & 130.54 & 133.44 & 760197 \\\\\n",
       "\t$\\dots$ & $\\dots$ & $\\dots$ & $\\dots$ & $\\dots$ & $\\dots$ & $\\dots$ & $\\dots$ \\\\\n",
       "\\end{tabular}\n"
      ],
      "text/plain": [
       "497472×7 DataFrame. Omitted printing of 1 columns\n",
       "│ Row    │ symbol │ date       │ open     │ high     │ low      │ close   │\n",
       "│        │ \u001b[90mString\u001b[39m │ \u001b[90mDates.Date\u001b[39m │ \u001b[90mFloat64?\u001b[39m │ \u001b[90mFloat64?\u001b[39m │ \u001b[90mFloat64?\u001b[39m │ \u001b[90mFloat64\u001b[39m │\n",
       "├────────┼────────┼────────────┼──────────┼──────────┼──────────┼─────────┤\n",
       "│ 1      │ AAL    │ 2014-01-02 │ 25.07    │ 25.82    │ 25.06    │ 25.36   │\n",
       "│ 2      │ AAPL   │ 2014-01-02 │ 79.3828  │ 79.5756  │ 78.8601  │ 79.0185 │\n",
       "│ 3      │ AAP    │ 2014-01-02 │ 110.36   │ 111.88   │ 109.29   │ 109.74  │\n",
       "│ 4      │ ABBV   │ 2014-01-02 │ 52.12    │ 52.33    │ 51.52    │ 51.98   │\n",
       "│ 5      │ ABC    │ 2014-01-02 │ 70.11    │ 70.23    │ 69.48    │ 69.89   │\n",
       "│ 6      │ ABT    │ 2014-01-02 │ 38.09    │ 38.4     │ 38.0     │ 38.23   │\n",
       "│ 7      │ ACN    │ 2014-01-02 │ 81.5     │ 81.92    │ 81.09    │ 81.13   │\n",
       "│ 8      │ ADBE   │ 2014-01-02 │ 59.06    │ 59.53    │ 58.94    │ 59.29   │\n",
       "│ 9      │ ADI    │ 2014-01-02 │ 49.52    │ 49.75    │ 49.04    │ 49.28   │\n",
       "│ 10     │ ADM    │ 2014-01-02 │ 43.22    │ 43.29    │ 42.79    │ 42.99   │\n",
       "⋮\n",
       "│ 497462 │ XEL    │ 2017-12-29 │ 48.11    │ 48.29    │ 48.07    │ 48.11   │\n",
       "│ 497463 │ XLNX   │ 2017-12-29 │ 68.5     │ 68.75    │ 67.4     │ 67.42   │\n",
       "│ 497464 │ XL     │ 2017-12-29 │ 35.45    │ 35.45    │ 35.16    │ 35.16   │\n",
       "│ 497465 │ XOM    │ 2017-12-29 │ 84.0     │ 84.2     │ 83.64    │ 83.64   │\n",
       "│ 497466 │ XRAY   │ 2017-12-29 │ 66.3     │ 66.72    │ 65.77    │ 65.83   │\n",
       "│ 497467 │ XRX    │ 2017-12-29 │ 29.4     │ 29.47    │ 29.12    │ 29.15   │\n",
       "│ 497468 │ XYL    │ 2017-12-29 │ 68.53    │ 68.8     │ 67.92    │ 68.2    │\n",
       "│ 497469 │ YUM    │ 2017-12-29 │ 82.64    │ 82.71    │ 81.59    │ 81.61   │\n",
       "│ 497470 │ ZBH    │ 2017-12-29 │ 121.75   │ 121.95   │ 120.62   │ 120.67  │\n",
       "│ 497471 │ ZION   │ 2017-12-29 │ 51.28    │ 51.55    │ 50.81    │ 50.83   │\n",
       "│ 497472 │ ZTS    │ 2017-12-29 │ 72.55    │ 72.76    │ 72.04    │ 72.04   │"
      ]
     },
     "execution_count": 3,
     "metadata": {},
     "output_type": "execute_result"
    }
   ],
   "source": [
    "# ler os dados\n",
    "sp500 = CSV.read(\"data/sp500.csv\", DataFrame)"
   ]
  },
  {
   "cell_type": "markdown",
   "metadata": {},
   "source": [
    "### Mensurando tempo de exeução da leitura dos dados"
   ]
  },
  {
   "cell_type": "code",
   "execution_count": 6,
   "metadata": {},
   "outputs": [
    {
     "name": "stdout",
     "output_type": "stream",
     "text": [
      "  0.137790 seconds (497.90 k allocations: 45.073 MiB)\n"
     ]
    }
   ],
   "source": [
    "@time CSV.read(\"data/sp500.csv\", DataFrame);"
   ]
  },
  {
   "cell_type": "code",
   "execution_count": 17,
   "metadata": {},
   "outputs": [
    {
     "data": {
      "text/html": [
       "<table class=\"data-frame\"><thead><tr><th></th><th>symbol</th><th>date</th><th>open</th><th>high</th><th>low</th><th>close</th><th>volume</th></tr><tr><th></th><th>String</th><th>Date…</th><th>Float64?</th><th>Float64?</th><th>Float64?</th><th>Float64</th><th>Int64</th></tr></thead><tbody><p>10 rows × 7 columns</p><tr><th>1</th><td>AAL</td><td>2014-01-02</td><td>25.07</td><td>25.82</td><td>25.06</td><td>25.36</td><td>8998943</td></tr><tr><th>2</th><td>AAPL</td><td>2014-01-02</td><td>79.3828</td><td>79.5756</td><td>78.8601</td><td>79.0185</td><td>58791957</td></tr><tr><th>3</th><td>AAP</td><td>2014-01-02</td><td>110.36</td><td>111.88</td><td>109.29</td><td>109.74</td><td>542711</td></tr><tr><th>4</th><td>ABBV</td><td>2014-01-02</td><td>52.12</td><td>52.33</td><td>51.52</td><td>51.98</td><td>4569061</td></tr><tr><th>5</th><td>ABC</td><td>2014-01-02</td><td>70.11</td><td>70.23</td><td>69.48</td><td>69.89</td><td>1148391</td></tr><tr><th>6</th><td>ABT</td><td>2014-01-02</td><td>38.09</td><td>38.4</td><td>38.0</td><td>38.23</td><td>4967472</td></tr><tr><th>7</th><td>ACN</td><td>2014-01-02</td><td>81.5</td><td>81.92</td><td>81.09</td><td>81.13</td><td>2405384</td></tr><tr><th>8</th><td>ADBE</td><td>2014-01-02</td><td>59.06</td><td>59.53</td><td>58.94</td><td>59.29</td><td>2746370</td></tr><tr><th>9</th><td>ADI</td><td>2014-01-02</td><td>49.52</td><td>49.75</td><td>49.04</td><td>49.28</td><td>2799092</td></tr><tr><th>10</th><td>ADM</td><td>2014-01-02</td><td>43.22</td><td>43.29</td><td>42.79</td><td>42.99</td><td>2753765</td></tr></tbody></table>"
      ],
      "text/latex": [
       "\\begin{tabular}{r|ccccccc}\n",
       "\t& symbol & date & open & high & low & close & volume\\\\\n",
       "\t\\hline\n",
       "\t& String & Date… & Float64? & Float64? & Float64? & Float64 & Int64\\\\\n",
       "\t\\hline\n",
       "\t1 & AAL & 2014-01-02 & 25.07 & 25.82 & 25.06 & 25.36 & 8998943 \\\\\n",
       "\t2 & AAPL & 2014-01-02 & 79.3828 & 79.5756 & 78.8601 & 79.0185 & 58791957 \\\\\n",
       "\t3 & AAP & 2014-01-02 & 110.36 & 111.88 & 109.29 & 109.74 & 542711 \\\\\n",
       "\t4 & ABBV & 2014-01-02 & 52.12 & 52.33 & 51.52 & 51.98 & 4569061 \\\\\n",
       "\t5 & ABC & 2014-01-02 & 70.11 & 70.23 & 69.48 & 69.89 & 1148391 \\\\\n",
       "\t6 & ABT & 2014-01-02 & 38.09 & 38.4 & 38.0 & 38.23 & 4967472 \\\\\n",
       "\t7 & ACN & 2014-01-02 & 81.5 & 81.92 & 81.09 & 81.13 & 2405384 \\\\\n",
       "\t8 & ADBE & 2014-01-02 & 59.06 & 59.53 & 58.94 & 59.29 & 2746370 \\\\\n",
       "\t9 & ADI & 2014-01-02 & 49.52 & 49.75 & 49.04 & 49.28 & 2799092 \\\\\n",
       "\t10 & ADM & 2014-01-02 & 43.22 & 43.29 & 42.79 & 42.99 & 2753765 \\\\\n",
       "\\end{tabular}\n"
      ],
      "text/plain": [
       "10×7 DataFrame. Omitted printing of 1 columns\n",
       "│ Row │ symbol │ date       │ open     │ high     │ low      │ close   │\n",
       "│     │ \u001b[90mString\u001b[39m │ \u001b[90mDates.Date\u001b[39m │ \u001b[90mFloat64?\u001b[39m │ \u001b[90mFloat64?\u001b[39m │ \u001b[90mFloat64?\u001b[39m │ \u001b[90mFloat64\u001b[39m │\n",
       "├─────┼────────┼────────────┼──────────┼──────────┼──────────┼─────────┤\n",
       "│ 1   │ AAL    │ 2014-01-02 │ 25.07    │ 25.82    │ 25.06    │ 25.36   │\n",
       "│ 2   │ AAPL   │ 2014-01-02 │ 79.3828  │ 79.5756  │ 78.8601  │ 79.0185 │\n",
       "│ 3   │ AAP    │ 2014-01-02 │ 110.36   │ 111.88   │ 109.29   │ 109.74  │\n",
       "│ 4   │ ABBV   │ 2014-01-02 │ 52.12    │ 52.33    │ 51.52    │ 51.98   │\n",
       "│ 5   │ ABC    │ 2014-01-02 │ 70.11    │ 70.23    │ 69.48    │ 69.89   │\n",
       "│ 6   │ ABT    │ 2014-01-02 │ 38.09    │ 38.4     │ 38.0     │ 38.23   │\n",
       "│ 7   │ ACN    │ 2014-01-02 │ 81.5     │ 81.92    │ 81.09    │ 81.13   │\n",
       "│ 8   │ ADBE   │ 2014-01-02 │ 59.06    │ 59.53    │ 58.94    │ 59.29   │\n",
       "│ 9   │ ADI    │ 2014-01-02 │ 49.52    │ 49.75    │ 49.04    │ 49.28   │\n",
       "│ 10  │ ADM    │ 2014-01-02 │ 43.22    │ 43.29    │ 42.79    │ 42.99   │"
      ]
     },
     "execution_count": 17,
     "metadata": {},
     "output_type": "execute_result"
    }
   ],
   "source": [
    "first(sp500, 10)"
   ]
  },
  {
   "cell_type": "code",
   "execution_count": 13,
   "metadata": {},
   "outputs": [
    {
     "data": {
      "text/plain": [
       "497472-element Array{Float64,1}:\n",
       "  25.36\n",
       "  79.0185\n",
       " 109.74\n",
       "  51.98\n",
       "  69.89\n",
       "  38.23\n",
       "  81.13\n",
       "  59.29\n",
       "  49.28\n",
       "  42.99\n",
       "  79.86\n",
       "  49.25\n",
       " 262.34\n",
       "   ⋮\n",
       " 122.01\n",
       "  48.11\n",
       "  67.42\n",
       "  35.16\n",
       "  83.64\n",
       "  65.83\n",
       "  29.15\n",
       "  68.2\n",
       "  81.61\n",
       " 120.67\n",
       "  50.83\n",
       "  72.04"
      ]
     },
     "execution_count": 13,
     "metadata": {},
     "output_type": "execute_result"
    }
   ],
   "source": [
    "sp500[:, :close]"
   ]
  },
  {
   "cell_type": "code",
   "execution_count": null,
   "metadata": {},
   "outputs": [],
   "source": []
  }
 ],
 "metadata": {
  "kernelspec": {
   "display_name": "Julia 1.4.1",
   "language": "julia",
   "name": "julia-1.4"
  },
  "language_info": {
   "file_extension": ".jl",
   "mimetype": "application/julia",
   "name": "julia",
   "version": "1.4.1"
  }
 },
 "nbformat": 4,
 "nbformat_minor": 4
}
