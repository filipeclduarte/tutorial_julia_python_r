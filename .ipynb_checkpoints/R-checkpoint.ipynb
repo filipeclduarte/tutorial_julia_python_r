{
 "cells": [
  {
   "cell_type": "markdown",
   "metadata": {},
   "source": [
    "# R"
   ]
  },
  {
   "cell_type": "markdown",
   "metadata": {},
   "source": [
    "### DataFrames\n",
    "\n",
    "Utilidade: Manipulação de dados."
   ]
  },
  {
   "cell_type": "code",
   "execution_count": 1,
   "metadata": {},
   "outputs": [
    {
     "name": "stderr",
     "output_type": "stream",
     "text": [
      "── Attaching packages ─────────────────────────────────────── tidyverse 1.3.0 ──\n",
      "✔ ggplot2 3.3.2     ✔ purrr   0.3.4\n",
      "✔ tibble  3.0.4     ✔ dplyr   1.0.2\n",
      "✔ tidyr   1.1.2     ✔ stringr 1.4.0\n",
      "✔ readr   1.4.0     ✔ forcats 0.5.0\n",
      "── Conflicts ────────────────────────────────────────── tidyverse_conflicts() ──\n",
      "✖ dplyr::filter() masks stats::filter()\n",
      "✖ dplyr::lag()    masks stats::lag()\n"
     ]
    }
   ],
   "source": [
    "# importando biblioteca\n",
    "# install.packages(\"tidyverse\")\n",
    "library(\"tidyverse\")"
   ]
  },
  {
   "cell_type": "code",
   "execution_count": 3,
   "metadata": {},
   "outputs": [
    {
     "name": "stderr",
     "output_type": "stream",
     "text": [
      "\n",
      "── Column specification ────────────────────────────────────────────────────────\n",
      "cols(\n",
      "  symbol = col_character(),\n",
      "  date = col_date(format = \"\"),\n",
      "  open = col_double(),\n",
      "  high = col_double(),\n",
      "  low = col_double(),\n",
      "  close = col_double(),\n",
      "  volume = col_double()\n",
      ")\n",
      "\n"
     ]
    }
   ],
   "source": [
    "sp500 = read_csv('data/sp500.csv')"
   ]
  },
  {
   "cell_type": "markdown",
   "metadata": {},
   "source": [
    "### Mensurando tempo de exeução da leitura dos dados"
   ]
  },
  {
   "cell_type": "code",
   "execution_count": 5,
   "metadata": {},
   "outputs": [
    {
     "name": "stderr",
     "output_type": "stream",
     "text": [
      "\n",
      "── Column specification ────────────────────────────────────────────────────────\n",
      "cols(\n",
      "  symbol = col_character(),\n",
      "  date = col_date(format = \"\"),\n",
      "  open = col_double(),\n",
      "  high = col_double(),\n",
      "  low = col_double(),\n",
      "  close = col_double(),\n",
      "  volume = col_double()\n",
      ")\n",
      "\n"
     ]
    },
    {
     "data": {
      "text/plain": [
       "   user  system elapsed \n",
       "  0.391   0.004   0.396 "
      ]
     },
     "metadata": {},
     "output_type": "display_data"
    }
   ],
   "source": [
    "system.time(read_csv('data/sp500.csv'))"
   ]
  },
  {
   "cell_type": "code",
   "execution_count": 9,
   "metadata": {},
   "outputs": [
    {
     "data": {
      "text/html": [
       "<table>\n",
       "<thead><tr><th scope=col>symbol</th><th scope=col>date</th><th scope=col>open</th><th scope=col>high</th><th scope=col>low</th><th scope=col>close</th><th scope=col>volume</th></tr></thead>\n",
       "<tbody>\n",
       "\t<tr><td>AAL       </td><td>2014-01-02</td><td> 25.0700  </td><td> 25.8200  </td><td> 25.0600  </td><td> 25.3600  </td><td> 8998943  </td></tr>\n",
       "\t<tr><td>AAPL      </td><td>2014-01-02</td><td> 79.3828  </td><td> 79.5756  </td><td> 78.8601  </td><td> 79.0185  </td><td>58791957  </td></tr>\n",
       "\t<tr><td>AAP       </td><td>2014-01-02</td><td>110.3600  </td><td>111.8800  </td><td>109.2900  </td><td>109.7400  </td><td>  542711  </td></tr>\n",
       "\t<tr><td>ABBV      </td><td>2014-01-02</td><td> 52.1200  </td><td> 52.3300  </td><td> 51.5200  </td><td> 51.9800  </td><td> 4569061  </td></tr>\n",
       "\t<tr><td>ABC       </td><td>2014-01-02</td><td> 70.1100  </td><td> 70.2300  </td><td> 69.4800  </td><td> 69.8900  </td><td> 1148391  </td></tr>\n",
       "\t<tr><td>ABT       </td><td>2014-01-02</td><td> 38.0900  </td><td> 38.4000  </td><td> 38.0000  </td><td> 38.2300  </td><td> 4967472  </td></tr>\n",
       "\t<tr><td>ACN       </td><td>2014-01-02</td><td> 81.5000  </td><td> 81.9200  </td><td> 81.0900  </td><td> 81.1300  </td><td> 2405384  </td></tr>\n",
       "\t<tr><td>ADBE      </td><td>2014-01-02</td><td> 59.0600  </td><td> 59.5300  </td><td> 58.9400  </td><td> 59.2900  </td><td> 2746370  </td></tr>\n",
       "\t<tr><td>ADI       </td><td>2014-01-02</td><td> 49.5200  </td><td> 49.7500  </td><td> 49.0400  </td><td> 49.2800  </td><td> 2799092  </td></tr>\n",
       "\t<tr><td>ADM       </td><td>2014-01-02</td><td> 43.2200  </td><td> 43.2900  </td><td> 42.7900  </td><td> 42.9900  </td><td> 2753765  </td></tr>\n",
       "</tbody>\n",
       "</table>\n"
      ],
      "text/latex": [
       "\\begin{tabular}{r|lllllll}\n",
       " symbol & date & open & high & low & close & volume\\\\\n",
       "\\hline\n",
       "\t AAL        & 2014-01-02 &  25.0700   &  25.8200   &  25.0600   &  25.3600   &  8998943  \\\\\n",
       "\t AAPL       & 2014-01-02 &  79.3828   &  79.5756   &  78.8601   &  79.0185   & 58791957  \\\\\n",
       "\t AAP        & 2014-01-02 & 110.3600   & 111.8800   & 109.2900   & 109.7400   &   542711  \\\\\n",
       "\t ABBV       & 2014-01-02 &  52.1200   &  52.3300   &  51.5200   &  51.9800   &  4569061  \\\\\n",
       "\t ABC        & 2014-01-02 &  70.1100   &  70.2300   &  69.4800   &  69.8900   &  1148391  \\\\\n",
       "\t ABT        & 2014-01-02 &  38.0900   &  38.4000   &  38.0000   &  38.2300   &  4967472  \\\\\n",
       "\t ACN        & 2014-01-02 &  81.5000   &  81.9200   &  81.0900   &  81.1300   &  2405384  \\\\\n",
       "\t ADBE       & 2014-01-02 &  59.0600   &  59.5300   &  58.9400   &  59.2900   &  2746370  \\\\\n",
       "\t ADI        & 2014-01-02 &  49.5200   &  49.7500   &  49.0400   &  49.2800   &  2799092  \\\\\n",
       "\t ADM        & 2014-01-02 &  43.2200   &  43.2900   &  42.7900   &  42.9900   &  2753765  \\\\\n",
       "\\end{tabular}\n"
      ],
      "text/markdown": [
       "\n",
       "| symbol | date | open | high | low | close | volume |\n",
       "|---|---|---|---|---|---|---|\n",
       "| AAL        | 2014-01-02 |  25.0700   |  25.8200   |  25.0600   |  25.3600   |  8998943   |\n",
       "| AAPL       | 2014-01-02 |  79.3828   |  79.5756   |  78.8601   |  79.0185   | 58791957   |\n",
       "| AAP        | 2014-01-02 | 110.3600   | 111.8800   | 109.2900   | 109.7400   |   542711   |\n",
       "| ABBV       | 2014-01-02 |  52.1200   |  52.3300   |  51.5200   |  51.9800   |  4569061   |\n",
       "| ABC        | 2014-01-02 |  70.1100   |  70.2300   |  69.4800   |  69.8900   |  1148391   |\n",
       "| ABT        | 2014-01-02 |  38.0900   |  38.4000   |  38.0000   |  38.2300   |  4967472   |\n",
       "| ACN        | 2014-01-02 |  81.5000   |  81.9200   |  81.0900   |  81.1300   |  2405384   |\n",
       "| ADBE       | 2014-01-02 |  59.0600   |  59.5300   |  58.9400   |  59.2900   |  2746370   |\n",
       "| ADI        | 2014-01-02 |  49.5200   |  49.7500   |  49.0400   |  49.2800   |  2799092   |\n",
       "| ADM        | 2014-01-02 |  43.2200   |  43.2900   |  42.7900   |  42.9900   |  2753765   |\n",
       "\n"
      ],
      "text/plain": [
       "   symbol date       open     high     low      close    volume  \n",
       "1  AAL    2014-01-02  25.0700  25.8200  25.0600  25.3600  8998943\n",
       "2  AAPL   2014-01-02  79.3828  79.5756  78.8601  79.0185 58791957\n",
       "3  AAP    2014-01-02 110.3600 111.8800 109.2900 109.7400   542711\n",
       "4  ABBV   2014-01-02  52.1200  52.3300  51.5200  51.9800  4569061\n",
       "5  ABC    2014-01-02  70.1100  70.2300  69.4800  69.8900  1148391\n",
       "6  ABT    2014-01-02  38.0900  38.4000  38.0000  38.2300  4967472\n",
       "7  ACN    2014-01-02  81.5000  81.9200  81.0900  81.1300  2405384\n",
       "8  ADBE   2014-01-02  59.0600  59.5300  58.9400  59.2900  2746370\n",
       "9  ADI    2014-01-02  49.5200  49.7500  49.0400  49.2800  2799092\n",
       "10 ADM    2014-01-02  43.2200  43.2900  42.7900  42.9900  2753765"
      ]
     },
     "metadata": {},
     "output_type": "display_data"
    }
   ],
   "source": [
    "head(sp500, 10)"
   ]
  },
  {
   "cell_type": "code",
   "execution_count": 7,
   "metadata": {},
   "outputs": [
    {
     "data": {
      "text/html": [
       "<ol class=list-inline>\n",
       "\t<li>25.36</li>\n",
       "\t<li>79.0185</li>\n",
       "\t<li>109.74</li>\n",
       "\t<li>51.98</li>\n",
       "\t<li>69.89</li>\n",
       "\t<li>38.23</li>\n",
       "</ol>\n"
      ],
      "text/latex": [
       "\\begin{enumerate*}\n",
       "\\item 25.36\n",
       "\\item 79.0185\n",
       "\\item 109.74\n",
       "\\item 51.98\n",
       "\\item 69.89\n",
       "\\item 38.23\n",
       "\\end{enumerate*}\n"
      ],
      "text/markdown": [
       "1. 25.36\n",
       "2. 79.0185\n",
       "3. 109.74\n",
       "4. 51.98\n",
       "5. 69.89\n",
       "6. 38.23\n",
       "\n",
       "\n"
      ],
      "text/plain": [
       "[1]  25.3600  79.0185 109.7400  51.9800  69.8900  38.2300"
      ]
     },
     "metadata": {},
     "output_type": "display_data"
    }
   ],
   "source": [
    "head(sp500$close)"
   ]
  },
  {
   "cell_type": "code",
   "execution_count": null,
   "metadata": {},
   "outputs": [],
   "source": []
  }
 ],
 "metadata": {
  "kernelspec": {
   "display_name": "R",
   "language": "R",
   "name": "ir"
  },
  "language_info": {
   "codemirror_mode": "r",
   "file_extension": ".r",
   "mimetype": "text/x-r-source",
   "name": "R",
   "pygments_lexer": "r",
   "version": "3.6.1"
  }
 },
 "nbformat": 4,
 "nbformat_minor": 4
}
