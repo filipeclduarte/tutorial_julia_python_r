{
 "cells": [
  {
   "cell_type": "markdown",
   "metadata": {},
   "source": [
    "# Julia"
   ]
  },
  {
   "cell_type": "markdown",
   "metadata": {},
   "source": [
    "## Manipulação de dados\n",
    "### DataFrames\n",
    "\n",
    "O que veremos nesse tutorial?\n",
    "\n",
    "1. leitura de dados\n",
    "2. selecionar linhas\n",
    "3. selecionar colunas\n",
    "4. filtro de linhas\n",
    "5. groupby com estatísticas\n",
    "6. renomear colunas \n",
    "7. dados faltantes\n"
   ]
  },
  {
   "cell_type": "markdown",
   "metadata": {},
   "source": [
    "## 1. Leitura de dados"
   ]
  },
  {
   "cell_type": "code",
   "execution_count": 2,
   "metadata": {},
   "outputs": [],
   "source": [
    "# importando biblioteca\n",
    "# using Pkg\n",
    "# Pkg.add(\"DataFrames\")\n",
    "# Pkg.add(\"CSV\")\n",
    "# Pkg.add(\"Queryverse\")\n",
    "# Pkg.add(\"BenchmarkTools\")\n",
    "# Pkg.add(\"Pipe\")\n",
    "using DataFrames\n",
    "using CSV\n",
    "using Queryverse\n",
    "using BenchmarkTools\n",
    "using Pipe"
   ]
  },
  {
   "cell_type": "code",
   "execution_count": 5,
   "metadata": {},
   "outputs": [],
   "source": [
    "# ler os dados\n",
    "sp500 = CSV.read(\"data/sp500.csv\", DataFrame);"
   ]
  },
  {
   "cell_type": "markdown",
   "metadata": {},
   "source": [
    "### Mensurando tempo de exeução da leitura dos dados"
   ]
  },
  {
   "cell_type": "code",
   "execution_count": 7,
   "metadata": {},
   "outputs": [
    {
     "name": "stdout",
     "output_type": "stream",
     "text": [
      "  0.164272 seconds (497.90 k allocations: 45.073 MiB)\n"
     ]
    }
   ],
   "source": [
    "@time CSV.read(\"data/sp500.csv\", DataFrame);"
   ]
  },
  {
   "cell_type": "code",
   "execution_count": 8,
   "metadata": {},
   "outputs": [
    {
     "data": {
      "text/plain": [
       "BenchmarkTools.Trial: \n",
       "  memory estimate:  45.07 MiB\n",
       "  allocs estimate:  497896\n",
       "  --------------\n",
       "  minimum time:     123.096 ms (0.00% GC)\n",
       "  median time:      131.615 ms (0.00% GC)\n",
       "  mean time:        133.438 ms (1.39% GC)\n",
       "  maximum time:     150.121 ms (0.00% GC)\n",
       "  --------------\n",
       "  samples:          38\n",
       "  evals/sample:     1"
      ]
     },
     "execution_count": 8,
     "metadata": {},
     "output_type": "execute_result"
    }
   ],
   "source": [
    "@benchmark df = CSV.read(\"data/sp500.csv\", DataFrame)\n",
    "# @benchmark CSV.read(\"data/sp500.csv\", DataFrame, tasks=8)"
   ]
  },
  {
   "cell_type": "markdown",
   "metadata": {},
   "source": [
    "#### Mostrando as 10 primeiras linhas"
   ]
  },
  {
   "cell_type": "code",
   "execution_count": 9,
   "metadata": {},
   "outputs": [
    {
     "data": {
      "text/html": [
       "<table class=\"data-frame\"><thead><tr><th></th><th>symbol</th><th>date</th><th>open</th><th>high</th><th>low</th><th>close</th><th>volume</th></tr><tr><th></th><th>String</th><th>Date…</th><th>Float64?</th><th>Float64?</th><th>Float64?</th><th>Float64</th><th>Int64</th></tr></thead><tbody><p>10 rows × 7 columns</p><tr><th>1</th><td>AAL</td><td>2014-01-02</td><td>25.07</td><td>25.82</td><td>25.06</td><td>25.36</td><td>8998943</td></tr><tr><th>2</th><td>AAPL</td><td>2014-01-02</td><td>79.3828</td><td>79.5756</td><td>78.8601</td><td>79.0185</td><td>58791957</td></tr><tr><th>3</th><td>AAP</td><td>2014-01-02</td><td>110.36</td><td>111.88</td><td>109.29</td><td>109.74</td><td>542711</td></tr><tr><th>4</th><td>ABBV</td><td>2014-01-02</td><td>52.12</td><td>52.33</td><td>51.52</td><td>51.98</td><td>4569061</td></tr><tr><th>5</th><td>ABC</td><td>2014-01-02</td><td>70.11</td><td>70.23</td><td>69.48</td><td>69.89</td><td>1148391</td></tr><tr><th>6</th><td>ABT</td><td>2014-01-02</td><td>38.09</td><td>38.4</td><td>38.0</td><td>38.23</td><td>4967472</td></tr><tr><th>7</th><td>ACN</td><td>2014-01-02</td><td>81.5</td><td>81.92</td><td>81.09</td><td>81.13</td><td>2405384</td></tr><tr><th>8</th><td>ADBE</td><td>2014-01-02</td><td>59.06</td><td>59.53</td><td>58.94</td><td>59.29</td><td>2746370</td></tr><tr><th>9</th><td>ADI</td><td>2014-01-02</td><td>49.52</td><td>49.75</td><td>49.04</td><td>49.28</td><td>2799092</td></tr><tr><th>10</th><td>ADM</td><td>2014-01-02</td><td>43.22</td><td>43.29</td><td>42.79</td><td>42.99</td><td>2753765</td></tr></tbody></table>"
      ],
      "text/latex": [
       "\\begin{tabular}{r|ccccccc}\n",
       "\t& symbol & date & open & high & low & close & volume\\\\\n",
       "\t\\hline\n",
       "\t& String & Date… & Float64? & Float64? & Float64? & Float64 & Int64\\\\\n",
       "\t\\hline\n",
       "\t1 & AAL & 2014-01-02 & 25.07 & 25.82 & 25.06 & 25.36 & 8998943 \\\\\n",
       "\t2 & AAPL & 2014-01-02 & 79.3828 & 79.5756 & 78.8601 & 79.0185 & 58791957 \\\\\n",
       "\t3 & AAP & 2014-01-02 & 110.36 & 111.88 & 109.29 & 109.74 & 542711 \\\\\n",
       "\t4 & ABBV & 2014-01-02 & 52.12 & 52.33 & 51.52 & 51.98 & 4569061 \\\\\n",
       "\t5 & ABC & 2014-01-02 & 70.11 & 70.23 & 69.48 & 69.89 & 1148391 \\\\\n",
       "\t6 & ABT & 2014-01-02 & 38.09 & 38.4 & 38.0 & 38.23 & 4967472 \\\\\n",
       "\t7 & ACN & 2014-01-02 & 81.5 & 81.92 & 81.09 & 81.13 & 2405384 \\\\\n",
       "\t8 & ADBE & 2014-01-02 & 59.06 & 59.53 & 58.94 & 59.29 & 2746370 \\\\\n",
       "\t9 & ADI & 2014-01-02 & 49.52 & 49.75 & 49.04 & 49.28 & 2799092 \\\\\n",
       "\t10 & ADM & 2014-01-02 & 43.22 & 43.29 & 42.79 & 42.99 & 2753765 \\\\\n",
       "\\end{tabular}\n"
      ],
      "text/plain": [
       "10×7 DataFrame. Omitted printing of 1 columns\n",
       "│ Row │ symbol │ date       │ open     │ high     │ low      │ close   │\n",
       "│     │ \u001b[90mString\u001b[39m │ \u001b[90mDates.Date\u001b[39m │ \u001b[90mFloat64?\u001b[39m │ \u001b[90mFloat64?\u001b[39m │ \u001b[90mFloat64?\u001b[39m │ \u001b[90mFloat64\u001b[39m │\n",
       "├─────┼────────┼────────────┼──────────┼──────────┼──────────┼─────────┤\n",
       "│ 1   │ AAL    │ 2014-01-02 │ 25.07    │ 25.82    │ 25.06    │ 25.36   │\n",
       "│ 2   │ AAPL   │ 2014-01-02 │ 79.3828  │ 79.5756  │ 78.8601  │ 79.0185 │\n",
       "│ 3   │ AAP    │ 2014-01-02 │ 110.36   │ 111.88   │ 109.29   │ 109.74  │\n",
       "│ 4   │ ABBV   │ 2014-01-02 │ 52.12    │ 52.33    │ 51.52    │ 51.98   │\n",
       "│ 5   │ ABC    │ 2014-01-02 │ 70.11    │ 70.23    │ 69.48    │ 69.89   │\n",
       "│ 6   │ ABT    │ 2014-01-02 │ 38.09    │ 38.4     │ 38.0     │ 38.23   │\n",
       "│ 7   │ ACN    │ 2014-01-02 │ 81.5     │ 81.92    │ 81.09    │ 81.13   │\n",
       "│ 8   │ ADBE   │ 2014-01-02 │ 59.06    │ 59.53    │ 58.94    │ 59.29   │\n",
       "│ 9   │ ADI    │ 2014-01-02 │ 49.52    │ 49.75    │ 49.04    │ 49.28   │\n",
       "│ 10  │ ADM    │ 2014-01-02 │ 43.22    │ 43.29    │ 42.79    │ 42.99   │"
      ]
     },
     "execution_count": 9,
     "metadata": {},
     "output_type": "execute_result"
    }
   ],
   "source": [
    "first(sp500, 10)"
   ]
  },
  {
   "cell_type": "markdown",
   "metadata": {},
   "source": [
    "## 2. Selecionar linhas"
   ]
  },
  {
   "cell_type": "code",
   "execution_count": 10,
   "metadata": {},
   "outputs": [
    {
     "data": {
      "text/html": [
       "<table class=\"data-frame\"><thead><tr><th></th><th>symbol</th><th>date</th><th>open</th><th>high</th><th>low</th><th>close</th><th>volume</th></tr><tr><th></th><th>String</th><th>Date…</th><th>Float64?</th><th>Float64?</th><th>Float64?</th><th>Float64</th><th>Int64</th></tr></thead><tbody><p>3 rows × 7 columns</p><tr><th>1</th><td>AAL</td><td>2014-01-02</td><td>25.07</td><td>25.82</td><td>25.06</td><td>25.36</td><td>8998943</td></tr><tr><th>2</th><td>ADM</td><td>2014-01-02</td><td>43.22</td><td>43.29</td><td>42.79</td><td>42.99</td><td>2753765</td></tr><tr><th>3</th><td>CME</td><td>2014-01-02</td><td>77.96</td><td>78.75</td><td>77.32</td><td>77.96</td><td>2070876</td></tr></tbody></table>"
      ],
      "text/latex": [
       "\\begin{tabular}{r|ccccccc}\n",
       "\t& symbol & date & open & high & low & close & volume\\\\\n",
       "\t\\hline\n",
       "\t& String & Date… & Float64? & Float64? & Float64? & Float64 & Int64\\\\\n",
       "\t\\hline\n",
       "\t1 & AAL & 2014-01-02 & 25.07 & 25.82 & 25.06 & 25.36 & 8998943 \\\\\n",
       "\t2 & ADM & 2014-01-02 & 43.22 & 43.29 & 42.79 & 42.99 & 2753765 \\\\\n",
       "\t3 & CME & 2014-01-02 & 77.96 & 78.75 & 77.32 & 77.96 & 2070876 \\\\\n",
       "\\end{tabular}\n"
      ],
      "text/plain": [
       "3×7 DataFrame. Omitted printing of 1 columns\n",
       "│ Row │ symbol │ date       │ open     │ high     │ low      │ close   │\n",
       "│     │ \u001b[90mString\u001b[39m │ \u001b[90mDates.Date\u001b[39m │ \u001b[90mFloat64?\u001b[39m │ \u001b[90mFloat64?\u001b[39m │ \u001b[90mFloat64?\u001b[39m │ \u001b[90mFloat64\u001b[39m │\n",
       "├─────┼────────┼────────────┼──────────┼──────────┼──────────┼─────────┤\n",
       "│ 1   │ AAL    │ 2014-01-02 │ 25.07    │ 25.82    │ 25.06    │ 25.36   │\n",
       "│ 2   │ ADM    │ 2014-01-02 │ 43.22    │ 43.29    │ 42.79    │ 42.99   │\n",
       "│ 3   │ CME    │ 2014-01-02 │ 77.96    │ 78.75    │ 77.32    │ 77.96   │"
      ]
     },
     "execution_count": 10,
     "metadata": {},
     "output_type": "execute_result"
    }
   ],
   "source": [
    "## selecionando as linhas 1, 10 e 100\n",
    "sp500[[1, 10, 100],:]"
   ]
  },
  {
   "cell_type": "code",
   "execution_count": 11,
   "metadata": {},
   "outputs": [
    {
     "data": {
      "text/html": [
       "<table class=\"data-frame\"><thead><tr><th></th><th>symbol</th><th>date</th><th>open</th><th>high</th><th>low</th><th>close</th><th>volume</th></tr><tr><th></th><th>String</th><th>Date…</th><th>Float64?</th><th>Float64?</th><th>Float64?</th><th>Float64</th><th>Int64</th></tr></thead><tbody><p>497,469 rows × 7 columns</p><tr><th>1</th><td>AAPL</td><td>2014-01-02</td><td>79.3828</td><td>79.5756</td><td>78.8601</td><td>79.0185</td><td>58791957</td></tr><tr><th>2</th><td>AAP</td><td>2014-01-02</td><td>110.36</td><td>111.88</td><td>109.29</td><td>109.74</td><td>542711</td></tr><tr><th>3</th><td>ABBV</td><td>2014-01-02</td><td>52.12</td><td>52.33</td><td>51.52</td><td>51.98</td><td>4569061</td></tr><tr><th>4</th><td>ABC</td><td>2014-01-02</td><td>70.11</td><td>70.23</td><td>69.48</td><td>69.89</td><td>1148391</td></tr><tr><th>5</th><td>ABT</td><td>2014-01-02</td><td>38.09</td><td>38.4</td><td>38.0</td><td>38.23</td><td>4967472</td></tr><tr><th>6</th><td>ACN</td><td>2014-01-02</td><td>81.5</td><td>81.92</td><td>81.09</td><td>81.13</td><td>2405384</td></tr><tr><th>7</th><td>ADBE</td><td>2014-01-02</td><td>59.06</td><td>59.53</td><td>58.94</td><td>59.29</td><td>2746370</td></tr><tr><th>8</th><td>ADI</td><td>2014-01-02</td><td>49.52</td><td>49.75</td><td>49.04</td><td>49.28</td><td>2799092</td></tr><tr><th>9</th><td>ADP</td><td>2014-01-02</td><td>80.17</td><td>80.45</td><td>79.38</td><td>79.86</td><td>1965869</td></tr><tr><th>10</th><td>ADSK</td><td>2014-01-02</td><td>49.33</td><td>49.74</td><td>48.88</td><td>49.25</td><td>2488043</td></tr><tr><th>11</th><td>ADS</td><td>2014-01-02</td><td>262.44</td><td>262.68</td><td>258.78</td><td>262.34</td><td>547808</td></tr><tr><th>12</th><td>AEE</td><td>2014-01-02</td><td>36.05</td><td>36.11</td><td>35.47</td><td>35.53</td><td>1394264</td></tr><tr><th>13</th><td>AEP</td><td>2014-01-02</td><td>46.98</td><td>47.06</td><td>46.04</td><td>46.13</td><td>2752002</td></tr><tr><th>14</th><td>AES</td><td>2014-01-02</td><td>14.51</td><td>14.56</td><td>14.19</td><td>14.27</td><td>3987216</td></tr><tr><th>15</th><td>AET</td><td>2014-01-02</td><td>68.21</td><td>68.6</td><td>67.52</td><td>67.56</td><td>1650687</td></tr><tr><th>16</th><td>AFL</td><td>2014-01-02</td><td>66.63</td><td>66.694</td><td>65.81</td><td>65.96</td><td>1914657</td></tr><tr><th>17</th><td>AGN</td><td>2014-01-02</td><td>167.33</td><td>170.71</td><td>166.594</td><td>168.05</td><td>1268722</td></tr><tr><th>18</th><td>AIG</td><td>2014-01-02</td><td>50.81</td><td>51.3</td><td>50.47</td><td>50.71</td><td>9198092</td></tr><tr><th>19</th><td>AIV</td><td>2014-01-02</td><td>25.9</td><td>26.14</td><td>25.66</td><td>25.91</td><td>844901</td></tr><tr><th>20</th><td>AIZ</td><td>2014-01-02</td><td>66.04</td><td>66.19</td><td>65.15</td><td>65.32</td><td>375524</td></tr><tr><th>21</th><td>AJG</td><td>2014-01-02</td><td>46.67</td><td>46.89</td><td>46.09</td><td>46.15</td><td>483694</td></tr><tr><th>22</th><td>AKAM</td><td>2014-01-02</td><td>47.11</td><td>47.1799</td><td>46.42</td><td>46.53</td><td>935107</td></tr><tr><th>23</th><td>ALB</td><td>2014-01-02</td><td>63.38</td><td>63.6</td><td>62.6</td><td>63.14</td><td>548782</td></tr><tr><th>24</th><td>ALGN</td><td>2014-01-02</td><td>57.06</td><td>57.37</td><td>56.43</td><td>56.96</td><td>437600</td></tr><tr><th>25</th><td>ALK</td><td>2014-01-02</td><td>36.665</td><td>36.965</td><td>36.275</td><td>36.59</td><td>900234</td></tr><tr><th>26</th><td>ALLE</td><td>2014-01-02</td><td>44.08</td><td>44.18</td><td>43.27</td><td>43.65</td><td>992872</td></tr><tr><th>27</th><td>ALL</td><td>2014-01-02</td><td>54.09</td><td>54.45</td><td>53.5</td><td>53.55</td><td>1909106</td></tr><tr><th>28</th><td>ALXN</td><td>2014-01-02</td><td>132.46</td><td>133.82</td><td>130.54</td><td>133.44</td><td>760197</td></tr><tr><th>29</th><td>AMAT</td><td>2014-01-02</td><td>17.69</td><td>17.69</td><td>17.37</td><td>17.55</td><td>7785873</td></tr><tr><th>30</th><td>AMD</td><td>2014-01-02</td><td>3.85</td><td>3.98</td><td>3.84</td><td>3.95</td><td>20569754</td></tr><tr><th>&vellip;</th><td>&vellip;</td><td>&vellip;</td><td>&vellip;</td><td>&vellip;</td><td>&vellip;</td><td>&vellip;</td><td>&vellip;</td></tr></tbody></table>"
      ],
      "text/latex": [
       "\\begin{tabular}{r|ccccccc}\n",
       "\t& symbol & date & open & high & low & close & volume\\\\\n",
       "\t\\hline\n",
       "\t& String & Date… & Float64? & Float64? & Float64? & Float64 & Int64\\\\\n",
       "\t\\hline\n",
       "\t1 & AAPL & 2014-01-02 & 79.3828 & 79.5756 & 78.8601 & 79.0185 & 58791957 \\\\\n",
       "\t2 & AAP & 2014-01-02 & 110.36 & 111.88 & 109.29 & 109.74 & 542711 \\\\\n",
       "\t3 & ABBV & 2014-01-02 & 52.12 & 52.33 & 51.52 & 51.98 & 4569061 \\\\\n",
       "\t4 & ABC & 2014-01-02 & 70.11 & 70.23 & 69.48 & 69.89 & 1148391 \\\\\n",
       "\t5 & ABT & 2014-01-02 & 38.09 & 38.4 & 38.0 & 38.23 & 4967472 \\\\\n",
       "\t6 & ACN & 2014-01-02 & 81.5 & 81.92 & 81.09 & 81.13 & 2405384 \\\\\n",
       "\t7 & ADBE & 2014-01-02 & 59.06 & 59.53 & 58.94 & 59.29 & 2746370 \\\\\n",
       "\t8 & ADI & 2014-01-02 & 49.52 & 49.75 & 49.04 & 49.28 & 2799092 \\\\\n",
       "\t9 & ADP & 2014-01-02 & 80.17 & 80.45 & 79.38 & 79.86 & 1965869 \\\\\n",
       "\t10 & ADSK & 2014-01-02 & 49.33 & 49.74 & 48.88 & 49.25 & 2488043 \\\\\n",
       "\t11 & ADS & 2014-01-02 & 262.44 & 262.68 & 258.78 & 262.34 & 547808 \\\\\n",
       "\t12 & AEE & 2014-01-02 & 36.05 & 36.11 & 35.47 & 35.53 & 1394264 \\\\\n",
       "\t13 & AEP & 2014-01-02 & 46.98 & 47.06 & 46.04 & 46.13 & 2752002 \\\\\n",
       "\t14 & AES & 2014-01-02 & 14.51 & 14.56 & 14.19 & 14.27 & 3987216 \\\\\n",
       "\t15 & AET & 2014-01-02 & 68.21 & 68.6 & 67.52 & 67.56 & 1650687 \\\\\n",
       "\t16 & AFL & 2014-01-02 & 66.63 & 66.694 & 65.81 & 65.96 & 1914657 \\\\\n",
       "\t17 & AGN & 2014-01-02 & 167.33 & 170.71 & 166.594 & 168.05 & 1268722 \\\\\n",
       "\t18 & AIG & 2014-01-02 & 50.81 & 51.3 & 50.47 & 50.71 & 9198092 \\\\\n",
       "\t19 & AIV & 2014-01-02 & 25.9 & 26.14 & 25.66 & 25.91 & 844901 \\\\\n",
       "\t20 & AIZ & 2014-01-02 & 66.04 & 66.19 & 65.15 & 65.32 & 375524 \\\\\n",
       "\t21 & AJG & 2014-01-02 & 46.67 & 46.89 & 46.09 & 46.15 & 483694 \\\\\n",
       "\t22 & AKAM & 2014-01-02 & 47.11 & 47.1799 & 46.42 & 46.53 & 935107 \\\\\n",
       "\t23 & ALB & 2014-01-02 & 63.38 & 63.6 & 62.6 & 63.14 & 548782 \\\\\n",
       "\t24 & ALGN & 2014-01-02 & 57.06 & 57.37 & 56.43 & 56.96 & 437600 \\\\\n",
       "\t25 & ALK & 2014-01-02 & 36.665 & 36.965 & 36.275 & 36.59 & 900234 \\\\\n",
       "\t26 & ALLE & 2014-01-02 & 44.08 & 44.18 & 43.27 & 43.65 & 992872 \\\\\n",
       "\t27 & ALL & 2014-01-02 & 54.09 & 54.45 & 53.5 & 53.55 & 1909106 \\\\\n",
       "\t28 & ALXN & 2014-01-02 & 132.46 & 133.82 & 130.54 & 133.44 & 760197 \\\\\n",
       "\t29 & AMAT & 2014-01-02 & 17.69 & 17.69 & 17.37 & 17.55 & 7785873 \\\\\n",
       "\t30 & AMD & 2014-01-02 & 3.85 & 3.98 & 3.84 & 3.95 & 20569754 \\\\\n",
       "\t$\\dots$ & $\\dots$ & $\\dots$ & $\\dots$ & $\\dots$ & $\\dots$ & $\\dots$ & $\\dots$ \\\\\n",
       "\\end{tabular}\n"
      ],
      "text/plain": [
       "497469×7 DataFrame. Omitted printing of 1 columns\n",
       "│ Row    │ symbol │ date       │ open     │ high     │ low      │ close   │\n",
       "│        │ \u001b[90mString\u001b[39m │ \u001b[90mDates.Date\u001b[39m │ \u001b[90mFloat64?\u001b[39m │ \u001b[90mFloat64?\u001b[39m │ \u001b[90mFloat64?\u001b[39m │ \u001b[90mFloat64\u001b[39m │\n",
       "├────────┼────────┼────────────┼──────────┼──────────┼──────────┼─────────┤\n",
       "│ 1      │ AAPL   │ 2014-01-02 │ 79.3828  │ 79.5756  │ 78.8601  │ 79.0185 │\n",
       "│ 2      │ AAP    │ 2014-01-02 │ 110.36   │ 111.88   │ 109.29   │ 109.74  │\n",
       "│ 3      │ ABBV   │ 2014-01-02 │ 52.12    │ 52.33    │ 51.52    │ 51.98   │\n",
       "│ 4      │ ABC    │ 2014-01-02 │ 70.11    │ 70.23    │ 69.48    │ 69.89   │\n",
       "│ 5      │ ABT    │ 2014-01-02 │ 38.09    │ 38.4     │ 38.0     │ 38.23   │\n",
       "│ 6      │ ACN    │ 2014-01-02 │ 81.5     │ 81.92    │ 81.09    │ 81.13   │\n",
       "│ 7      │ ADBE   │ 2014-01-02 │ 59.06    │ 59.53    │ 58.94    │ 59.29   │\n",
       "│ 8      │ ADI    │ 2014-01-02 │ 49.52    │ 49.75    │ 49.04    │ 49.28   │\n",
       "│ 9      │ ADP    │ 2014-01-02 │ 80.17    │ 80.45    │ 79.38    │ 79.86   │\n",
       "│ 10     │ ADSK   │ 2014-01-02 │ 49.33    │ 49.74    │ 48.88    │ 49.25   │\n",
       "⋮\n",
       "│ 497459 │ XEL    │ 2017-12-29 │ 48.11    │ 48.29    │ 48.07    │ 48.11   │\n",
       "│ 497460 │ XLNX   │ 2017-12-29 │ 68.5     │ 68.75    │ 67.4     │ 67.42   │\n",
       "│ 497461 │ XL     │ 2017-12-29 │ 35.45    │ 35.45    │ 35.16    │ 35.16   │\n",
       "│ 497462 │ XOM    │ 2017-12-29 │ 84.0     │ 84.2     │ 83.64    │ 83.64   │\n",
       "│ 497463 │ XRAY   │ 2017-12-29 │ 66.3     │ 66.72    │ 65.77    │ 65.83   │\n",
       "│ 497464 │ XRX    │ 2017-12-29 │ 29.4     │ 29.47    │ 29.12    │ 29.15   │\n",
       "│ 497465 │ XYL    │ 2017-12-29 │ 68.53    │ 68.8     │ 67.92    │ 68.2    │\n",
       "│ 497466 │ YUM    │ 2017-12-29 │ 82.64    │ 82.71    │ 81.59    │ 81.61   │\n",
       "│ 497467 │ ZBH    │ 2017-12-29 │ 121.75   │ 121.95   │ 120.62   │ 120.67  │\n",
       "│ 497468 │ ZION   │ 2017-12-29 │ 51.28    │ 51.55    │ 50.81    │ 50.83   │\n",
       "│ 497469 │ ZTS    │ 2017-12-29 │ 72.55    │ 72.76    │ 72.04    │ 72.04   │"
      ]
     },
     "execution_count": 11,
     "metadata": {},
     "output_type": "execute_result"
    }
   ],
   "source": [
    "## Remover as linhas 1, 10 e 100\n",
    "sp500[Not([1, 10, 100]), :]\n",
    "\n",
    "# deleta as linhas inplace\n",
    "# delete!(sp500, [1, 10, 100])"
   ]
  },
  {
   "cell_type": "markdown",
   "metadata": {},
   "source": [
    "## 3. Selecionando colunas"
   ]
  },
  {
   "cell_type": "code",
   "execution_count": 13,
   "metadata": {},
   "outputs": [
    {
     "data": {
      "text/plain": [
       "497472-element Array{Float64,1}:\n",
       "  25.36\n",
       "  79.0185\n",
       " 109.74\n",
       "  51.98\n",
       "  69.89\n",
       "  38.23\n",
       "  81.13\n",
       "  59.29\n",
       "  49.28\n",
       "  42.99\n",
       "  79.86\n",
       "  49.25\n",
       " 262.34\n",
       "   ⋮\n",
       " 122.01\n",
       "  48.11\n",
       "  67.42\n",
       "  35.16\n",
       "  83.64\n",
       "  65.83\n",
       "  29.15\n",
       "  68.2\n",
       "  81.61\n",
       " 120.67\n",
       "  50.83\n",
       "  72.04"
      ]
     },
     "execution_count": 13,
     "metadata": {},
     "output_type": "execute_result"
    }
   ],
   "source": [
    "sp500.close\n",
    "sp500.\"close\"\n",
    "sp500[!, :close]\n",
    "sp500[!, \"close\"]\n",
    "\n",
    "# se vc quiser fazer uma cópia da coluna\n",
    "sp500[:, :close] # usar \":\" no lugar de \"!\""
   ]
  },
  {
   "cell_type": "code",
   "execution_count": 18,
   "metadata": {},
   "outputs": [
    {
     "data": {
      "text/html": [
       "<table class=\"data-frame\"><thead><tr><th></th><th>symbol</th><th>close</th><th>volume</th></tr><tr><th></th><th>String</th><th>Float64</th><th>Int64</th></tr></thead><tbody><p>497,472 rows × 3 columns</p><tr><th>1</th><td>AAL</td><td>25.36</td><td>8998943</td></tr><tr><th>2</th><td>AAPL</td><td>79.0185</td><td>58791957</td></tr><tr><th>3</th><td>AAP</td><td>109.74</td><td>542711</td></tr><tr><th>4</th><td>ABBV</td><td>51.98</td><td>4569061</td></tr><tr><th>5</th><td>ABC</td><td>69.89</td><td>1148391</td></tr><tr><th>6</th><td>ABT</td><td>38.23</td><td>4967472</td></tr><tr><th>7</th><td>ACN</td><td>81.13</td><td>2405384</td></tr><tr><th>8</th><td>ADBE</td><td>59.29</td><td>2746370</td></tr><tr><th>9</th><td>ADI</td><td>49.28</td><td>2799092</td></tr><tr><th>10</th><td>ADM</td><td>42.99</td><td>2753765</td></tr><tr><th>11</th><td>ADP</td><td>79.86</td><td>1965869</td></tr><tr><th>12</th><td>ADSK</td><td>49.25</td><td>2488043</td></tr><tr><th>13</th><td>ADS</td><td>262.34</td><td>547808</td></tr><tr><th>14</th><td>AEE</td><td>35.53</td><td>1394264</td></tr><tr><th>15</th><td>AEP</td><td>46.13</td><td>2752002</td></tr><tr><th>16</th><td>AES</td><td>14.27</td><td>3987216</td></tr><tr><th>17</th><td>AET</td><td>67.56</td><td>1650687</td></tr><tr><th>18</th><td>AFL</td><td>65.96</td><td>1914657</td></tr><tr><th>19</th><td>AGN</td><td>168.05</td><td>1268722</td></tr><tr><th>20</th><td>AIG</td><td>50.71</td><td>9198092</td></tr><tr><th>21</th><td>AIV</td><td>25.91</td><td>844901</td></tr><tr><th>22</th><td>AIZ</td><td>65.32</td><td>375524</td></tr><tr><th>23</th><td>AJG</td><td>46.15</td><td>483694</td></tr><tr><th>24</th><td>AKAM</td><td>46.53</td><td>935107</td></tr><tr><th>25</th><td>ALB</td><td>63.14</td><td>548782</td></tr><tr><th>26</th><td>ALGN</td><td>56.96</td><td>437600</td></tr><tr><th>27</th><td>ALK</td><td>36.59</td><td>900234</td></tr><tr><th>28</th><td>ALLE</td><td>43.65</td><td>992872</td></tr><tr><th>29</th><td>ALL</td><td>53.55</td><td>1909106</td></tr><tr><th>30</th><td>ALXN</td><td>133.44</td><td>760197</td></tr><tr><th>&vellip;</th><td>&vellip;</td><td>&vellip;</td><td>&vellip;</td></tr></tbody></table>"
      ],
      "text/latex": [
       "\\begin{tabular}{r|ccc}\n",
       "\t& symbol & close & volume\\\\\n",
       "\t\\hline\n",
       "\t& String & Float64 & Int64\\\\\n",
       "\t\\hline\n",
       "\t1 & AAL & 25.36 & 8998943 \\\\\n",
       "\t2 & AAPL & 79.0185 & 58791957 \\\\\n",
       "\t3 & AAP & 109.74 & 542711 \\\\\n",
       "\t4 & ABBV & 51.98 & 4569061 \\\\\n",
       "\t5 & ABC & 69.89 & 1148391 \\\\\n",
       "\t6 & ABT & 38.23 & 4967472 \\\\\n",
       "\t7 & ACN & 81.13 & 2405384 \\\\\n",
       "\t8 & ADBE & 59.29 & 2746370 \\\\\n",
       "\t9 & ADI & 49.28 & 2799092 \\\\\n",
       "\t10 & ADM & 42.99 & 2753765 \\\\\n",
       "\t11 & ADP & 79.86 & 1965869 \\\\\n",
       "\t12 & ADSK & 49.25 & 2488043 \\\\\n",
       "\t13 & ADS & 262.34 & 547808 \\\\\n",
       "\t14 & AEE & 35.53 & 1394264 \\\\\n",
       "\t15 & AEP & 46.13 & 2752002 \\\\\n",
       "\t16 & AES & 14.27 & 3987216 \\\\\n",
       "\t17 & AET & 67.56 & 1650687 \\\\\n",
       "\t18 & AFL & 65.96 & 1914657 \\\\\n",
       "\t19 & AGN & 168.05 & 1268722 \\\\\n",
       "\t20 & AIG & 50.71 & 9198092 \\\\\n",
       "\t21 & AIV & 25.91 & 844901 \\\\\n",
       "\t22 & AIZ & 65.32 & 375524 \\\\\n",
       "\t23 & AJG & 46.15 & 483694 \\\\\n",
       "\t24 & AKAM & 46.53 & 935107 \\\\\n",
       "\t25 & ALB & 63.14 & 548782 \\\\\n",
       "\t26 & ALGN & 56.96 & 437600 \\\\\n",
       "\t27 & ALK & 36.59 & 900234 \\\\\n",
       "\t28 & ALLE & 43.65 & 992872 \\\\\n",
       "\t29 & ALL & 53.55 & 1909106 \\\\\n",
       "\t30 & ALXN & 133.44 & 760197 \\\\\n",
       "\t$\\dots$ & $\\dots$ & $\\dots$ & $\\dots$ \\\\\n",
       "\\end{tabular}\n"
      ],
      "text/plain": [
       "497472×3 DataFrame\n",
       "│ Row    │ symbol │ close   │ volume   │\n",
       "│        │ \u001b[90mString\u001b[39m │ \u001b[90mFloat64\u001b[39m │ \u001b[90mInt64\u001b[39m    │\n",
       "├────────┼────────┼─────────┼──────────┤\n",
       "│ 1      │ AAL    │ 25.36   │ 8998943  │\n",
       "│ 2      │ AAPL   │ 79.0185 │ 58791957 │\n",
       "│ 3      │ AAP    │ 109.74  │ 542711   │\n",
       "│ 4      │ ABBV   │ 51.98   │ 4569061  │\n",
       "│ 5      │ ABC    │ 69.89   │ 1148391  │\n",
       "│ 6      │ ABT    │ 38.23   │ 4967472  │\n",
       "│ 7      │ ACN    │ 81.13   │ 2405384  │\n",
       "│ 8      │ ADBE   │ 59.29   │ 2746370  │\n",
       "│ 9      │ ADI    │ 49.28   │ 2799092  │\n",
       "│ 10     │ ADM    │ 42.99   │ 2753765  │\n",
       "⋮\n",
       "│ 497462 │ XEL    │ 48.11   │ 2770633  │\n",
       "│ 497463 │ XLNX   │ 67.42   │ 959640   │\n",
       "│ 497464 │ XL     │ 35.16   │ 1017964  │\n",
       "│ 497465 │ XOM    │ 83.64   │ 8523411  │\n",
       "│ 497466 │ XRAY   │ 65.83   │ 917075   │\n",
       "│ 497467 │ XRX    │ 29.15   │ 1537390  │\n",
       "│ 497468 │ XYL    │ 68.2    │ 1046677  │\n",
       "│ 497469 │ YUM    │ 81.61   │ 1347613  │\n",
       "│ 497470 │ ZBH    │ 120.67  │ 1023624  │\n",
       "│ 497471 │ ZION   │ 50.83   │ 1261916  │\n",
       "│ 497472 │ ZTS    │ 72.04   │ 1704122  │"
      ]
     },
     "execution_count": 18,
     "metadata": {},
     "output_type": "execute_result"
    }
   ],
   "source": [
    "# mais de uma coluna - preferível \n",
    "sp500[!, [:symbol, :close, :volume]]\n",
    "\n",
    "# # alternativa \n",
    "# sp500[!, [\"symbol\", \"close\", \"volume\"]]\n",
    "\n",
    "# # select\n",
    "#select(sp500, [:symbol, :close, :volume])\n",
    "\n",
    "# # se quiser fazer o inplace, alterar o sp500 use \"!\"\n",
    "#select!(sp500, [:symbol, :close, :volume])"
   ]
  },
  {
   "cell_type": "code",
   "execution_count": 19,
   "metadata": {},
   "outputs": [
    {
     "data": {
      "text/html": [
       "<table class=\"data-frame\"><thead><tr><th></th><th>symbol</th><th>date</th><th>low</th><th>close</th><th>volume</th></tr><tr><th></th><th>String</th><th>Date…</th><th>Float64?</th><th>Float64</th><th>Int64</th></tr></thead><tbody><p>497,472 rows × 5 columns</p><tr><th>1</th><td>AAL</td><td>2014-01-02</td><td>25.06</td><td>25.36</td><td>8998943</td></tr><tr><th>2</th><td>AAPL</td><td>2014-01-02</td><td>78.8601</td><td>79.0185</td><td>58791957</td></tr><tr><th>3</th><td>AAP</td><td>2014-01-02</td><td>109.29</td><td>109.74</td><td>542711</td></tr><tr><th>4</th><td>ABBV</td><td>2014-01-02</td><td>51.52</td><td>51.98</td><td>4569061</td></tr><tr><th>5</th><td>ABC</td><td>2014-01-02</td><td>69.48</td><td>69.89</td><td>1148391</td></tr><tr><th>6</th><td>ABT</td><td>2014-01-02</td><td>38.0</td><td>38.23</td><td>4967472</td></tr><tr><th>7</th><td>ACN</td><td>2014-01-02</td><td>81.09</td><td>81.13</td><td>2405384</td></tr><tr><th>8</th><td>ADBE</td><td>2014-01-02</td><td>58.94</td><td>59.29</td><td>2746370</td></tr><tr><th>9</th><td>ADI</td><td>2014-01-02</td><td>49.04</td><td>49.28</td><td>2799092</td></tr><tr><th>10</th><td>ADM</td><td>2014-01-02</td><td>42.79</td><td>42.99</td><td>2753765</td></tr><tr><th>11</th><td>ADP</td><td>2014-01-02</td><td>79.38</td><td>79.86</td><td>1965869</td></tr><tr><th>12</th><td>ADSK</td><td>2014-01-02</td><td>48.88</td><td>49.25</td><td>2488043</td></tr><tr><th>13</th><td>ADS</td><td>2014-01-02</td><td>258.78</td><td>262.34</td><td>547808</td></tr><tr><th>14</th><td>AEE</td><td>2014-01-02</td><td>35.47</td><td>35.53</td><td>1394264</td></tr><tr><th>15</th><td>AEP</td><td>2014-01-02</td><td>46.04</td><td>46.13</td><td>2752002</td></tr><tr><th>16</th><td>AES</td><td>2014-01-02</td><td>14.19</td><td>14.27</td><td>3987216</td></tr><tr><th>17</th><td>AET</td><td>2014-01-02</td><td>67.52</td><td>67.56</td><td>1650687</td></tr><tr><th>18</th><td>AFL</td><td>2014-01-02</td><td>65.81</td><td>65.96</td><td>1914657</td></tr><tr><th>19</th><td>AGN</td><td>2014-01-02</td><td>166.594</td><td>168.05</td><td>1268722</td></tr><tr><th>20</th><td>AIG</td><td>2014-01-02</td><td>50.47</td><td>50.71</td><td>9198092</td></tr><tr><th>21</th><td>AIV</td><td>2014-01-02</td><td>25.66</td><td>25.91</td><td>844901</td></tr><tr><th>22</th><td>AIZ</td><td>2014-01-02</td><td>65.15</td><td>65.32</td><td>375524</td></tr><tr><th>23</th><td>AJG</td><td>2014-01-02</td><td>46.09</td><td>46.15</td><td>483694</td></tr><tr><th>24</th><td>AKAM</td><td>2014-01-02</td><td>46.42</td><td>46.53</td><td>935107</td></tr><tr><th>25</th><td>ALB</td><td>2014-01-02</td><td>62.6</td><td>63.14</td><td>548782</td></tr><tr><th>26</th><td>ALGN</td><td>2014-01-02</td><td>56.43</td><td>56.96</td><td>437600</td></tr><tr><th>27</th><td>ALK</td><td>2014-01-02</td><td>36.275</td><td>36.59</td><td>900234</td></tr><tr><th>28</th><td>ALLE</td><td>2014-01-02</td><td>43.27</td><td>43.65</td><td>992872</td></tr><tr><th>29</th><td>ALL</td><td>2014-01-02</td><td>53.5</td><td>53.55</td><td>1909106</td></tr><tr><th>30</th><td>ALXN</td><td>2014-01-02</td><td>130.54</td><td>133.44</td><td>760197</td></tr><tr><th>&vellip;</th><td>&vellip;</td><td>&vellip;</td><td>&vellip;</td><td>&vellip;</td><td>&vellip;</td></tr></tbody></table>"
      ],
      "text/latex": [
       "\\begin{tabular}{r|ccccc}\n",
       "\t& symbol & date & low & close & volume\\\\\n",
       "\t\\hline\n",
       "\t& String & Date… & Float64? & Float64 & Int64\\\\\n",
       "\t\\hline\n",
       "\t1 & AAL & 2014-01-02 & 25.06 & 25.36 & 8998943 \\\\\n",
       "\t2 & AAPL & 2014-01-02 & 78.8601 & 79.0185 & 58791957 \\\\\n",
       "\t3 & AAP & 2014-01-02 & 109.29 & 109.74 & 542711 \\\\\n",
       "\t4 & ABBV & 2014-01-02 & 51.52 & 51.98 & 4569061 \\\\\n",
       "\t5 & ABC & 2014-01-02 & 69.48 & 69.89 & 1148391 \\\\\n",
       "\t6 & ABT & 2014-01-02 & 38.0 & 38.23 & 4967472 \\\\\n",
       "\t7 & ACN & 2014-01-02 & 81.09 & 81.13 & 2405384 \\\\\n",
       "\t8 & ADBE & 2014-01-02 & 58.94 & 59.29 & 2746370 \\\\\n",
       "\t9 & ADI & 2014-01-02 & 49.04 & 49.28 & 2799092 \\\\\n",
       "\t10 & ADM & 2014-01-02 & 42.79 & 42.99 & 2753765 \\\\\n",
       "\t11 & ADP & 2014-01-02 & 79.38 & 79.86 & 1965869 \\\\\n",
       "\t12 & ADSK & 2014-01-02 & 48.88 & 49.25 & 2488043 \\\\\n",
       "\t13 & ADS & 2014-01-02 & 258.78 & 262.34 & 547808 \\\\\n",
       "\t14 & AEE & 2014-01-02 & 35.47 & 35.53 & 1394264 \\\\\n",
       "\t15 & AEP & 2014-01-02 & 46.04 & 46.13 & 2752002 \\\\\n",
       "\t16 & AES & 2014-01-02 & 14.19 & 14.27 & 3987216 \\\\\n",
       "\t17 & AET & 2014-01-02 & 67.52 & 67.56 & 1650687 \\\\\n",
       "\t18 & AFL & 2014-01-02 & 65.81 & 65.96 & 1914657 \\\\\n",
       "\t19 & AGN & 2014-01-02 & 166.594 & 168.05 & 1268722 \\\\\n",
       "\t20 & AIG & 2014-01-02 & 50.47 & 50.71 & 9198092 \\\\\n",
       "\t21 & AIV & 2014-01-02 & 25.66 & 25.91 & 844901 \\\\\n",
       "\t22 & AIZ & 2014-01-02 & 65.15 & 65.32 & 375524 \\\\\n",
       "\t23 & AJG & 2014-01-02 & 46.09 & 46.15 & 483694 \\\\\n",
       "\t24 & AKAM & 2014-01-02 & 46.42 & 46.53 & 935107 \\\\\n",
       "\t25 & ALB & 2014-01-02 & 62.6 & 63.14 & 548782 \\\\\n",
       "\t26 & ALGN & 2014-01-02 & 56.43 & 56.96 & 437600 \\\\\n",
       "\t27 & ALK & 2014-01-02 & 36.275 & 36.59 & 900234 \\\\\n",
       "\t28 & ALLE & 2014-01-02 & 43.27 & 43.65 & 992872 \\\\\n",
       "\t29 & ALL & 2014-01-02 & 53.5 & 53.55 & 1909106 \\\\\n",
       "\t30 & ALXN & 2014-01-02 & 130.54 & 133.44 & 760197 \\\\\n",
       "\t$\\dots$ & $\\dots$ & $\\dots$ & $\\dots$ & $\\dots$ & $\\dots$ \\\\\n",
       "\\end{tabular}\n"
      ],
      "text/plain": [
       "497472×5 DataFrame\n",
       "│ Row    │ symbol │ date       │ low      │ close   │ volume   │\n",
       "│        │ \u001b[90mString\u001b[39m │ \u001b[90mDates.Date\u001b[39m │ \u001b[90mFloat64?\u001b[39m │ \u001b[90mFloat64\u001b[39m │ \u001b[90mInt64\u001b[39m    │\n",
       "├────────┼────────┼────────────┼──────────┼─────────┼──────────┤\n",
       "│ 1      │ AAL    │ 2014-01-02 │ 25.06    │ 25.36   │ 8998943  │\n",
       "│ 2      │ AAPL   │ 2014-01-02 │ 78.8601  │ 79.0185 │ 58791957 │\n",
       "│ 3      │ AAP    │ 2014-01-02 │ 109.29   │ 109.74  │ 542711   │\n",
       "│ 4      │ ABBV   │ 2014-01-02 │ 51.52    │ 51.98   │ 4569061  │\n",
       "│ 5      │ ABC    │ 2014-01-02 │ 69.48    │ 69.89   │ 1148391  │\n",
       "│ 6      │ ABT    │ 2014-01-02 │ 38.0     │ 38.23   │ 4967472  │\n",
       "│ 7      │ ACN    │ 2014-01-02 │ 81.09    │ 81.13   │ 2405384  │\n",
       "│ 8      │ ADBE   │ 2014-01-02 │ 58.94    │ 59.29   │ 2746370  │\n",
       "│ 9      │ ADI    │ 2014-01-02 │ 49.04    │ 49.28   │ 2799092  │\n",
       "│ 10     │ ADM    │ 2014-01-02 │ 42.79    │ 42.99   │ 2753765  │\n",
       "⋮\n",
       "│ 497462 │ XEL    │ 2017-12-29 │ 48.07    │ 48.11   │ 2770633  │\n",
       "│ 497463 │ XLNX   │ 2017-12-29 │ 67.4     │ 67.42   │ 959640   │\n",
       "│ 497464 │ XL     │ 2017-12-29 │ 35.16    │ 35.16   │ 1017964  │\n",
       "│ 497465 │ XOM    │ 2017-12-29 │ 83.64    │ 83.64   │ 8523411  │\n",
       "│ 497466 │ XRAY   │ 2017-12-29 │ 65.77    │ 65.83   │ 917075   │\n",
       "│ 497467 │ XRX    │ 2017-12-29 │ 29.12    │ 29.15   │ 1537390  │\n",
       "│ 497468 │ XYL    │ 2017-12-29 │ 67.92    │ 68.2    │ 1046677  │\n",
       "│ 497469 │ YUM    │ 2017-12-29 │ 81.59    │ 81.61   │ 1347613  │\n",
       "│ 497470 │ ZBH    │ 2017-12-29 │ 120.62   │ 120.67  │ 1023624  │\n",
       "│ 497471 │ ZION   │ 2017-12-29 │ 50.81    │ 50.83   │ 1261916  │\n",
       "│ 497472 │ ZTS    │ 2017-12-29 │ 72.04    │ 72.04   │ 1704122  │"
      ]
     },
     "execution_count": 19,
     "metadata": {},
     "output_type": "execute_result"
    }
   ],
   "source": [
    "## removendo colunas específicas\n",
    "sp500[!, Not([:high, :open])]\n",
    "\n",
    "## select\n",
    "select(sp500, Not([:high, :open]))"
   ]
  },
  {
   "cell_type": "markdown",
   "metadata": {},
   "source": [
    "## 4. Selecionando linhas a partir de condições"
   ]
  },
  {
   "cell_type": "code",
   "execution_count": 23,
   "metadata": {},
   "outputs": [
    {
     "data": {
      "text/html": [
       "<table class=\"data-frame\"><thead><tr><th></th><th>symbol</th><th>date</th><th>open</th><th>high</th><th>low</th><th>close</th><th>volume</th></tr><tr><th></th><th>String</th><th>Date…</th><th>Float64?</th><th>Float64?</th><th>Float64?</th><th>Float64</th><th>Int64</th></tr></thead><tbody><p>8 rows × 7 columns</p><tr><th>1</th><td>WRK</td><td>2015-06-26</td><td><em>missing</em></td><td><em>missing</em></td><td><em>missing</em></td><td>61.9</td><td>100</td></tr><tr><th>2</th><td>WRK</td><td>2015-06-29</td><td>60.92</td><td>60.92</td><td>60.8</td><td>60.8</td><td>300</td></tr><tr><th>3</th><td>DHR</td><td>2016-01-12</td><td><em>missing</em></td><td><em>missing</em></td><td><em>missing</em></td><td>88.55</td><td>0</td></tr><tr><th>4</th><td>O</td><td>2016-01-12</td><td><em>missing</em></td><td><em>missing</em></td><td><em>missing</em></td><td>52.43</td><td>0</td></tr><tr><th>5</th><td>UA</td><td>2016-04-07</td><td><em>missing</em></td><td><em>missing</em></td><td><em>missing</em></td><td>41.56</td><td>0</td></tr><tr><th>6</th><td>FTV</td><td>2016-07-01</td><td><em>missing</em></td><td><em>missing</em></td><td><em>missing</em></td><td>49.54</td><td>0</td></tr><tr><th>7</th><td>BHF</td><td>2017-07-26</td><td><em>missing</em></td><td><em>missing</em></td><td><em>missing</em></td><td>69.0842</td><td>3</td></tr><tr><th>8</th><td>BHF</td><td>2017-07-28</td><td>67.26</td><td>67.26</td><td>67.26</td><td>67.26</td><td>101</td></tr></tbody></table>"
      ],
      "text/latex": [
       "\\begin{tabular}{r|ccccccc}\n",
       "\t& symbol & date & open & high & low & close & volume\\\\\n",
       "\t\\hline\n",
       "\t& String & Date… & Float64? & Float64? & Float64? & Float64 & Int64\\\\\n",
       "\t\\hline\n",
       "\t1 & WRK & 2015-06-26 & \\emph{missing} & \\emph{missing} & \\emph{missing} & 61.9 & 100 \\\\\n",
       "\t2 & WRK & 2015-06-29 & 60.92 & 60.92 & 60.8 & 60.8 & 300 \\\\\n",
       "\t3 & DHR & 2016-01-12 & \\emph{missing} & \\emph{missing} & \\emph{missing} & 88.55 & 0 \\\\\n",
       "\t4 & O & 2016-01-12 & \\emph{missing} & \\emph{missing} & \\emph{missing} & 52.43 & 0 \\\\\n",
       "\t5 & UA & 2016-04-07 & \\emph{missing} & \\emph{missing} & \\emph{missing} & 41.56 & 0 \\\\\n",
       "\t6 & FTV & 2016-07-01 & \\emph{missing} & \\emph{missing} & \\emph{missing} & 49.54 & 0 \\\\\n",
       "\t7 & BHF & 2017-07-26 & \\emph{missing} & \\emph{missing} & \\emph{missing} & 69.0842 & 3 \\\\\n",
       "\t8 & BHF & 2017-07-28 & 67.26 & 67.26 & 67.26 & 67.26 & 101 \\\\\n",
       "\\end{tabular}\n"
      ],
      "text/plain": [
       "8×7 DataFrame. Omitted printing of 1 columns\n",
       "│ Row │ symbol │ date       │ open     │ high     │ low      │ close   │\n",
       "│     │ \u001b[90mString\u001b[39m │ \u001b[90mDates.Date\u001b[39m │ \u001b[90mFloat64?\u001b[39m │ \u001b[90mFloat64?\u001b[39m │ \u001b[90mFloat64?\u001b[39m │ \u001b[90mFloat64\u001b[39m │\n",
       "├─────┼────────┼────────────┼──────────┼──────────┼──────────┼─────────┤\n",
       "│ 1   │ WRK    │ 2015-06-26 │ \u001b[90mmissing\u001b[39m  │ \u001b[90mmissing\u001b[39m  │ \u001b[90mmissing\u001b[39m  │ 61.9    │\n",
       "│ 2   │ WRK    │ 2015-06-29 │ 60.92    │ 60.92    │ 60.8     │ 60.8    │\n",
       "│ 3   │ DHR    │ 2016-01-12 │ \u001b[90mmissing\u001b[39m  │ \u001b[90mmissing\u001b[39m  │ \u001b[90mmissing\u001b[39m  │ 88.55   │\n",
       "│ 4   │ O      │ 2016-01-12 │ \u001b[90mmissing\u001b[39m  │ \u001b[90mmissing\u001b[39m  │ \u001b[90mmissing\u001b[39m  │ 52.43   │\n",
       "│ 5   │ UA     │ 2016-04-07 │ \u001b[90mmissing\u001b[39m  │ \u001b[90mmissing\u001b[39m  │ \u001b[90mmissing\u001b[39m  │ 41.56   │\n",
       "│ 6   │ FTV    │ 2016-07-01 │ \u001b[90mmissing\u001b[39m  │ \u001b[90mmissing\u001b[39m  │ \u001b[90mmissing\u001b[39m  │ 49.54   │\n",
       "│ 7   │ BHF    │ 2017-07-26 │ \u001b[90mmissing\u001b[39m  │ \u001b[90mmissing\u001b[39m  │ \u001b[90mmissing\u001b[39m  │ 69.0842 │\n",
       "│ 8   │ BHF    │ 2017-07-28 │ 67.26    │ 67.26    │ 67.26    │ 67.26   │"
      ]
     },
     "execution_count": 23,
     "metadata": {},
     "output_type": "execute_result"
    }
   ],
   "source": [
    "## DataFrames \n",
    "# diversas maneiras\n",
    "sp500[sp500.volume .< 1000, :]\n",
    "\n",
    "# filter(:volume => volume -> volume<1000, sp500)\n",
    "\n",
    "# filter(sp500 -> sp500.volume < 1000, sp500)\n"
   ]
  },
  {
   "cell_type": "code",
   "execution_count": 25,
   "metadata": {},
   "outputs": [
    {
     "data": {
      "text/html": [
       "<table class=\"data-frame\"><thead><tr><th></th><th>symbol</th><th>date</th><th>open</th><th>high</th><th>low</th><th>close</th><th>volume</th></tr><tr><th></th><th>String</th><th>Date…</th><th>Float64?</th><th>Float64?</th><th>Float64?</th><th>Float64</th><th>Int64</th></tr></thead><tbody><p>5 rows × 7 columns</p><tr><th>1</th><td>WRK</td><td>2015-06-26</td><td><em>missing</em></td><td><em>missing</em></td><td><em>missing</em></td><td>61.9</td><td>100</td></tr><tr><th>2</th><td>WRK</td><td>2015-06-29</td><td>60.92</td><td>60.92</td><td>60.8</td><td>60.8</td><td>300</td></tr><tr><th>3</th><td>DHR</td><td>2016-01-12</td><td><em>missing</em></td><td><em>missing</em></td><td><em>missing</em></td><td>88.55</td><td>0</td></tr><tr><th>4</th><td>BHF</td><td>2017-07-26</td><td><em>missing</em></td><td><em>missing</em></td><td><em>missing</em></td><td>69.0842</td><td>3</td></tr><tr><th>5</th><td>BHF</td><td>2017-07-28</td><td>67.26</td><td>67.26</td><td>67.26</td><td>67.26</td><td>101</td></tr></tbody></table>"
      ],
      "text/latex": [
       "\\begin{tabular}{r|ccccccc}\n",
       "\t& symbol & date & open & high & low & close & volume\\\\\n",
       "\t\\hline\n",
       "\t& String & Date… & Float64? & Float64? & Float64? & Float64 & Int64\\\\\n",
       "\t\\hline\n",
       "\t1 & WRK & 2015-06-26 & \\emph{missing} & \\emph{missing} & \\emph{missing} & 61.9 & 100 \\\\\n",
       "\t2 & WRK & 2015-06-29 & 60.92 & 60.92 & 60.8 & 60.8 & 300 \\\\\n",
       "\t3 & DHR & 2016-01-12 & \\emph{missing} & \\emph{missing} & \\emph{missing} & 88.55 & 0 \\\\\n",
       "\t4 & BHF & 2017-07-26 & \\emph{missing} & \\emph{missing} & \\emph{missing} & 69.0842 & 3 \\\\\n",
       "\t5 & BHF & 2017-07-28 & 67.26 & 67.26 & 67.26 & 67.26 & 101 \\\\\n",
       "\\end{tabular}\n"
      ],
      "text/plain": [
       "5×7 DataFrame. Omitted printing of 1 columns\n",
       "│ Row │ symbol │ date       │ open     │ high     │ low      │ close   │\n",
       "│     │ \u001b[90mString\u001b[39m │ \u001b[90mDates.Date\u001b[39m │ \u001b[90mFloat64?\u001b[39m │ \u001b[90mFloat64?\u001b[39m │ \u001b[90mFloat64?\u001b[39m │ \u001b[90mFloat64\u001b[39m │\n",
       "├─────┼────────┼────────────┼──────────┼──────────┼──────────┼─────────┤\n",
       "│ 1   │ WRK    │ 2015-06-26 │ \u001b[90mmissing\u001b[39m  │ \u001b[90mmissing\u001b[39m  │ \u001b[90mmissing\u001b[39m  │ 61.9    │\n",
       "│ 2   │ WRK    │ 2015-06-29 │ 60.92    │ 60.92    │ 60.8     │ 60.8    │\n",
       "│ 3   │ DHR    │ 2016-01-12 │ \u001b[90mmissing\u001b[39m  │ \u001b[90mmissing\u001b[39m  │ \u001b[90mmissing\u001b[39m  │ 88.55   │\n",
       "│ 4   │ BHF    │ 2017-07-26 │ \u001b[90mmissing\u001b[39m  │ \u001b[90mmissing\u001b[39m  │ \u001b[90mmissing\u001b[39m  │ 69.0842 │\n",
       "│ 5   │ BHF    │ 2017-07-28 │ 67.26    │ 67.26    │ 67.26    │ 67.26   │"
      ]
     },
     "execution_count": 25,
     "metadata": {},
     "output_type": "execute_result"
    }
   ],
   "source": [
    "sp500[(sp500.volume .< 1000).&(sp500.close .> 60),:]\n",
    "\n",
    "# filter([:volume, :close] => (volume, close) -> volume < 1000 && close > 60, sp500)"
   ]
  },
  {
   "cell_type": "markdown",
   "metadata": {},
   "source": [
    "#### Usando Queryverse"
   ]
  },
  {
   "cell_type": "code",
   "execution_count": 26,
   "metadata": {},
   "outputs": [
    {
     "data": {
      "text/html": [
       "<table class=\"data-frame\"><thead><tr><th></th><th>symbol</th><th>date</th><th>open</th><th>high</th><th>low</th><th>close</th><th>volume</th></tr><tr><th></th><th>String</th><th>Date…</th><th>Float64?</th><th>Float64?</th><th>Float64?</th><th>Float64</th><th>Int64</th></tr></thead><tbody><p>8 rows × 7 columns</p><tr><th>1</th><td>WRK</td><td>2015-06-26</td><td><em>missing</em></td><td><em>missing</em></td><td><em>missing</em></td><td>61.9</td><td>100</td></tr><tr><th>2</th><td>WRK</td><td>2015-06-29</td><td>60.92</td><td>60.92</td><td>60.8</td><td>60.8</td><td>300</td></tr><tr><th>3</th><td>DHR</td><td>2016-01-12</td><td><em>missing</em></td><td><em>missing</em></td><td><em>missing</em></td><td>88.55</td><td>0</td></tr><tr><th>4</th><td>O</td><td>2016-01-12</td><td><em>missing</em></td><td><em>missing</em></td><td><em>missing</em></td><td>52.43</td><td>0</td></tr><tr><th>5</th><td>UA</td><td>2016-04-07</td><td><em>missing</em></td><td><em>missing</em></td><td><em>missing</em></td><td>41.56</td><td>0</td></tr><tr><th>6</th><td>FTV</td><td>2016-07-01</td><td><em>missing</em></td><td><em>missing</em></td><td><em>missing</em></td><td>49.54</td><td>0</td></tr><tr><th>7</th><td>BHF</td><td>2017-07-26</td><td><em>missing</em></td><td><em>missing</em></td><td><em>missing</em></td><td>69.0842</td><td>3</td></tr><tr><th>8</th><td>BHF</td><td>2017-07-28</td><td>67.26</td><td>67.26</td><td>67.26</td><td>67.26</td><td>101</td></tr></tbody></table>"
      ],
      "text/latex": [
       "\\begin{tabular}{r|ccccccc}\n",
       "\t& symbol & date & open & high & low & close & volume\\\\\n",
       "\t\\hline\n",
       "\t& String & Date… & Float64? & Float64? & Float64? & Float64 & Int64\\\\\n",
       "\t\\hline\n",
       "\t1 & WRK & 2015-06-26 & \\emph{missing} & \\emph{missing} & \\emph{missing} & 61.9 & 100 \\\\\n",
       "\t2 & WRK & 2015-06-29 & 60.92 & 60.92 & 60.8 & 60.8 & 300 \\\\\n",
       "\t3 & DHR & 2016-01-12 & \\emph{missing} & \\emph{missing} & \\emph{missing} & 88.55 & 0 \\\\\n",
       "\t4 & O & 2016-01-12 & \\emph{missing} & \\emph{missing} & \\emph{missing} & 52.43 & 0 \\\\\n",
       "\t5 & UA & 2016-04-07 & \\emph{missing} & \\emph{missing} & \\emph{missing} & 41.56 & 0 \\\\\n",
       "\t6 & FTV & 2016-07-01 & \\emph{missing} & \\emph{missing} & \\emph{missing} & 49.54 & 0 \\\\\n",
       "\t7 & BHF & 2017-07-26 & \\emph{missing} & \\emph{missing} & \\emph{missing} & 69.0842 & 3 \\\\\n",
       "\t8 & BHF & 2017-07-28 & 67.26 & 67.26 & 67.26 & 67.26 & 101 \\\\\n",
       "\\end{tabular}\n"
      ],
      "text/plain": [
       "8×7 DataFrame. Omitted printing of 1 columns\n",
       "│ Row │ symbol │ date       │ open     │ high     │ low      │ close   │\n",
       "│     │ \u001b[90mString\u001b[39m │ \u001b[90mDates.Date\u001b[39m │ \u001b[90mFloat64?\u001b[39m │ \u001b[90mFloat64?\u001b[39m │ \u001b[90mFloat64?\u001b[39m │ \u001b[90mFloat64\u001b[39m │\n",
       "├─────┼────────┼────────────┼──────────┼──────────┼──────────┼─────────┤\n",
       "│ 1   │ WRK    │ 2015-06-26 │ \u001b[90mmissing\u001b[39m  │ \u001b[90mmissing\u001b[39m  │ \u001b[90mmissing\u001b[39m  │ 61.9    │\n",
       "│ 2   │ WRK    │ 2015-06-29 │ 60.92    │ 60.92    │ 60.8     │ 60.8    │\n",
       "│ 3   │ DHR    │ 2016-01-12 │ \u001b[90mmissing\u001b[39m  │ \u001b[90mmissing\u001b[39m  │ \u001b[90mmissing\u001b[39m  │ 88.55   │\n",
       "│ 4   │ O      │ 2016-01-12 │ \u001b[90mmissing\u001b[39m  │ \u001b[90mmissing\u001b[39m  │ \u001b[90mmissing\u001b[39m  │ 52.43   │\n",
       "│ 5   │ UA     │ 2016-04-07 │ \u001b[90mmissing\u001b[39m  │ \u001b[90mmissing\u001b[39m  │ \u001b[90mmissing\u001b[39m  │ 41.56   │\n",
       "│ 6   │ FTV    │ 2016-07-01 │ \u001b[90mmissing\u001b[39m  │ \u001b[90mmissing\u001b[39m  │ \u001b[90mmissing\u001b[39m  │ 49.54   │\n",
       "│ 7   │ BHF    │ 2017-07-26 │ \u001b[90mmissing\u001b[39m  │ \u001b[90mmissing\u001b[39m  │ \u001b[90mmissing\u001b[39m  │ 69.0842 │\n",
       "│ 8   │ BHF    │ 2017-07-28 │ 67.26    │ 67.26    │ 67.26    │ 67.26   │"
      ]
     },
     "execution_count": 26,
     "metadata": {},
     "output_type": "execute_result"
    }
   ],
   "source": [
    "sp500 |>\n",
    "    @filter(_.volume < 1000) |>\n",
    "    DataFrame"
   ]
  },
  {
   "cell_type": "code",
   "execution_count": 27,
   "metadata": {},
   "outputs": [
    {
     "data": {
      "text/html": [
       "<table class=\"data-frame\"><thead><tr><th></th><th>symbol</th><th>date</th><th>open</th><th>high</th><th>low</th><th>close</th><th>volume</th></tr><tr><th></th><th>String</th><th>Date…</th><th>Float64?</th><th>Float64?</th><th>Float64?</th><th>Float64</th><th>Int64</th></tr></thead><tbody><p>5 rows × 7 columns</p><tr><th>1</th><td>WRK</td><td>2015-06-26</td><td><em>missing</em></td><td><em>missing</em></td><td><em>missing</em></td><td>61.9</td><td>100</td></tr><tr><th>2</th><td>WRK</td><td>2015-06-29</td><td>60.92</td><td>60.92</td><td>60.8</td><td>60.8</td><td>300</td></tr><tr><th>3</th><td>DHR</td><td>2016-01-12</td><td><em>missing</em></td><td><em>missing</em></td><td><em>missing</em></td><td>88.55</td><td>0</td></tr><tr><th>4</th><td>BHF</td><td>2017-07-26</td><td><em>missing</em></td><td><em>missing</em></td><td><em>missing</em></td><td>69.0842</td><td>3</td></tr><tr><th>5</th><td>BHF</td><td>2017-07-28</td><td>67.26</td><td>67.26</td><td>67.26</td><td>67.26</td><td>101</td></tr></tbody></table>"
      ],
      "text/latex": [
       "\\begin{tabular}{r|ccccccc}\n",
       "\t& symbol & date & open & high & low & close & volume\\\\\n",
       "\t\\hline\n",
       "\t& String & Date… & Float64? & Float64? & Float64? & Float64 & Int64\\\\\n",
       "\t\\hline\n",
       "\t1 & WRK & 2015-06-26 & \\emph{missing} & \\emph{missing} & \\emph{missing} & 61.9 & 100 \\\\\n",
       "\t2 & WRK & 2015-06-29 & 60.92 & 60.92 & 60.8 & 60.8 & 300 \\\\\n",
       "\t3 & DHR & 2016-01-12 & \\emph{missing} & \\emph{missing} & \\emph{missing} & 88.55 & 0 \\\\\n",
       "\t4 & BHF & 2017-07-26 & \\emph{missing} & \\emph{missing} & \\emph{missing} & 69.0842 & 3 \\\\\n",
       "\t5 & BHF & 2017-07-28 & 67.26 & 67.26 & 67.26 & 67.26 & 101 \\\\\n",
       "\\end{tabular}\n"
      ],
      "text/plain": [
       "5×7 DataFrame. Omitted printing of 1 columns\n",
       "│ Row │ symbol │ date       │ open     │ high     │ low      │ close   │\n",
       "│     │ \u001b[90mString\u001b[39m │ \u001b[90mDates.Date\u001b[39m │ \u001b[90mFloat64?\u001b[39m │ \u001b[90mFloat64?\u001b[39m │ \u001b[90mFloat64?\u001b[39m │ \u001b[90mFloat64\u001b[39m │\n",
       "├─────┼────────┼────────────┼──────────┼──────────┼──────────┼─────────┤\n",
       "│ 1   │ WRK    │ 2015-06-26 │ \u001b[90mmissing\u001b[39m  │ \u001b[90mmissing\u001b[39m  │ \u001b[90mmissing\u001b[39m  │ 61.9    │\n",
       "│ 2   │ WRK    │ 2015-06-29 │ 60.92    │ 60.92    │ 60.8     │ 60.8    │\n",
       "│ 3   │ DHR    │ 2016-01-12 │ \u001b[90mmissing\u001b[39m  │ \u001b[90mmissing\u001b[39m  │ \u001b[90mmissing\u001b[39m  │ 88.55   │\n",
       "│ 4   │ BHF    │ 2017-07-26 │ \u001b[90mmissing\u001b[39m  │ \u001b[90mmissing\u001b[39m  │ \u001b[90mmissing\u001b[39m  │ 69.0842 │\n",
       "│ 5   │ BHF    │ 2017-07-28 │ 67.26    │ 67.26    │ 67.26    │ 67.26   │"
      ]
     },
     "execution_count": 27,
     "metadata": {},
     "output_type": "execute_result"
    }
   ],
   "source": [
    "sp500 |>\n",
    "    @filter(_.volume < 1000 && _.close > 60) |>\n",
    "    DataFrame"
   ]
  },
  {
   "cell_type": "markdown",
   "metadata": {},
   "source": [
    "### Select "
   ]
  },
  {
   "cell_type": "code",
   "execution_count": null,
   "metadata": {},
   "outputs": [],
   "source": [
    "# Vamos selecionar as colunas que iniciam com v\n",
    "sp500 |>\n",
    "    @select(startswith(\"v\")) |>\n",
    "    DataFrame"
   ]
  },
  {
   "cell_type": "code",
   "execution_count": null,
   "metadata": {},
   "outputs": [],
   "source": [
    "# Não vamos selecionar as colunas que iniciam com v\n",
    "sp500 |>\n",
    "    @select(!startswith(\"v\")) |>\n",
    "    DataFrame"
   ]
  },
  {
   "cell_type": "code",
   "execution_count": null,
   "metadata": {},
   "outputs": [],
   "source": [
    "# Mais de uma condição\n",
    "sp500 |>\n",
    "    @select(startswith(\"c\"), startswith(\"v\")) |>\n",
    "    DataFrame"
   ]
  },
  {
   "cell_type": "markdown",
   "metadata": {},
   "source": [
    "## 5. Groupby\n",
    "\n",
    "#### Calculando estatísticas"
   ]
  },
  {
   "cell_type": "code",
   "execution_count": null,
   "metadata": {},
   "outputs": [],
   "source": [
    "using Statistics"
   ]
  },
  {
   "cell_type": "code",
   "execution_count": null,
   "metadata": {},
   "outputs": [],
   "source": [
    "## Descrevendo as estatísticas básicas\n",
    "describe(sp500)"
   ]
  },
  {
   "cell_type": "code",
   "execution_count": null,
   "metadata": {},
   "outputs": [],
   "source": [
    "# Estatísticas específicas\n",
    "describe(sp500, :mean, :std)"
   ]
  },
  {
   "cell_type": "code",
   "execution_count": null,
   "metadata": {},
   "outputs": [],
   "source": [
    "#vamos fazer o grupo por symbol e calcular a média do volume\n",
    "grupos = groupby(sp500, :symbol)\n",
    "combine(grupos, :volume=>mean)"
   ]
  },
  {
   "cell_type": "code",
   "execution_count": null,
   "metadata": {},
   "outputs": [],
   "source": [
    "@pipe sp500 |>\n",
    "    groupby(_,:symbol) |>\n",
    "    combine(_,:volume=>mean)\n",
    "\n",
    "# alterando nome da coluna\n",
    "@pipe sp500 |>\n",
    "    groupby(_,:symbol) |>\n",
    "    combine(_,:volume=>mean=>:media)"
   ]
  },
  {
   "cell_type": "code",
   "execution_count": null,
   "metadata": {},
   "outputs": [],
   "source": [
    "# vamos fazer o grupo por symbol e calcular a média do volume\n",
    "sp500 |>\n",
    "    @groupby(_.symbol) |> \n",
    "    @map({\n",
    "        Key=key(_),\n",
    "        media=mean(_.volume)}) |>\n",
    "    DataFrame"
   ]
  },
  {
   "cell_type": "code",
   "execution_count": null,
   "metadata": {},
   "outputs": [],
   "source": [
    "# ordenando de forma crescente\n",
    "@pipe sp500 |>\n",
    "    groupby(_,:symbol) |>\n",
    "    combine(_,:volume=>mean=>:media) |>\n",
    "    sort(_,:media)\n",
    "\n",
    "# ordenando de forma decrescente\n",
    "@pipe sp500 |>\n",
    "    groupby(_,:symbol) |>\n",
    "    combine(_,:volume=>mean=>:media) |>\n",
    "    sort(_,:media, rev=true)"
   ]
  },
  {
   "cell_type": "code",
   "execution_count": null,
   "metadata": {},
   "outputs": [],
   "source": [
    "# ordenando de forma crescente\n",
    "sp500 |>\n",
    "    @groupby(_.symbol) |> \n",
    "    @map({\n",
    "        symbol=key(_), \n",
    "        media=mean(_.volume)}) |>\n",
    "    @orderby(_.media) |>\n",
    "    DataFrame\n",
    "\n",
    "# ordenando de forma decrescente\n",
    "sp500 |>\n",
    "    @groupby(_.symbol) |> \n",
    "    @map({\n",
    "        symbol=key(_), \n",
    "        media=mean(_.volume)}) |>\n",
    "    @orderby_descending(_.media) |>\n",
    "    DataFrame"
   ]
  },
  {
   "cell_type": "code",
   "execution_count": null,
   "metadata": {},
   "outputs": [],
   "source": [
    "@pipe sp500 |>\n",
    "    groupby(_,:symbol) |>\n",
    "    combine(_,:close=>mean,\n",
    "              :close=>std)\n",
    "\n",
    "@pipe sp500 |>\n",
    "    groupby(_,:symbol) |>\n",
    "    combine(_,:close=>mean=>:media,\n",
    "              :close=>std=>:desvio)"
   ]
  },
  {
   "cell_type": "code",
   "execution_count": null,
   "metadata": {},
   "outputs": [],
   "source": [
    "estatisticas = sp500 |>\n",
    "    @groupby(_.symbol) |> \n",
    "    @map({Key=key(_), \n",
    "          mean=mean(_.close), \n",
    "          std=std(_.close)}) |>\n",
    "    DataFrame "
   ]
  },
  {
   "cell_type": "markdown",
   "metadata": {},
   "source": [
    "## 6. Renomear colunas"
   ]
  },
  {
   "cell_type": "code",
   "execution_count": null,
   "metadata": {},
   "outputs": [],
   "source": [
    "estatisticas |>\n",
    "    @rename(:Key => :ticker, \n",
    "            :mean => :media, \n",
    "            :std => :desvio) |>\n",
    "    DataFrame"
   ]
  },
  {
   "cell_type": "markdown",
   "metadata": {},
   "source": [
    "## 7. Dados faltantes"
   ]
  },
  {
   "cell_type": "code",
   "execution_count": null,
   "metadata": {},
   "outputs": [],
   "source": [
    "# função ismissing retorna bool\n",
    "# somar a quantidade de dados faltantes para cada coluna\n",
    "sum_ismiss(df) = sum(ismissing.(df))\n",
    "[sum_ismiss(col) for col = eachcol(sp500)]\n",
    "\n",
    "# usando mapcols\n",
    "mapcols(sum_ismiss, sp500)"
   ]
  },
  {
   "cell_type": "code",
   "execution_count": null,
   "metadata": {},
   "outputs": [],
   "source": [
    "## Missing Data\n",
    "dropmissing(sp500) # todas as colunas"
   ]
  },
  {
   "cell_type": "code",
   "execution_count": null,
   "metadata": {},
   "outputs": [],
   "source": [
    "# dropando missing apenas de open, high\n",
    "dropmissing(sp500, :high)"
   ]
  },
  {
   "cell_type": "code",
   "execution_count": null,
   "metadata": {},
   "outputs": [],
   "source": []
  }
 ],
 "metadata": {
  "kernelspec": {
   "display_name": "Julia 1.4.1",
   "language": "julia",
   "name": "julia-1.4"
  },
  "language_info": {
   "file_extension": ".jl",
   "mimetype": "application/julia",
   "name": "julia",
   "version": "1.4.1"
  }
 },
 "nbformat": 4,
 "nbformat_minor": 4
}
