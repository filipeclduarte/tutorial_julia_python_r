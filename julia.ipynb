{
 "cells": [
  {
   "cell_type": "markdown",
   "metadata": {},
   "source": [
    "# Julia"
   ]
  },
  {
   "cell_type": "markdown",
   "metadata": {},
   "source": [
    "## Manipulação de dados\n",
    "### DataFrames\n",
    "\n",
    "O que veremos nesse tutorial?\n",
    "\n",
    "1. leitura de dados\n",
    "2. selecionar linhas\n",
    "3. selecionar colunas\n",
    "4. filtro de linhas\n",
    "5. groupby com estatísticas\n",
    "6. renomear colunas \n",
    "7. dados faltantes\n"
   ]
  },
  {
   "cell_type": "markdown",
   "metadata": {},
   "source": [
    "## 1. Leitura de dados"
   ]
  },
  {
   "cell_type": "code",
   "execution_count": 1,
   "metadata": {},
   "outputs": [],
   "source": [
    "# importando biblioteca\n",
    "# using Pkg\n",
    "# Pkg.add(\"DataFrames\")\n",
    "# Pkg.add(\"CSV\")\n",
    "# Pkg.add(\"Queryverse\")\n",
    "# Pkg.add(\"BenchmarkTools\")\n",
    "# Pkg.add(\"Pipe\")\n",
    "using DataFrames\n",
    "using CSV\n",
    "using Queryverse\n",
    "using BenchmarkTools\n",
    "using Pipe"
   ]
  },
  {
   "cell_type": "code",
   "execution_count": 2,
   "metadata": {},
   "outputs": [],
   "source": [
    "# ler os dados\n",
    "sp500 = CSV.read(\"data/sp500.csv\", DataFrame);"
   ]
  },
  {
   "cell_type": "markdown",
   "metadata": {},
   "source": [
    "### Mensurando tempo de exeução da leitura dos dados"
   ]
  },
  {
   "cell_type": "code",
   "execution_count": 19,
   "metadata": {},
   "outputs": [
    {
     "name": "stdout",
     "output_type": "stream",
     "text": [
      "  0.135060 seconds (497.90 k allocations: 45.073 MiB)\n"
     ]
    }
   ],
   "source": [
    "@time CSV.read(\"data/sp500.csv\", DataFrame);"
   ]
  },
  {
   "cell_type": "code",
   "execution_count": 15,
   "metadata": {},
   "outputs": [
    {
     "name": "stdout",
     "output_type": "stream",
     "text": [
      "  0.129886 seconds (499.27 k allocations: 42.215 MiB)\n"
     ]
    }
   ],
   "source": [
    "@time CSV.read(\"data/sp500.csv\", DataFrame, tasks=8);"
   ]
  },
  {
   "cell_type": "markdown",
   "metadata": {},
   "source": [
    "#### Mostrando as 10 primeiras linhas"
   ]
  },
  {
   "cell_type": "code",
   "execution_count": 17,
   "metadata": {},
   "outputs": [
    {
     "data": {
      "text/html": [
       "<table class=\"data-frame\"><thead><tr><th></th><th>symbol</th><th>date</th><th>open</th><th>high</th><th>low</th><th>close</th><th>volume</th></tr><tr><th></th><th>String</th><th>Date…</th><th>Float64?</th><th>Float64?</th><th>Float64?</th><th>Float64</th><th>Int64</th></tr></thead><tbody><p>10 rows × 7 columns</p><tr><th>1</th><td>AAL</td><td>2014-01-02</td><td>25.07</td><td>25.82</td><td>25.06</td><td>25.36</td><td>8998943</td></tr><tr><th>2</th><td>AAPL</td><td>2014-01-02</td><td>79.3828</td><td>79.5756</td><td>78.8601</td><td>79.0185</td><td>58791957</td></tr><tr><th>3</th><td>AAP</td><td>2014-01-02</td><td>110.36</td><td>111.88</td><td>109.29</td><td>109.74</td><td>542711</td></tr><tr><th>4</th><td>ABBV</td><td>2014-01-02</td><td>52.12</td><td>52.33</td><td>51.52</td><td>51.98</td><td>4569061</td></tr><tr><th>5</th><td>ABC</td><td>2014-01-02</td><td>70.11</td><td>70.23</td><td>69.48</td><td>69.89</td><td>1148391</td></tr><tr><th>6</th><td>ABT</td><td>2014-01-02</td><td>38.09</td><td>38.4</td><td>38.0</td><td>38.23</td><td>4967472</td></tr><tr><th>7</th><td>ACN</td><td>2014-01-02</td><td>81.5</td><td>81.92</td><td>81.09</td><td>81.13</td><td>2405384</td></tr><tr><th>8</th><td>ADBE</td><td>2014-01-02</td><td>59.06</td><td>59.53</td><td>58.94</td><td>59.29</td><td>2746370</td></tr><tr><th>9</th><td>ADI</td><td>2014-01-02</td><td>49.52</td><td>49.75</td><td>49.04</td><td>49.28</td><td>2799092</td></tr><tr><th>10</th><td>ADM</td><td>2014-01-02</td><td>43.22</td><td>43.29</td><td>42.79</td><td>42.99</td><td>2753765</td></tr></tbody></table>"
      ],
      "text/latex": [
       "\\begin{tabular}{r|ccccccc}\n",
       "\t& symbol & date & open & high & low & close & volume\\\\\n",
       "\t\\hline\n",
       "\t& String & Date… & Float64? & Float64? & Float64? & Float64 & Int64\\\\\n",
       "\t\\hline\n",
       "\t1 & AAL & 2014-01-02 & 25.07 & 25.82 & 25.06 & 25.36 & 8998943 \\\\\n",
       "\t2 & AAPL & 2014-01-02 & 79.3828 & 79.5756 & 78.8601 & 79.0185 & 58791957 \\\\\n",
       "\t3 & AAP & 2014-01-02 & 110.36 & 111.88 & 109.29 & 109.74 & 542711 \\\\\n",
       "\t4 & ABBV & 2014-01-02 & 52.12 & 52.33 & 51.52 & 51.98 & 4569061 \\\\\n",
       "\t5 & ABC & 2014-01-02 & 70.11 & 70.23 & 69.48 & 69.89 & 1148391 \\\\\n",
       "\t6 & ABT & 2014-01-02 & 38.09 & 38.4 & 38.0 & 38.23 & 4967472 \\\\\n",
       "\t7 & ACN & 2014-01-02 & 81.5 & 81.92 & 81.09 & 81.13 & 2405384 \\\\\n",
       "\t8 & ADBE & 2014-01-02 & 59.06 & 59.53 & 58.94 & 59.29 & 2746370 \\\\\n",
       "\t9 & ADI & 2014-01-02 & 49.52 & 49.75 & 49.04 & 49.28 & 2799092 \\\\\n",
       "\t10 & ADM & 2014-01-02 & 43.22 & 43.29 & 42.79 & 42.99 & 2753765 \\\\\n",
       "\\end{tabular}\n"
      ],
      "text/plain": [
       "10×7 DataFrame. Omitted printing of 1 columns\n",
       "│ Row │ symbol │ date       │ open     │ high     │ low      │ close   │\n",
       "│     │ \u001b[90mString\u001b[39m │ \u001b[90mDates.Date\u001b[39m │ \u001b[90mFloat64?\u001b[39m │ \u001b[90mFloat64?\u001b[39m │ \u001b[90mFloat64?\u001b[39m │ \u001b[90mFloat64\u001b[39m │\n",
       "├─────┼────────┼────────────┼──────────┼──────────┼──────────┼─────────┤\n",
       "│ 1   │ AAL    │ 2014-01-02 │ 25.07    │ 25.82    │ 25.06    │ 25.36   │\n",
       "│ 2   │ AAPL   │ 2014-01-02 │ 79.3828  │ 79.5756  │ 78.8601  │ 79.0185 │\n",
       "│ 3   │ AAP    │ 2014-01-02 │ 110.36   │ 111.88   │ 109.29   │ 109.74  │\n",
       "│ 4   │ ABBV   │ 2014-01-02 │ 52.12    │ 52.33    │ 51.52    │ 51.98   │\n",
       "│ 5   │ ABC    │ 2014-01-02 │ 70.11    │ 70.23    │ 69.48    │ 69.89   │\n",
       "│ 6   │ ABT    │ 2014-01-02 │ 38.09    │ 38.4     │ 38.0     │ 38.23   │\n",
       "│ 7   │ ACN    │ 2014-01-02 │ 81.5     │ 81.92    │ 81.09    │ 81.13   │\n",
       "│ 8   │ ADBE   │ 2014-01-02 │ 59.06    │ 59.53    │ 58.94    │ 59.29   │\n",
       "│ 9   │ ADI    │ 2014-01-02 │ 49.52    │ 49.75    │ 49.04    │ 49.28   │\n",
       "│ 10  │ ADM    │ 2014-01-02 │ 43.22    │ 43.29    │ 42.79    │ 42.99   │"
      ]
     },
     "execution_count": 17,
     "metadata": {},
     "output_type": "execute_result"
    }
   ],
   "source": [
    "first(sp500, 10)"
   ]
  },
  {
   "cell_type": "markdown",
   "metadata": {},
   "source": [
    "## 2. Selecionar linhas"
   ]
  },
  {
   "cell_type": "code",
   "execution_count": 83,
   "metadata": {},
   "outputs": [
    {
     "data": {
      "text/html": [
       "<table class=\"data-frame\"><thead><tr><th></th><th>symbol</th><th>date</th><th>open</th><th>high</th><th>low</th><th>close</th><th>volume</th></tr><tr><th></th><th>String</th><th>Date…</th><th>Float64?</th><th>Float64?</th><th>Float64?</th><th>Float64</th><th>Int64</th></tr></thead><tbody><p>3 rows × 7 columns</p><tr><th>1</th><td>AAL</td><td>2014-01-02</td><td>25.07</td><td>25.82</td><td>25.06</td><td>25.36</td><td>8998943</td></tr><tr><th>2</th><td>ADM</td><td>2014-01-02</td><td>43.22</td><td>43.29</td><td>42.79</td><td>42.99</td><td>2753765</td></tr><tr><th>3</th><td>CME</td><td>2014-01-02</td><td>77.96</td><td>78.75</td><td>77.32</td><td>77.96</td><td>2070876</td></tr></tbody></table>"
      ],
      "text/latex": [
       "\\begin{tabular}{r|ccccccc}\n",
       "\t& symbol & date & open & high & low & close & volume\\\\\n",
       "\t\\hline\n",
       "\t& String & Date… & Float64? & Float64? & Float64? & Float64 & Int64\\\\\n",
       "\t\\hline\n",
       "\t1 & AAL & 2014-01-02 & 25.07 & 25.82 & 25.06 & 25.36 & 8998943 \\\\\n",
       "\t2 & ADM & 2014-01-02 & 43.22 & 43.29 & 42.79 & 42.99 & 2753765 \\\\\n",
       "\t3 & CME & 2014-01-02 & 77.96 & 78.75 & 77.32 & 77.96 & 2070876 \\\\\n",
       "\\end{tabular}\n"
      ],
      "text/plain": [
       "3×7 DataFrame. Omitted printing of 1 columns\n",
       "│ Row │ symbol │ date       │ open     │ high     │ low      │ close   │\n",
       "│     │ \u001b[90mString\u001b[39m │ \u001b[90mDates.Date\u001b[39m │ \u001b[90mFloat64?\u001b[39m │ \u001b[90mFloat64?\u001b[39m │ \u001b[90mFloat64?\u001b[39m │ \u001b[90mFloat64\u001b[39m │\n",
       "├─────┼────────┼────────────┼──────────┼──────────┼──────────┼─────────┤\n",
       "│ 1   │ AAL    │ 2014-01-02 │ 25.07    │ 25.82    │ 25.06    │ 25.36   │\n",
       "│ 2   │ ADM    │ 2014-01-02 │ 43.22    │ 43.29    │ 42.79    │ 42.99   │\n",
       "│ 3   │ CME    │ 2014-01-02 │ 77.96    │ 78.75    │ 77.32    │ 77.96   │"
      ]
     },
     "execution_count": 83,
     "metadata": {},
     "output_type": "execute_result"
    }
   ],
   "source": [
    "## selecionando as linhas 1, 10 e 100\n",
    "sp500[[1, 10, 100],:]"
   ]
  },
  {
   "cell_type": "code",
   "execution_count": 87,
   "metadata": {},
   "outputs": [
    {
     "data": {
      "text/html": [
       "<table class=\"data-frame\"><thead><tr><th></th><th>symbol</th><th>date</th><th>open</th><th>high</th><th>low</th><th>close</th><th>volume</th></tr><tr><th></th><th>String</th><th>Date…</th><th>Float64?</th><th>Float64?</th><th>Float64?</th><th>Float64</th><th>Int64</th></tr></thead><tbody><p>497,469 rows × 7 columns</p><tr><th>1</th><td>AAPL</td><td>2014-01-02</td><td>79.3828</td><td>79.5756</td><td>78.8601</td><td>79.0185</td><td>58791957</td></tr><tr><th>2</th><td>AAP</td><td>2014-01-02</td><td>110.36</td><td>111.88</td><td>109.29</td><td>109.74</td><td>542711</td></tr><tr><th>3</th><td>ABBV</td><td>2014-01-02</td><td>52.12</td><td>52.33</td><td>51.52</td><td>51.98</td><td>4569061</td></tr><tr><th>4</th><td>ABC</td><td>2014-01-02</td><td>70.11</td><td>70.23</td><td>69.48</td><td>69.89</td><td>1148391</td></tr><tr><th>5</th><td>ABT</td><td>2014-01-02</td><td>38.09</td><td>38.4</td><td>38.0</td><td>38.23</td><td>4967472</td></tr><tr><th>6</th><td>ACN</td><td>2014-01-02</td><td>81.5</td><td>81.92</td><td>81.09</td><td>81.13</td><td>2405384</td></tr><tr><th>7</th><td>ADBE</td><td>2014-01-02</td><td>59.06</td><td>59.53</td><td>58.94</td><td>59.29</td><td>2746370</td></tr><tr><th>8</th><td>ADI</td><td>2014-01-02</td><td>49.52</td><td>49.75</td><td>49.04</td><td>49.28</td><td>2799092</td></tr><tr><th>9</th><td>ADP</td><td>2014-01-02</td><td>80.17</td><td>80.45</td><td>79.38</td><td>79.86</td><td>1965869</td></tr><tr><th>10</th><td>ADSK</td><td>2014-01-02</td><td>49.33</td><td>49.74</td><td>48.88</td><td>49.25</td><td>2488043</td></tr><tr><th>11</th><td>ADS</td><td>2014-01-02</td><td>262.44</td><td>262.68</td><td>258.78</td><td>262.34</td><td>547808</td></tr><tr><th>12</th><td>AEE</td><td>2014-01-02</td><td>36.05</td><td>36.11</td><td>35.47</td><td>35.53</td><td>1394264</td></tr><tr><th>13</th><td>AEP</td><td>2014-01-02</td><td>46.98</td><td>47.06</td><td>46.04</td><td>46.13</td><td>2752002</td></tr><tr><th>14</th><td>AES</td><td>2014-01-02</td><td>14.51</td><td>14.56</td><td>14.19</td><td>14.27</td><td>3987216</td></tr><tr><th>15</th><td>AET</td><td>2014-01-02</td><td>68.21</td><td>68.6</td><td>67.52</td><td>67.56</td><td>1650687</td></tr><tr><th>16</th><td>AFL</td><td>2014-01-02</td><td>66.63</td><td>66.694</td><td>65.81</td><td>65.96</td><td>1914657</td></tr><tr><th>17</th><td>AGN</td><td>2014-01-02</td><td>167.33</td><td>170.71</td><td>166.594</td><td>168.05</td><td>1268722</td></tr><tr><th>18</th><td>AIG</td><td>2014-01-02</td><td>50.81</td><td>51.3</td><td>50.47</td><td>50.71</td><td>9198092</td></tr><tr><th>19</th><td>AIV</td><td>2014-01-02</td><td>25.9</td><td>26.14</td><td>25.66</td><td>25.91</td><td>844901</td></tr><tr><th>20</th><td>AIZ</td><td>2014-01-02</td><td>66.04</td><td>66.19</td><td>65.15</td><td>65.32</td><td>375524</td></tr><tr><th>21</th><td>AJG</td><td>2014-01-02</td><td>46.67</td><td>46.89</td><td>46.09</td><td>46.15</td><td>483694</td></tr><tr><th>22</th><td>AKAM</td><td>2014-01-02</td><td>47.11</td><td>47.1799</td><td>46.42</td><td>46.53</td><td>935107</td></tr><tr><th>23</th><td>ALB</td><td>2014-01-02</td><td>63.38</td><td>63.6</td><td>62.6</td><td>63.14</td><td>548782</td></tr><tr><th>24</th><td>ALGN</td><td>2014-01-02</td><td>57.06</td><td>57.37</td><td>56.43</td><td>56.96</td><td>437600</td></tr><tr><th>25</th><td>ALK</td><td>2014-01-02</td><td>36.665</td><td>36.965</td><td>36.275</td><td>36.59</td><td>900234</td></tr><tr><th>26</th><td>ALLE</td><td>2014-01-02</td><td>44.08</td><td>44.18</td><td>43.27</td><td>43.65</td><td>992872</td></tr><tr><th>27</th><td>ALL</td><td>2014-01-02</td><td>54.09</td><td>54.45</td><td>53.5</td><td>53.55</td><td>1909106</td></tr><tr><th>28</th><td>ALXN</td><td>2014-01-02</td><td>132.46</td><td>133.82</td><td>130.54</td><td>133.44</td><td>760197</td></tr><tr><th>29</th><td>AMAT</td><td>2014-01-02</td><td>17.69</td><td>17.69</td><td>17.37</td><td>17.55</td><td>7785873</td></tr><tr><th>30</th><td>AMD</td><td>2014-01-02</td><td>3.85</td><td>3.98</td><td>3.84</td><td>3.95</td><td>20569754</td></tr><tr><th>&vellip;</th><td>&vellip;</td><td>&vellip;</td><td>&vellip;</td><td>&vellip;</td><td>&vellip;</td><td>&vellip;</td><td>&vellip;</td></tr></tbody></table>"
      ],
      "text/latex": [
       "\\begin{tabular}{r|ccccccc}\n",
       "\t& symbol & date & open & high & low & close & volume\\\\\n",
       "\t\\hline\n",
       "\t& String & Date… & Float64? & Float64? & Float64? & Float64 & Int64\\\\\n",
       "\t\\hline\n",
       "\t1 & AAPL & 2014-01-02 & 79.3828 & 79.5756 & 78.8601 & 79.0185 & 58791957 \\\\\n",
       "\t2 & AAP & 2014-01-02 & 110.36 & 111.88 & 109.29 & 109.74 & 542711 \\\\\n",
       "\t3 & ABBV & 2014-01-02 & 52.12 & 52.33 & 51.52 & 51.98 & 4569061 \\\\\n",
       "\t4 & ABC & 2014-01-02 & 70.11 & 70.23 & 69.48 & 69.89 & 1148391 \\\\\n",
       "\t5 & ABT & 2014-01-02 & 38.09 & 38.4 & 38.0 & 38.23 & 4967472 \\\\\n",
       "\t6 & ACN & 2014-01-02 & 81.5 & 81.92 & 81.09 & 81.13 & 2405384 \\\\\n",
       "\t7 & ADBE & 2014-01-02 & 59.06 & 59.53 & 58.94 & 59.29 & 2746370 \\\\\n",
       "\t8 & ADI & 2014-01-02 & 49.52 & 49.75 & 49.04 & 49.28 & 2799092 \\\\\n",
       "\t9 & ADP & 2014-01-02 & 80.17 & 80.45 & 79.38 & 79.86 & 1965869 \\\\\n",
       "\t10 & ADSK & 2014-01-02 & 49.33 & 49.74 & 48.88 & 49.25 & 2488043 \\\\\n",
       "\t11 & ADS & 2014-01-02 & 262.44 & 262.68 & 258.78 & 262.34 & 547808 \\\\\n",
       "\t12 & AEE & 2014-01-02 & 36.05 & 36.11 & 35.47 & 35.53 & 1394264 \\\\\n",
       "\t13 & AEP & 2014-01-02 & 46.98 & 47.06 & 46.04 & 46.13 & 2752002 \\\\\n",
       "\t14 & AES & 2014-01-02 & 14.51 & 14.56 & 14.19 & 14.27 & 3987216 \\\\\n",
       "\t15 & AET & 2014-01-02 & 68.21 & 68.6 & 67.52 & 67.56 & 1650687 \\\\\n",
       "\t16 & AFL & 2014-01-02 & 66.63 & 66.694 & 65.81 & 65.96 & 1914657 \\\\\n",
       "\t17 & AGN & 2014-01-02 & 167.33 & 170.71 & 166.594 & 168.05 & 1268722 \\\\\n",
       "\t18 & AIG & 2014-01-02 & 50.81 & 51.3 & 50.47 & 50.71 & 9198092 \\\\\n",
       "\t19 & AIV & 2014-01-02 & 25.9 & 26.14 & 25.66 & 25.91 & 844901 \\\\\n",
       "\t20 & AIZ & 2014-01-02 & 66.04 & 66.19 & 65.15 & 65.32 & 375524 \\\\\n",
       "\t21 & AJG & 2014-01-02 & 46.67 & 46.89 & 46.09 & 46.15 & 483694 \\\\\n",
       "\t22 & AKAM & 2014-01-02 & 47.11 & 47.1799 & 46.42 & 46.53 & 935107 \\\\\n",
       "\t23 & ALB & 2014-01-02 & 63.38 & 63.6 & 62.6 & 63.14 & 548782 \\\\\n",
       "\t24 & ALGN & 2014-01-02 & 57.06 & 57.37 & 56.43 & 56.96 & 437600 \\\\\n",
       "\t25 & ALK & 2014-01-02 & 36.665 & 36.965 & 36.275 & 36.59 & 900234 \\\\\n",
       "\t26 & ALLE & 2014-01-02 & 44.08 & 44.18 & 43.27 & 43.65 & 992872 \\\\\n",
       "\t27 & ALL & 2014-01-02 & 54.09 & 54.45 & 53.5 & 53.55 & 1909106 \\\\\n",
       "\t28 & ALXN & 2014-01-02 & 132.46 & 133.82 & 130.54 & 133.44 & 760197 \\\\\n",
       "\t29 & AMAT & 2014-01-02 & 17.69 & 17.69 & 17.37 & 17.55 & 7785873 \\\\\n",
       "\t30 & AMD & 2014-01-02 & 3.85 & 3.98 & 3.84 & 3.95 & 20569754 \\\\\n",
       "\t$\\dots$ & $\\dots$ & $\\dots$ & $\\dots$ & $\\dots$ & $\\dots$ & $\\dots$ & $\\dots$ \\\\\n",
       "\\end{tabular}\n"
      ],
      "text/plain": [
       "497469×7 DataFrame. Omitted printing of 1 columns\n",
       "│ Row    │ symbol │ date       │ open     │ high     │ low      │ close   │\n",
       "│        │ \u001b[90mString\u001b[39m │ \u001b[90mDates.Date\u001b[39m │ \u001b[90mFloat64?\u001b[39m │ \u001b[90mFloat64?\u001b[39m │ \u001b[90mFloat64?\u001b[39m │ \u001b[90mFloat64\u001b[39m │\n",
       "├────────┼────────┼────────────┼──────────┼──────────┼──────────┼─────────┤\n",
       "│ 1      │ AAPL   │ 2014-01-02 │ 79.3828  │ 79.5756  │ 78.8601  │ 79.0185 │\n",
       "│ 2      │ AAP    │ 2014-01-02 │ 110.36   │ 111.88   │ 109.29   │ 109.74  │\n",
       "│ 3      │ ABBV   │ 2014-01-02 │ 52.12    │ 52.33    │ 51.52    │ 51.98   │\n",
       "│ 4      │ ABC    │ 2014-01-02 │ 70.11    │ 70.23    │ 69.48    │ 69.89   │\n",
       "│ 5      │ ABT    │ 2014-01-02 │ 38.09    │ 38.4     │ 38.0     │ 38.23   │\n",
       "│ 6      │ ACN    │ 2014-01-02 │ 81.5     │ 81.92    │ 81.09    │ 81.13   │\n",
       "│ 7      │ ADBE   │ 2014-01-02 │ 59.06    │ 59.53    │ 58.94    │ 59.29   │\n",
       "│ 8      │ ADI    │ 2014-01-02 │ 49.52    │ 49.75    │ 49.04    │ 49.28   │\n",
       "│ 9      │ ADP    │ 2014-01-02 │ 80.17    │ 80.45    │ 79.38    │ 79.86   │\n",
       "│ 10     │ ADSK   │ 2014-01-02 │ 49.33    │ 49.74    │ 48.88    │ 49.25   │\n",
       "⋮\n",
       "│ 497459 │ XEL    │ 2017-12-29 │ 48.11    │ 48.29    │ 48.07    │ 48.11   │\n",
       "│ 497460 │ XLNX   │ 2017-12-29 │ 68.5     │ 68.75    │ 67.4     │ 67.42   │\n",
       "│ 497461 │ XL     │ 2017-12-29 │ 35.45    │ 35.45    │ 35.16    │ 35.16   │\n",
       "│ 497462 │ XOM    │ 2017-12-29 │ 84.0     │ 84.2     │ 83.64    │ 83.64   │\n",
       "│ 497463 │ XRAY   │ 2017-12-29 │ 66.3     │ 66.72    │ 65.77    │ 65.83   │\n",
       "│ 497464 │ XRX    │ 2017-12-29 │ 29.4     │ 29.47    │ 29.12    │ 29.15   │\n",
       "│ 497465 │ XYL    │ 2017-12-29 │ 68.53    │ 68.8     │ 67.92    │ 68.2    │\n",
       "│ 497466 │ YUM    │ 2017-12-29 │ 82.64    │ 82.71    │ 81.59    │ 81.61   │\n",
       "│ 497467 │ ZBH    │ 2017-12-29 │ 121.75   │ 121.95   │ 120.62   │ 120.67  │\n",
       "│ 497468 │ ZION   │ 2017-12-29 │ 51.28    │ 51.55    │ 50.81    │ 50.83   │\n",
       "│ 497469 │ ZTS    │ 2017-12-29 │ 72.55    │ 72.76    │ 72.04    │ 72.04   │"
      ]
     },
     "execution_count": 87,
     "metadata": {},
     "output_type": "execute_result"
    }
   ],
   "source": [
    "## Remover as linhas 1, 10 e 100\n",
    "sp500[Not([1, 10, 100]), :]\n",
    "\n",
    "# deleta as linhas inplace\n",
    "# delete!(sp500, [1, 10, 100])"
   ]
  },
  {
   "cell_type": "markdown",
   "metadata": {},
   "source": [
    "## 3. Selecionando colunas"
   ]
  },
  {
   "cell_type": "code",
   "execution_count": 21,
   "metadata": {},
   "outputs": [
    {
     "data": {
      "text/plain": [
       "497472-element Array{Float64,1}:\n",
       "  25.36\n",
       "  79.0185\n",
       " 109.74\n",
       "  51.98\n",
       "  69.89\n",
       "  38.23\n",
       "  81.13\n",
       "  59.29\n",
       "  49.28\n",
       "  42.99\n",
       "  79.86\n",
       "  49.25\n",
       " 262.34\n",
       "   ⋮\n",
       " 122.01\n",
       "  48.11\n",
       "  67.42\n",
       "  35.16\n",
       "  83.64\n",
       "  65.83\n",
       "  29.15\n",
       "  68.2\n",
       "  81.61\n",
       " 120.67\n",
       "  50.83\n",
       "  72.04"
      ]
     },
     "execution_count": 21,
     "metadata": {},
     "output_type": "execute_result"
    }
   ],
   "source": [
    "sp500.close\n",
    "sp500.\"close\"\n",
    "sp500[!, :close]\n",
    "sp500[!, \"close\"]\n",
    "\n",
    "# se vc quiser fazer uma cópia da coluna\n",
    "sp500[:, :close] # usar \":\" no lugar de \"!\""
   ]
  },
  {
   "cell_type": "code",
   "execution_count": 114,
   "metadata": {},
   "outputs": [
    {
     "data": {
      "text/html": [
       "<table class=\"data-frame\"><thead><tr><th></th><th>symbol</th><th>close</th><th>volume</th></tr><tr><th></th><th>String</th><th>Float64</th><th>Int64</th></tr></thead><tbody><p>497,472 rows × 3 columns</p><tr><th>1</th><td>AAL</td><td>25.36</td><td>8998943</td></tr><tr><th>2</th><td>AAPL</td><td>79.0185</td><td>58791957</td></tr><tr><th>3</th><td>AAP</td><td>109.74</td><td>542711</td></tr><tr><th>4</th><td>ABBV</td><td>51.98</td><td>4569061</td></tr><tr><th>5</th><td>ABC</td><td>69.89</td><td>1148391</td></tr><tr><th>6</th><td>ABT</td><td>38.23</td><td>4967472</td></tr><tr><th>7</th><td>ACN</td><td>81.13</td><td>2405384</td></tr><tr><th>8</th><td>ADBE</td><td>59.29</td><td>2746370</td></tr><tr><th>9</th><td>ADI</td><td>49.28</td><td>2799092</td></tr><tr><th>10</th><td>ADM</td><td>42.99</td><td>2753765</td></tr><tr><th>11</th><td>ADP</td><td>79.86</td><td>1965869</td></tr><tr><th>12</th><td>ADSK</td><td>49.25</td><td>2488043</td></tr><tr><th>13</th><td>ADS</td><td>262.34</td><td>547808</td></tr><tr><th>14</th><td>AEE</td><td>35.53</td><td>1394264</td></tr><tr><th>15</th><td>AEP</td><td>46.13</td><td>2752002</td></tr><tr><th>16</th><td>AES</td><td>14.27</td><td>3987216</td></tr><tr><th>17</th><td>AET</td><td>67.56</td><td>1650687</td></tr><tr><th>18</th><td>AFL</td><td>65.96</td><td>1914657</td></tr><tr><th>19</th><td>AGN</td><td>168.05</td><td>1268722</td></tr><tr><th>20</th><td>AIG</td><td>50.71</td><td>9198092</td></tr><tr><th>21</th><td>AIV</td><td>25.91</td><td>844901</td></tr><tr><th>22</th><td>AIZ</td><td>65.32</td><td>375524</td></tr><tr><th>23</th><td>AJG</td><td>46.15</td><td>483694</td></tr><tr><th>24</th><td>AKAM</td><td>46.53</td><td>935107</td></tr><tr><th>25</th><td>ALB</td><td>63.14</td><td>548782</td></tr><tr><th>26</th><td>ALGN</td><td>56.96</td><td>437600</td></tr><tr><th>27</th><td>ALK</td><td>36.59</td><td>900234</td></tr><tr><th>28</th><td>ALLE</td><td>43.65</td><td>992872</td></tr><tr><th>29</th><td>ALL</td><td>53.55</td><td>1909106</td></tr><tr><th>30</th><td>ALXN</td><td>133.44</td><td>760197</td></tr><tr><th>&vellip;</th><td>&vellip;</td><td>&vellip;</td><td>&vellip;</td></tr></tbody></table>"
      ],
      "text/latex": [
       "\\begin{tabular}{r|ccc}\n",
       "\t& symbol & close & volume\\\\\n",
       "\t\\hline\n",
       "\t& String & Float64 & Int64\\\\\n",
       "\t\\hline\n",
       "\t1 & AAL & 25.36 & 8998943 \\\\\n",
       "\t2 & AAPL & 79.0185 & 58791957 \\\\\n",
       "\t3 & AAP & 109.74 & 542711 \\\\\n",
       "\t4 & ABBV & 51.98 & 4569061 \\\\\n",
       "\t5 & ABC & 69.89 & 1148391 \\\\\n",
       "\t6 & ABT & 38.23 & 4967472 \\\\\n",
       "\t7 & ACN & 81.13 & 2405384 \\\\\n",
       "\t8 & ADBE & 59.29 & 2746370 \\\\\n",
       "\t9 & ADI & 49.28 & 2799092 \\\\\n",
       "\t10 & ADM & 42.99 & 2753765 \\\\\n",
       "\t11 & ADP & 79.86 & 1965869 \\\\\n",
       "\t12 & ADSK & 49.25 & 2488043 \\\\\n",
       "\t13 & ADS & 262.34 & 547808 \\\\\n",
       "\t14 & AEE & 35.53 & 1394264 \\\\\n",
       "\t15 & AEP & 46.13 & 2752002 \\\\\n",
       "\t16 & AES & 14.27 & 3987216 \\\\\n",
       "\t17 & AET & 67.56 & 1650687 \\\\\n",
       "\t18 & AFL & 65.96 & 1914657 \\\\\n",
       "\t19 & AGN & 168.05 & 1268722 \\\\\n",
       "\t20 & AIG & 50.71 & 9198092 \\\\\n",
       "\t21 & AIV & 25.91 & 844901 \\\\\n",
       "\t22 & AIZ & 65.32 & 375524 \\\\\n",
       "\t23 & AJG & 46.15 & 483694 \\\\\n",
       "\t24 & AKAM & 46.53 & 935107 \\\\\n",
       "\t25 & ALB & 63.14 & 548782 \\\\\n",
       "\t26 & ALGN & 56.96 & 437600 \\\\\n",
       "\t27 & ALK & 36.59 & 900234 \\\\\n",
       "\t28 & ALLE & 43.65 & 992872 \\\\\n",
       "\t29 & ALL & 53.55 & 1909106 \\\\\n",
       "\t30 & ALXN & 133.44 & 760197 \\\\\n",
       "\t$\\dots$ & $\\dots$ & $\\dots$ & $\\dots$ \\\\\n",
       "\\end{tabular}\n"
      ],
      "text/plain": [
       "497472×3 DataFrame\n",
       "│ Row    │ symbol │ close   │ volume   │\n",
       "│        │ \u001b[90mString\u001b[39m │ \u001b[90mFloat64\u001b[39m │ \u001b[90mInt64\u001b[39m    │\n",
       "├────────┼────────┼─────────┼──────────┤\n",
       "│ 1      │ AAL    │ 25.36   │ 8998943  │\n",
       "│ 2      │ AAPL   │ 79.0185 │ 58791957 │\n",
       "│ 3      │ AAP    │ 109.74  │ 542711   │\n",
       "│ 4      │ ABBV   │ 51.98   │ 4569061  │\n",
       "│ 5      │ ABC    │ 69.89   │ 1148391  │\n",
       "│ 6      │ ABT    │ 38.23   │ 4967472  │\n",
       "│ 7      │ ACN    │ 81.13   │ 2405384  │\n",
       "│ 8      │ ADBE   │ 59.29   │ 2746370  │\n",
       "│ 9      │ ADI    │ 49.28   │ 2799092  │\n",
       "│ 10     │ ADM    │ 42.99   │ 2753765  │\n",
       "⋮\n",
       "│ 497462 │ XEL    │ 48.11   │ 2770633  │\n",
       "│ 497463 │ XLNX   │ 67.42   │ 959640   │\n",
       "│ 497464 │ XL     │ 35.16   │ 1017964  │\n",
       "│ 497465 │ XOM    │ 83.64   │ 8523411  │\n",
       "│ 497466 │ XRAY   │ 65.83   │ 917075   │\n",
       "│ 497467 │ XRX    │ 29.15   │ 1537390  │\n",
       "│ 497468 │ XYL    │ 68.2    │ 1046677  │\n",
       "│ 497469 │ YUM    │ 81.61   │ 1347613  │\n",
       "│ 497470 │ ZBH    │ 120.67  │ 1023624  │\n",
       "│ 497471 │ ZION   │ 50.83   │ 1261916  │\n",
       "│ 497472 │ ZTS    │ 72.04   │ 1704122  │"
      ]
     },
     "execution_count": 114,
     "metadata": {},
     "output_type": "execute_result"
    }
   ],
   "source": [
    "# mais de uma coluna - preferível \n",
    "sp500[!, [:symbol, :close, :volume]]\n",
    "\n",
    "# alternativa \n",
    "sp500[!, [\"symbol\", \"close\", \"volume\"]]\n",
    "\n",
    "# select\n",
    "select(sp500, [:symbol, :close, :volume])\n",
    "\n",
    "# se quiser fazer o inplace, alterar o sp500 use \"!\"\n",
    "# select!(sp500, [:symbol, :close, :volume])"
   ]
  },
  {
   "cell_type": "code",
   "execution_count": 117,
   "metadata": {},
   "outputs": [
    {
     "data": {
      "text/html": [
       "<table class=\"data-frame\"><thead><tr><th></th><th>symbol</th><th>date</th><th>low</th><th>close</th><th>volume</th></tr><tr><th></th><th>String</th><th>Date…</th><th>Float64?</th><th>Float64</th><th>Int64</th></tr></thead><tbody><p>497,472 rows × 5 columns</p><tr><th>1</th><td>AAL</td><td>2014-01-02</td><td>25.06</td><td>25.36</td><td>8998943</td></tr><tr><th>2</th><td>AAPL</td><td>2014-01-02</td><td>78.8601</td><td>79.0185</td><td>58791957</td></tr><tr><th>3</th><td>AAP</td><td>2014-01-02</td><td>109.29</td><td>109.74</td><td>542711</td></tr><tr><th>4</th><td>ABBV</td><td>2014-01-02</td><td>51.52</td><td>51.98</td><td>4569061</td></tr><tr><th>5</th><td>ABC</td><td>2014-01-02</td><td>69.48</td><td>69.89</td><td>1148391</td></tr><tr><th>6</th><td>ABT</td><td>2014-01-02</td><td>38.0</td><td>38.23</td><td>4967472</td></tr><tr><th>7</th><td>ACN</td><td>2014-01-02</td><td>81.09</td><td>81.13</td><td>2405384</td></tr><tr><th>8</th><td>ADBE</td><td>2014-01-02</td><td>58.94</td><td>59.29</td><td>2746370</td></tr><tr><th>9</th><td>ADI</td><td>2014-01-02</td><td>49.04</td><td>49.28</td><td>2799092</td></tr><tr><th>10</th><td>ADM</td><td>2014-01-02</td><td>42.79</td><td>42.99</td><td>2753765</td></tr><tr><th>11</th><td>ADP</td><td>2014-01-02</td><td>79.38</td><td>79.86</td><td>1965869</td></tr><tr><th>12</th><td>ADSK</td><td>2014-01-02</td><td>48.88</td><td>49.25</td><td>2488043</td></tr><tr><th>13</th><td>ADS</td><td>2014-01-02</td><td>258.78</td><td>262.34</td><td>547808</td></tr><tr><th>14</th><td>AEE</td><td>2014-01-02</td><td>35.47</td><td>35.53</td><td>1394264</td></tr><tr><th>15</th><td>AEP</td><td>2014-01-02</td><td>46.04</td><td>46.13</td><td>2752002</td></tr><tr><th>16</th><td>AES</td><td>2014-01-02</td><td>14.19</td><td>14.27</td><td>3987216</td></tr><tr><th>17</th><td>AET</td><td>2014-01-02</td><td>67.52</td><td>67.56</td><td>1650687</td></tr><tr><th>18</th><td>AFL</td><td>2014-01-02</td><td>65.81</td><td>65.96</td><td>1914657</td></tr><tr><th>19</th><td>AGN</td><td>2014-01-02</td><td>166.594</td><td>168.05</td><td>1268722</td></tr><tr><th>20</th><td>AIG</td><td>2014-01-02</td><td>50.47</td><td>50.71</td><td>9198092</td></tr><tr><th>21</th><td>AIV</td><td>2014-01-02</td><td>25.66</td><td>25.91</td><td>844901</td></tr><tr><th>22</th><td>AIZ</td><td>2014-01-02</td><td>65.15</td><td>65.32</td><td>375524</td></tr><tr><th>23</th><td>AJG</td><td>2014-01-02</td><td>46.09</td><td>46.15</td><td>483694</td></tr><tr><th>24</th><td>AKAM</td><td>2014-01-02</td><td>46.42</td><td>46.53</td><td>935107</td></tr><tr><th>25</th><td>ALB</td><td>2014-01-02</td><td>62.6</td><td>63.14</td><td>548782</td></tr><tr><th>26</th><td>ALGN</td><td>2014-01-02</td><td>56.43</td><td>56.96</td><td>437600</td></tr><tr><th>27</th><td>ALK</td><td>2014-01-02</td><td>36.275</td><td>36.59</td><td>900234</td></tr><tr><th>28</th><td>ALLE</td><td>2014-01-02</td><td>43.27</td><td>43.65</td><td>992872</td></tr><tr><th>29</th><td>ALL</td><td>2014-01-02</td><td>53.5</td><td>53.55</td><td>1909106</td></tr><tr><th>30</th><td>ALXN</td><td>2014-01-02</td><td>130.54</td><td>133.44</td><td>760197</td></tr><tr><th>&vellip;</th><td>&vellip;</td><td>&vellip;</td><td>&vellip;</td><td>&vellip;</td><td>&vellip;</td></tr></tbody></table>"
      ],
      "text/latex": [
       "\\begin{tabular}{r|ccccc}\n",
       "\t& symbol & date & low & close & volume\\\\\n",
       "\t\\hline\n",
       "\t& String & Date… & Float64? & Float64 & Int64\\\\\n",
       "\t\\hline\n",
       "\t1 & AAL & 2014-01-02 & 25.06 & 25.36 & 8998943 \\\\\n",
       "\t2 & AAPL & 2014-01-02 & 78.8601 & 79.0185 & 58791957 \\\\\n",
       "\t3 & AAP & 2014-01-02 & 109.29 & 109.74 & 542711 \\\\\n",
       "\t4 & ABBV & 2014-01-02 & 51.52 & 51.98 & 4569061 \\\\\n",
       "\t5 & ABC & 2014-01-02 & 69.48 & 69.89 & 1148391 \\\\\n",
       "\t6 & ABT & 2014-01-02 & 38.0 & 38.23 & 4967472 \\\\\n",
       "\t7 & ACN & 2014-01-02 & 81.09 & 81.13 & 2405384 \\\\\n",
       "\t8 & ADBE & 2014-01-02 & 58.94 & 59.29 & 2746370 \\\\\n",
       "\t9 & ADI & 2014-01-02 & 49.04 & 49.28 & 2799092 \\\\\n",
       "\t10 & ADM & 2014-01-02 & 42.79 & 42.99 & 2753765 \\\\\n",
       "\t11 & ADP & 2014-01-02 & 79.38 & 79.86 & 1965869 \\\\\n",
       "\t12 & ADSK & 2014-01-02 & 48.88 & 49.25 & 2488043 \\\\\n",
       "\t13 & ADS & 2014-01-02 & 258.78 & 262.34 & 547808 \\\\\n",
       "\t14 & AEE & 2014-01-02 & 35.47 & 35.53 & 1394264 \\\\\n",
       "\t15 & AEP & 2014-01-02 & 46.04 & 46.13 & 2752002 \\\\\n",
       "\t16 & AES & 2014-01-02 & 14.19 & 14.27 & 3987216 \\\\\n",
       "\t17 & AET & 2014-01-02 & 67.52 & 67.56 & 1650687 \\\\\n",
       "\t18 & AFL & 2014-01-02 & 65.81 & 65.96 & 1914657 \\\\\n",
       "\t19 & AGN & 2014-01-02 & 166.594 & 168.05 & 1268722 \\\\\n",
       "\t20 & AIG & 2014-01-02 & 50.47 & 50.71 & 9198092 \\\\\n",
       "\t21 & AIV & 2014-01-02 & 25.66 & 25.91 & 844901 \\\\\n",
       "\t22 & AIZ & 2014-01-02 & 65.15 & 65.32 & 375524 \\\\\n",
       "\t23 & AJG & 2014-01-02 & 46.09 & 46.15 & 483694 \\\\\n",
       "\t24 & AKAM & 2014-01-02 & 46.42 & 46.53 & 935107 \\\\\n",
       "\t25 & ALB & 2014-01-02 & 62.6 & 63.14 & 548782 \\\\\n",
       "\t26 & ALGN & 2014-01-02 & 56.43 & 56.96 & 437600 \\\\\n",
       "\t27 & ALK & 2014-01-02 & 36.275 & 36.59 & 900234 \\\\\n",
       "\t28 & ALLE & 2014-01-02 & 43.27 & 43.65 & 992872 \\\\\n",
       "\t29 & ALL & 2014-01-02 & 53.5 & 53.55 & 1909106 \\\\\n",
       "\t30 & ALXN & 2014-01-02 & 130.54 & 133.44 & 760197 \\\\\n",
       "\t$\\dots$ & $\\dots$ & $\\dots$ & $\\dots$ & $\\dots$ & $\\dots$ \\\\\n",
       "\\end{tabular}\n"
      ],
      "text/plain": [
       "497472×5 DataFrame\n",
       "│ Row    │ symbol │ date       │ low      │ close   │ volume   │\n",
       "│        │ \u001b[90mString\u001b[39m │ \u001b[90mDates.Date\u001b[39m │ \u001b[90mFloat64?\u001b[39m │ \u001b[90mFloat64\u001b[39m │ \u001b[90mInt64\u001b[39m    │\n",
       "├────────┼────────┼────────────┼──────────┼─────────┼──────────┤\n",
       "│ 1      │ AAL    │ 2014-01-02 │ 25.06    │ 25.36   │ 8998943  │\n",
       "│ 2      │ AAPL   │ 2014-01-02 │ 78.8601  │ 79.0185 │ 58791957 │\n",
       "│ 3      │ AAP    │ 2014-01-02 │ 109.29   │ 109.74  │ 542711   │\n",
       "│ 4      │ ABBV   │ 2014-01-02 │ 51.52    │ 51.98   │ 4569061  │\n",
       "│ 5      │ ABC    │ 2014-01-02 │ 69.48    │ 69.89   │ 1148391  │\n",
       "│ 6      │ ABT    │ 2014-01-02 │ 38.0     │ 38.23   │ 4967472  │\n",
       "│ 7      │ ACN    │ 2014-01-02 │ 81.09    │ 81.13   │ 2405384  │\n",
       "│ 8      │ ADBE   │ 2014-01-02 │ 58.94    │ 59.29   │ 2746370  │\n",
       "│ 9      │ ADI    │ 2014-01-02 │ 49.04    │ 49.28   │ 2799092  │\n",
       "│ 10     │ ADM    │ 2014-01-02 │ 42.79    │ 42.99   │ 2753765  │\n",
       "⋮\n",
       "│ 497462 │ XEL    │ 2017-12-29 │ 48.07    │ 48.11   │ 2770633  │\n",
       "│ 497463 │ XLNX   │ 2017-12-29 │ 67.4     │ 67.42   │ 959640   │\n",
       "│ 497464 │ XL     │ 2017-12-29 │ 35.16    │ 35.16   │ 1017964  │\n",
       "│ 497465 │ XOM    │ 2017-12-29 │ 83.64    │ 83.64   │ 8523411  │\n",
       "│ 497466 │ XRAY   │ 2017-12-29 │ 65.77    │ 65.83   │ 917075   │\n",
       "│ 497467 │ XRX    │ 2017-12-29 │ 29.12    │ 29.15   │ 1537390  │\n",
       "│ 497468 │ XYL    │ 2017-12-29 │ 67.92    │ 68.2    │ 1046677  │\n",
       "│ 497469 │ YUM    │ 2017-12-29 │ 81.59    │ 81.61   │ 1347613  │\n",
       "│ 497470 │ ZBH    │ 2017-12-29 │ 120.62   │ 120.67  │ 1023624  │\n",
       "│ 497471 │ ZION   │ 2017-12-29 │ 50.81    │ 50.83   │ 1261916  │\n",
       "│ 497472 │ ZTS    │ 2017-12-29 │ 72.04    │ 72.04   │ 1704122  │"
      ]
     },
     "execution_count": 117,
     "metadata": {},
     "output_type": "execute_result"
    }
   ],
   "source": [
    "## removendo colunas específicas\n",
    "sp500[!, Not([:high, :open])]\n",
    "\n",
    "## select\n",
    "select(sp500, Not([:high, :open]))"
   ]
  },
  {
   "cell_type": "markdown",
   "metadata": {},
   "source": [
    "## 4. Selecionando linhas a partir de condições"
   ]
  },
  {
   "cell_type": "code",
   "execution_count": 33,
   "metadata": {},
   "outputs": [
    {
     "data": {
      "text/html": [
       "<table class=\"data-frame\"><thead><tr><th></th><th>symbol</th><th>date</th><th>open</th><th>high</th><th>low</th><th>close</th><th>volume</th></tr><tr><th></th><th>String</th><th>Date…</th><th>Float64?</th><th>Float64?</th><th>Float64?</th><th>Float64</th><th>Int64</th></tr></thead><tbody><p>8 rows × 7 columns</p><tr><th>1</th><td>WRK</td><td>2015-06-26</td><td><em>missing</em></td><td><em>missing</em></td><td><em>missing</em></td><td>61.9</td><td>100</td></tr><tr><th>2</th><td>WRK</td><td>2015-06-29</td><td>60.92</td><td>60.92</td><td>60.8</td><td>60.8</td><td>300</td></tr><tr><th>3</th><td>DHR</td><td>2016-01-12</td><td><em>missing</em></td><td><em>missing</em></td><td><em>missing</em></td><td>88.55</td><td>0</td></tr><tr><th>4</th><td>O</td><td>2016-01-12</td><td><em>missing</em></td><td><em>missing</em></td><td><em>missing</em></td><td>52.43</td><td>0</td></tr><tr><th>5</th><td>UA</td><td>2016-04-07</td><td><em>missing</em></td><td><em>missing</em></td><td><em>missing</em></td><td>41.56</td><td>0</td></tr><tr><th>6</th><td>FTV</td><td>2016-07-01</td><td><em>missing</em></td><td><em>missing</em></td><td><em>missing</em></td><td>49.54</td><td>0</td></tr><tr><th>7</th><td>BHF</td><td>2017-07-26</td><td><em>missing</em></td><td><em>missing</em></td><td><em>missing</em></td><td>69.0842</td><td>3</td></tr><tr><th>8</th><td>BHF</td><td>2017-07-28</td><td>67.26</td><td>67.26</td><td>67.26</td><td>67.26</td><td>101</td></tr></tbody></table>"
      ],
      "text/latex": [
       "\\begin{tabular}{r|ccccccc}\n",
       "\t& symbol & date & open & high & low & close & volume\\\\\n",
       "\t\\hline\n",
       "\t& String & Date… & Float64? & Float64? & Float64? & Float64 & Int64\\\\\n",
       "\t\\hline\n",
       "\t1 & WRK & 2015-06-26 & \\emph{missing} & \\emph{missing} & \\emph{missing} & 61.9 & 100 \\\\\n",
       "\t2 & WRK & 2015-06-29 & 60.92 & 60.92 & 60.8 & 60.8 & 300 \\\\\n",
       "\t3 & DHR & 2016-01-12 & \\emph{missing} & \\emph{missing} & \\emph{missing} & 88.55 & 0 \\\\\n",
       "\t4 & O & 2016-01-12 & \\emph{missing} & \\emph{missing} & \\emph{missing} & 52.43 & 0 \\\\\n",
       "\t5 & UA & 2016-04-07 & \\emph{missing} & \\emph{missing} & \\emph{missing} & 41.56 & 0 \\\\\n",
       "\t6 & FTV & 2016-07-01 & \\emph{missing} & \\emph{missing} & \\emph{missing} & 49.54 & 0 \\\\\n",
       "\t7 & BHF & 2017-07-26 & \\emph{missing} & \\emph{missing} & \\emph{missing} & 69.0842 & 3 \\\\\n",
       "\t8 & BHF & 2017-07-28 & 67.26 & 67.26 & 67.26 & 67.26 & 101 \\\\\n",
       "\\end{tabular}\n"
      ],
      "text/plain": [
       "8×7 DataFrame. Omitted printing of 1 columns\n",
       "│ Row │ symbol │ date       │ open     │ high     │ low      │ close   │\n",
       "│     │ \u001b[90mString\u001b[39m │ \u001b[90mDates.Date\u001b[39m │ \u001b[90mFloat64?\u001b[39m │ \u001b[90mFloat64?\u001b[39m │ \u001b[90mFloat64?\u001b[39m │ \u001b[90mFloat64\u001b[39m │\n",
       "├─────┼────────┼────────────┼──────────┼──────────┼──────────┼─────────┤\n",
       "│ 1   │ WRK    │ 2015-06-26 │ \u001b[90mmissing\u001b[39m  │ \u001b[90mmissing\u001b[39m  │ \u001b[90mmissing\u001b[39m  │ 61.9    │\n",
       "│ 2   │ WRK    │ 2015-06-29 │ 60.92    │ 60.92    │ 60.8     │ 60.8    │\n",
       "│ 3   │ DHR    │ 2016-01-12 │ \u001b[90mmissing\u001b[39m  │ \u001b[90mmissing\u001b[39m  │ \u001b[90mmissing\u001b[39m  │ 88.55   │\n",
       "│ 4   │ O      │ 2016-01-12 │ \u001b[90mmissing\u001b[39m  │ \u001b[90mmissing\u001b[39m  │ \u001b[90mmissing\u001b[39m  │ 52.43   │\n",
       "│ 5   │ UA     │ 2016-04-07 │ \u001b[90mmissing\u001b[39m  │ \u001b[90mmissing\u001b[39m  │ \u001b[90mmissing\u001b[39m  │ 41.56   │\n",
       "│ 6   │ FTV    │ 2016-07-01 │ \u001b[90mmissing\u001b[39m  │ \u001b[90mmissing\u001b[39m  │ \u001b[90mmissing\u001b[39m  │ 49.54   │\n",
       "│ 7   │ BHF    │ 2017-07-26 │ \u001b[90mmissing\u001b[39m  │ \u001b[90mmissing\u001b[39m  │ \u001b[90mmissing\u001b[39m  │ 69.0842 │\n",
       "│ 8   │ BHF    │ 2017-07-28 │ 67.26    │ 67.26    │ 67.26    │ 67.26   │"
      ]
     },
     "execution_count": 33,
     "metadata": {},
     "output_type": "execute_result"
    }
   ],
   "source": [
    "## DataFrames \n",
    "# diversas maneiras\n",
    "sp500[sp500.volume .< 1000, :]\n",
    "\n",
    "filter(:volume => volume -> volume<1000, sp500)\n",
    "\n",
    "filter(sp500 -> sp500.volume < 1000, sp500)\n"
   ]
  },
  {
   "cell_type": "code",
   "execution_count": 40,
   "metadata": {},
   "outputs": [
    {
     "data": {
      "text/html": [
       "<table class=\"data-frame\"><thead><tr><th></th><th>symbol</th><th>date</th><th>open</th><th>high</th><th>low</th><th>close</th><th>volume</th></tr><tr><th></th><th>String</th><th>Date…</th><th>Float64?</th><th>Float64?</th><th>Float64?</th><th>Float64</th><th>Int64</th></tr></thead><tbody><p>5 rows × 7 columns</p><tr><th>1</th><td>WRK</td><td>2015-06-26</td><td><em>missing</em></td><td><em>missing</em></td><td><em>missing</em></td><td>61.9</td><td>100</td></tr><tr><th>2</th><td>WRK</td><td>2015-06-29</td><td>60.92</td><td>60.92</td><td>60.8</td><td>60.8</td><td>300</td></tr><tr><th>3</th><td>DHR</td><td>2016-01-12</td><td><em>missing</em></td><td><em>missing</em></td><td><em>missing</em></td><td>88.55</td><td>0</td></tr><tr><th>4</th><td>BHF</td><td>2017-07-26</td><td><em>missing</em></td><td><em>missing</em></td><td><em>missing</em></td><td>69.0842</td><td>3</td></tr><tr><th>5</th><td>BHF</td><td>2017-07-28</td><td>67.26</td><td>67.26</td><td>67.26</td><td>67.26</td><td>101</td></tr></tbody></table>"
      ],
      "text/latex": [
       "\\begin{tabular}{r|ccccccc}\n",
       "\t& symbol & date & open & high & low & close & volume\\\\\n",
       "\t\\hline\n",
       "\t& String & Date… & Float64? & Float64? & Float64? & Float64 & Int64\\\\\n",
       "\t\\hline\n",
       "\t1 & WRK & 2015-06-26 & \\emph{missing} & \\emph{missing} & \\emph{missing} & 61.9 & 100 \\\\\n",
       "\t2 & WRK & 2015-06-29 & 60.92 & 60.92 & 60.8 & 60.8 & 300 \\\\\n",
       "\t3 & DHR & 2016-01-12 & \\emph{missing} & \\emph{missing} & \\emph{missing} & 88.55 & 0 \\\\\n",
       "\t4 & BHF & 2017-07-26 & \\emph{missing} & \\emph{missing} & \\emph{missing} & 69.0842 & 3 \\\\\n",
       "\t5 & BHF & 2017-07-28 & 67.26 & 67.26 & 67.26 & 67.26 & 101 \\\\\n",
       "\\end{tabular}\n"
      ],
      "text/plain": [
       "5×7 DataFrame. Omitted printing of 1 columns\n",
       "│ Row │ symbol │ date       │ open     │ high     │ low      │ close   │\n",
       "│     │ \u001b[90mString\u001b[39m │ \u001b[90mDates.Date\u001b[39m │ \u001b[90mFloat64?\u001b[39m │ \u001b[90mFloat64?\u001b[39m │ \u001b[90mFloat64?\u001b[39m │ \u001b[90mFloat64\u001b[39m │\n",
       "├─────┼────────┼────────────┼──────────┼──────────┼──────────┼─────────┤\n",
       "│ 1   │ WRK    │ 2015-06-26 │ \u001b[90mmissing\u001b[39m  │ \u001b[90mmissing\u001b[39m  │ \u001b[90mmissing\u001b[39m  │ 61.9    │\n",
       "│ 2   │ WRK    │ 2015-06-29 │ 60.92    │ 60.92    │ 60.8     │ 60.8    │\n",
       "│ 3   │ DHR    │ 2016-01-12 │ \u001b[90mmissing\u001b[39m  │ \u001b[90mmissing\u001b[39m  │ \u001b[90mmissing\u001b[39m  │ 88.55   │\n",
       "│ 4   │ BHF    │ 2017-07-26 │ \u001b[90mmissing\u001b[39m  │ \u001b[90mmissing\u001b[39m  │ \u001b[90mmissing\u001b[39m  │ 69.0842 │\n",
       "│ 5   │ BHF    │ 2017-07-28 │ 67.26    │ 67.26    │ 67.26    │ 67.26   │"
      ]
     },
     "execution_count": 40,
     "metadata": {},
     "output_type": "execute_result"
    }
   ],
   "source": [
    "sp500[(sp500.volume .< 1000).&(sp500.close .> 60),:]\n",
    "\n",
    "filter([:volume, :close] => (volume, close) -> volume < 1000 && close > 60, sp500)"
   ]
  },
  {
   "cell_type": "markdown",
   "metadata": {},
   "source": [
    "#### Usando Queryverse"
   ]
  },
  {
   "cell_type": "code",
   "execution_count": 63,
   "metadata": {},
   "outputs": [
    {
     "data": {
      "text/html": [
       "<table class=\"data-frame\"><thead><tr><th></th><th>symbol</th><th>date</th><th>open</th><th>high</th><th>low</th><th>close</th><th>volume</th></tr><tr><th></th><th>String</th><th>Date…</th><th>Float64?</th><th>Float64?</th><th>Float64?</th><th>Float64</th><th>Int64</th></tr></thead><tbody><p>8 rows × 7 columns</p><tr><th>1</th><td>WRK</td><td>2015-06-26</td><td><em>missing</em></td><td><em>missing</em></td><td><em>missing</em></td><td>61.9</td><td>100</td></tr><tr><th>2</th><td>WRK</td><td>2015-06-29</td><td>60.92</td><td>60.92</td><td>60.8</td><td>60.8</td><td>300</td></tr><tr><th>3</th><td>DHR</td><td>2016-01-12</td><td><em>missing</em></td><td><em>missing</em></td><td><em>missing</em></td><td>88.55</td><td>0</td></tr><tr><th>4</th><td>O</td><td>2016-01-12</td><td><em>missing</em></td><td><em>missing</em></td><td><em>missing</em></td><td>52.43</td><td>0</td></tr><tr><th>5</th><td>UA</td><td>2016-04-07</td><td><em>missing</em></td><td><em>missing</em></td><td><em>missing</em></td><td>41.56</td><td>0</td></tr><tr><th>6</th><td>FTV</td><td>2016-07-01</td><td><em>missing</em></td><td><em>missing</em></td><td><em>missing</em></td><td>49.54</td><td>0</td></tr><tr><th>7</th><td>BHF</td><td>2017-07-26</td><td><em>missing</em></td><td><em>missing</em></td><td><em>missing</em></td><td>69.0842</td><td>3</td></tr><tr><th>8</th><td>BHF</td><td>2017-07-28</td><td>67.26</td><td>67.26</td><td>67.26</td><td>67.26</td><td>101</td></tr></tbody></table>"
      ],
      "text/latex": [
       "\\begin{tabular}{r|ccccccc}\n",
       "\t& symbol & date & open & high & low & close & volume\\\\\n",
       "\t\\hline\n",
       "\t& String & Date… & Float64? & Float64? & Float64? & Float64 & Int64\\\\\n",
       "\t\\hline\n",
       "\t1 & WRK & 2015-06-26 & \\emph{missing} & \\emph{missing} & \\emph{missing} & 61.9 & 100 \\\\\n",
       "\t2 & WRK & 2015-06-29 & 60.92 & 60.92 & 60.8 & 60.8 & 300 \\\\\n",
       "\t3 & DHR & 2016-01-12 & \\emph{missing} & \\emph{missing} & \\emph{missing} & 88.55 & 0 \\\\\n",
       "\t4 & O & 2016-01-12 & \\emph{missing} & \\emph{missing} & \\emph{missing} & 52.43 & 0 \\\\\n",
       "\t5 & UA & 2016-04-07 & \\emph{missing} & \\emph{missing} & \\emph{missing} & 41.56 & 0 \\\\\n",
       "\t6 & FTV & 2016-07-01 & \\emph{missing} & \\emph{missing} & \\emph{missing} & 49.54 & 0 \\\\\n",
       "\t7 & BHF & 2017-07-26 & \\emph{missing} & \\emph{missing} & \\emph{missing} & 69.0842 & 3 \\\\\n",
       "\t8 & BHF & 2017-07-28 & 67.26 & 67.26 & 67.26 & 67.26 & 101 \\\\\n",
       "\\end{tabular}\n"
      ],
      "text/plain": [
       "8×7 DataFrame. Omitted printing of 1 columns\n",
       "│ Row │ symbol │ date       │ open     │ high     │ low      │ close   │\n",
       "│     │ \u001b[90mString\u001b[39m │ \u001b[90mDates.Date\u001b[39m │ \u001b[90mFloat64?\u001b[39m │ \u001b[90mFloat64?\u001b[39m │ \u001b[90mFloat64?\u001b[39m │ \u001b[90mFloat64\u001b[39m │\n",
       "├─────┼────────┼────────────┼──────────┼──────────┼──────────┼─────────┤\n",
       "│ 1   │ WRK    │ 2015-06-26 │ \u001b[90mmissing\u001b[39m  │ \u001b[90mmissing\u001b[39m  │ \u001b[90mmissing\u001b[39m  │ 61.9    │\n",
       "│ 2   │ WRK    │ 2015-06-29 │ 60.92    │ 60.92    │ 60.8     │ 60.8    │\n",
       "│ 3   │ DHR    │ 2016-01-12 │ \u001b[90mmissing\u001b[39m  │ \u001b[90mmissing\u001b[39m  │ \u001b[90mmissing\u001b[39m  │ 88.55   │\n",
       "│ 4   │ O      │ 2016-01-12 │ \u001b[90mmissing\u001b[39m  │ \u001b[90mmissing\u001b[39m  │ \u001b[90mmissing\u001b[39m  │ 52.43   │\n",
       "│ 5   │ UA     │ 2016-04-07 │ \u001b[90mmissing\u001b[39m  │ \u001b[90mmissing\u001b[39m  │ \u001b[90mmissing\u001b[39m  │ 41.56   │\n",
       "│ 6   │ FTV    │ 2016-07-01 │ \u001b[90mmissing\u001b[39m  │ \u001b[90mmissing\u001b[39m  │ \u001b[90mmissing\u001b[39m  │ 49.54   │\n",
       "│ 7   │ BHF    │ 2017-07-26 │ \u001b[90mmissing\u001b[39m  │ \u001b[90mmissing\u001b[39m  │ \u001b[90mmissing\u001b[39m  │ 69.0842 │\n",
       "│ 8   │ BHF    │ 2017-07-28 │ 67.26    │ 67.26    │ 67.26    │ 67.26   │"
      ]
     },
     "execution_count": 63,
     "metadata": {},
     "output_type": "execute_result"
    }
   ],
   "source": [
    "sp500 |>\n",
    "    @filter(_.volume < 1000) |>\n",
    "    DataFrame"
   ]
  },
  {
   "cell_type": "code",
   "execution_count": 62,
   "metadata": {},
   "outputs": [
    {
     "data": {
      "text/html": [
       "<table class=\"data-frame\"><thead><tr><th></th><th>symbol</th><th>date</th><th>open</th><th>high</th><th>low</th><th>close</th><th>volume</th></tr><tr><th></th><th>String</th><th>Date…</th><th>Float64?</th><th>Float64?</th><th>Float64?</th><th>Float64</th><th>Int64</th></tr></thead><tbody><p>5 rows × 7 columns</p><tr><th>1</th><td>WRK</td><td>2015-06-26</td><td><em>missing</em></td><td><em>missing</em></td><td><em>missing</em></td><td>61.9</td><td>100</td></tr><tr><th>2</th><td>WRK</td><td>2015-06-29</td><td>60.92</td><td>60.92</td><td>60.8</td><td>60.8</td><td>300</td></tr><tr><th>3</th><td>DHR</td><td>2016-01-12</td><td><em>missing</em></td><td><em>missing</em></td><td><em>missing</em></td><td>88.55</td><td>0</td></tr><tr><th>4</th><td>BHF</td><td>2017-07-26</td><td><em>missing</em></td><td><em>missing</em></td><td><em>missing</em></td><td>69.0842</td><td>3</td></tr><tr><th>5</th><td>BHF</td><td>2017-07-28</td><td>67.26</td><td>67.26</td><td>67.26</td><td>67.26</td><td>101</td></tr></tbody></table>"
      ],
      "text/latex": [
       "\\begin{tabular}{r|ccccccc}\n",
       "\t& symbol & date & open & high & low & close & volume\\\\\n",
       "\t\\hline\n",
       "\t& String & Date… & Float64? & Float64? & Float64? & Float64 & Int64\\\\\n",
       "\t\\hline\n",
       "\t1 & WRK & 2015-06-26 & \\emph{missing} & \\emph{missing} & \\emph{missing} & 61.9 & 100 \\\\\n",
       "\t2 & WRK & 2015-06-29 & 60.92 & 60.92 & 60.8 & 60.8 & 300 \\\\\n",
       "\t3 & DHR & 2016-01-12 & \\emph{missing} & \\emph{missing} & \\emph{missing} & 88.55 & 0 \\\\\n",
       "\t4 & BHF & 2017-07-26 & \\emph{missing} & \\emph{missing} & \\emph{missing} & 69.0842 & 3 \\\\\n",
       "\t5 & BHF & 2017-07-28 & 67.26 & 67.26 & 67.26 & 67.26 & 101 \\\\\n",
       "\\end{tabular}\n"
      ],
      "text/plain": [
       "5×7 DataFrame. Omitted printing of 1 columns\n",
       "│ Row │ symbol │ date       │ open     │ high     │ low      │ close   │\n",
       "│     │ \u001b[90mString\u001b[39m │ \u001b[90mDates.Date\u001b[39m │ \u001b[90mFloat64?\u001b[39m │ \u001b[90mFloat64?\u001b[39m │ \u001b[90mFloat64?\u001b[39m │ \u001b[90mFloat64\u001b[39m │\n",
       "├─────┼────────┼────────────┼──────────┼──────────┼──────────┼─────────┤\n",
       "│ 1   │ WRK    │ 2015-06-26 │ \u001b[90mmissing\u001b[39m  │ \u001b[90mmissing\u001b[39m  │ \u001b[90mmissing\u001b[39m  │ 61.9    │\n",
       "│ 2   │ WRK    │ 2015-06-29 │ 60.92    │ 60.92    │ 60.8     │ 60.8    │\n",
       "│ 3   │ DHR    │ 2016-01-12 │ \u001b[90mmissing\u001b[39m  │ \u001b[90mmissing\u001b[39m  │ \u001b[90mmissing\u001b[39m  │ 88.55   │\n",
       "│ 4   │ BHF    │ 2017-07-26 │ \u001b[90mmissing\u001b[39m  │ \u001b[90mmissing\u001b[39m  │ \u001b[90mmissing\u001b[39m  │ 69.0842 │\n",
       "│ 5   │ BHF    │ 2017-07-28 │ 67.26    │ 67.26    │ 67.26    │ 67.26   │"
      ]
     },
     "execution_count": 62,
     "metadata": {},
     "output_type": "execute_result"
    }
   ],
   "source": [
    "sp500 |>\n",
    "    @filter(_.volume < 1000 && _.close > 60) |>\n",
    "    DataFrame"
   ]
  },
  {
   "cell_type": "markdown",
   "metadata": {},
   "source": [
    "### Select "
   ]
  },
  {
   "cell_type": "code",
   "execution_count": 69,
   "metadata": {},
   "outputs": [
    {
     "name": "stdout",
     "output_type": "stream",
     "text": [
      "  0.104276 seconds (271.57 k allocations: 16.317 MiB)\n"
     ]
    },
    {
     "data": {
      "text/html": [
       "<table class=\"data-frame\"><thead><tr><th></th><th>volume</th></tr><tr><th></th><th>Int64</th></tr></thead><tbody><p>497,472 rows × 1 columns</p><tr><th>1</th><td>8998943</td></tr><tr><th>2</th><td>58791957</td></tr><tr><th>3</th><td>542711</td></tr><tr><th>4</th><td>4569061</td></tr><tr><th>5</th><td>1148391</td></tr><tr><th>6</th><td>4967472</td></tr><tr><th>7</th><td>2405384</td></tr><tr><th>8</th><td>2746370</td></tr><tr><th>9</th><td>2799092</td></tr><tr><th>10</th><td>2753765</td></tr><tr><th>11</th><td>1965869</td></tr><tr><th>12</th><td>2488043</td></tr><tr><th>13</th><td>547808</td></tr><tr><th>14</th><td>1394264</td></tr><tr><th>15</th><td>2752002</td></tr><tr><th>16</th><td>3987216</td></tr><tr><th>17</th><td>1650687</td></tr><tr><th>18</th><td>1914657</td></tr><tr><th>19</th><td>1268722</td></tr><tr><th>20</th><td>9198092</td></tr><tr><th>21</th><td>844901</td></tr><tr><th>22</th><td>375524</td></tr><tr><th>23</th><td>483694</td></tr><tr><th>24</th><td>935107</td></tr><tr><th>25</th><td>548782</td></tr><tr><th>26</th><td>437600</td></tr><tr><th>27</th><td>900234</td></tr><tr><th>28</th><td>992872</td></tr><tr><th>29</th><td>1909106</td></tr><tr><th>30</th><td>760197</td></tr><tr><th>&vellip;</th><td>&vellip;</td></tr></tbody></table>"
      ],
      "text/latex": [
       "\\begin{tabular}{r|c}\n",
       "\t& volume\\\\\n",
       "\t\\hline\n",
       "\t& Int64\\\\\n",
       "\t\\hline\n",
       "\t1 & 8998943 \\\\\n",
       "\t2 & 58791957 \\\\\n",
       "\t3 & 542711 \\\\\n",
       "\t4 & 4569061 \\\\\n",
       "\t5 & 1148391 \\\\\n",
       "\t6 & 4967472 \\\\\n",
       "\t7 & 2405384 \\\\\n",
       "\t8 & 2746370 \\\\\n",
       "\t9 & 2799092 \\\\\n",
       "\t10 & 2753765 \\\\\n",
       "\t11 & 1965869 \\\\\n",
       "\t12 & 2488043 \\\\\n",
       "\t13 & 547808 \\\\\n",
       "\t14 & 1394264 \\\\\n",
       "\t15 & 2752002 \\\\\n",
       "\t16 & 3987216 \\\\\n",
       "\t17 & 1650687 \\\\\n",
       "\t18 & 1914657 \\\\\n",
       "\t19 & 1268722 \\\\\n",
       "\t20 & 9198092 \\\\\n",
       "\t21 & 844901 \\\\\n",
       "\t22 & 375524 \\\\\n",
       "\t23 & 483694 \\\\\n",
       "\t24 & 935107 \\\\\n",
       "\t25 & 548782 \\\\\n",
       "\t26 & 437600 \\\\\n",
       "\t27 & 900234 \\\\\n",
       "\t28 & 992872 \\\\\n",
       "\t29 & 1909106 \\\\\n",
       "\t30 & 760197 \\\\\n",
       "\t$\\dots$ & $\\dots$ \\\\\n",
       "\\end{tabular}\n"
      ],
      "text/plain": [
       "497472×1 DataFrame\n",
       "│ Row    │ volume   │\n",
       "│        │ \u001b[90mInt64\u001b[39m    │\n",
       "├────────┼──────────┤\n",
       "│ 1      │ 8998943  │\n",
       "│ 2      │ 58791957 │\n",
       "│ 3      │ 542711   │\n",
       "│ 4      │ 4569061  │\n",
       "│ 5      │ 1148391  │\n",
       "│ 6      │ 4967472  │\n",
       "│ 7      │ 2405384  │\n",
       "│ 8      │ 2746370  │\n",
       "│ 9      │ 2799092  │\n",
       "│ 10     │ 2753765  │\n",
       "⋮\n",
       "│ 497462 │ 2770633  │\n",
       "│ 497463 │ 959640   │\n",
       "│ 497464 │ 1017964  │\n",
       "│ 497465 │ 8523411  │\n",
       "│ 497466 │ 917075   │\n",
       "│ 497467 │ 1537390  │\n",
       "│ 497468 │ 1046677  │\n",
       "│ 497469 │ 1347613  │\n",
       "│ 497470 │ 1023624  │\n",
       "│ 497471 │ 1261916  │\n",
       "│ 497472 │ 1704122  │"
      ]
     },
     "execution_count": 69,
     "metadata": {},
     "output_type": "execute_result"
    }
   ],
   "source": [
    "# Vamos selecionar as colunas que iniciam com v\n",
    "sp500 |>\n",
    "    @select(startswith(\"v\")) |>\n",
    "    DataFrame"
   ]
  },
  {
   "cell_type": "code",
   "execution_count": 70,
   "metadata": {},
   "outputs": [
    {
     "data": {
      "text/html": [
       "<table class=\"data-frame\"><thead><tr><th></th><th>symbol</th><th>date</th><th>open</th><th>high</th><th>low</th><th>close</th></tr><tr><th></th><th>String</th><th>Date…</th><th>Float64?</th><th>Float64?</th><th>Float64?</th><th>Float64</th></tr></thead><tbody><p>497,472 rows × 6 columns</p><tr><th>1</th><td>AAL</td><td>2014-01-02</td><td>25.07</td><td>25.82</td><td>25.06</td><td>25.36</td></tr><tr><th>2</th><td>AAPL</td><td>2014-01-02</td><td>79.3828</td><td>79.5756</td><td>78.8601</td><td>79.0185</td></tr><tr><th>3</th><td>AAP</td><td>2014-01-02</td><td>110.36</td><td>111.88</td><td>109.29</td><td>109.74</td></tr><tr><th>4</th><td>ABBV</td><td>2014-01-02</td><td>52.12</td><td>52.33</td><td>51.52</td><td>51.98</td></tr><tr><th>5</th><td>ABC</td><td>2014-01-02</td><td>70.11</td><td>70.23</td><td>69.48</td><td>69.89</td></tr><tr><th>6</th><td>ABT</td><td>2014-01-02</td><td>38.09</td><td>38.4</td><td>38.0</td><td>38.23</td></tr><tr><th>7</th><td>ACN</td><td>2014-01-02</td><td>81.5</td><td>81.92</td><td>81.09</td><td>81.13</td></tr><tr><th>8</th><td>ADBE</td><td>2014-01-02</td><td>59.06</td><td>59.53</td><td>58.94</td><td>59.29</td></tr><tr><th>9</th><td>ADI</td><td>2014-01-02</td><td>49.52</td><td>49.75</td><td>49.04</td><td>49.28</td></tr><tr><th>10</th><td>ADM</td><td>2014-01-02</td><td>43.22</td><td>43.29</td><td>42.79</td><td>42.99</td></tr><tr><th>11</th><td>ADP</td><td>2014-01-02</td><td>80.17</td><td>80.45</td><td>79.38</td><td>79.86</td></tr><tr><th>12</th><td>ADSK</td><td>2014-01-02</td><td>49.33</td><td>49.74</td><td>48.88</td><td>49.25</td></tr><tr><th>13</th><td>ADS</td><td>2014-01-02</td><td>262.44</td><td>262.68</td><td>258.78</td><td>262.34</td></tr><tr><th>14</th><td>AEE</td><td>2014-01-02</td><td>36.05</td><td>36.11</td><td>35.47</td><td>35.53</td></tr><tr><th>15</th><td>AEP</td><td>2014-01-02</td><td>46.98</td><td>47.06</td><td>46.04</td><td>46.13</td></tr><tr><th>16</th><td>AES</td><td>2014-01-02</td><td>14.51</td><td>14.56</td><td>14.19</td><td>14.27</td></tr><tr><th>17</th><td>AET</td><td>2014-01-02</td><td>68.21</td><td>68.6</td><td>67.52</td><td>67.56</td></tr><tr><th>18</th><td>AFL</td><td>2014-01-02</td><td>66.63</td><td>66.694</td><td>65.81</td><td>65.96</td></tr><tr><th>19</th><td>AGN</td><td>2014-01-02</td><td>167.33</td><td>170.71</td><td>166.594</td><td>168.05</td></tr><tr><th>20</th><td>AIG</td><td>2014-01-02</td><td>50.81</td><td>51.3</td><td>50.47</td><td>50.71</td></tr><tr><th>21</th><td>AIV</td><td>2014-01-02</td><td>25.9</td><td>26.14</td><td>25.66</td><td>25.91</td></tr><tr><th>22</th><td>AIZ</td><td>2014-01-02</td><td>66.04</td><td>66.19</td><td>65.15</td><td>65.32</td></tr><tr><th>23</th><td>AJG</td><td>2014-01-02</td><td>46.67</td><td>46.89</td><td>46.09</td><td>46.15</td></tr><tr><th>24</th><td>AKAM</td><td>2014-01-02</td><td>47.11</td><td>47.1799</td><td>46.42</td><td>46.53</td></tr><tr><th>25</th><td>ALB</td><td>2014-01-02</td><td>63.38</td><td>63.6</td><td>62.6</td><td>63.14</td></tr><tr><th>26</th><td>ALGN</td><td>2014-01-02</td><td>57.06</td><td>57.37</td><td>56.43</td><td>56.96</td></tr><tr><th>27</th><td>ALK</td><td>2014-01-02</td><td>36.665</td><td>36.965</td><td>36.275</td><td>36.59</td></tr><tr><th>28</th><td>ALLE</td><td>2014-01-02</td><td>44.08</td><td>44.18</td><td>43.27</td><td>43.65</td></tr><tr><th>29</th><td>ALL</td><td>2014-01-02</td><td>54.09</td><td>54.45</td><td>53.5</td><td>53.55</td></tr><tr><th>30</th><td>ALXN</td><td>2014-01-02</td><td>132.46</td><td>133.82</td><td>130.54</td><td>133.44</td></tr><tr><th>&vellip;</th><td>&vellip;</td><td>&vellip;</td><td>&vellip;</td><td>&vellip;</td><td>&vellip;</td><td>&vellip;</td></tr></tbody></table>"
      ],
      "text/latex": [
       "\\begin{tabular}{r|cccccc}\n",
       "\t& symbol & date & open & high & low & close\\\\\n",
       "\t\\hline\n",
       "\t& String & Date… & Float64? & Float64? & Float64? & Float64\\\\\n",
       "\t\\hline\n",
       "\t1 & AAL & 2014-01-02 & 25.07 & 25.82 & 25.06 & 25.36 \\\\\n",
       "\t2 & AAPL & 2014-01-02 & 79.3828 & 79.5756 & 78.8601 & 79.0185 \\\\\n",
       "\t3 & AAP & 2014-01-02 & 110.36 & 111.88 & 109.29 & 109.74 \\\\\n",
       "\t4 & ABBV & 2014-01-02 & 52.12 & 52.33 & 51.52 & 51.98 \\\\\n",
       "\t5 & ABC & 2014-01-02 & 70.11 & 70.23 & 69.48 & 69.89 \\\\\n",
       "\t6 & ABT & 2014-01-02 & 38.09 & 38.4 & 38.0 & 38.23 \\\\\n",
       "\t7 & ACN & 2014-01-02 & 81.5 & 81.92 & 81.09 & 81.13 \\\\\n",
       "\t8 & ADBE & 2014-01-02 & 59.06 & 59.53 & 58.94 & 59.29 \\\\\n",
       "\t9 & ADI & 2014-01-02 & 49.52 & 49.75 & 49.04 & 49.28 \\\\\n",
       "\t10 & ADM & 2014-01-02 & 43.22 & 43.29 & 42.79 & 42.99 \\\\\n",
       "\t11 & ADP & 2014-01-02 & 80.17 & 80.45 & 79.38 & 79.86 \\\\\n",
       "\t12 & ADSK & 2014-01-02 & 49.33 & 49.74 & 48.88 & 49.25 \\\\\n",
       "\t13 & ADS & 2014-01-02 & 262.44 & 262.68 & 258.78 & 262.34 \\\\\n",
       "\t14 & AEE & 2014-01-02 & 36.05 & 36.11 & 35.47 & 35.53 \\\\\n",
       "\t15 & AEP & 2014-01-02 & 46.98 & 47.06 & 46.04 & 46.13 \\\\\n",
       "\t16 & AES & 2014-01-02 & 14.51 & 14.56 & 14.19 & 14.27 \\\\\n",
       "\t17 & AET & 2014-01-02 & 68.21 & 68.6 & 67.52 & 67.56 \\\\\n",
       "\t18 & AFL & 2014-01-02 & 66.63 & 66.694 & 65.81 & 65.96 \\\\\n",
       "\t19 & AGN & 2014-01-02 & 167.33 & 170.71 & 166.594 & 168.05 \\\\\n",
       "\t20 & AIG & 2014-01-02 & 50.81 & 51.3 & 50.47 & 50.71 \\\\\n",
       "\t21 & AIV & 2014-01-02 & 25.9 & 26.14 & 25.66 & 25.91 \\\\\n",
       "\t22 & AIZ & 2014-01-02 & 66.04 & 66.19 & 65.15 & 65.32 \\\\\n",
       "\t23 & AJG & 2014-01-02 & 46.67 & 46.89 & 46.09 & 46.15 \\\\\n",
       "\t24 & AKAM & 2014-01-02 & 47.11 & 47.1799 & 46.42 & 46.53 \\\\\n",
       "\t25 & ALB & 2014-01-02 & 63.38 & 63.6 & 62.6 & 63.14 \\\\\n",
       "\t26 & ALGN & 2014-01-02 & 57.06 & 57.37 & 56.43 & 56.96 \\\\\n",
       "\t27 & ALK & 2014-01-02 & 36.665 & 36.965 & 36.275 & 36.59 \\\\\n",
       "\t28 & ALLE & 2014-01-02 & 44.08 & 44.18 & 43.27 & 43.65 \\\\\n",
       "\t29 & ALL & 2014-01-02 & 54.09 & 54.45 & 53.5 & 53.55 \\\\\n",
       "\t30 & ALXN & 2014-01-02 & 132.46 & 133.82 & 130.54 & 133.44 \\\\\n",
       "\t$\\dots$ & $\\dots$ & $\\dots$ & $\\dots$ & $\\dots$ & $\\dots$ & $\\dots$ \\\\\n",
       "\\end{tabular}\n"
      ],
      "text/plain": [
       "497472×6 DataFrame\n",
       "│ Row    │ symbol │ date       │ open     │ high     │ low      │ close   │\n",
       "│        │ \u001b[90mString\u001b[39m │ \u001b[90mDates.Date\u001b[39m │ \u001b[90mFloat64?\u001b[39m │ \u001b[90mFloat64?\u001b[39m │ \u001b[90mFloat64?\u001b[39m │ \u001b[90mFloat64\u001b[39m │\n",
       "├────────┼────────┼────────────┼──────────┼──────────┼──────────┼─────────┤\n",
       "│ 1      │ AAL    │ 2014-01-02 │ 25.07    │ 25.82    │ 25.06    │ 25.36   │\n",
       "│ 2      │ AAPL   │ 2014-01-02 │ 79.3828  │ 79.5756  │ 78.8601  │ 79.0185 │\n",
       "│ 3      │ AAP    │ 2014-01-02 │ 110.36   │ 111.88   │ 109.29   │ 109.74  │\n",
       "│ 4      │ ABBV   │ 2014-01-02 │ 52.12    │ 52.33    │ 51.52    │ 51.98   │\n",
       "│ 5      │ ABC    │ 2014-01-02 │ 70.11    │ 70.23    │ 69.48    │ 69.89   │\n",
       "│ 6      │ ABT    │ 2014-01-02 │ 38.09    │ 38.4     │ 38.0     │ 38.23   │\n",
       "│ 7      │ ACN    │ 2014-01-02 │ 81.5     │ 81.92    │ 81.09    │ 81.13   │\n",
       "│ 8      │ ADBE   │ 2014-01-02 │ 59.06    │ 59.53    │ 58.94    │ 59.29   │\n",
       "│ 9      │ ADI    │ 2014-01-02 │ 49.52    │ 49.75    │ 49.04    │ 49.28   │\n",
       "│ 10     │ ADM    │ 2014-01-02 │ 43.22    │ 43.29    │ 42.79    │ 42.99   │\n",
       "⋮\n",
       "│ 497462 │ XEL    │ 2017-12-29 │ 48.11    │ 48.29    │ 48.07    │ 48.11   │\n",
       "│ 497463 │ XLNX   │ 2017-12-29 │ 68.5     │ 68.75    │ 67.4     │ 67.42   │\n",
       "│ 497464 │ XL     │ 2017-12-29 │ 35.45    │ 35.45    │ 35.16    │ 35.16   │\n",
       "│ 497465 │ XOM    │ 2017-12-29 │ 84.0     │ 84.2     │ 83.64    │ 83.64   │\n",
       "│ 497466 │ XRAY   │ 2017-12-29 │ 66.3     │ 66.72    │ 65.77    │ 65.83   │\n",
       "│ 497467 │ XRX    │ 2017-12-29 │ 29.4     │ 29.47    │ 29.12    │ 29.15   │\n",
       "│ 497468 │ XYL    │ 2017-12-29 │ 68.53    │ 68.8     │ 67.92    │ 68.2    │\n",
       "│ 497469 │ YUM    │ 2017-12-29 │ 82.64    │ 82.71    │ 81.59    │ 81.61   │\n",
       "│ 497470 │ ZBH    │ 2017-12-29 │ 121.75   │ 121.95   │ 120.62   │ 120.67  │\n",
       "│ 497471 │ ZION   │ 2017-12-29 │ 51.28    │ 51.55    │ 50.81    │ 50.83   │\n",
       "│ 497472 │ ZTS    │ 2017-12-29 │ 72.55    │ 72.76    │ 72.04    │ 72.04   │"
      ]
     },
     "execution_count": 70,
     "metadata": {},
     "output_type": "execute_result"
    }
   ],
   "source": [
    "# Não vamos selecionar as colunas que iniciam com v\n",
    "sp500 |>\n",
    "    @select(!startswith(\"v\")) |>\n",
    "    DataFrame"
   ]
  },
  {
   "cell_type": "code",
   "execution_count": 81,
   "metadata": {},
   "outputs": [
    {
     "data": {
      "text/html": [
       "<table class=\"data-frame\"><thead><tr><th></th><th>close</th><th>volume</th></tr><tr><th></th><th>Float64</th><th>Int64</th></tr></thead><tbody><p>497,472 rows × 2 columns</p><tr><th>1</th><td>25.36</td><td>8998943</td></tr><tr><th>2</th><td>79.0185</td><td>58791957</td></tr><tr><th>3</th><td>109.74</td><td>542711</td></tr><tr><th>4</th><td>51.98</td><td>4569061</td></tr><tr><th>5</th><td>69.89</td><td>1148391</td></tr><tr><th>6</th><td>38.23</td><td>4967472</td></tr><tr><th>7</th><td>81.13</td><td>2405384</td></tr><tr><th>8</th><td>59.29</td><td>2746370</td></tr><tr><th>9</th><td>49.28</td><td>2799092</td></tr><tr><th>10</th><td>42.99</td><td>2753765</td></tr><tr><th>11</th><td>79.86</td><td>1965869</td></tr><tr><th>12</th><td>49.25</td><td>2488043</td></tr><tr><th>13</th><td>262.34</td><td>547808</td></tr><tr><th>14</th><td>35.53</td><td>1394264</td></tr><tr><th>15</th><td>46.13</td><td>2752002</td></tr><tr><th>16</th><td>14.27</td><td>3987216</td></tr><tr><th>17</th><td>67.56</td><td>1650687</td></tr><tr><th>18</th><td>65.96</td><td>1914657</td></tr><tr><th>19</th><td>168.05</td><td>1268722</td></tr><tr><th>20</th><td>50.71</td><td>9198092</td></tr><tr><th>21</th><td>25.91</td><td>844901</td></tr><tr><th>22</th><td>65.32</td><td>375524</td></tr><tr><th>23</th><td>46.15</td><td>483694</td></tr><tr><th>24</th><td>46.53</td><td>935107</td></tr><tr><th>25</th><td>63.14</td><td>548782</td></tr><tr><th>26</th><td>56.96</td><td>437600</td></tr><tr><th>27</th><td>36.59</td><td>900234</td></tr><tr><th>28</th><td>43.65</td><td>992872</td></tr><tr><th>29</th><td>53.55</td><td>1909106</td></tr><tr><th>30</th><td>133.44</td><td>760197</td></tr><tr><th>&vellip;</th><td>&vellip;</td><td>&vellip;</td></tr></tbody></table>"
      ],
      "text/latex": [
       "\\begin{tabular}{r|cc}\n",
       "\t& close & volume\\\\\n",
       "\t\\hline\n",
       "\t& Float64 & Int64\\\\\n",
       "\t\\hline\n",
       "\t1 & 25.36 & 8998943 \\\\\n",
       "\t2 & 79.0185 & 58791957 \\\\\n",
       "\t3 & 109.74 & 542711 \\\\\n",
       "\t4 & 51.98 & 4569061 \\\\\n",
       "\t5 & 69.89 & 1148391 \\\\\n",
       "\t6 & 38.23 & 4967472 \\\\\n",
       "\t7 & 81.13 & 2405384 \\\\\n",
       "\t8 & 59.29 & 2746370 \\\\\n",
       "\t9 & 49.28 & 2799092 \\\\\n",
       "\t10 & 42.99 & 2753765 \\\\\n",
       "\t11 & 79.86 & 1965869 \\\\\n",
       "\t12 & 49.25 & 2488043 \\\\\n",
       "\t13 & 262.34 & 547808 \\\\\n",
       "\t14 & 35.53 & 1394264 \\\\\n",
       "\t15 & 46.13 & 2752002 \\\\\n",
       "\t16 & 14.27 & 3987216 \\\\\n",
       "\t17 & 67.56 & 1650687 \\\\\n",
       "\t18 & 65.96 & 1914657 \\\\\n",
       "\t19 & 168.05 & 1268722 \\\\\n",
       "\t20 & 50.71 & 9198092 \\\\\n",
       "\t21 & 25.91 & 844901 \\\\\n",
       "\t22 & 65.32 & 375524 \\\\\n",
       "\t23 & 46.15 & 483694 \\\\\n",
       "\t24 & 46.53 & 935107 \\\\\n",
       "\t25 & 63.14 & 548782 \\\\\n",
       "\t26 & 56.96 & 437600 \\\\\n",
       "\t27 & 36.59 & 900234 \\\\\n",
       "\t28 & 43.65 & 992872 \\\\\n",
       "\t29 & 53.55 & 1909106 \\\\\n",
       "\t30 & 133.44 & 760197 \\\\\n",
       "\t$\\dots$ & $\\dots$ & $\\dots$ \\\\\n",
       "\\end{tabular}\n"
      ],
      "text/plain": [
       "497472×2 DataFrame\n",
       "│ Row    │ close   │ volume   │\n",
       "│        │ \u001b[90mFloat64\u001b[39m │ \u001b[90mInt64\u001b[39m    │\n",
       "├────────┼─────────┼──────────┤\n",
       "│ 1      │ 25.36   │ 8998943  │\n",
       "│ 2      │ 79.0185 │ 58791957 │\n",
       "│ 3      │ 109.74  │ 542711   │\n",
       "│ 4      │ 51.98   │ 4569061  │\n",
       "│ 5      │ 69.89   │ 1148391  │\n",
       "│ 6      │ 38.23   │ 4967472  │\n",
       "│ 7      │ 81.13   │ 2405384  │\n",
       "│ 8      │ 59.29   │ 2746370  │\n",
       "│ 9      │ 49.28   │ 2799092  │\n",
       "│ 10     │ 42.99   │ 2753765  │\n",
       "⋮\n",
       "│ 497462 │ 48.11   │ 2770633  │\n",
       "│ 497463 │ 67.42   │ 959640   │\n",
       "│ 497464 │ 35.16   │ 1017964  │\n",
       "│ 497465 │ 83.64   │ 8523411  │\n",
       "│ 497466 │ 65.83   │ 917075   │\n",
       "│ 497467 │ 29.15   │ 1537390  │\n",
       "│ 497468 │ 68.2    │ 1046677  │\n",
       "│ 497469 │ 81.61   │ 1347613  │\n",
       "│ 497470 │ 120.67  │ 1023624  │\n",
       "│ 497471 │ 50.83   │ 1261916  │\n",
       "│ 497472 │ 72.04   │ 1704122  │"
      ]
     },
     "execution_count": 81,
     "metadata": {},
     "output_type": "execute_result"
    }
   ],
   "source": [
    "# Mais de uma condição\n",
    "sp500 |>\n",
    "    @select(startswith(\"c\"), startswith(\"v\")) |>\n",
    "    DataFrame"
   ]
  },
  {
   "cell_type": "markdown",
   "metadata": {},
   "source": [
    "## 5. Groupby\n",
    "\n",
    "#### Calculando estatísticas"
   ]
  },
  {
   "cell_type": "code",
   "execution_count": 145,
   "metadata": {},
   "outputs": [],
   "source": [
    "using Statistics"
   ]
  },
  {
   "cell_type": "code",
   "execution_count": 125,
   "metadata": {},
   "outputs": [
    {
     "data": {
      "text/html": [
       "<table class=\"data-frame\"><thead><tr><th></th><th>variable</th><th>mean</th><th>min</th><th>median</th><th>max</th><th>nunique</th><th>nmissing</th><th>eltype</th></tr><tr><th></th><th>Symbol</th><th>Union…</th><th>Any</th><th>Union…</th><th>Any</th><th>Union…</th><th>Union…</th><th>Type</th></tr></thead><tbody><p>7 rows × 8 columns</p><tr><th>1</th><td>symbol</td><td></td><td>A</td><td></td><td>ZTS</td><td>505</td><td></td><td>String</td></tr><tr><th>2</th><td>date</td><td></td><td>2014-01-02</td><td></td><td>2017-12-29</td><td>1007</td><td></td><td>Date</td></tr><tr><th>3</th><td>open</td><td>86.3523</td><td>1.62</td><td>64.97</td><td>2044.0</td><td></td><td>11</td><td>Union{Missing, Float64}</td></tr><tr><th>4</th><td>high</td><td>87.1326</td><td>1.69</td><td>65.56</td><td>2067.99</td><td></td><td>8</td><td>Union{Missing, Float64}</td></tr><tr><th>5</th><td>low</td><td>85.5525</td><td>1.5</td><td>64.3537</td><td>2035.11</td><td></td><td>8</td><td>Union{Missing, Float64}</td></tr><tr><th>6</th><td>close</td><td>86.3691</td><td>1.59</td><td>64.98</td><td>2049.0</td><td></td><td></td><td>Float64</td></tr><tr><th>7</th><td>volume</td><td>4.25361e6</td><td>0</td><td>2.0849e6</td><td>618237630</td><td></td><td></td><td>Int64</td></tr></tbody></table>"
      ],
      "text/latex": [
       "\\begin{tabular}{r|cccccccc}\n",
       "\t& variable & mean & min & median & max & nunique & nmissing & eltype\\\\\n",
       "\t\\hline\n",
       "\t& Symbol & Union… & Any & Union… & Any & Union… & Union… & Type\\\\\n",
       "\t\\hline\n",
       "\t1 & symbol &  & A &  & ZTS & 505 &  & String \\\\\n",
       "\t2 & date &  & 2014-01-02 &  & 2017-12-29 & 1007 &  & Date \\\\\n",
       "\t3 & open & 86.3523 & 1.62 & 64.97 & 2044.0 &  & 11 & Union\\{Missing, Float64\\} \\\\\n",
       "\t4 & high & 87.1326 & 1.69 & 65.56 & 2067.99 &  & 8 & Union\\{Missing, Float64\\} \\\\\n",
       "\t5 & low & 85.5525 & 1.5 & 64.3537 & 2035.11 &  & 8 & Union\\{Missing, Float64\\} \\\\\n",
       "\t6 & close & 86.3691 & 1.59 & 64.98 & 2049.0 &  &  & Float64 \\\\\n",
       "\t7 & volume & 4.25361e6 & 0 & 2.0849e6 & 618237630 &  &  & Int64 \\\\\n",
       "\\end{tabular}\n"
      ],
      "text/plain": [
       "7×8 DataFrame. Omitted printing of 2 columns\n",
       "│ Row │ variable │ mean      │ min        │ median   │ max        │ nunique │\n",
       "│     │ \u001b[90mSymbol\u001b[39m   │ \u001b[90mUnion…\u001b[39m    │ \u001b[90mAny\u001b[39m        │ \u001b[90mUnion…\u001b[39m   │ \u001b[90mAny\u001b[39m        │ \u001b[90mUnion…\u001b[39m  │\n",
       "├─────┼──────────┼───────────┼────────────┼──────────┼────────────┼─────────┤\n",
       "│ 1   │ symbol   │           │ A          │          │ ZTS        │ 505     │\n",
       "│ 2   │ date     │           │ 2014-01-02 │          │ 2017-12-29 │ 1007    │\n",
       "│ 3   │ open     │ 86.3523   │ 1.62       │ 64.97    │ 2044.0     │         │\n",
       "│ 4   │ high     │ 87.1326   │ 1.69       │ 65.56    │ 2067.99    │         │\n",
       "│ 5   │ low      │ 85.5525   │ 1.5        │ 64.3537  │ 2035.11    │         │\n",
       "│ 6   │ close    │ 86.3691   │ 1.59       │ 64.98    │ 2049.0     │         │\n",
       "│ 7   │ volume   │ 4.25361e6 │ 0          │ 2.0849e6 │ 618237630  │         │"
      ]
     },
     "execution_count": 125,
     "metadata": {},
     "output_type": "execute_result"
    }
   ],
   "source": [
    "## Descrevendo as estatísticas básicas\n",
    "describe(sp500)"
   ]
  },
  {
   "cell_type": "code",
   "execution_count": 41,
   "metadata": {},
   "outputs": [
    {
     "data": {
      "text/html": [
       "<table class=\"data-frame\"><thead><tr><th></th><th>variable</th><th>mean</th><th>std</th></tr><tr><th></th><th>Symbol</th><th>Union…</th><th>Union…</th></tr></thead><tbody><p>7 rows × 3 columns</p><tr><th>1</th><td>symbol</td><td></td><td></td></tr><tr><th>2</th><td>date</td><td></td><td></td></tr><tr><th>3</th><td>open</td><td>86.3523</td><td>101.471</td></tr><tr><th>4</th><td>high</td><td>87.1326</td><td>102.312</td></tr><tr><th>5</th><td>low</td><td>85.5525</td><td>100.571</td></tr><tr><th>6</th><td>close</td><td>86.3691</td><td>101.472</td></tr><tr><th>7</th><td>volume</td><td>4.25361e6</td><td>8.23214e6</td></tr></tbody></table>"
      ],
      "text/latex": [
       "\\begin{tabular}{r|ccc}\n",
       "\t& variable & mean & std\\\\\n",
       "\t\\hline\n",
       "\t& Symbol & Union… & Union…\\\\\n",
       "\t\\hline\n",
       "\t1 & symbol &  &  \\\\\n",
       "\t2 & date &  &  \\\\\n",
       "\t3 & open & 86.3523 & 101.471 \\\\\n",
       "\t4 & high & 87.1326 & 102.312 \\\\\n",
       "\t5 & low & 85.5525 & 100.571 \\\\\n",
       "\t6 & close & 86.3691 & 101.472 \\\\\n",
       "\t7 & volume & 4.25361e6 & 8.23214e6 \\\\\n",
       "\\end{tabular}\n"
      ],
      "text/plain": [
       "7×3 DataFrame\n",
       "│ Row │ variable │ mean      │ std       │\n",
       "│     │ \u001b[90mSymbol\u001b[39m   │ \u001b[90mUnion…\u001b[39m    │ \u001b[90mUnion…\u001b[39m    │\n",
       "├─────┼──────────┼───────────┼───────────┤\n",
       "│ 1   │ symbol   │           │           │\n",
       "│ 2   │ date     │           │           │\n",
       "│ 3   │ open     │ 86.3523   │ 101.471   │\n",
       "│ 4   │ high     │ 87.1326   │ 102.312   │\n",
       "│ 5   │ low      │ 85.5525   │ 100.571   │\n",
       "│ 6   │ close    │ 86.3691   │ 101.472   │\n",
       "│ 7   │ volume   │ 4.25361e6 │ 8.23214e6 │"
      ]
     },
     "execution_count": 41,
     "metadata": {},
     "output_type": "execute_result"
    }
   ],
   "source": [
    "# Estatísticas específicas\n",
    "describe(sp500, :mean, :std)"
   ]
  },
  {
   "cell_type": "code",
   "execution_count": 135,
   "metadata": {},
   "outputs": [
    {
     "data": {
      "text/html": [
       "<table class=\"data-frame\"><thead><tr><th></th><th>symbol</th><th>volume_mean</th></tr><tr><th></th><th>String</th><th>Float64</th></tr></thead><tbody><p>505 rows × 2 columns</p><tr><th>1</th><td>AAL</td><td>9.75152e6</td></tr><tr><th>2</th><td>AAPL</td><td>4.51696e7</td></tr><tr><th>3</th><td>AAP</td><td>1.13731e6</td></tr><tr><th>4</th><td>ABBV</td><td>8.40884e6</td></tr><tr><th>5</th><td>ABC</td><td>2.02013e6</td></tr><tr><th>6</th><td>ABT</td><td>6.87753e6</td></tr><tr><th>7</th><td>ACN</td><td>2.48515e6</td></tr><tr><th>8</th><td>ADBE</td><td>2.86483e6</td></tr><tr><th>9</th><td>ADI</td><td>2.52162e6</td></tr><tr><th>10</th><td>ADM</td><td>3.5323e6</td></tr><tr><th>11</th><td>ADP</td><td>2.07593e6</td></tr><tr><th>12</th><td>ADSK</td><td>2.37463e6</td></tr><tr><th>13</th><td>ADS</td><td>628081.0</td></tr><tr><th>14</th><td>AEE</td><td>1.6226e6</td></tr><tr><th>15</th><td>AEP</td><td>2.65221e6</td></tr><tr><th>16</th><td>AES</td><td>5.48966e6</td></tr><tr><th>17</th><td>AET</td><td>2.65958e6</td></tr><tr><th>18</th><td>AFL</td><td>2.00046e6</td></tr><tr><th>19</th><td>AGN</td><td>3.21151e6</td></tr><tr><th>20</th><td>AIG</td><td>7.38753e6</td></tr><tr><th>21</th><td>AIV</td><td>1.21316e6</td></tr><tr><th>22</th><td>AIZ</td><td>526566.0</td></tr><tr><th>23</th><td>AJG</td><td>986975.0</td></tr><tr><th>24</th><td>AKAM</td><td>2.09981e6</td></tr><tr><th>25</th><td>ALB</td><td>1.23494e6</td></tr><tr><th>26</th><td>ALGN</td><td>881907.0</td></tr><tr><th>27</th><td>ALK</td><td>1.47018e6</td></tr><tr><th>28</th><td>ALLE</td><td>710361.0</td></tr><tr><th>29</th><td>ALL</td><td>2.28295e6</td></tr><tr><th>30</th><td>ALXN</td><td>1.83376e6</td></tr><tr><th>&vellip;</th><td>&vellip;</td><td>&vellip;</td></tr></tbody></table>"
      ],
      "text/latex": [
       "\\begin{tabular}{r|cc}\n",
       "\t& symbol & volume\\_mean\\\\\n",
       "\t\\hline\n",
       "\t& String & Float64\\\\\n",
       "\t\\hline\n",
       "\t1 & AAL & 9.75152e6 \\\\\n",
       "\t2 & AAPL & 4.51696e7 \\\\\n",
       "\t3 & AAP & 1.13731e6 \\\\\n",
       "\t4 & ABBV & 8.40884e6 \\\\\n",
       "\t5 & ABC & 2.02013e6 \\\\\n",
       "\t6 & ABT & 6.87753e6 \\\\\n",
       "\t7 & ACN & 2.48515e6 \\\\\n",
       "\t8 & ADBE & 2.86483e6 \\\\\n",
       "\t9 & ADI & 2.52162e6 \\\\\n",
       "\t10 & ADM & 3.5323e6 \\\\\n",
       "\t11 & ADP & 2.07593e6 \\\\\n",
       "\t12 & ADSK & 2.37463e6 \\\\\n",
       "\t13 & ADS & 628081.0 \\\\\n",
       "\t14 & AEE & 1.6226e6 \\\\\n",
       "\t15 & AEP & 2.65221e6 \\\\\n",
       "\t16 & AES & 5.48966e6 \\\\\n",
       "\t17 & AET & 2.65958e6 \\\\\n",
       "\t18 & AFL & 2.00046e6 \\\\\n",
       "\t19 & AGN & 3.21151e6 \\\\\n",
       "\t20 & AIG & 7.38753e6 \\\\\n",
       "\t21 & AIV & 1.21316e6 \\\\\n",
       "\t22 & AIZ & 526566.0 \\\\\n",
       "\t23 & AJG & 986975.0 \\\\\n",
       "\t24 & AKAM & 2.09981e6 \\\\\n",
       "\t25 & ALB & 1.23494e6 \\\\\n",
       "\t26 & ALGN & 881907.0 \\\\\n",
       "\t27 & ALK & 1.47018e6 \\\\\n",
       "\t28 & ALLE & 710361.0 \\\\\n",
       "\t29 & ALL & 2.28295e6 \\\\\n",
       "\t30 & ALXN & 1.83376e6 \\\\\n",
       "\t$\\dots$ & $\\dots$ & $\\dots$ \\\\\n",
       "\\end{tabular}\n"
      ],
      "text/plain": [
       "505×2 DataFrame\n",
       "│ Row │ symbol │ volume_mean │\n",
       "│     │ \u001b[90mString\u001b[39m │ \u001b[90mFloat64\u001b[39m     │\n",
       "├─────┼────────┼─────────────┤\n",
       "│ 1   │ AAL    │ 9.75152e6   │\n",
       "│ 2   │ AAPL   │ 4.51696e7   │\n",
       "│ 3   │ AAP    │ 1.13731e6   │\n",
       "│ 4   │ ABBV   │ 8.40884e6   │\n",
       "│ 5   │ ABC    │ 2.02013e6   │\n",
       "│ 6   │ ABT    │ 6.87753e6   │\n",
       "│ 7   │ ACN    │ 2.48515e6   │\n",
       "│ 8   │ ADBE   │ 2.86483e6   │\n",
       "│ 9   │ ADI    │ 2.52162e6   │\n",
       "│ 10  │ ADM    │ 3.5323e6    │\n",
       "⋮\n",
       "│ 495 │ CSRA   │ 1.27557e6   │\n",
       "│ 496 │ WLTW   │ 792991.0    │\n",
       "│ 497 │ UA     │ 3.24708e6   │\n",
       "│ 498 │ FTV    │ 1.5095e6    │\n",
       "│ 499 │ EVHC   │ 2.2515e6    │\n",
       "│ 500 │ HLT    │ 2.58803e6   │\n",
       "│ 501 │ DXC    │ 2.03884e6   │\n",
       "│ 502 │ BHGE   │ 3.86473e6   │\n",
       "│ 503 │ BHF    │ 1.04844e6   │\n",
       "│ 504 │ DWDP   │ 7.64596e6   │\n",
       "│ 505 │ APTV   │ 2.01704e6   │"
      ]
     },
     "execution_count": 135,
     "metadata": {},
     "output_type": "execute_result"
    }
   ],
   "source": [
    "#vamos fazer o grupo por symbol e calcular a média do volume\n",
    "grupos = groupby(sp500, :symbol)\n",
    "combine(grupos, :volume=>mean)"
   ]
  },
  {
   "cell_type": "code",
   "execution_count": 174,
   "metadata": {},
   "outputs": [
    {
     "data": {
      "text/html": [
       "<table class=\"data-frame\"><thead><tr><th></th><th>symbol</th><th>media</th></tr><tr><th></th><th>String</th><th>Float64</th></tr></thead><tbody><p>505 rows × 2 columns</p><tr><th>1</th><td>AAL</td><td>9.75152e6</td></tr><tr><th>2</th><td>AAPL</td><td>4.51696e7</td></tr><tr><th>3</th><td>AAP</td><td>1.13731e6</td></tr><tr><th>4</th><td>ABBV</td><td>8.40884e6</td></tr><tr><th>5</th><td>ABC</td><td>2.02013e6</td></tr><tr><th>6</th><td>ABT</td><td>6.87753e6</td></tr><tr><th>7</th><td>ACN</td><td>2.48515e6</td></tr><tr><th>8</th><td>ADBE</td><td>2.86483e6</td></tr><tr><th>9</th><td>ADI</td><td>2.52162e6</td></tr><tr><th>10</th><td>ADM</td><td>3.5323e6</td></tr><tr><th>11</th><td>ADP</td><td>2.07593e6</td></tr><tr><th>12</th><td>ADSK</td><td>2.37463e6</td></tr><tr><th>13</th><td>ADS</td><td>628081.0</td></tr><tr><th>14</th><td>AEE</td><td>1.6226e6</td></tr><tr><th>15</th><td>AEP</td><td>2.65221e6</td></tr><tr><th>16</th><td>AES</td><td>5.48966e6</td></tr><tr><th>17</th><td>AET</td><td>2.65958e6</td></tr><tr><th>18</th><td>AFL</td><td>2.00046e6</td></tr><tr><th>19</th><td>AGN</td><td>3.21151e6</td></tr><tr><th>20</th><td>AIG</td><td>7.38753e6</td></tr><tr><th>21</th><td>AIV</td><td>1.21316e6</td></tr><tr><th>22</th><td>AIZ</td><td>526566.0</td></tr><tr><th>23</th><td>AJG</td><td>986975.0</td></tr><tr><th>24</th><td>AKAM</td><td>2.09981e6</td></tr><tr><th>25</th><td>ALB</td><td>1.23494e6</td></tr><tr><th>26</th><td>ALGN</td><td>881907.0</td></tr><tr><th>27</th><td>ALK</td><td>1.47018e6</td></tr><tr><th>28</th><td>ALLE</td><td>710361.0</td></tr><tr><th>29</th><td>ALL</td><td>2.28295e6</td></tr><tr><th>30</th><td>ALXN</td><td>1.83376e6</td></tr><tr><th>&vellip;</th><td>&vellip;</td><td>&vellip;</td></tr></tbody></table>"
      ],
      "text/latex": [
       "\\begin{tabular}{r|cc}\n",
       "\t& symbol & media\\\\\n",
       "\t\\hline\n",
       "\t& String & Float64\\\\\n",
       "\t\\hline\n",
       "\t1 & AAL & 9.75152e6 \\\\\n",
       "\t2 & AAPL & 4.51696e7 \\\\\n",
       "\t3 & AAP & 1.13731e6 \\\\\n",
       "\t4 & ABBV & 8.40884e6 \\\\\n",
       "\t5 & ABC & 2.02013e6 \\\\\n",
       "\t6 & ABT & 6.87753e6 \\\\\n",
       "\t7 & ACN & 2.48515e6 \\\\\n",
       "\t8 & ADBE & 2.86483e6 \\\\\n",
       "\t9 & ADI & 2.52162e6 \\\\\n",
       "\t10 & ADM & 3.5323e6 \\\\\n",
       "\t11 & ADP & 2.07593e6 \\\\\n",
       "\t12 & ADSK & 2.37463e6 \\\\\n",
       "\t13 & ADS & 628081.0 \\\\\n",
       "\t14 & AEE & 1.6226e6 \\\\\n",
       "\t15 & AEP & 2.65221e6 \\\\\n",
       "\t16 & AES & 5.48966e6 \\\\\n",
       "\t17 & AET & 2.65958e6 \\\\\n",
       "\t18 & AFL & 2.00046e6 \\\\\n",
       "\t19 & AGN & 3.21151e6 \\\\\n",
       "\t20 & AIG & 7.38753e6 \\\\\n",
       "\t21 & AIV & 1.21316e6 \\\\\n",
       "\t22 & AIZ & 526566.0 \\\\\n",
       "\t23 & AJG & 986975.0 \\\\\n",
       "\t24 & AKAM & 2.09981e6 \\\\\n",
       "\t25 & ALB & 1.23494e6 \\\\\n",
       "\t26 & ALGN & 881907.0 \\\\\n",
       "\t27 & ALK & 1.47018e6 \\\\\n",
       "\t28 & ALLE & 710361.0 \\\\\n",
       "\t29 & ALL & 2.28295e6 \\\\\n",
       "\t30 & ALXN & 1.83376e6 \\\\\n",
       "\t$\\dots$ & $\\dots$ & $\\dots$ \\\\\n",
       "\\end{tabular}\n"
      ],
      "text/plain": [
       "505×2 DataFrame\n",
       "│ Row │ symbol │ media     │\n",
       "│     │ \u001b[90mString\u001b[39m │ \u001b[90mFloat64\u001b[39m   │\n",
       "├─────┼────────┼───────────┤\n",
       "│ 1   │ AAL    │ 9.75152e6 │\n",
       "│ 2   │ AAPL   │ 4.51696e7 │\n",
       "│ 3   │ AAP    │ 1.13731e6 │\n",
       "│ 4   │ ABBV   │ 8.40884e6 │\n",
       "│ 5   │ ABC    │ 2.02013e6 │\n",
       "│ 6   │ ABT    │ 6.87753e6 │\n",
       "│ 7   │ ACN    │ 2.48515e6 │\n",
       "│ 8   │ ADBE   │ 2.86483e6 │\n",
       "│ 9   │ ADI    │ 2.52162e6 │\n",
       "│ 10  │ ADM    │ 3.5323e6  │\n",
       "⋮\n",
       "│ 495 │ CSRA   │ 1.27557e6 │\n",
       "│ 496 │ WLTW   │ 792991.0  │\n",
       "│ 497 │ UA     │ 3.24708e6 │\n",
       "│ 498 │ FTV    │ 1.5095e6  │\n",
       "│ 499 │ EVHC   │ 2.2515e6  │\n",
       "│ 500 │ HLT    │ 2.58803e6 │\n",
       "│ 501 │ DXC    │ 2.03884e6 │\n",
       "│ 502 │ BHGE   │ 3.86473e6 │\n",
       "│ 503 │ BHF    │ 1.04844e6 │\n",
       "│ 504 │ DWDP   │ 7.64596e6 │\n",
       "│ 505 │ APTV   │ 2.01704e6 │"
      ]
     },
     "execution_count": 174,
     "metadata": {},
     "output_type": "execute_result"
    }
   ],
   "source": [
    "@pipe sp500 |>\n",
    "    groupby(_,:symbol) |>\n",
    "    combine(_,:volume=>mean)\n",
    "\n",
    "# alterando nome da coluna\n",
    "@pipe sp500 |>\n",
    "    groupby(_,:symbol) |>\n",
    "    combine(_,:volume=>mean=>:media)"
   ]
  },
  {
   "cell_type": "code",
   "execution_count": 173,
   "metadata": {},
   "outputs": [
    {
     "data": {
      "text/html": [
       "<table class=\"data-frame\"><thead><tr><th></th><th>Key</th><th>media</th></tr><tr><th></th><th>String</th><th>Float64</th></tr></thead><tbody><p>505 rows × 2 columns</p><tr><th>1</th><td>AAL</td><td>9.75152e6</td></tr><tr><th>2</th><td>AAPL</td><td>4.51696e7</td></tr><tr><th>3</th><td>AAP</td><td>1.13731e6</td></tr><tr><th>4</th><td>ABBV</td><td>8.40884e6</td></tr><tr><th>5</th><td>ABC</td><td>2.02013e6</td></tr><tr><th>6</th><td>ABT</td><td>6.87753e6</td></tr><tr><th>7</th><td>ACN</td><td>2.48515e6</td></tr><tr><th>8</th><td>ADBE</td><td>2.86483e6</td></tr><tr><th>9</th><td>ADI</td><td>2.52162e6</td></tr><tr><th>10</th><td>ADM</td><td>3.5323e6</td></tr><tr><th>11</th><td>ADP</td><td>2.07593e6</td></tr><tr><th>12</th><td>ADSK</td><td>2.37463e6</td></tr><tr><th>13</th><td>ADS</td><td>628081.0</td></tr><tr><th>14</th><td>AEE</td><td>1.6226e6</td></tr><tr><th>15</th><td>AEP</td><td>2.65221e6</td></tr><tr><th>16</th><td>AES</td><td>5.48966e6</td></tr><tr><th>17</th><td>AET</td><td>2.65958e6</td></tr><tr><th>18</th><td>AFL</td><td>2.00046e6</td></tr><tr><th>19</th><td>AGN</td><td>3.21151e6</td></tr><tr><th>20</th><td>AIG</td><td>7.38753e6</td></tr><tr><th>21</th><td>AIV</td><td>1.21316e6</td></tr><tr><th>22</th><td>AIZ</td><td>526566.0</td></tr><tr><th>23</th><td>AJG</td><td>986975.0</td></tr><tr><th>24</th><td>AKAM</td><td>2.09981e6</td></tr><tr><th>25</th><td>ALB</td><td>1.23494e6</td></tr><tr><th>26</th><td>ALGN</td><td>881907.0</td></tr><tr><th>27</th><td>ALK</td><td>1.47018e6</td></tr><tr><th>28</th><td>ALLE</td><td>710361.0</td></tr><tr><th>29</th><td>ALL</td><td>2.28295e6</td></tr><tr><th>30</th><td>ALXN</td><td>1.83376e6</td></tr><tr><th>&vellip;</th><td>&vellip;</td><td>&vellip;</td></tr></tbody></table>"
      ],
      "text/latex": [
       "\\begin{tabular}{r|cc}\n",
       "\t& Key & media\\\\\n",
       "\t\\hline\n",
       "\t& String & Float64\\\\\n",
       "\t\\hline\n",
       "\t1 & AAL & 9.75152e6 \\\\\n",
       "\t2 & AAPL & 4.51696e7 \\\\\n",
       "\t3 & AAP & 1.13731e6 \\\\\n",
       "\t4 & ABBV & 8.40884e6 \\\\\n",
       "\t5 & ABC & 2.02013e6 \\\\\n",
       "\t6 & ABT & 6.87753e6 \\\\\n",
       "\t7 & ACN & 2.48515e6 \\\\\n",
       "\t8 & ADBE & 2.86483e6 \\\\\n",
       "\t9 & ADI & 2.52162e6 \\\\\n",
       "\t10 & ADM & 3.5323e6 \\\\\n",
       "\t11 & ADP & 2.07593e6 \\\\\n",
       "\t12 & ADSK & 2.37463e6 \\\\\n",
       "\t13 & ADS & 628081.0 \\\\\n",
       "\t14 & AEE & 1.6226e6 \\\\\n",
       "\t15 & AEP & 2.65221e6 \\\\\n",
       "\t16 & AES & 5.48966e6 \\\\\n",
       "\t17 & AET & 2.65958e6 \\\\\n",
       "\t18 & AFL & 2.00046e6 \\\\\n",
       "\t19 & AGN & 3.21151e6 \\\\\n",
       "\t20 & AIG & 7.38753e6 \\\\\n",
       "\t21 & AIV & 1.21316e6 \\\\\n",
       "\t22 & AIZ & 526566.0 \\\\\n",
       "\t23 & AJG & 986975.0 \\\\\n",
       "\t24 & AKAM & 2.09981e6 \\\\\n",
       "\t25 & ALB & 1.23494e6 \\\\\n",
       "\t26 & ALGN & 881907.0 \\\\\n",
       "\t27 & ALK & 1.47018e6 \\\\\n",
       "\t28 & ALLE & 710361.0 \\\\\n",
       "\t29 & ALL & 2.28295e6 \\\\\n",
       "\t30 & ALXN & 1.83376e6 \\\\\n",
       "\t$\\dots$ & $\\dots$ & $\\dots$ \\\\\n",
       "\\end{tabular}\n"
      ],
      "text/plain": [
       "505×2 DataFrame\n",
       "│ Row │ Key    │ media     │\n",
       "│     │ \u001b[90mString\u001b[39m │ \u001b[90mFloat64\u001b[39m   │\n",
       "├─────┼────────┼───────────┤\n",
       "│ 1   │ AAL    │ 9.75152e6 │\n",
       "│ 2   │ AAPL   │ 4.51696e7 │\n",
       "│ 3   │ AAP    │ 1.13731e6 │\n",
       "│ 4   │ ABBV   │ 8.40884e6 │\n",
       "│ 5   │ ABC    │ 2.02013e6 │\n",
       "│ 6   │ ABT    │ 6.87753e6 │\n",
       "│ 7   │ ACN    │ 2.48515e6 │\n",
       "│ 8   │ ADBE   │ 2.86483e6 │\n",
       "│ 9   │ ADI    │ 2.52162e6 │\n",
       "│ 10  │ ADM    │ 3.5323e6  │\n",
       "⋮\n",
       "│ 495 │ CSRA   │ 1.27557e6 │\n",
       "│ 496 │ WLTW   │ 792991.0  │\n",
       "│ 497 │ UA     │ 3.24708e6 │\n",
       "│ 498 │ FTV    │ 1.5095e6  │\n",
       "│ 499 │ EVHC   │ 2.2515e6  │\n",
       "│ 500 │ HLT    │ 2.58803e6 │\n",
       "│ 501 │ DXC    │ 2.03884e6 │\n",
       "│ 502 │ BHGE   │ 3.86473e6 │\n",
       "│ 503 │ BHF    │ 1.04844e6 │\n",
       "│ 504 │ DWDP   │ 7.64596e6 │\n",
       "│ 505 │ APTV   │ 2.01704e6 │"
      ]
     },
     "execution_count": 173,
     "metadata": {},
     "output_type": "execute_result"
    }
   ],
   "source": [
    "# vamos fazer o grupo por symbol e calcular a média do volume\n",
    "sp500 |>\n",
    "    @groupby(_.symbol) |> \n",
    "    @map({Key=key(_),media=mean(_.volume)}) |>\n",
    "    DataFrame"
   ]
  },
  {
   "cell_type": "code",
   "execution_count": 176,
   "metadata": {},
   "outputs": [
    {
     "data": {
      "text/html": [
       "<table class=\"data-frame\"><thead><tr><th></th><th>symbol</th><th>media</th></tr><tr><th></th><th>String</th><th>Float64</th></tr></thead><tbody><p>505 rows × 2 columns</p><tr><th>1</th><td>BAC</td><td>8.93629e7</td></tr><tr><th>2</th><td>AAPL</td><td>4.51696e7</td></tr><tr><th>3</th><td>GE</td><td>4.14439e7</td></tr><tr><th>4</th><td>AMD</td><td>3.32895e7</td></tr><tr><th>5</th><td>F</td><td>3.29143e7</td></tr><tr><th>6</th><td>MSFT</td><td>3.07126e7</td></tr><tr><th>7</th><td>FB</td><td>2.92278e7</td></tr><tr><th>8</th><td>MU</td><td>2.79628e7</td></tr><tr><th>9</th><td>CHK</td><td>2.78854e7</td></tr><tr><th>10</th><td>INTC</td><td>2.71611e7</td></tr><tr><th>11</th><td>PFE</td><td>2.64197e7</td></tr><tr><th>12</th><td>CSCO</td><td>2.62508e7</td></tr><tr><th>13</th><td>FCX</td><td>2.56198e7</td></tr><tr><th>14</th><td>T</td><td>2.54766e7</td></tr><tr><th>15</th><td>CMCSA</td><td>2.46036e7</td></tr><tr><th>16</th><td>C</td><td>1.94852e7</td></tr><tr><th>17</th><td>WFC</td><td>1.81816e7</td></tr><tr><th>18</th><td>VZ</td><td>1.68153e7</td></tr><tr><th>19</th><td>RF</td><td>1.67457e7</td></tr><tr><th>20</th><td>JPM</td><td>1.568e7</td></tr><tr><th>21</th><td>KMI</td><td>1.53881e7</td></tr><tr><th>22</th><td>GM</td><td>1.4941e7</td></tr><tr><th>23</th><td>NFLX</td><td>1.43737e7</td></tr><tr><th>24</th><td>ORCL</td><td>1.43513e7</td></tr><tr><th>25</th><td>KO</td><td>1.36043e7</td></tr><tr><th>26</th><td>AMAT</td><td>1.33828e7</td></tr><tr><th>27</th><td>MRO</td><td>1.31291e7</td></tr><tr><th>28</th><td>HPQ</td><td>1.27351e7</td></tr><tr><th>29</th><td>XOM</td><td>1.22988e7</td></tr><tr><th>30</th><td>FOXA</td><td>1.2039e7</td></tr><tr><th>&vellip;</th><td>&vellip;</td><td>&vellip;</td></tr></tbody></table>"
      ],
      "text/latex": [
       "\\begin{tabular}{r|cc}\n",
       "\t& symbol & media\\\\\n",
       "\t\\hline\n",
       "\t& String & Float64\\\\\n",
       "\t\\hline\n",
       "\t1 & BAC & 8.93629e7 \\\\\n",
       "\t2 & AAPL & 4.51696e7 \\\\\n",
       "\t3 & GE & 4.14439e7 \\\\\n",
       "\t4 & AMD & 3.32895e7 \\\\\n",
       "\t5 & F & 3.29143e7 \\\\\n",
       "\t6 & MSFT & 3.07126e7 \\\\\n",
       "\t7 & FB & 2.92278e7 \\\\\n",
       "\t8 & MU & 2.79628e7 \\\\\n",
       "\t9 & CHK & 2.78854e7 \\\\\n",
       "\t10 & INTC & 2.71611e7 \\\\\n",
       "\t11 & PFE & 2.64197e7 \\\\\n",
       "\t12 & CSCO & 2.62508e7 \\\\\n",
       "\t13 & FCX & 2.56198e7 \\\\\n",
       "\t14 & T & 2.54766e7 \\\\\n",
       "\t15 & CMCSA & 2.46036e7 \\\\\n",
       "\t16 & C & 1.94852e7 \\\\\n",
       "\t17 & WFC & 1.81816e7 \\\\\n",
       "\t18 & VZ & 1.68153e7 \\\\\n",
       "\t19 & RF & 1.67457e7 \\\\\n",
       "\t20 & JPM & 1.568e7 \\\\\n",
       "\t21 & KMI & 1.53881e7 \\\\\n",
       "\t22 & GM & 1.4941e7 \\\\\n",
       "\t23 & NFLX & 1.43737e7 \\\\\n",
       "\t24 & ORCL & 1.43513e7 \\\\\n",
       "\t25 & KO & 1.36043e7 \\\\\n",
       "\t26 & AMAT & 1.33828e7 \\\\\n",
       "\t27 & MRO & 1.31291e7 \\\\\n",
       "\t28 & HPQ & 1.27351e7 \\\\\n",
       "\t29 & XOM & 1.22988e7 \\\\\n",
       "\t30 & FOXA & 1.2039e7 \\\\\n",
       "\t$\\dots$ & $\\dots$ & $\\dots$ \\\\\n",
       "\\end{tabular}\n"
      ],
      "text/plain": [
       "505×2 DataFrame\n",
       "│ Row │ symbol │ media     │\n",
       "│     │ \u001b[90mString\u001b[39m │ \u001b[90mFloat64\u001b[39m   │\n",
       "├─────┼────────┼───────────┤\n",
       "│ 1   │ BAC    │ 8.93629e7 │\n",
       "│ 2   │ AAPL   │ 4.51696e7 │\n",
       "│ 3   │ GE     │ 4.14439e7 │\n",
       "│ 4   │ AMD    │ 3.32895e7 │\n",
       "│ 5   │ F      │ 3.29143e7 │\n",
       "│ 6   │ MSFT   │ 3.07126e7 │\n",
       "│ 7   │ FB     │ 2.92278e7 │\n",
       "│ 8   │ MU     │ 2.79628e7 │\n",
       "│ 9   │ CHK    │ 2.78854e7 │\n",
       "│ 10  │ INTC   │ 2.71611e7 │\n",
       "⋮\n",
       "│ 495 │ AMG    │ 472021.0  │\n",
       "│ 496 │ ANSS   │ 466013.0  │\n",
       "│ 497 │ ROP    │ 464292.0  │\n",
       "│ 498 │ IT     │ 463316.0  │\n",
       "│ 499 │ SNA    │ 448825.0  │\n",
       "│ 500 │ FRT    │ 424500.0  │\n",
       "│ 501 │ ESS    │ 403200.0  │\n",
       "│ 502 │ RE     │ 338281.0  │\n",
       "│ 503 │ HII    │ 333141.0  │\n",
       "│ 504 │ AZO    │ 321177.0  │\n",
       "│ 505 │ MTD    │ 171920.0  │"
      ]
     },
     "execution_count": 176,
     "metadata": {},
     "output_type": "execute_result"
    }
   ],
   "source": [
    "# ordenando de forma crescente\n",
    "@pipe sp500 |>\n",
    "    groupby(_,:symbol) |>\n",
    "    combine(_,:volume=>mean=>:media) |>\n",
    "    sort(_,:media)\n",
    "\n",
    "# ordenando de forma decrescente\n",
    "@pipe sp500 |>\n",
    "    groupby(_,:symbol) |>\n",
    "    combine(_,:volume=>mean=>:media) |>\n",
    "    sort(_,:media, rev=true)"
   ]
  },
  {
   "cell_type": "code",
   "execution_count": 165,
   "metadata": {},
   "outputs": [
    {
     "data": {
      "text/html": [
       "<table class=\"data-frame\"><thead><tr><th></th><th>symbol</th><th>media</th></tr><tr><th></th><th>String</th><th>Float64</th></tr></thead><tbody><p>505 rows × 2 columns</p><tr><th>1</th><td>MTD</td><td>171920.0</td></tr><tr><th>2</th><td>AZO</td><td>321177.0</td></tr><tr><th>3</th><td>HII</td><td>333141.0</td></tr><tr><th>4</th><td>RE</td><td>338281.0</td></tr><tr><th>5</th><td>ESS</td><td>403200.0</td></tr><tr><th>6</th><td>FRT</td><td>424500.0</td></tr><tr><th>7</th><td>SNA</td><td>448825.0</td></tr><tr><th>8</th><td>IT</td><td>463316.0</td></tr><tr><th>9</th><td>ROP</td><td>464292.0</td></tr><tr><th>10</th><td>ANSS</td><td>466013.0</td></tr><tr><th>11</th><td>AMG</td><td>472021.0</td></tr><tr><th>12</th><td>IFF</td><td>473382.0</td></tr><tr><th>13</th><td>COO</td><td>480214.0</td></tr><tr><th>14</th><td>AYI</td><td>503365.0</td></tr><tr><th>15</th><td>WAT</td><td>510558.0</td></tr><tr><th>16</th><td>ARE</td><td>524500.0</td></tr><tr><th>17</th><td>AIZ</td><td>526566.0</td></tr><tr><th>18</th><td>TDG</td><td>537045.0</td></tr><tr><th>19</th><td>CINF</td><td>589876.0</td></tr><tr><th>20</th><td>TMK</td><td>598709.0</td></tr><tr><th>21</th><td>MAA</td><td>616156.0</td></tr><tr><th>22</th><td>BLK</td><td>620532.0</td></tr><tr><th>23</th><td>CTAS</td><td>623358.0</td></tr><tr><th>24</th><td>ADS</td><td>628081.0</td></tr><tr><th>25</th><td>PCLN</td><td>632928.0</td></tr><tr><th>26</th><td>MHK</td><td>650957.0</td></tr><tr><th>27</th><td>LLL</td><td>669579.0</td></tr><tr><th>28</th><td>GWW</td><td>675196.0</td></tr><tr><th>29</th><td>EQIX</td><td>687479.0</td></tr><tr><th>30</th><td>SHW</td><td>709485.0</td></tr><tr><th>&vellip;</th><td>&vellip;</td><td>&vellip;</td></tr></tbody></table>"
      ],
      "text/latex": [
       "\\begin{tabular}{r|cc}\n",
       "\t& symbol & media\\\\\n",
       "\t\\hline\n",
       "\t& String & Float64\\\\\n",
       "\t\\hline\n",
       "\t1 & MTD & 171920.0 \\\\\n",
       "\t2 & AZO & 321177.0 \\\\\n",
       "\t3 & HII & 333141.0 \\\\\n",
       "\t4 & RE & 338281.0 \\\\\n",
       "\t5 & ESS & 403200.0 \\\\\n",
       "\t6 & FRT & 424500.0 \\\\\n",
       "\t7 & SNA & 448825.0 \\\\\n",
       "\t8 & IT & 463316.0 \\\\\n",
       "\t9 & ROP & 464292.0 \\\\\n",
       "\t10 & ANSS & 466013.0 \\\\\n",
       "\t11 & AMG & 472021.0 \\\\\n",
       "\t12 & IFF & 473382.0 \\\\\n",
       "\t13 & COO & 480214.0 \\\\\n",
       "\t14 & AYI & 503365.0 \\\\\n",
       "\t15 & WAT & 510558.0 \\\\\n",
       "\t16 & ARE & 524500.0 \\\\\n",
       "\t17 & AIZ & 526566.0 \\\\\n",
       "\t18 & TDG & 537045.0 \\\\\n",
       "\t19 & CINF & 589876.0 \\\\\n",
       "\t20 & TMK & 598709.0 \\\\\n",
       "\t21 & MAA & 616156.0 \\\\\n",
       "\t22 & BLK & 620532.0 \\\\\n",
       "\t23 & CTAS & 623358.0 \\\\\n",
       "\t24 & ADS & 628081.0 \\\\\n",
       "\t25 & PCLN & 632928.0 \\\\\n",
       "\t26 & MHK & 650957.0 \\\\\n",
       "\t27 & LLL & 669579.0 \\\\\n",
       "\t28 & GWW & 675196.0 \\\\\n",
       "\t29 & EQIX & 687479.0 \\\\\n",
       "\t30 & SHW & 709485.0 \\\\\n",
       "\t$\\dots$ & $\\dots$ & $\\dots$ \\\\\n",
       "\\end{tabular}\n"
      ],
      "text/plain": [
       "505×2 DataFrame\n",
       "│ Row │ symbol │ media     │\n",
       "│     │ \u001b[90mString\u001b[39m │ \u001b[90mFloat64\u001b[39m   │\n",
       "├─────┼────────┼───────────┤\n",
       "│ 1   │ MTD    │ 171920.0  │\n",
       "│ 2   │ AZO    │ 321177.0  │\n",
       "│ 3   │ HII    │ 333141.0  │\n",
       "│ 4   │ RE     │ 338281.0  │\n",
       "│ 5   │ ESS    │ 403200.0  │\n",
       "│ 6   │ FRT    │ 424500.0  │\n",
       "│ 7   │ SNA    │ 448825.0  │\n",
       "│ 8   │ IT     │ 463316.0  │\n",
       "│ 9   │ ROP    │ 464292.0  │\n",
       "│ 10  │ ANSS   │ 466013.0  │\n",
       "⋮\n",
       "│ 495 │ PFE    │ 2.64197e7 │\n",
       "│ 496 │ INTC   │ 2.71611e7 │\n",
       "│ 497 │ CHK    │ 2.78854e7 │\n",
       "│ 498 │ MU     │ 2.79628e7 │\n",
       "│ 499 │ FB     │ 2.92278e7 │\n",
       "│ 500 │ MSFT   │ 3.07126e7 │\n",
       "│ 501 │ F      │ 3.29143e7 │\n",
       "│ 502 │ AMD    │ 3.32895e7 │\n",
       "│ 503 │ GE     │ 4.14439e7 │\n",
       "│ 504 │ AAPL   │ 4.51696e7 │\n",
       "│ 505 │ BAC    │ 8.93629e7 │"
      ]
     },
     "execution_count": 165,
     "metadata": {},
     "output_type": "execute_result"
    }
   ],
   "source": [
    "# ordenando de forma crescente\n",
    "sp500 |>\n",
    "    @groupby(_.symbol) |> \n",
    "    @map({symbol=key(_), media=mean(_.volume)}) |>\n",
    "    @orderby(_.media) |>\n",
    "    DataFrame\n",
    "\n",
    "# ordenando de forma decrescente\n",
    "sp500 |>\n",
    "    @groupby(_.symbol) |> \n",
    "    @map({symbol=key(_), media=mean(_.volume)}) |>\n",
    "    @orderby_descending(_.media) |>\n",
    "    DataFrame"
   ]
  },
  {
   "cell_type": "code",
   "execution_count": 180,
   "metadata": {},
   "outputs": [
    {
     "data": {
      "text/html": [
       "<table class=\"data-frame\"><thead><tr><th></th><th>symbol</th><th>media</th><th>desvio</th></tr><tr><th></th><th>String</th><th>Float64</th><th>Float64</th></tr></thead><tbody><p>505 rows × 3 columns</p><tr><th>1</th><td>AAL</td><td>42.4249</td><td>6.06325</td></tr><tr><th>2</th><td>AAPL</td><td>116.84</td><td>24.5473</td></tr><tr><th>3</th><td>AAP</td><td>143.187</td><td>24.6107</td></tr><tr><th>4</th><td>ABBV</td><td>63.3383</td><td>10.4973</td></tr><tr><th>5</th><td>ABC</td><td>87.0244</td><td>12.7378</td></tr><tr><th>6</th><td>ABT</td><td>44.0726</td><td>4.74224</td></tr><tr><th>7</th><td>ACN</td><td>105.222</td><td>19.1827</td></tr><tr><th>8</th><td>ADBE</td><td>97.3903</td><td>31.243</td></tr><tr><th>9</th><td>ADI</td><td>63.2604</td><td>12.1884</td></tr><tr><th>10</th><td>ADM</td><td>43.8507</td><td>4.47131</td></tr><tr><th>11</th><td>ADP</td><td>89.8061</td><td>11.0058</td></tr><tr><th>12</th><td>ADSK</td><td>68.5011</td><td>21.7498</td></tr><tr><th>13</th><td>ADS</td><td>250.675</td><td>30.7347</td></tr><tr><th>14</th><td>AEE</td><td>46.9724</td><td>7.21861</td></tr><tr><th>15</th><td>AEP</td><td>60.9348</td><td>7.41502</td></tr><tr><th>16</th><td>AES</td><td>12.2109</td><td>1.54281</td></tr><tr><th>17</th><td>AET</td><td>112.628</td><td>27.5401</td></tr><tr><th>18</th><td>AFL</td><td>67.2433</td><td>7.92733</td></tr><tr><th>19</th><td>AGN</td><td>244.739</td><td>40.3933</td></tr><tr><th>20</th><td>AIG</td><td>57.8392</td><td>4.74376</td></tr><tr><th>21</th><td>AIV</td><td>39.2763</td><td>5.04023</td></tr><tr><th>22</th><td>AIZ</td><td>79.9788</td><td>13.7369</td></tr><tr><th>23</th><td>AJG</td><td>49.2939</td><td>6.2198</td></tr><tr><th>24</th><td>AKAM</td><td>59.2211</td><td>8.48323</td></tr><tr><th>25</th><td>ALB</td><td>76.7459</td><td>25.5248</td></tr><tr><th>26</th><td>ALGN</td><td>88.4909</td><td>48.9933</td></tr><tr><th>27</th><td>ALK</td><td>68.4876</td><td>15.4433</td></tr><tr><th>28</th><td>ALLE</td><td>64.2949</td><td>10.4529</td></tr><tr><th>29</th><td>ALL</td><td>70.192</td><td>12.1612</td></tr><tr><th>30</th><td>ALXN</td><td>151.266</td><td>25.3902</td></tr><tr><th>&vellip;</th><td>&vellip;</td><td>&vellip;</td><td>&vellip;</td></tr></tbody></table>"
      ],
      "text/latex": [
       "\\begin{tabular}{r|ccc}\n",
       "\t& symbol & media & desvio\\\\\n",
       "\t\\hline\n",
       "\t& String & Float64 & Float64\\\\\n",
       "\t\\hline\n",
       "\t1 & AAL & 42.4249 & 6.06325 \\\\\n",
       "\t2 & AAPL & 116.84 & 24.5473 \\\\\n",
       "\t3 & AAP & 143.187 & 24.6107 \\\\\n",
       "\t4 & ABBV & 63.3383 & 10.4973 \\\\\n",
       "\t5 & ABC & 87.0244 & 12.7378 \\\\\n",
       "\t6 & ABT & 44.0726 & 4.74224 \\\\\n",
       "\t7 & ACN & 105.222 & 19.1827 \\\\\n",
       "\t8 & ADBE & 97.3903 & 31.243 \\\\\n",
       "\t9 & ADI & 63.2604 & 12.1884 \\\\\n",
       "\t10 & ADM & 43.8507 & 4.47131 \\\\\n",
       "\t11 & ADP & 89.8061 & 11.0058 \\\\\n",
       "\t12 & ADSK & 68.5011 & 21.7498 \\\\\n",
       "\t13 & ADS & 250.675 & 30.7347 \\\\\n",
       "\t14 & AEE & 46.9724 & 7.21861 \\\\\n",
       "\t15 & AEP & 60.9348 & 7.41502 \\\\\n",
       "\t16 & AES & 12.2109 & 1.54281 \\\\\n",
       "\t17 & AET & 112.628 & 27.5401 \\\\\n",
       "\t18 & AFL & 67.2433 & 7.92733 \\\\\n",
       "\t19 & AGN & 244.739 & 40.3933 \\\\\n",
       "\t20 & AIG & 57.8392 & 4.74376 \\\\\n",
       "\t21 & AIV & 39.2763 & 5.04023 \\\\\n",
       "\t22 & AIZ & 79.9788 & 13.7369 \\\\\n",
       "\t23 & AJG & 49.2939 & 6.2198 \\\\\n",
       "\t24 & AKAM & 59.2211 & 8.48323 \\\\\n",
       "\t25 & ALB & 76.7459 & 25.5248 \\\\\n",
       "\t26 & ALGN & 88.4909 & 48.9933 \\\\\n",
       "\t27 & ALK & 68.4876 & 15.4433 \\\\\n",
       "\t28 & ALLE & 64.2949 & 10.4529 \\\\\n",
       "\t29 & ALL & 70.192 & 12.1612 \\\\\n",
       "\t30 & ALXN & 151.266 & 25.3902 \\\\\n",
       "\t$\\dots$ & $\\dots$ & $\\dots$ & $\\dots$ \\\\\n",
       "\\end{tabular}\n"
      ],
      "text/plain": [
       "505×3 DataFrame\n",
       "│ Row │ symbol │ media   │ desvio  │\n",
       "│     │ \u001b[90mString\u001b[39m │ \u001b[90mFloat64\u001b[39m │ \u001b[90mFloat64\u001b[39m │\n",
       "├─────┼────────┼─────────┼─────────┤\n",
       "│ 1   │ AAL    │ 42.4249 │ 6.06325 │\n",
       "│ 2   │ AAPL   │ 116.84  │ 24.5473 │\n",
       "│ 3   │ AAP    │ 143.187 │ 24.6107 │\n",
       "│ 4   │ ABBV   │ 63.3383 │ 10.4973 │\n",
       "│ 5   │ ABC    │ 87.0244 │ 12.7378 │\n",
       "│ 6   │ ABT    │ 44.0726 │ 4.74224 │\n",
       "│ 7   │ ACN    │ 105.222 │ 19.1827 │\n",
       "│ 8   │ ADBE   │ 97.3903 │ 31.243  │\n",
       "│ 9   │ ADI    │ 63.2604 │ 12.1884 │\n",
       "│ 10  │ ADM    │ 43.8507 │ 4.47131 │\n",
       "⋮\n",
       "│ 495 │ CSRA   │ 28.7223 │ 2.88101 │\n",
       "│ 496 │ WLTW   │ 132.79  │ 14.4033 │\n",
       "│ 497 │ UA     │ 24.3407 │ 9.17689 │\n",
       "│ 498 │ FTV    │ 60.1965 │ 7.89642 │\n",
       "│ 499 │ EVHC   │ 54.2177 │ 12.6895 │\n",
       "│ 500 │ HLT    │ 64.5173 │ 6.6368  │\n",
       "│ 501 │ DXC    │ 84.0237 │ 7.57682 │\n",
       "│ 502 │ BHGE   │ 33.9623 │ 3.23644 │\n",
       "│ 503 │ BHF    │ 59.5476 │ 3.85972 │\n",
       "│ 504 │ DWDP   │ 70.4711 │ 1.67891 │\n",
       "│ 505 │ APTV   │ 85.1    │ 1.19473 │"
      ]
     },
     "execution_count": 180,
     "metadata": {},
     "output_type": "execute_result"
    }
   ],
   "source": [
    "@pipe sp500 |>\n",
    "    groupby(_,:symbol) |>\n",
    "    combine(_,:close=>mean,\n",
    "              :close=>std)\n",
    "\n",
    "@pipe sp500 |>\n",
    "    groupby(_,:symbol) |>\n",
    "    combine(_,:close=>mean=>:media,\n",
    "              :close=>std=>:desvio)"
   ]
  },
  {
   "cell_type": "code",
   "execution_count": 183,
   "metadata": {},
   "outputs": [
    {
     "data": {
      "text/html": [
       "<table class=\"data-frame\"><thead><tr><th></th><th>Key</th><th>mean</th><th>std</th></tr><tr><th></th><th>String</th><th>Float64</th><th>Float64</th></tr></thead><tbody><p>505 rows × 3 columns</p><tr><th>1</th><td>AAL</td><td>42.4249</td><td>6.06325</td></tr><tr><th>2</th><td>AAPL</td><td>116.84</td><td>24.5473</td></tr><tr><th>3</th><td>AAP</td><td>143.187</td><td>24.6107</td></tr><tr><th>4</th><td>ABBV</td><td>63.3383</td><td>10.4973</td></tr><tr><th>5</th><td>ABC</td><td>87.0244</td><td>12.7378</td></tr><tr><th>6</th><td>ABT</td><td>44.0726</td><td>4.74224</td></tr><tr><th>7</th><td>ACN</td><td>105.222</td><td>19.1827</td></tr><tr><th>8</th><td>ADBE</td><td>97.3903</td><td>31.243</td></tr><tr><th>9</th><td>ADI</td><td>63.2604</td><td>12.1884</td></tr><tr><th>10</th><td>ADM</td><td>43.8507</td><td>4.47131</td></tr><tr><th>11</th><td>ADP</td><td>89.8061</td><td>11.0058</td></tr><tr><th>12</th><td>ADSK</td><td>68.5011</td><td>21.7498</td></tr><tr><th>13</th><td>ADS</td><td>250.675</td><td>30.7347</td></tr><tr><th>14</th><td>AEE</td><td>46.9724</td><td>7.21861</td></tr><tr><th>15</th><td>AEP</td><td>60.9348</td><td>7.41502</td></tr><tr><th>16</th><td>AES</td><td>12.2109</td><td>1.54281</td></tr><tr><th>17</th><td>AET</td><td>112.628</td><td>27.5401</td></tr><tr><th>18</th><td>AFL</td><td>67.2433</td><td>7.92733</td></tr><tr><th>19</th><td>AGN</td><td>244.739</td><td>40.3933</td></tr><tr><th>20</th><td>AIG</td><td>57.8392</td><td>4.74376</td></tr><tr><th>21</th><td>AIV</td><td>39.2763</td><td>5.04023</td></tr><tr><th>22</th><td>AIZ</td><td>79.9788</td><td>13.7369</td></tr><tr><th>23</th><td>AJG</td><td>49.2939</td><td>6.2198</td></tr><tr><th>24</th><td>AKAM</td><td>59.2211</td><td>8.48323</td></tr><tr><th>25</th><td>ALB</td><td>76.7459</td><td>25.5248</td></tr><tr><th>26</th><td>ALGN</td><td>88.4909</td><td>48.9933</td></tr><tr><th>27</th><td>ALK</td><td>68.4876</td><td>15.4433</td></tr><tr><th>28</th><td>ALLE</td><td>64.2949</td><td>10.4529</td></tr><tr><th>29</th><td>ALL</td><td>70.192</td><td>12.1612</td></tr><tr><th>30</th><td>ALXN</td><td>151.266</td><td>25.3902</td></tr><tr><th>&vellip;</th><td>&vellip;</td><td>&vellip;</td><td>&vellip;</td></tr></tbody></table>"
      ],
      "text/latex": [
       "\\begin{tabular}{r|ccc}\n",
       "\t& Key & mean & std\\\\\n",
       "\t\\hline\n",
       "\t& String & Float64 & Float64\\\\\n",
       "\t\\hline\n",
       "\t1 & AAL & 42.4249 & 6.06325 \\\\\n",
       "\t2 & AAPL & 116.84 & 24.5473 \\\\\n",
       "\t3 & AAP & 143.187 & 24.6107 \\\\\n",
       "\t4 & ABBV & 63.3383 & 10.4973 \\\\\n",
       "\t5 & ABC & 87.0244 & 12.7378 \\\\\n",
       "\t6 & ABT & 44.0726 & 4.74224 \\\\\n",
       "\t7 & ACN & 105.222 & 19.1827 \\\\\n",
       "\t8 & ADBE & 97.3903 & 31.243 \\\\\n",
       "\t9 & ADI & 63.2604 & 12.1884 \\\\\n",
       "\t10 & ADM & 43.8507 & 4.47131 \\\\\n",
       "\t11 & ADP & 89.8061 & 11.0058 \\\\\n",
       "\t12 & ADSK & 68.5011 & 21.7498 \\\\\n",
       "\t13 & ADS & 250.675 & 30.7347 \\\\\n",
       "\t14 & AEE & 46.9724 & 7.21861 \\\\\n",
       "\t15 & AEP & 60.9348 & 7.41502 \\\\\n",
       "\t16 & AES & 12.2109 & 1.54281 \\\\\n",
       "\t17 & AET & 112.628 & 27.5401 \\\\\n",
       "\t18 & AFL & 67.2433 & 7.92733 \\\\\n",
       "\t19 & AGN & 244.739 & 40.3933 \\\\\n",
       "\t20 & AIG & 57.8392 & 4.74376 \\\\\n",
       "\t21 & AIV & 39.2763 & 5.04023 \\\\\n",
       "\t22 & AIZ & 79.9788 & 13.7369 \\\\\n",
       "\t23 & AJG & 49.2939 & 6.2198 \\\\\n",
       "\t24 & AKAM & 59.2211 & 8.48323 \\\\\n",
       "\t25 & ALB & 76.7459 & 25.5248 \\\\\n",
       "\t26 & ALGN & 88.4909 & 48.9933 \\\\\n",
       "\t27 & ALK & 68.4876 & 15.4433 \\\\\n",
       "\t28 & ALLE & 64.2949 & 10.4529 \\\\\n",
       "\t29 & ALL & 70.192 & 12.1612 \\\\\n",
       "\t30 & ALXN & 151.266 & 25.3902 \\\\\n",
       "\t$\\dots$ & $\\dots$ & $\\dots$ & $\\dots$ \\\\\n",
       "\\end{tabular}\n"
      ],
      "text/plain": [
       "505×3 DataFrame\n",
       "│ Row │ Key    │ mean    │ std     │\n",
       "│     │ \u001b[90mString\u001b[39m │ \u001b[90mFloat64\u001b[39m │ \u001b[90mFloat64\u001b[39m │\n",
       "├─────┼────────┼─────────┼─────────┤\n",
       "│ 1   │ AAL    │ 42.4249 │ 6.06325 │\n",
       "│ 2   │ AAPL   │ 116.84  │ 24.5473 │\n",
       "│ 3   │ AAP    │ 143.187 │ 24.6107 │\n",
       "│ 4   │ ABBV   │ 63.3383 │ 10.4973 │\n",
       "│ 5   │ ABC    │ 87.0244 │ 12.7378 │\n",
       "│ 6   │ ABT    │ 44.0726 │ 4.74224 │\n",
       "│ 7   │ ACN    │ 105.222 │ 19.1827 │\n",
       "│ 8   │ ADBE   │ 97.3903 │ 31.243  │\n",
       "│ 9   │ ADI    │ 63.2604 │ 12.1884 │\n",
       "│ 10  │ ADM    │ 43.8507 │ 4.47131 │\n",
       "⋮\n",
       "│ 495 │ CSRA   │ 28.7223 │ 2.88101 │\n",
       "│ 496 │ WLTW   │ 132.79  │ 14.4033 │\n",
       "│ 497 │ UA     │ 24.3407 │ 9.17689 │\n",
       "│ 498 │ FTV    │ 60.1965 │ 7.89642 │\n",
       "│ 499 │ EVHC   │ 54.2177 │ 12.6895 │\n",
       "│ 500 │ HLT    │ 64.5173 │ 6.6368  │\n",
       "│ 501 │ DXC    │ 84.0237 │ 7.57682 │\n",
       "│ 502 │ BHGE   │ 33.9623 │ 3.23644 │\n",
       "│ 503 │ BHF    │ 59.5476 │ 3.85972 │\n",
       "│ 504 │ DWDP   │ 70.4711 │ 1.67891 │\n",
       "│ 505 │ APTV   │ 85.1    │ 1.19473 │"
      ]
     },
     "execution_count": 183,
     "metadata": {},
     "output_type": "execute_result"
    }
   ],
   "source": [
    "estatisticas = sp500 |>\n",
    "    @groupby(_.symbol) |> \n",
    "    @map({Key=key(_), \n",
    "          mean=mean(_.close), \n",
    "          std=std(_.close)}) |>\n",
    "    DataFrame "
   ]
  },
  {
   "cell_type": "markdown",
   "metadata": {},
   "source": [
    "## 6. Renomear colunas"
   ]
  },
  {
   "cell_type": "code",
   "execution_count": 165,
   "metadata": {},
   "outputs": [
    {
     "data": {
      "text/html": [
       "<table class=\"data-frame\"><thead><tr><th></th><th>ticker</th><th>media</th><th>desvio</th></tr><tr><th></th><th>String</th><th>Float64</th><th>Float64</th></tr></thead><tbody><p>505 rows × 3 columns</p><tr><th>1</th><td>AAL</td><td>42.4249</td><td>6.06325</td></tr><tr><th>2</th><td>AAPL</td><td>116.84</td><td>24.5473</td></tr><tr><th>3</th><td>AAP</td><td>143.187</td><td>24.6107</td></tr><tr><th>4</th><td>ABBV</td><td>63.3383</td><td>10.4973</td></tr><tr><th>5</th><td>ABC</td><td>87.0244</td><td>12.7378</td></tr><tr><th>6</th><td>ABT</td><td>44.0726</td><td>4.74224</td></tr><tr><th>7</th><td>ACN</td><td>105.222</td><td>19.1827</td></tr><tr><th>8</th><td>ADBE</td><td>97.3903</td><td>31.243</td></tr><tr><th>9</th><td>ADI</td><td>63.2604</td><td>12.1884</td></tr><tr><th>10</th><td>ADM</td><td>43.8507</td><td>4.47131</td></tr><tr><th>11</th><td>ADP</td><td>89.8061</td><td>11.0058</td></tr><tr><th>12</th><td>ADSK</td><td>68.5011</td><td>21.7498</td></tr><tr><th>13</th><td>ADS</td><td>250.675</td><td>30.7347</td></tr><tr><th>14</th><td>AEE</td><td>46.9724</td><td>7.21861</td></tr><tr><th>15</th><td>AEP</td><td>60.9348</td><td>7.41502</td></tr><tr><th>16</th><td>AES</td><td>12.2109</td><td>1.54281</td></tr><tr><th>17</th><td>AET</td><td>112.628</td><td>27.5401</td></tr><tr><th>18</th><td>AFL</td><td>67.2433</td><td>7.92733</td></tr><tr><th>19</th><td>AGN</td><td>244.739</td><td>40.3933</td></tr><tr><th>20</th><td>AIG</td><td>57.8392</td><td>4.74376</td></tr><tr><th>21</th><td>AIV</td><td>39.2763</td><td>5.04023</td></tr><tr><th>22</th><td>AIZ</td><td>79.9788</td><td>13.7369</td></tr><tr><th>23</th><td>AJG</td><td>49.2939</td><td>6.2198</td></tr><tr><th>24</th><td>AKAM</td><td>59.2211</td><td>8.48323</td></tr><tr><th>25</th><td>ALB</td><td>76.7459</td><td>25.5248</td></tr><tr><th>26</th><td>ALGN</td><td>88.4909</td><td>48.9933</td></tr><tr><th>27</th><td>ALK</td><td>68.4876</td><td>15.4433</td></tr><tr><th>28</th><td>ALLE</td><td>64.2949</td><td>10.4529</td></tr><tr><th>29</th><td>ALL</td><td>70.192</td><td>12.1612</td></tr><tr><th>30</th><td>ALXN</td><td>151.266</td><td>25.3902</td></tr><tr><th>&vellip;</th><td>&vellip;</td><td>&vellip;</td><td>&vellip;</td></tr></tbody></table>"
      ],
      "text/latex": [
       "\\begin{tabular}{r|ccc}\n",
       "\t& ticker & media & desvio\\\\\n",
       "\t\\hline\n",
       "\t& String & Float64 & Float64\\\\\n",
       "\t\\hline\n",
       "\t1 & AAL & 42.4249 & 6.06325 \\\\\n",
       "\t2 & AAPL & 116.84 & 24.5473 \\\\\n",
       "\t3 & AAP & 143.187 & 24.6107 \\\\\n",
       "\t4 & ABBV & 63.3383 & 10.4973 \\\\\n",
       "\t5 & ABC & 87.0244 & 12.7378 \\\\\n",
       "\t6 & ABT & 44.0726 & 4.74224 \\\\\n",
       "\t7 & ACN & 105.222 & 19.1827 \\\\\n",
       "\t8 & ADBE & 97.3903 & 31.243 \\\\\n",
       "\t9 & ADI & 63.2604 & 12.1884 \\\\\n",
       "\t10 & ADM & 43.8507 & 4.47131 \\\\\n",
       "\t11 & ADP & 89.8061 & 11.0058 \\\\\n",
       "\t12 & ADSK & 68.5011 & 21.7498 \\\\\n",
       "\t13 & ADS & 250.675 & 30.7347 \\\\\n",
       "\t14 & AEE & 46.9724 & 7.21861 \\\\\n",
       "\t15 & AEP & 60.9348 & 7.41502 \\\\\n",
       "\t16 & AES & 12.2109 & 1.54281 \\\\\n",
       "\t17 & AET & 112.628 & 27.5401 \\\\\n",
       "\t18 & AFL & 67.2433 & 7.92733 \\\\\n",
       "\t19 & AGN & 244.739 & 40.3933 \\\\\n",
       "\t20 & AIG & 57.8392 & 4.74376 \\\\\n",
       "\t21 & AIV & 39.2763 & 5.04023 \\\\\n",
       "\t22 & AIZ & 79.9788 & 13.7369 \\\\\n",
       "\t23 & AJG & 49.2939 & 6.2198 \\\\\n",
       "\t24 & AKAM & 59.2211 & 8.48323 \\\\\n",
       "\t25 & ALB & 76.7459 & 25.5248 \\\\\n",
       "\t26 & ALGN & 88.4909 & 48.9933 \\\\\n",
       "\t27 & ALK & 68.4876 & 15.4433 \\\\\n",
       "\t28 & ALLE & 64.2949 & 10.4529 \\\\\n",
       "\t29 & ALL & 70.192 & 12.1612 \\\\\n",
       "\t30 & ALXN & 151.266 & 25.3902 \\\\\n",
       "\t$\\dots$ & $\\dots$ & $\\dots$ & $\\dots$ \\\\\n",
       "\\end{tabular}\n"
      ],
      "text/plain": [
       "505×3 DataFrame\n",
       "│ Row │ ticker │ media   │ desvio  │\n",
       "│     │ \u001b[90mString\u001b[39m │ \u001b[90mFloat64\u001b[39m │ \u001b[90mFloat64\u001b[39m │\n",
       "├─────┼────────┼─────────┼─────────┤\n",
       "│ 1   │ AAL    │ 42.4249 │ 6.06325 │\n",
       "│ 2   │ AAPL   │ 116.84  │ 24.5473 │\n",
       "│ 3   │ AAP    │ 143.187 │ 24.6107 │\n",
       "│ 4   │ ABBV   │ 63.3383 │ 10.4973 │\n",
       "│ 5   │ ABC    │ 87.0244 │ 12.7378 │\n",
       "│ 6   │ ABT    │ 44.0726 │ 4.74224 │\n",
       "│ 7   │ ACN    │ 105.222 │ 19.1827 │\n",
       "│ 8   │ ADBE   │ 97.3903 │ 31.243  │\n",
       "│ 9   │ ADI    │ 63.2604 │ 12.1884 │\n",
       "│ 10  │ ADM    │ 43.8507 │ 4.47131 │\n",
       "⋮\n",
       "│ 495 │ CSRA   │ 28.7223 │ 2.88101 │\n",
       "│ 496 │ WLTW   │ 132.79  │ 14.4033 │\n",
       "│ 497 │ UA     │ 24.3407 │ 9.17689 │\n",
       "│ 498 │ FTV    │ 60.1965 │ 7.89642 │\n",
       "│ 499 │ EVHC   │ 54.2177 │ 12.6895 │\n",
       "│ 500 │ HLT    │ 64.5173 │ 6.6368  │\n",
       "│ 501 │ DXC    │ 84.0237 │ 7.57682 │\n",
       "│ 502 │ BHGE   │ 33.9623 │ 3.23644 │\n",
       "│ 503 │ BHF    │ 59.5476 │ 3.85972 │\n",
       "│ 504 │ DWDP   │ 70.4711 │ 1.67891 │\n",
       "│ 505 │ APTV   │ 85.1    │ 1.19473 │"
      ]
     },
     "execution_count": 165,
     "metadata": {},
     "output_type": "execute_result"
    }
   ],
   "source": [
    "estatisticas |>\n",
    "    @rename(:Key => :ticker, \n",
    "            :mean => :media, \n",
    "            :std => :desvio) |>\n",
    "    DataFrame"
   ]
  },
  {
   "cell_type": "markdown",
   "metadata": {},
   "source": [
    "## 7. Dados faltantes"
   ]
  },
  {
   "cell_type": "code",
   "execution_count": 101,
   "metadata": {},
   "outputs": [
    {
     "data": {
      "text/html": [
       "<table class=\"data-frame\"><thead><tr><th></th><th>symbol</th><th>date</th><th>open</th><th>high</th><th>low</th><th>close</th><th>volume</th></tr><tr><th></th><th>Int64</th><th>Int64</th><th>Int64</th><th>Int64</th><th>Int64</th><th>Int64</th><th>Int64</th></tr></thead><tbody><p>1 rows × 7 columns</p><tr><th>1</th><td>0</td><td>0</td><td>11</td><td>8</td><td>8</td><td>0</td><td>0</td></tr></tbody></table>"
      ],
      "text/latex": [
       "\\begin{tabular}{r|ccccccc}\n",
       "\t& symbol & date & open & high & low & close & volume\\\\\n",
       "\t\\hline\n",
       "\t& Int64 & Int64 & Int64 & Int64 & Int64 & Int64 & Int64\\\\\n",
       "\t\\hline\n",
       "\t1 & 0 & 0 & 11 & 8 & 8 & 0 & 0 \\\\\n",
       "\\end{tabular}\n"
      ],
      "text/plain": [
       "1×7 DataFrame\n",
       "│ Row │ symbol │ date  │ open  │ high  │ low   │ close │ volume │\n",
       "│     │ \u001b[90mInt64\u001b[39m  │ \u001b[90mInt64\u001b[39m │ \u001b[90mInt64\u001b[39m │ \u001b[90mInt64\u001b[39m │ \u001b[90mInt64\u001b[39m │ \u001b[90mInt64\u001b[39m │ \u001b[90mInt64\u001b[39m  │\n",
       "├─────┼────────┼───────┼───────┼───────┼───────┼───────┼────────┤\n",
       "│ 1   │ 0      │ 0     │ 11    │ 8     │ 8     │ 0     │ 0      │"
      ]
     },
     "execution_count": 101,
     "metadata": {},
     "output_type": "execute_result"
    }
   ],
   "source": [
    "# função ismissing retorna bool\n",
    "# somar a quantidade de dados faltantes para cada coluna\n",
    "sum_ismiss(df) = sum(ismissing.(df))\n",
    "[sum_ismiss(col) for col = eachcol(sp500)]\n",
    "\n",
    "# usando mapcols\n",
    "mapcols(sum_ismiss, sp500)"
   ]
  },
  {
   "cell_type": "code",
   "execution_count": 102,
   "metadata": {},
   "outputs": [
    {
     "data": {
      "text/html": [
       "<table class=\"data-frame\"><thead><tr><th></th><th>symbol</th><th>date</th><th>open</th><th>high</th><th>low</th><th>close</th><th>volume</th></tr><tr><th></th><th>String</th><th>Date…</th><th>Float64</th><th>Float64</th><th>Float64</th><th>Float64</th><th>Int64</th></tr></thead><tbody><p>497,461 rows × 7 columns</p><tr><th>1</th><td>AAL</td><td>2014-01-02</td><td>25.07</td><td>25.82</td><td>25.06</td><td>25.36</td><td>8998943</td></tr><tr><th>2</th><td>AAPL</td><td>2014-01-02</td><td>79.3828</td><td>79.5756</td><td>78.8601</td><td>79.0185</td><td>58791957</td></tr><tr><th>3</th><td>AAP</td><td>2014-01-02</td><td>110.36</td><td>111.88</td><td>109.29</td><td>109.74</td><td>542711</td></tr><tr><th>4</th><td>ABBV</td><td>2014-01-02</td><td>52.12</td><td>52.33</td><td>51.52</td><td>51.98</td><td>4569061</td></tr><tr><th>5</th><td>ABC</td><td>2014-01-02</td><td>70.11</td><td>70.23</td><td>69.48</td><td>69.89</td><td>1148391</td></tr><tr><th>6</th><td>ABT</td><td>2014-01-02</td><td>38.09</td><td>38.4</td><td>38.0</td><td>38.23</td><td>4967472</td></tr><tr><th>7</th><td>ACN</td><td>2014-01-02</td><td>81.5</td><td>81.92</td><td>81.09</td><td>81.13</td><td>2405384</td></tr><tr><th>8</th><td>ADBE</td><td>2014-01-02</td><td>59.06</td><td>59.53</td><td>58.94</td><td>59.29</td><td>2746370</td></tr><tr><th>9</th><td>ADI</td><td>2014-01-02</td><td>49.52</td><td>49.75</td><td>49.04</td><td>49.28</td><td>2799092</td></tr><tr><th>10</th><td>ADM</td><td>2014-01-02</td><td>43.22</td><td>43.29</td><td>42.79</td><td>42.99</td><td>2753765</td></tr><tr><th>11</th><td>ADP</td><td>2014-01-02</td><td>80.17</td><td>80.45</td><td>79.38</td><td>79.86</td><td>1965869</td></tr><tr><th>12</th><td>ADSK</td><td>2014-01-02</td><td>49.33</td><td>49.74</td><td>48.88</td><td>49.25</td><td>2488043</td></tr><tr><th>13</th><td>ADS</td><td>2014-01-02</td><td>262.44</td><td>262.68</td><td>258.78</td><td>262.34</td><td>547808</td></tr><tr><th>14</th><td>AEE</td><td>2014-01-02</td><td>36.05</td><td>36.11</td><td>35.47</td><td>35.53</td><td>1394264</td></tr><tr><th>15</th><td>AEP</td><td>2014-01-02</td><td>46.98</td><td>47.06</td><td>46.04</td><td>46.13</td><td>2752002</td></tr><tr><th>16</th><td>AES</td><td>2014-01-02</td><td>14.51</td><td>14.56</td><td>14.19</td><td>14.27</td><td>3987216</td></tr><tr><th>17</th><td>AET</td><td>2014-01-02</td><td>68.21</td><td>68.6</td><td>67.52</td><td>67.56</td><td>1650687</td></tr><tr><th>18</th><td>AFL</td><td>2014-01-02</td><td>66.63</td><td>66.694</td><td>65.81</td><td>65.96</td><td>1914657</td></tr><tr><th>19</th><td>AGN</td><td>2014-01-02</td><td>167.33</td><td>170.71</td><td>166.594</td><td>168.05</td><td>1268722</td></tr><tr><th>20</th><td>AIG</td><td>2014-01-02</td><td>50.81</td><td>51.3</td><td>50.47</td><td>50.71</td><td>9198092</td></tr><tr><th>21</th><td>AIV</td><td>2014-01-02</td><td>25.9</td><td>26.14</td><td>25.66</td><td>25.91</td><td>844901</td></tr><tr><th>22</th><td>AIZ</td><td>2014-01-02</td><td>66.04</td><td>66.19</td><td>65.15</td><td>65.32</td><td>375524</td></tr><tr><th>23</th><td>AJG</td><td>2014-01-02</td><td>46.67</td><td>46.89</td><td>46.09</td><td>46.15</td><td>483694</td></tr><tr><th>24</th><td>AKAM</td><td>2014-01-02</td><td>47.11</td><td>47.1799</td><td>46.42</td><td>46.53</td><td>935107</td></tr><tr><th>25</th><td>ALB</td><td>2014-01-02</td><td>63.38</td><td>63.6</td><td>62.6</td><td>63.14</td><td>548782</td></tr><tr><th>26</th><td>ALGN</td><td>2014-01-02</td><td>57.06</td><td>57.37</td><td>56.43</td><td>56.96</td><td>437600</td></tr><tr><th>27</th><td>ALK</td><td>2014-01-02</td><td>36.665</td><td>36.965</td><td>36.275</td><td>36.59</td><td>900234</td></tr><tr><th>28</th><td>ALLE</td><td>2014-01-02</td><td>44.08</td><td>44.18</td><td>43.27</td><td>43.65</td><td>992872</td></tr><tr><th>29</th><td>ALL</td><td>2014-01-02</td><td>54.09</td><td>54.45</td><td>53.5</td><td>53.55</td><td>1909106</td></tr><tr><th>30</th><td>ALXN</td><td>2014-01-02</td><td>132.46</td><td>133.82</td><td>130.54</td><td>133.44</td><td>760197</td></tr><tr><th>&vellip;</th><td>&vellip;</td><td>&vellip;</td><td>&vellip;</td><td>&vellip;</td><td>&vellip;</td><td>&vellip;</td><td>&vellip;</td></tr></tbody></table>"
      ],
      "text/latex": [
       "\\begin{tabular}{r|ccccccc}\n",
       "\t& symbol & date & open & high & low & close & volume\\\\\n",
       "\t\\hline\n",
       "\t& String & Date… & Float64 & Float64 & Float64 & Float64 & Int64\\\\\n",
       "\t\\hline\n",
       "\t1 & AAL & 2014-01-02 & 25.07 & 25.82 & 25.06 & 25.36 & 8998943 \\\\\n",
       "\t2 & AAPL & 2014-01-02 & 79.3828 & 79.5756 & 78.8601 & 79.0185 & 58791957 \\\\\n",
       "\t3 & AAP & 2014-01-02 & 110.36 & 111.88 & 109.29 & 109.74 & 542711 \\\\\n",
       "\t4 & ABBV & 2014-01-02 & 52.12 & 52.33 & 51.52 & 51.98 & 4569061 \\\\\n",
       "\t5 & ABC & 2014-01-02 & 70.11 & 70.23 & 69.48 & 69.89 & 1148391 \\\\\n",
       "\t6 & ABT & 2014-01-02 & 38.09 & 38.4 & 38.0 & 38.23 & 4967472 \\\\\n",
       "\t7 & ACN & 2014-01-02 & 81.5 & 81.92 & 81.09 & 81.13 & 2405384 \\\\\n",
       "\t8 & ADBE & 2014-01-02 & 59.06 & 59.53 & 58.94 & 59.29 & 2746370 \\\\\n",
       "\t9 & ADI & 2014-01-02 & 49.52 & 49.75 & 49.04 & 49.28 & 2799092 \\\\\n",
       "\t10 & ADM & 2014-01-02 & 43.22 & 43.29 & 42.79 & 42.99 & 2753765 \\\\\n",
       "\t11 & ADP & 2014-01-02 & 80.17 & 80.45 & 79.38 & 79.86 & 1965869 \\\\\n",
       "\t12 & ADSK & 2014-01-02 & 49.33 & 49.74 & 48.88 & 49.25 & 2488043 \\\\\n",
       "\t13 & ADS & 2014-01-02 & 262.44 & 262.68 & 258.78 & 262.34 & 547808 \\\\\n",
       "\t14 & AEE & 2014-01-02 & 36.05 & 36.11 & 35.47 & 35.53 & 1394264 \\\\\n",
       "\t15 & AEP & 2014-01-02 & 46.98 & 47.06 & 46.04 & 46.13 & 2752002 \\\\\n",
       "\t16 & AES & 2014-01-02 & 14.51 & 14.56 & 14.19 & 14.27 & 3987216 \\\\\n",
       "\t17 & AET & 2014-01-02 & 68.21 & 68.6 & 67.52 & 67.56 & 1650687 \\\\\n",
       "\t18 & AFL & 2014-01-02 & 66.63 & 66.694 & 65.81 & 65.96 & 1914657 \\\\\n",
       "\t19 & AGN & 2014-01-02 & 167.33 & 170.71 & 166.594 & 168.05 & 1268722 \\\\\n",
       "\t20 & AIG & 2014-01-02 & 50.81 & 51.3 & 50.47 & 50.71 & 9198092 \\\\\n",
       "\t21 & AIV & 2014-01-02 & 25.9 & 26.14 & 25.66 & 25.91 & 844901 \\\\\n",
       "\t22 & AIZ & 2014-01-02 & 66.04 & 66.19 & 65.15 & 65.32 & 375524 \\\\\n",
       "\t23 & AJG & 2014-01-02 & 46.67 & 46.89 & 46.09 & 46.15 & 483694 \\\\\n",
       "\t24 & AKAM & 2014-01-02 & 47.11 & 47.1799 & 46.42 & 46.53 & 935107 \\\\\n",
       "\t25 & ALB & 2014-01-02 & 63.38 & 63.6 & 62.6 & 63.14 & 548782 \\\\\n",
       "\t26 & ALGN & 2014-01-02 & 57.06 & 57.37 & 56.43 & 56.96 & 437600 \\\\\n",
       "\t27 & ALK & 2014-01-02 & 36.665 & 36.965 & 36.275 & 36.59 & 900234 \\\\\n",
       "\t28 & ALLE & 2014-01-02 & 44.08 & 44.18 & 43.27 & 43.65 & 992872 \\\\\n",
       "\t29 & ALL & 2014-01-02 & 54.09 & 54.45 & 53.5 & 53.55 & 1909106 \\\\\n",
       "\t30 & ALXN & 2014-01-02 & 132.46 & 133.82 & 130.54 & 133.44 & 760197 \\\\\n",
       "\t$\\dots$ & $\\dots$ & $\\dots$ & $\\dots$ & $\\dots$ & $\\dots$ & $\\dots$ & $\\dots$ \\\\\n",
       "\\end{tabular}\n"
      ],
      "text/plain": [
       "497461×7 DataFrame. Omitted printing of 1 columns\n",
       "│ Row    │ symbol │ date       │ open    │ high    │ low     │ close   │\n",
       "│        │ \u001b[90mString\u001b[39m │ \u001b[90mDates.Date\u001b[39m │ \u001b[90mFloat64\u001b[39m │ \u001b[90mFloat64\u001b[39m │ \u001b[90mFloat64\u001b[39m │ \u001b[90mFloat64\u001b[39m │\n",
       "├────────┼────────┼────────────┼─────────┼─────────┼─────────┼─────────┤\n",
       "│ 1      │ AAL    │ 2014-01-02 │ 25.07   │ 25.82   │ 25.06   │ 25.36   │\n",
       "│ 2      │ AAPL   │ 2014-01-02 │ 79.3828 │ 79.5756 │ 78.8601 │ 79.0185 │\n",
       "│ 3      │ AAP    │ 2014-01-02 │ 110.36  │ 111.88  │ 109.29  │ 109.74  │\n",
       "│ 4      │ ABBV   │ 2014-01-02 │ 52.12   │ 52.33   │ 51.52   │ 51.98   │\n",
       "│ 5      │ ABC    │ 2014-01-02 │ 70.11   │ 70.23   │ 69.48   │ 69.89   │\n",
       "│ 6      │ ABT    │ 2014-01-02 │ 38.09   │ 38.4    │ 38.0    │ 38.23   │\n",
       "│ 7      │ ACN    │ 2014-01-02 │ 81.5    │ 81.92   │ 81.09   │ 81.13   │\n",
       "│ 8      │ ADBE   │ 2014-01-02 │ 59.06   │ 59.53   │ 58.94   │ 59.29   │\n",
       "│ 9      │ ADI    │ 2014-01-02 │ 49.52   │ 49.75   │ 49.04   │ 49.28   │\n",
       "│ 10     │ ADM    │ 2014-01-02 │ 43.22   │ 43.29   │ 42.79   │ 42.99   │\n",
       "⋮\n",
       "│ 497451 │ XEL    │ 2017-12-29 │ 48.11   │ 48.29   │ 48.07   │ 48.11   │\n",
       "│ 497452 │ XLNX   │ 2017-12-29 │ 68.5    │ 68.75   │ 67.4    │ 67.42   │\n",
       "│ 497453 │ XL     │ 2017-12-29 │ 35.45   │ 35.45   │ 35.16   │ 35.16   │\n",
       "│ 497454 │ XOM    │ 2017-12-29 │ 84.0    │ 84.2    │ 83.64   │ 83.64   │\n",
       "│ 497455 │ XRAY   │ 2017-12-29 │ 66.3    │ 66.72   │ 65.77   │ 65.83   │\n",
       "│ 497456 │ XRX    │ 2017-12-29 │ 29.4    │ 29.47   │ 29.12   │ 29.15   │\n",
       "│ 497457 │ XYL    │ 2017-12-29 │ 68.53   │ 68.8    │ 67.92   │ 68.2    │\n",
       "│ 497458 │ YUM    │ 2017-12-29 │ 82.64   │ 82.71   │ 81.59   │ 81.61   │\n",
       "│ 497459 │ ZBH    │ 2017-12-29 │ 121.75  │ 121.95  │ 120.62  │ 120.67  │\n",
       "│ 497460 │ ZION   │ 2017-12-29 │ 51.28   │ 51.55   │ 50.81   │ 50.83   │\n",
       "│ 497461 │ ZTS    │ 2017-12-29 │ 72.55   │ 72.76   │ 72.04   │ 72.04   │"
      ]
     },
     "execution_count": 102,
     "metadata": {},
     "output_type": "execute_result"
    }
   ],
   "source": [
    "## Missing Data\n",
    "dropmissing(sp500) # todas as colunas"
   ]
  },
  {
   "cell_type": "code",
   "execution_count": 112,
   "metadata": {},
   "outputs": [
    {
     "data": {
      "text/html": [
       "<table class=\"data-frame\"><thead><tr><th></th><th>symbol</th><th>date</th><th>open</th><th>high</th><th>low</th><th>close</th><th>volume</th></tr><tr><th></th><th>String</th><th>Date…</th><th>Float64?</th><th>Float64</th><th>Float64?</th><th>Float64</th><th>Int64</th></tr></thead><tbody><p>497,464 rows × 7 columns</p><tr><th>1</th><td>AAL</td><td>2014-01-02</td><td>25.07</td><td>25.82</td><td>25.06</td><td>25.36</td><td>8998943</td></tr><tr><th>2</th><td>AAPL</td><td>2014-01-02</td><td>79.3828</td><td>79.5756</td><td>78.8601</td><td>79.0185</td><td>58791957</td></tr><tr><th>3</th><td>AAP</td><td>2014-01-02</td><td>110.36</td><td>111.88</td><td>109.29</td><td>109.74</td><td>542711</td></tr><tr><th>4</th><td>ABBV</td><td>2014-01-02</td><td>52.12</td><td>52.33</td><td>51.52</td><td>51.98</td><td>4569061</td></tr><tr><th>5</th><td>ABC</td><td>2014-01-02</td><td>70.11</td><td>70.23</td><td>69.48</td><td>69.89</td><td>1148391</td></tr><tr><th>6</th><td>ABT</td><td>2014-01-02</td><td>38.09</td><td>38.4</td><td>38.0</td><td>38.23</td><td>4967472</td></tr><tr><th>7</th><td>ACN</td><td>2014-01-02</td><td>81.5</td><td>81.92</td><td>81.09</td><td>81.13</td><td>2405384</td></tr><tr><th>8</th><td>ADBE</td><td>2014-01-02</td><td>59.06</td><td>59.53</td><td>58.94</td><td>59.29</td><td>2746370</td></tr><tr><th>9</th><td>ADI</td><td>2014-01-02</td><td>49.52</td><td>49.75</td><td>49.04</td><td>49.28</td><td>2799092</td></tr><tr><th>10</th><td>ADM</td><td>2014-01-02</td><td>43.22</td><td>43.29</td><td>42.79</td><td>42.99</td><td>2753765</td></tr><tr><th>11</th><td>ADP</td><td>2014-01-02</td><td>80.17</td><td>80.45</td><td>79.38</td><td>79.86</td><td>1965869</td></tr><tr><th>12</th><td>ADSK</td><td>2014-01-02</td><td>49.33</td><td>49.74</td><td>48.88</td><td>49.25</td><td>2488043</td></tr><tr><th>13</th><td>ADS</td><td>2014-01-02</td><td>262.44</td><td>262.68</td><td>258.78</td><td>262.34</td><td>547808</td></tr><tr><th>14</th><td>AEE</td><td>2014-01-02</td><td>36.05</td><td>36.11</td><td>35.47</td><td>35.53</td><td>1394264</td></tr><tr><th>15</th><td>AEP</td><td>2014-01-02</td><td>46.98</td><td>47.06</td><td>46.04</td><td>46.13</td><td>2752002</td></tr><tr><th>16</th><td>AES</td><td>2014-01-02</td><td>14.51</td><td>14.56</td><td>14.19</td><td>14.27</td><td>3987216</td></tr><tr><th>17</th><td>AET</td><td>2014-01-02</td><td>68.21</td><td>68.6</td><td>67.52</td><td>67.56</td><td>1650687</td></tr><tr><th>18</th><td>AFL</td><td>2014-01-02</td><td>66.63</td><td>66.694</td><td>65.81</td><td>65.96</td><td>1914657</td></tr><tr><th>19</th><td>AGN</td><td>2014-01-02</td><td>167.33</td><td>170.71</td><td>166.594</td><td>168.05</td><td>1268722</td></tr><tr><th>20</th><td>AIG</td><td>2014-01-02</td><td>50.81</td><td>51.3</td><td>50.47</td><td>50.71</td><td>9198092</td></tr><tr><th>21</th><td>AIV</td><td>2014-01-02</td><td>25.9</td><td>26.14</td><td>25.66</td><td>25.91</td><td>844901</td></tr><tr><th>22</th><td>AIZ</td><td>2014-01-02</td><td>66.04</td><td>66.19</td><td>65.15</td><td>65.32</td><td>375524</td></tr><tr><th>23</th><td>AJG</td><td>2014-01-02</td><td>46.67</td><td>46.89</td><td>46.09</td><td>46.15</td><td>483694</td></tr><tr><th>24</th><td>AKAM</td><td>2014-01-02</td><td>47.11</td><td>47.1799</td><td>46.42</td><td>46.53</td><td>935107</td></tr><tr><th>25</th><td>ALB</td><td>2014-01-02</td><td>63.38</td><td>63.6</td><td>62.6</td><td>63.14</td><td>548782</td></tr><tr><th>26</th><td>ALGN</td><td>2014-01-02</td><td>57.06</td><td>57.37</td><td>56.43</td><td>56.96</td><td>437600</td></tr><tr><th>27</th><td>ALK</td><td>2014-01-02</td><td>36.665</td><td>36.965</td><td>36.275</td><td>36.59</td><td>900234</td></tr><tr><th>28</th><td>ALLE</td><td>2014-01-02</td><td>44.08</td><td>44.18</td><td>43.27</td><td>43.65</td><td>992872</td></tr><tr><th>29</th><td>ALL</td><td>2014-01-02</td><td>54.09</td><td>54.45</td><td>53.5</td><td>53.55</td><td>1909106</td></tr><tr><th>30</th><td>ALXN</td><td>2014-01-02</td><td>132.46</td><td>133.82</td><td>130.54</td><td>133.44</td><td>760197</td></tr><tr><th>&vellip;</th><td>&vellip;</td><td>&vellip;</td><td>&vellip;</td><td>&vellip;</td><td>&vellip;</td><td>&vellip;</td><td>&vellip;</td></tr></tbody></table>"
      ],
      "text/latex": [
       "\\begin{tabular}{r|ccccccc}\n",
       "\t& symbol & date & open & high & low & close & volume\\\\\n",
       "\t\\hline\n",
       "\t& String & Date… & Float64? & Float64 & Float64? & Float64 & Int64\\\\\n",
       "\t\\hline\n",
       "\t1 & AAL & 2014-01-02 & 25.07 & 25.82 & 25.06 & 25.36 & 8998943 \\\\\n",
       "\t2 & AAPL & 2014-01-02 & 79.3828 & 79.5756 & 78.8601 & 79.0185 & 58791957 \\\\\n",
       "\t3 & AAP & 2014-01-02 & 110.36 & 111.88 & 109.29 & 109.74 & 542711 \\\\\n",
       "\t4 & ABBV & 2014-01-02 & 52.12 & 52.33 & 51.52 & 51.98 & 4569061 \\\\\n",
       "\t5 & ABC & 2014-01-02 & 70.11 & 70.23 & 69.48 & 69.89 & 1148391 \\\\\n",
       "\t6 & ABT & 2014-01-02 & 38.09 & 38.4 & 38.0 & 38.23 & 4967472 \\\\\n",
       "\t7 & ACN & 2014-01-02 & 81.5 & 81.92 & 81.09 & 81.13 & 2405384 \\\\\n",
       "\t8 & ADBE & 2014-01-02 & 59.06 & 59.53 & 58.94 & 59.29 & 2746370 \\\\\n",
       "\t9 & ADI & 2014-01-02 & 49.52 & 49.75 & 49.04 & 49.28 & 2799092 \\\\\n",
       "\t10 & ADM & 2014-01-02 & 43.22 & 43.29 & 42.79 & 42.99 & 2753765 \\\\\n",
       "\t11 & ADP & 2014-01-02 & 80.17 & 80.45 & 79.38 & 79.86 & 1965869 \\\\\n",
       "\t12 & ADSK & 2014-01-02 & 49.33 & 49.74 & 48.88 & 49.25 & 2488043 \\\\\n",
       "\t13 & ADS & 2014-01-02 & 262.44 & 262.68 & 258.78 & 262.34 & 547808 \\\\\n",
       "\t14 & AEE & 2014-01-02 & 36.05 & 36.11 & 35.47 & 35.53 & 1394264 \\\\\n",
       "\t15 & AEP & 2014-01-02 & 46.98 & 47.06 & 46.04 & 46.13 & 2752002 \\\\\n",
       "\t16 & AES & 2014-01-02 & 14.51 & 14.56 & 14.19 & 14.27 & 3987216 \\\\\n",
       "\t17 & AET & 2014-01-02 & 68.21 & 68.6 & 67.52 & 67.56 & 1650687 \\\\\n",
       "\t18 & AFL & 2014-01-02 & 66.63 & 66.694 & 65.81 & 65.96 & 1914657 \\\\\n",
       "\t19 & AGN & 2014-01-02 & 167.33 & 170.71 & 166.594 & 168.05 & 1268722 \\\\\n",
       "\t20 & AIG & 2014-01-02 & 50.81 & 51.3 & 50.47 & 50.71 & 9198092 \\\\\n",
       "\t21 & AIV & 2014-01-02 & 25.9 & 26.14 & 25.66 & 25.91 & 844901 \\\\\n",
       "\t22 & AIZ & 2014-01-02 & 66.04 & 66.19 & 65.15 & 65.32 & 375524 \\\\\n",
       "\t23 & AJG & 2014-01-02 & 46.67 & 46.89 & 46.09 & 46.15 & 483694 \\\\\n",
       "\t24 & AKAM & 2014-01-02 & 47.11 & 47.1799 & 46.42 & 46.53 & 935107 \\\\\n",
       "\t25 & ALB & 2014-01-02 & 63.38 & 63.6 & 62.6 & 63.14 & 548782 \\\\\n",
       "\t26 & ALGN & 2014-01-02 & 57.06 & 57.37 & 56.43 & 56.96 & 437600 \\\\\n",
       "\t27 & ALK & 2014-01-02 & 36.665 & 36.965 & 36.275 & 36.59 & 900234 \\\\\n",
       "\t28 & ALLE & 2014-01-02 & 44.08 & 44.18 & 43.27 & 43.65 & 992872 \\\\\n",
       "\t29 & ALL & 2014-01-02 & 54.09 & 54.45 & 53.5 & 53.55 & 1909106 \\\\\n",
       "\t30 & ALXN & 2014-01-02 & 132.46 & 133.82 & 130.54 & 133.44 & 760197 \\\\\n",
       "\t$\\dots$ & $\\dots$ & $\\dots$ & $\\dots$ & $\\dots$ & $\\dots$ & $\\dots$ & $\\dots$ \\\\\n",
       "\\end{tabular}\n"
      ],
      "text/plain": [
       "497464×7 DataFrame. Omitted printing of 1 columns\n",
       "│ Row    │ symbol │ date       │ open     │ high    │ low      │ close   │\n",
       "│        │ \u001b[90mString\u001b[39m │ \u001b[90mDates.Date\u001b[39m │ \u001b[90mFloat64?\u001b[39m │ \u001b[90mFloat64\u001b[39m │ \u001b[90mFloat64?\u001b[39m │ \u001b[90mFloat64\u001b[39m │\n",
       "├────────┼────────┼────────────┼──────────┼─────────┼──────────┼─────────┤\n",
       "│ 1      │ AAL    │ 2014-01-02 │ 25.07    │ 25.82   │ 25.06    │ 25.36   │\n",
       "│ 2      │ AAPL   │ 2014-01-02 │ 79.3828  │ 79.5756 │ 78.8601  │ 79.0185 │\n",
       "│ 3      │ AAP    │ 2014-01-02 │ 110.36   │ 111.88  │ 109.29   │ 109.74  │\n",
       "│ 4      │ ABBV   │ 2014-01-02 │ 52.12    │ 52.33   │ 51.52    │ 51.98   │\n",
       "│ 5      │ ABC    │ 2014-01-02 │ 70.11    │ 70.23   │ 69.48    │ 69.89   │\n",
       "│ 6      │ ABT    │ 2014-01-02 │ 38.09    │ 38.4    │ 38.0     │ 38.23   │\n",
       "│ 7      │ ACN    │ 2014-01-02 │ 81.5     │ 81.92   │ 81.09    │ 81.13   │\n",
       "│ 8      │ ADBE   │ 2014-01-02 │ 59.06    │ 59.53   │ 58.94    │ 59.29   │\n",
       "│ 9      │ ADI    │ 2014-01-02 │ 49.52    │ 49.75   │ 49.04    │ 49.28   │\n",
       "│ 10     │ ADM    │ 2014-01-02 │ 43.22    │ 43.29   │ 42.79    │ 42.99   │\n",
       "⋮\n",
       "│ 497454 │ XEL    │ 2017-12-29 │ 48.11    │ 48.29   │ 48.07    │ 48.11   │\n",
       "│ 497455 │ XLNX   │ 2017-12-29 │ 68.5     │ 68.75   │ 67.4     │ 67.42   │\n",
       "│ 497456 │ XL     │ 2017-12-29 │ 35.45    │ 35.45   │ 35.16    │ 35.16   │\n",
       "│ 497457 │ XOM    │ 2017-12-29 │ 84.0     │ 84.2    │ 83.64    │ 83.64   │\n",
       "│ 497458 │ XRAY   │ 2017-12-29 │ 66.3     │ 66.72   │ 65.77    │ 65.83   │\n",
       "│ 497459 │ XRX    │ 2017-12-29 │ 29.4     │ 29.47   │ 29.12    │ 29.15   │\n",
       "│ 497460 │ XYL    │ 2017-12-29 │ 68.53    │ 68.8    │ 67.92    │ 68.2    │\n",
       "│ 497461 │ YUM    │ 2017-12-29 │ 82.64    │ 82.71   │ 81.59    │ 81.61   │\n",
       "│ 497462 │ ZBH    │ 2017-12-29 │ 121.75   │ 121.95  │ 120.62   │ 120.67  │\n",
       "│ 497463 │ ZION   │ 2017-12-29 │ 51.28    │ 51.55   │ 50.81    │ 50.83   │\n",
       "│ 497464 │ ZTS    │ 2017-12-29 │ 72.55    │ 72.76   │ 72.04    │ 72.04   │"
      ]
     },
     "execution_count": 112,
     "metadata": {},
     "output_type": "execute_result"
    }
   ],
   "source": [
    "# dropando missing apenas de open, high\n",
    "dropmissing(sp500, :high)"
   ]
  },
  {
   "cell_type": "code",
   "execution_count": null,
   "metadata": {},
   "outputs": [],
   "source": []
  }
 ],
 "metadata": {
  "kernelspec": {
   "display_name": "Julia 1.4.1",
   "language": "julia",
   "name": "julia-1.4"
  },
  "language_info": {
   "file_extension": ".jl",
   "mimetype": "application/julia",
   "name": "julia",
   "version": "1.4.1"
  }
 },
 "nbformat": 4,
 "nbformat_minor": 4
}
