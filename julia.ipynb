{
 "cells": [
  {
   "cell_type": "markdown",
   "metadata": {},
   "source": [
    "# Julia"
   ]
  },
  {
   "cell_type": "markdown",
   "metadata": {},
   "source": [
    "### DataFrames\n",
    "\n",
    "Utilidade: Manipulação de dados."
   ]
  },
  {
   "cell_type": "code",
   "execution_count": 1,
   "metadata": {},
   "outputs": [],
   "source": [
    "# importando biblioteca\n",
    "# using Pkg\n",
    "# Pkg.add(\"DataFrames\")\n",
    "# Pkg.add(\"CSV\")\n",
    "# Pkg.add(\"Queryverse\")\n",
    "using DataFrames\n",
    "using CSV\n",
    "using Queryverse"
   ]
  },
  {
   "cell_type": "code",
   "execution_count": 86,
   "metadata": {},
   "outputs": [
    {
     "data": {
      "text/html": [
       "<table class=\"data-frame\"><thead><tr><th></th><th>symbol</th><th>date</th><th>open</th><th>high</th><th>low</th><th>close</th><th>volume</th></tr><tr><th></th><th>String</th><th>Date…</th><th>Float64?</th><th>Float64?</th><th>Float64?</th><th>Float64</th><th>Int64</th></tr></thead><tbody><p>497,472 rows × 7 columns</p><tr><th>1</th><td>AAL</td><td>2014-01-02</td><td>25.07</td><td>25.82</td><td>25.06</td><td>25.36</td><td>8998943</td></tr><tr><th>2</th><td>AAPL</td><td>2014-01-02</td><td>79.3828</td><td>79.5756</td><td>78.8601</td><td>79.0185</td><td>58791957</td></tr><tr><th>3</th><td>AAP</td><td>2014-01-02</td><td>110.36</td><td>111.88</td><td>109.29</td><td>109.74</td><td>542711</td></tr><tr><th>4</th><td>ABBV</td><td>2014-01-02</td><td>52.12</td><td>52.33</td><td>51.52</td><td>51.98</td><td>4569061</td></tr><tr><th>5</th><td>ABC</td><td>2014-01-02</td><td>70.11</td><td>70.23</td><td>69.48</td><td>69.89</td><td>1148391</td></tr><tr><th>6</th><td>ABT</td><td>2014-01-02</td><td>38.09</td><td>38.4</td><td>38.0</td><td>38.23</td><td>4967472</td></tr><tr><th>7</th><td>ACN</td><td>2014-01-02</td><td>81.5</td><td>81.92</td><td>81.09</td><td>81.13</td><td>2405384</td></tr><tr><th>8</th><td>ADBE</td><td>2014-01-02</td><td>59.06</td><td>59.53</td><td>58.94</td><td>59.29</td><td>2746370</td></tr><tr><th>9</th><td>ADI</td><td>2014-01-02</td><td>49.52</td><td>49.75</td><td>49.04</td><td>49.28</td><td>2799092</td></tr><tr><th>10</th><td>ADM</td><td>2014-01-02</td><td>43.22</td><td>43.29</td><td>42.79</td><td>42.99</td><td>2753765</td></tr><tr><th>11</th><td>ADP</td><td>2014-01-02</td><td>80.17</td><td>80.45</td><td>79.38</td><td>79.86</td><td>1965869</td></tr><tr><th>12</th><td>ADSK</td><td>2014-01-02</td><td>49.33</td><td>49.74</td><td>48.88</td><td>49.25</td><td>2488043</td></tr><tr><th>13</th><td>ADS</td><td>2014-01-02</td><td>262.44</td><td>262.68</td><td>258.78</td><td>262.34</td><td>547808</td></tr><tr><th>14</th><td>AEE</td><td>2014-01-02</td><td>36.05</td><td>36.11</td><td>35.47</td><td>35.53</td><td>1394264</td></tr><tr><th>15</th><td>AEP</td><td>2014-01-02</td><td>46.98</td><td>47.06</td><td>46.04</td><td>46.13</td><td>2752002</td></tr><tr><th>16</th><td>AES</td><td>2014-01-02</td><td>14.51</td><td>14.56</td><td>14.19</td><td>14.27</td><td>3987216</td></tr><tr><th>17</th><td>AET</td><td>2014-01-02</td><td>68.21</td><td>68.6</td><td>67.52</td><td>67.56</td><td>1650687</td></tr><tr><th>18</th><td>AFL</td><td>2014-01-02</td><td>66.63</td><td>66.694</td><td>65.81</td><td>65.96</td><td>1914657</td></tr><tr><th>19</th><td>AGN</td><td>2014-01-02</td><td>167.33</td><td>170.71</td><td>166.594</td><td>168.05</td><td>1268722</td></tr><tr><th>20</th><td>AIG</td><td>2014-01-02</td><td>50.81</td><td>51.3</td><td>50.47</td><td>50.71</td><td>9198092</td></tr><tr><th>21</th><td>AIV</td><td>2014-01-02</td><td>25.9</td><td>26.14</td><td>25.66</td><td>25.91</td><td>844901</td></tr><tr><th>22</th><td>AIZ</td><td>2014-01-02</td><td>66.04</td><td>66.19</td><td>65.15</td><td>65.32</td><td>375524</td></tr><tr><th>23</th><td>AJG</td><td>2014-01-02</td><td>46.67</td><td>46.89</td><td>46.09</td><td>46.15</td><td>483694</td></tr><tr><th>24</th><td>AKAM</td><td>2014-01-02</td><td>47.11</td><td>47.1799</td><td>46.42</td><td>46.53</td><td>935107</td></tr><tr><th>25</th><td>ALB</td><td>2014-01-02</td><td>63.38</td><td>63.6</td><td>62.6</td><td>63.14</td><td>548782</td></tr><tr><th>26</th><td>ALGN</td><td>2014-01-02</td><td>57.06</td><td>57.37</td><td>56.43</td><td>56.96</td><td>437600</td></tr><tr><th>27</th><td>ALK</td><td>2014-01-02</td><td>36.665</td><td>36.965</td><td>36.275</td><td>36.59</td><td>900234</td></tr><tr><th>28</th><td>ALLE</td><td>2014-01-02</td><td>44.08</td><td>44.18</td><td>43.27</td><td>43.65</td><td>992872</td></tr><tr><th>29</th><td>ALL</td><td>2014-01-02</td><td>54.09</td><td>54.45</td><td>53.5</td><td>53.55</td><td>1909106</td></tr><tr><th>30</th><td>ALXN</td><td>2014-01-02</td><td>132.46</td><td>133.82</td><td>130.54</td><td>133.44</td><td>760197</td></tr><tr><th>&vellip;</th><td>&vellip;</td><td>&vellip;</td><td>&vellip;</td><td>&vellip;</td><td>&vellip;</td><td>&vellip;</td><td>&vellip;</td></tr></tbody></table>"
      ],
      "text/latex": [
       "\\begin{tabular}{r|ccccccc}\n",
       "\t& symbol & date & open & high & low & close & volume\\\\\n",
       "\t\\hline\n",
       "\t& String & Date… & Float64? & Float64? & Float64? & Float64 & Int64\\\\\n",
       "\t\\hline\n",
       "\t1 & AAL & 2014-01-02 & 25.07 & 25.82 & 25.06 & 25.36 & 8998943 \\\\\n",
       "\t2 & AAPL & 2014-01-02 & 79.3828 & 79.5756 & 78.8601 & 79.0185 & 58791957 \\\\\n",
       "\t3 & AAP & 2014-01-02 & 110.36 & 111.88 & 109.29 & 109.74 & 542711 \\\\\n",
       "\t4 & ABBV & 2014-01-02 & 52.12 & 52.33 & 51.52 & 51.98 & 4569061 \\\\\n",
       "\t5 & ABC & 2014-01-02 & 70.11 & 70.23 & 69.48 & 69.89 & 1148391 \\\\\n",
       "\t6 & ABT & 2014-01-02 & 38.09 & 38.4 & 38.0 & 38.23 & 4967472 \\\\\n",
       "\t7 & ACN & 2014-01-02 & 81.5 & 81.92 & 81.09 & 81.13 & 2405384 \\\\\n",
       "\t8 & ADBE & 2014-01-02 & 59.06 & 59.53 & 58.94 & 59.29 & 2746370 \\\\\n",
       "\t9 & ADI & 2014-01-02 & 49.52 & 49.75 & 49.04 & 49.28 & 2799092 \\\\\n",
       "\t10 & ADM & 2014-01-02 & 43.22 & 43.29 & 42.79 & 42.99 & 2753765 \\\\\n",
       "\t11 & ADP & 2014-01-02 & 80.17 & 80.45 & 79.38 & 79.86 & 1965869 \\\\\n",
       "\t12 & ADSK & 2014-01-02 & 49.33 & 49.74 & 48.88 & 49.25 & 2488043 \\\\\n",
       "\t13 & ADS & 2014-01-02 & 262.44 & 262.68 & 258.78 & 262.34 & 547808 \\\\\n",
       "\t14 & AEE & 2014-01-02 & 36.05 & 36.11 & 35.47 & 35.53 & 1394264 \\\\\n",
       "\t15 & AEP & 2014-01-02 & 46.98 & 47.06 & 46.04 & 46.13 & 2752002 \\\\\n",
       "\t16 & AES & 2014-01-02 & 14.51 & 14.56 & 14.19 & 14.27 & 3987216 \\\\\n",
       "\t17 & AET & 2014-01-02 & 68.21 & 68.6 & 67.52 & 67.56 & 1650687 \\\\\n",
       "\t18 & AFL & 2014-01-02 & 66.63 & 66.694 & 65.81 & 65.96 & 1914657 \\\\\n",
       "\t19 & AGN & 2014-01-02 & 167.33 & 170.71 & 166.594 & 168.05 & 1268722 \\\\\n",
       "\t20 & AIG & 2014-01-02 & 50.81 & 51.3 & 50.47 & 50.71 & 9198092 \\\\\n",
       "\t21 & AIV & 2014-01-02 & 25.9 & 26.14 & 25.66 & 25.91 & 844901 \\\\\n",
       "\t22 & AIZ & 2014-01-02 & 66.04 & 66.19 & 65.15 & 65.32 & 375524 \\\\\n",
       "\t23 & AJG & 2014-01-02 & 46.67 & 46.89 & 46.09 & 46.15 & 483694 \\\\\n",
       "\t24 & AKAM & 2014-01-02 & 47.11 & 47.1799 & 46.42 & 46.53 & 935107 \\\\\n",
       "\t25 & ALB & 2014-01-02 & 63.38 & 63.6 & 62.6 & 63.14 & 548782 \\\\\n",
       "\t26 & ALGN & 2014-01-02 & 57.06 & 57.37 & 56.43 & 56.96 & 437600 \\\\\n",
       "\t27 & ALK & 2014-01-02 & 36.665 & 36.965 & 36.275 & 36.59 & 900234 \\\\\n",
       "\t28 & ALLE & 2014-01-02 & 44.08 & 44.18 & 43.27 & 43.65 & 992872 \\\\\n",
       "\t29 & ALL & 2014-01-02 & 54.09 & 54.45 & 53.5 & 53.55 & 1909106 \\\\\n",
       "\t30 & ALXN & 2014-01-02 & 132.46 & 133.82 & 130.54 & 133.44 & 760197 \\\\\n",
       "\t$\\dots$ & $\\dots$ & $\\dots$ & $\\dots$ & $\\dots$ & $\\dots$ & $\\dots$ & $\\dots$ \\\\\n",
       "\\end{tabular}\n"
      ],
      "text/plain": [
       "497472×7 DataFrame. Omitted printing of 1 columns\n",
       "│ Row    │ symbol │ date       │ open     │ high     │ low      │ close   │\n",
       "│        │ \u001b[90mString\u001b[39m │ \u001b[90mDates.Date\u001b[39m │ \u001b[90mFloat64?\u001b[39m │ \u001b[90mFloat64?\u001b[39m │ \u001b[90mFloat64?\u001b[39m │ \u001b[90mFloat64\u001b[39m │\n",
       "├────────┼────────┼────────────┼──────────┼──────────┼──────────┼─────────┤\n",
       "│ 1      │ AAL    │ 2014-01-02 │ 25.07    │ 25.82    │ 25.06    │ 25.36   │\n",
       "│ 2      │ AAPL   │ 2014-01-02 │ 79.3828  │ 79.5756  │ 78.8601  │ 79.0185 │\n",
       "│ 3      │ AAP    │ 2014-01-02 │ 110.36   │ 111.88   │ 109.29   │ 109.74  │\n",
       "│ 4      │ ABBV   │ 2014-01-02 │ 52.12    │ 52.33    │ 51.52    │ 51.98   │\n",
       "│ 5      │ ABC    │ 2014-01-02 │ 70.11    │ 70.23    │ 69.48    │ 69.89   │\n",
       "│ 6      │ ABT    │ 2014-01-02 │ 38.09    │ 38.4     │ 38.0     │ 38.23   │\n",
       "│ 7      │ ACN    │ 2014-01-02 │ 81.5     │ 81.92    │ 81.09    │ 81.13   │\n",
       "│ 8      │ ADBE   │ 2014-01-02 │ 59.06    │ 59.53    │ 58.94    │ 59.29   │\n",
       "│ 9      │ ADI    │ 2014-01-02 │ 49.52    │ 49.75    │ 49.04    │ 49.28   │\n",
       "│ 10     │ ADM    │ 2014-01-02 │ 43.22    │ 43.29    │ 42.79    │ 42.99   │\n",
       "⋮\n",
       "│ 497462 │ XEL    │ 2017-12-29 │ 48.11    │ 48.29    │ 48.07    │ 48.11   │\n",
       "│ 497463 │ XLNX   │ 2017-12-29 │ 68.5     │ 68.75    │ 67.4     │ 67.42   │\n",
       "│ 497464 │ XL     │ 2017-12-29 │ 35.45    │ 35.45    │ 35.16    │ 35.16   │\n",
       "│ 497465 │ XOM    │ 2017-12-29 │ 84.0     │ 84.2     │ 83.64    │ 83.64   │\n",
       "│ 497466 │ XRAY   │ 2017-12-29 │ 66.3     │ 66.72    │ 65.77    │ 65.83   │\n",
       "│ 497467 │ XRX    │ 2017-12-29 │ 29.4     │ 29.47    │ 29.12    │ 29.15   │\n",
       "│ 497468 │ XYL    │ 2017-12-29 │ 68.53    │ 68.8     │ 67.92    │ 68.2    │\n",
       "│ 497469 │ YUM    │ 2017-12-29 │ 82.64    │ 82.71    │ 81.59    │ 81.61   │\n",
       "│ 497470 │ ZBH    │ 2017-12-29 │ 121.75   │ 121.95   │ 120.62   │ 120.67  │\n",
       "│ 497471 │ ZION   │ 2017-12-29 │ 51.28    │ 51.55    │ 50.81    │ 50.83   │\n",
       "│ 497472 │ ZTS    │ 2017-12-29 │ 72.55    │ 72.76    │ 72.04    │ 72.04   │"
      ]
     },
     "execution_count": 86,
     "metadata": {},
     "output_type": "execute_result"
    }
   ],
   "source": [
    "# ler os dados\n",
    "sp500 = CSV.read(\"data/sp500.csv\", DataFrame)"
   ]
  },
  {
   "cell_type": "markdown",
   "metadata": {},
   "source": [
    "### Mensurando tempo de exeução da leitura dos dados"
   ]
  },
  {
   "cell_type": "code",
   "execution_count": 6,
   "metadata": {},
   "outputs": [
    {
     "name": "stdout",
     "output_type": "stream",
     "text": [
      "  0.137790 seconds (497.90 k allocations: 45.073 MiB)\n"
     ]
    }
   ],
   "source": [
    "@time CSV.read(\"data/sp500.csv\", DataFrame);"
   ]
  },
  {
   "cell_type": "markdown",
   "metadata": {},
   "source": [
    "#### Mostrando as 10 primeiras linhas"
   ]
  },
  {
   "cell_type": "code",
   "execution_count": 17,
   "metadata": {},
   "outputs": [
    {
     "data": {
      "text/html": [
       "<table class=\"data-frame\"><thead><tr><th></th><th>symbol</th><th>date</th><th>open</th><th>high</th><th>low</th><th>close</th><th>volume</th></tr><tr><th></th><th>String</th><th>Date…</th><th>Float64?</th><th>Float64?</th><th>Float64?</th><th>Float64</th><th>Int64</th></tr></thead><tbody><p>10 rows × 7 columns</p><tr><th>1</th><td>AAL</td><td>2014-01-02</td><td>25.07</td><td>25.82</td><td>25.06</td><td>25.36</td><td>8998943</td></tr><tr><th>2</th><td>AAPL</td><td>2014-01-02</td><td>79.3828</td><td>79.5756</td><td>78.8601</td><td>79.0185</td><td>58791957</td></tr><tr><th>3</th><td>AAP</td><td>2014-01-02</td><td>110.36</td><td>111.88</td><td>109.29</td><td>109.74</td><td>542711</td></tr><tr><th>4</th><td>ABBV</td><td>2014-01-02</td><td>52.12</td><td>52.33</td><td>51.52</td><td>51.98</td><td>4569061</td></tr><tr><th>5</th><td>ABC</td><td>2014-01-02</td><td>70.11</td><td>70.23</td><td>69.48</td><td>69.89</td><td>1148391</td></tr><tr><th>6</th><td>ABT</td><td>2014-01-02</td><td>38.09</td><td>38.4</td><td>38.0</td><td>38.23</td><td>4967472</td></tr><tr><th>7</th><td>ACN</td><td>2014-01-02</td><td>81.5</td><td>81.92</td><td>81.09</td><td>81.13</td><td>2405384</td></tr><tr><th>8</th><td>ADBE</td><td>2014-01-02</td><td>59.06</td><td>59.53</td><td>58.94</td><td>59.29</td><td>2746370</td></tr><tr><th>9</th><td>ADI</td><td>2014-01-02</td><td>49.52</td><td>49.75</td><td>49.04</td><td>49.28</td><td>2799092</td></tr><tr><th>10</th><td>ADM</td><td>2014-01-02</td><td>43.22</td><td>43.29</td><td>42.79</td><td>42.99</td><td>2753765</td></tr></tbody></table>"
      ],
      "text/latex": [
       "\\begin{tabular}{r|ccccccc}\n",
       "\t& symbol & date & open & high & low & close & volume\\\\\n",
       "\t\\hline\n",
       "\t& String & Date… & Float64? & Float64? & Float64? & Float64 & Int64\\\\\n",
       "\t\\hline\n",
       "\t1 & AAL & 2014-01-02 & 25.07 & 25.82 & 25.06 & 25.36 & 8998943 \\\\\n",
       "\t2 & AAPL & 2014-01-02 & 79.3828 & 79.5756 & 78.8601 & 79.0185 & 58791957 \\\\\n",
       "\t3 & AAP & 2014-01-02 & 110.36 & 111.88 & 109.29 & 109.74 & 542711 \\\\\n",
       "\t4 & ABBV & 2014-01-02 & 52.12 & 52.33 & 51.52 & 51.98 & 4569061 \\\\\n",
       "\t5 & ABC & 2014-01-02 & 70.11 & 70.23 & 69.48 & 69.89 & 1148391 \\\\\n",
       "\t6 & ABT & 2014-01-02 & 38.09 & 38.4 & 38.0 & 38.23 & 4967472 \\\\\n",
       "\t7 & ACN & 2014-01-02 & 81.5 & 81.92 & 81.09 & 81.13 & 2405384 \\\\\n",
       "\t8 & ADBE & 2014-01-02 & 59.06 & 59.53 & 58.94 & 59.29 & 2746370 \\\\\n",
       "\t9 & ADI & 2014-01-02 & 49.52 & 49.75 & 49.04 & 49.28 & 2799092 \\\\\n",
       "\t10 & ADM & 2014-01-02 & 43.22 & 43.29 & 42.79 & 42.99 & 2753765 \\\\\n",
       "\\end{tabular}\n"
      ],
      "text/plain": [
       "10×7 DataFrame. Omitted printing of 1 columns\n",
       "│ Row │ symbol │ date       │ open     │ high     │ low      │ close   │\n",
       "│     │ \u001b[90mString\u001b[39m │ \u001b[90mDates.Date\u001b[39m │ \u001b[90mFloat64?\u001b[39m │ \u001b[90mFloat64?\u001b[39m │ \u001b[90mFloat64?\u001b[39m │ \u001b[90mFloat64\u001b[39m │\n",
       "├─────┼────────┼────────────┼──────────┼──────────┼──────────┼─────────┤\n",
       "│ 1   │ AAL    │ 2014-01-02 │ 25.07    │ 25.82    │ 25.06    │ 25.36   │\n",
       "│ 2   │ AAPL   │ 2014-01-02 │ 79.3828  │ 79.5756  │ 78.8601  │ 79.0185 │\n",
       "│ 3   │ AAP    │ 2014-01-02 │ 110.36   │ 111.88   │ 109.29   │ 109.74  │\n",
       "│ 4   │ ABBV   │ 2014-01-02 │ 52.12    │ 52.33    │ 51.52    │ 51.98   │\n",
       "│ 5   │ ABC    │ 2014-01-02 │ 70.11    │ 70.23    │ 69.48    │ 69.89   │\n",
       "│ 6   │ ABT    │ 2014-01-02 │ 38.09    │ 38.4     │ 38.0     │ 38.23   │\n",
       "│ 7   │ ACN    │ 2014-01-02 │ 81.5     │ 81.92    │ 81.09    │ 81.13   │\n",
       "│ 8   │ ADBE   │ 2014-01-02 │ 59.06    │ 59.53    │ 58.94    │ 59.29   │\n",
       "│ 9   │ ADI    │ 2014-01-02 │ 49.52    │ 49.75    │ 49.04    │ 49.28   │\n",
       "│ 10  │ ADM    │ 2014-01-02 │ 43.22    │ 43.29    │ 42.79    │ 42.99   │"
      ]
     },
     "execution_count": 17,
     "metadata": {},
     "output_type": "execute_result"
    }
   ],
   "source": [
    "first(sp500, 10)"
   ]
  },
  {
   "cell_type": "markdown",
   "metadata": {},
   "source": [
    "#### Selecionando linhas"
   ]
  },
  {
   "cell_type": "code",
   "execution_count": 83,
   "metadata": {},
   "outputs": [
    {
     "data": {
      "text/html": [
       "<table class=\"data-frame\"><thead><tr><th></th><th>symbol</th><th>date</th><th>open</th><th>high</th><th>low</th><th>close</th><th>volume</th></tr><tr><th></th><th>String</th><th>Date…</th><th>Float64?</th><th>Float64?</th><th>Float64?</th><th>Float64</th><th>Int64</th></tr></thead><tbody><p>3 rows × 7 columns</p><tr><th>1</th><td>AAL</td><td>2014-01-02</td><td>25.07</td><td>25.82</td><td>25.06</td><td>25.36</td><td>8998943</td></tr><tr><th>2</th><td>ADM</td><td>2014-01-02</td><td>43.22</td><td>43.29</td><td>42.79</td><td>42.99</td><td>2753765</td></tr><tr><th>3</th><td>CME</td><td>2014-01-02</td><td>77.96</td><td>78.75</td><td>77.32</td><td>77.96</td><td>2070876</td></tr></tbody></table>"
      ],
      "text/latex": [
       "\\begin{tabular}{r|ccccccc}\n",
       "\t& symbol & date & open & high & low & close & volume\\\\\n",
       "\t\\hline\n",
       "\t& String & Date… & Float64? & Float64? & Float64? & Float64 & Int64\\\\\n",
       "\t\\hline\n",
       "\t1 & AAL & 2014-01-02 & 25.07 & 25.82 & 25.06 & 25.36 & 8998943 \\\\\n",
       "\t2 & ADM & 2014-01-02 & 43.22 & 43.29 & 42.79 & 42.99 & 2753765 \\\\\n",
       "\t3 & CME & 2014-01-02 & 77.96 & 78.75 & 77.32 & 77.96 & 2070876 \\\\\n",
       "\\end{tabular}\n"
      ],
      "text/plain": [
       "3×7 DataFrame. Omitted printing of 1 columns\n",
       "│ Row │ symbol │ date       │ open     │ high     │ low      │ close   │\n",
       "│     │ \u001b[90mString\u001b[39m │ \u001b[90mDates.Date\u001b[39m │ \u001b[90mFloat64?\u001b[39m │ \u001b[90mFloat64?\u001b[39m │ \u001b[90mFloat64?\u001b[39m │ \u001b[90mFloat64\u001b[39m │\n",
       "├─────┼────────┼────────────┼──────────┼──────────┼──────────┼─────────┤\n",
       "│ 1   │ AAL    │ 2014-01-02 │ 25.07    │ 25.82    │ 25.06    │ 25.36   │\n",
       "│ 2   │ ADM    │ 2014-01-02 │ 43.22    │ 43.29    │ 42.79    │ 42.99   │\n",
       "│ 3   │ CME    │ 2014-01-02 │ 77.96    │ 78.75    │ 77.32    │ 77.96   │"
      ]
     },
     "execution_count": 83,
     "metadata": {},
     "output_type": "execute_result"
    }
   ],
   "source": [
    "## selecionando as linhas 1, 10 e 100\n",
    "sp500[[1, 10, 100],:]"
   ]
  },
  {
   "cell_type": "code",
   "execution_count": 87,
   "metadata": {},
   "outputs": [
    {
     "data": {
      "text/html": [
       "<table class=\"data-frame\"><thead><tr><th></th><th>symbol</th><th>date</th><th>open</th><th>high</th><th>low</th><th>close</th><th>volume</th></tr><tr><th></th><th>String</th><th>Date…</th><th>Float64?</th><th>Float64?</th><th>Float64?</th><th>Float64</th><th>Int64</th></tr></thead><tbody><p>497,469 rows × 7 columns</p><tr><th>1</th><td>AAPL</td><td>2014-01-02</td><td>79.3828</td><td>79.5756</td><td>78.8601</td><td>79.0185</td><td>58791957</td></tr><tr><th>2</th><td>AAP</td><td>2014-01-02</td><td>110.36</td><td>111.88</td><td>109.29</td><td>109.74</td><td>542711</td></tr><tr><th>3</th><td>ABBV</td><td>2014-01-02</td><td>52.12</td><td>52.33</td><td>51.52</td><td>51.98</td><td>4569061</td></tr><tr><th>4</th><td>ABC</td><td>2014-01-02</td><td>70.11</td><td>70.23</td><td>69.48</td><td>69.89</td><td>1148391</td></tr><tr><th>5</th><td>ABT</td><td>2014-01-02</td><td>38.09</td><td>38.4</td><td>38.0</td><td>38.23</td><td>4967472</td></tr><tr><th>6</th><td>ACN</td><td>2014-01-02</td><td>81.5</td><td>81.92</td><td>81.09</td><td>81.13</td><td>2405384</td></tr><tr><th>7</th><td>ADBE</td><td>2014-01-02</td><td>59.06</td><td>59.53</td><td>58.94</td><td>59.29</td><td>2746370</td></tr><tr><th>8</th><td>ADI</td><td>2014-01-02</td><td>49.52</td><td>49.75</td><td>49.04</td><td>49.28</td><td>2799092</td></tr><tr><th>9</th><td>ADP</td><td>2014-01-02</td><td>80.17</td><td>80.45</td><td>79.38</td><td>79.86</td><td>1965869</td></tr><tr><th>10</th><td>ADSK</td><td>2014-01-02</td><td>49.33</td><td>49.74</td><td>48.88</td><td>49.25</td><td>2488043</td></tr><tr><th>11</th><td>ADS</td><td>2014-01-02</td><td>262.44</td><td>262.68</td><td>258.78</td><td>262.34</td><td>547808</td></tr><tr><th>12</th><td>AEE</td><td>2014-01-02</td><td>36.05</td><td>36.11</td><td>35.47</td><td>35.53</td><td>1394264</td></tr><tr><th>13</th><td>AEP</td><td>2014-01-02</td><td>46.98</td><td>47.06</td><td>46.04</td><td>46.13</td><td>2752002</td></tr><tr><th>14</th><td>AES</td><td>2014-01-02</td><td>14.51</td><td>14.56</td><td>14.19</td><td>14.27</td><td>3987216</td></tr><tr><th>15</th><td>AET</td><td>2014-01-02</td><td>68.21</td><td>68.6</td><td>67.52</td><td>67.56</td><td>1650687</td></tr><tr><th>16</th><td>AFL</td><td>2014-01-02</td><td>66.63</td><td>66.694</td><td>65.81</td><td>65.96</td><td>1914657</td></tr><tr><th>17</th><td>AGN</td><td>2014-01-02</td><td>167.33</td><td>170.71</td><td>166.594</td><td>168.05</td><td>1268722</td></tr><tr><th>18</th><td>AIG</td><td>2014-01-02</td><td>50.81</td><td>51.3</td><td>50.47</td><td>50.71</td><td>9198092</td></tr><tr><th>19</th><td>AIV</td><td>2014-01-02</td><td>25.9</td><td>26.14</td><td>25.66</td><td>25.91</td><td>844901</td></tr><tr><th>20</th><td>AIZ</td><td>2014-01-02</td><td>66.04</td><td>66.19</td><td>65.15</td><td>65.32</td><td>375524</td></tr><tr><th>21</th><td>AJG</td><td>2014-01-02</td><td>46.67</td><td>46.89</td><td>46.09</td><td>46.15</td><td>483694</td></tr><tr><th>22</th><td>AKAM</td><td>2014-01-02</td><td>47.11</td><td>47.1799</td><td>46.42</td><td>46.53</td><td>935107</td></tr><tr><th>23</th><td>ALB</td><td>2014-01-02</td><td>63.38</td><td>63.6</td><td>62.6</td><td>63.14</td><td>548782</td></tr><tr><th>24</th><td>ALGN</td><td>2014-01-02</td><td>57.06</td><td>57.37</td><td>56.43</td><td>56.96</td><td>437600</td></tr><tr><th>25</th><td>ALK</td><td>2014-01-02</td><td>36.665</td><td>36.965</td><td>36.275</td><td>36.59</td><td>900234</td></tr><tr><th>26</th><td>ALLE</td><td>2014-01-02</td><td>44.08</td><td>44.18</td><td>43.27</td><td>43.65</td><td>992872</td></tr><tr><th>27</th><td>ALL</td><td>2014-01-02</td><td>54.09</td><td>54.45</td><td>53.5</td><td>53.55</td><td>1909106</td></tr><tr><th>28</th><td>ALXN</td><td>2014-01-02</td><td>132.46</td><td>133.82</td><td>130.54</td><td>133.44</td><td>760197</td></tr><tr><th>29</th><td>AMAT</td><td>2014-01-02</td><td>17.69</td><td>17.69</td><td>17.37</td><td>17.55</td><td>7785873</td></tr><tr><th>30</th><td>AMD</td><td>2014-01-02</td><td>3.85</td><td>3.98</td><td>3.84</td><td>3.95</td><td>20569754</td></tr><tr><th>&vellip;</th><td>&vellip;</td><td>&vellip;</td><td>&vellip;</td><td>&vellip;</td><td>&vellip;</td><td>&vellip;</td><td>&vellip;</td></tr></tbody></table>"
      ],
      "text/latex": [
       "\\begin{tabular}{r|ccccccc}\n",
       "\t& symbol & date & open & high & low & close & volume\\\\\n",
       "\t\\hline\n",
       "\t& String & Date… & Float64? & Float64? & Float64? & Float64 & Int64\\\\\n",
       "\t\\hline\n",
       "\t1 & AAPL & 2014-01-02 & 79.3828 & 79.5756 & 78.8601 & 79.0185 & 58791957 \\\\\n",
       "\t2 & AAP & 2014-01-02 & 110.36 & 111.88 & 109.29 & 109.74 & 542711 \\\\\n",
       "\t3 & ABBV & 2014-01-02 & 52.12 & 52.33 & 51.52 & 51.98 & 4569061 \\\\\n",
       "\t4 & ABC & 2014-01-02 & 70.11 & 70.23 & 69.48 & 69.89 & 1148391 \\\\\n",
       "\t5 & ABT & 2014-01-02 & 38.09 & 38.4 & 38.0 & 38.23 & 4967472 \\\\\n",
       "\t6 & ACN & 2014-01-02 & 81.5 & 81.92 & 81.09 & 81.13 & 2405384 \\\\\n",
       "\t7 & ADBE & 2014-01-02 & 59.06 & 59.53 & 58.94 & 59.29 & 2746370 \\\\\n",
       "\t8 & ADI & 2014-01-02 & 49.52 & 49.75 & 49.04 & 49.28 & 2799092 \\\\\n",
       "\t9 & ADP & 2014-01-02 & 80.17 & 80.45 & 79.38 & 79.86 & 1965869 \\\\\n",
       "\t10 & ADSK & 2014-01-02 & 49.33 & 49.74 & 48.88 & 49.25 & 2488043 \\\\\n",
       "\t11 & ADS & 2014-01-02 & 262.44 & 262.68 & 258.78 & 262.34 & 547808 \\\\\n",
       "\t12 & AEE & 2014-01-02 & 36.05 & 36.11 & 35.47 & 35.53 & 1394264 \\\\\n",
       "\t13 & AEP & 2014-01-02 & 46.98 & 47.06 & 46.04 & 46.13 & 2752002 \\\\\n",
       "\t14 & AES & 2014-01-02 & 14.51 & 14.56 & 14.19 & 14.27 & 3987216 \\\\\n",
       "\t15 & AET & 2014-01-02 & 68.21 & 68.6 & 67.52 & 67.56 & 1650687 \\\\\n",
       "\t16 & AFL & 2014-01-02 & 66.63 & 66.694 & 65.81 & 65.96 & 1914657 \\\\\n",
       "\t17 & AGN & 2014-01-02 & 167.33 & 170.71 & 166.594 & 168.05 & 1268722 \\\\\n",
       "\t18 & AIG & 2014-01-02 & 50.81 & 51.3 & 50.47 & 50.71 & 9198092 \\\\\n",
       "\t19 & AIV & 2014-01-02 & 25.9 & 26.14 & 25.66 & 25.91 & 844901 \\\\\n",
       "\t20 & AIZ & 2014-01-02 & 66.04 & 66.19 & 65.15 & 65.32 & 375524 \\\\\n",
       "\t21 & AJG & 2014-01-02 & 46.67 & 46.89 & 46.09 & 46.15 & 483694 \\\\\n",
       "\t22 & AKAM & 2014-01-02 & 47.11 & 47.1799 & 46.42 & 46.53 & 935107 \\\\\n",
       "\t23 & ALB & 2014-01-02 & 63.38 & 63.6 & 62.6 & 63.14 & 548782 \\\\\n",
       "\t24 & ALGN & 2014-01-02 & 57.06 & 57.37 & 56.43 & 56.96 & 437600 \\\\\n",
       "\t25 & ALK & 2014-01-02 & 36.665 & 36.965 & 36.275 & 36.59 & 900234 \\\\\n",
       "\t26 & ALLE & 2014-01-02 & 44.08 & 44.18 & 43.27 & 43.65 & 992872 \\\\\n",
       "\t27 & ALL & 2014-01-02 & 54.09 & 54.45 & 53.5 & 53.55 & 1909106 \\\\\n",
       "\t28 & ALXN & 2014-01-02 & 132.46 & 133.82 & 130.54 & 133.44 & 760197 \\\\\n",
       "\t29 & AMAT & 2014-01-02 & 17.69 & 17.69 & 17.37 & 17.55 & 7785873 \\\\\n",
       "\t30 & AMD & 2014-01-02 & 3.85 & 3.98 & 3.84 & 3.95 & 20569754 \\\\\n",
       "\t$\\dots$ & $\\dots$ & $\\dots$ & $\\dots$ & $\\dots$ & $\\dots$ & $\\dots$ & $\\dots$ \\\\\n",
       "\\end{tabular}\n"
      ],
      "text/plain": [
       "497469×7 DataFrame. Omitted printing of 1 columns\n",
       "│ Row    │ symbol │ date       │ open     │ high     │ low      │ close   │\n",
       "│        │ \u001b[90mString\u001b[39m │ \u001b[90mDates.Date\u001b[39m │ \u001b[90mFloat64?\u001b[39m │ \u001b[90mFloat64?\u001b[39m │ \u001b[90mFloat64?\u001b[39m │ \u001b[90mFloat64\u001b[39m │\n",
       "├────────┼────────┼────────────┼──────────┼──────────┼──────────┼─────────┤\n",
       "│ 1      │ AAPL   │ 2014-01-02 │ 79.3828  │ 79.5756  │ 78.8601  │ 79.0185 │\n",
       "│ 2      │ AAP    │ 2014-01-02 │ 110.36   │ 111.88   │ 109.29   │ 109.74  │\n",
       "│ 3      │ ABBV   │ 2014-01-02 │ 52.12    │ 52.33    │ 51.52    │ 51.98   │\n",
       "│ 4      │ ABC    │ 2014-01-02 │ 70.11    │ 70.23    │ 69.48    │ 69.89   │\n",
       "│ 5      │ ABT    │ 2014-01-02 │ 38.09    │ 38.4     │ 38.0     │ 38.23   │\n",
       "│ 6      │ ACN    │ 2014-01-02 │ 81.5     │ 81.92    │ 81.09    │ 81.13   │\n",
       "│ 7      │ ADBE   │ 2014-01-02 │ 59.06    │ 59.53    │ 58.94    │ 59.29   │\n",
       "│ 8      │ ADI    │ 2014-01-02 │ 49.52    │ 49.75    │ 49.04    │ 49.28   │\n",
       "│ 9      │ ADP    │ 2014-01-02 │ 80.17    │ 80.45    │ 79.38    │ 79.86   │\n",
       "│ 10     │ ADSK   │ 2014-01-02 │ 49.33    │ 49.74    │ 48.88    │ 49.25   │\n",
       "⋮\n",
       "│ 497459 │ XEL    │ 2017-12-29 │ 48.11    │ 48.29    │ 48.07    │ 48.11   │\n",
       "│ 497460 │ XLNX   │ 2017-12-29 │ 68.5     │ 68.75    │ 67.4     │ 67.42   │\n",
       "│ 497461 │ XL     │ 2017-12-29 │ 35.45    │ 35.45    │ 35.16    │ 35.16   │\n",
       "│ 497462 │ XOM    │ 2017-12-29 │ 84.0     │ 84.2     │ 83.64    │ 83.64   │\n",
       "│ 497463 │ XRAY   │ 2017-12-29 │ 66.3     │ 66.72    │ 65.77    │ 65.83   │\n",
       "│ 497464 │ XRX    │ 2017-12-29 │ 29.4     │ 29.47    │ 29.12    │ 29.15   │\n",
       "│ 497465 │ XYL    │ 2017-12-29 │ 68.53    │ 68.8     │ 67.92    │ 68.2    │\n",
       "│ 497466 │ YUM    │ 2017-12-29 │ 82.64    │ 82.71    │ 81.59    │ 81.61   │\n",
       "│ 497467 │ ZBH    │ 2017-12-29 │ 121.75   │ 121.95   │ 120.62   │ 120.67  │\n",
       "│ 497468 │ ZION   │ 2017-12-29 │ 51.28    │ 51.55    │ 50.81    │ 50.83   │\n",
       "│ 497469 │ ZTS    │ 2017-12-29 │ 72.55    │ 72.76    │ 72.04    │ 72.04   │"
      ]
     },
     "execution_count": 87,
     "metadata": {},
     "output_type": "execute_result"
    }
   ],
   "source": [
    "## Remover as linhas 1, 10 e 100\n",
    "sp500[Not([1, 10, 100]), :]\n",
    "\n",
    "# deleta as linhas inplace\n",
    "# delete!(sp500, [1, 10, 100])"
   ]
  },
  {
   "cell_type": "markdown",
   "metadata": {},
   "source": [
    "#### Selecionando apenas uma coluna"
   ]
  },
  {
   "cell_type": "code",
   "execution_count": 21,
   "metadata": {},
   "outputs": [
    {
     "data": {
      "text/plain": [
       "497472-element Array{Float64,1}:\n",
       "  25.36\n",
       "  79.0185\n",
       " 109.74\n",
       "  51.98\n",
       "  69.89\n",
       "  38.23\n",
       "  81.13\n",
       "  59.29\n",
       "  49.28\n",
       "  42.99\n",
       "  79.86\n",
       "  49.25\n",
       " 262.34\n",
       "   ⋮\n",
       " 122.01\n",
       "  48.11\n",
       "  67.42\n",
       "  35.16\n",
       "  83.64\n",
       "  65.83\n",
       "  29.15\n",
       "  68.2\n",
       "  81.61\n",
       " 120.67\n",
       "  50.83\n",
       "  72.04"
      ]
     },
     "execution_count": 21,
     "metadata": {},
     "output_type": "execute_result"
    }
   ],
   "source": [
    "sp500.close\n",
    "sp500.\"close\"\n",
    "sp500[!, :close]\n",
    "sp500[!, \"close\"]\n",
    "\n",
    "# se vc quiser fazer uma cópia da coluna\n",
    "sp500[:, :close] # usar \":\" no lugar de \"!\""
   ]
  },
  {
   "cell_type": "markdown",
   "metadata": {},
   "source": [
    "### Selecionando linhas a partir de condições"
   ]
  },
  {
   "cell_type": "code",
   "execution_count": 33,
   "metadata": {},
   "outputs": [
    {
     "data": {
      "text/html": [
       "<table class=\"data-frame\"><thead><tr><th></th><th>symbol</th><th>date</th><th>open</th><th>high</th><th>low</th><th>close</th><th>volume</th></tr><tr><th></th><th>String</th><th>Date…</th><th>Float64?</th><th>Float64?</th><th>Float64?</th><th>Float64</th><th>Int64</th></tr></thead><tbody><p>8 rows × 7 columns</p><tr><th>1</th><td>WRK</td><td>2015-06-26</td><td><em>missing</em></td><td><em>missing</em></td><td><em>missing</em></td><td>61.9</td><td>100</td></tr><tr><th>2</th><td>WRK</td><td>2015-06-29</td><td>60.92</td><td>60.92</td><td>60.8</td><td>60.8</td><td>300</td></tr><tr><th>3</th><td>DHR</td><td>2016-01-12</td><td><em>missing</em></td><td><em>missing</em></td><td><em>missing</em></td><td>88.55</td><td>0</td></tr><tr><th>4</th><td>O</td><td>2016-01-12</td><td><em>missing</em></td><td><em>missing</em></td><td><em>missing</em></td><td>52.43</td><td>0</td></tr><tr><th>5</th><td>UA</td><td>2016-04-07</td><td><em>missing</em></td><td><em>missing</em></td><td><em>missing</em></td><td>41.56</td><td>0</td></tr><tr><th>6</th><td>FTV</td><td>2016-07-01</td><td><em>missing</em></td><td><em>missing</em></td><td><em>missing</em></td><td>49.54</td><td>0</td></tr><tr><th>7</th><td>BHF</td><td>2017-07-26</td><td><em>missing</em></td><td><em>missing</em></td><td><em>missing</em></td><td>69.0842</td><td>3</td></tr><tr><th>8</th><td>BHF</td><td>2017-07-28</td><td>67.26</td><td>67.26</td><td>67.26</td><td>67.26</td><td>101</td></tr></tbody></table>"
      ],
      "text/latex": [
       "\\begin{tabular}{r|ccccccc}\n",
       "\t& symbol & date & open & high & low & close & volume\\\\\n",
       "\t\\hline\n",
       "\t& String & Date… & Float64? & Float64? & Float64? & Float64 & Int64\\\\\n",
       "\t\\hline\n",
       "\t1 & WRK & 2015-06-26 & \\emph{missing} & \\emph{missing} & \\emph{missing} & 61.9 & 100 \\\\\n",
       "\t2 & WRK & 2015-06-29 & 60.92 & 60.92 & 60.8 & 60.8 & 300 \\\\\n",
       "\t3 & DHR & 2016-01-12 & \\emph{missing} & \\emph{missing} & \\emph{missing} & 88.55 & 0 \\\\\n",
       "\t4 & O & 2016-01-12 & \\emph{missing} & \\emph{missing} & \\emph{missing} & 52.43 & 0 \\\\\n",
       "\t5 & UA & 2016-04-07 & \\emph{missing} & \\emph{missing} & \\emph{missing} & 41.56 & 0 \\\\\n",
       "\t6 & FTV & 2016-07-01 & \\emph{missing} & \\emph{missing} & \\emph{missing} & 49.54 & 0 \\\\\n",
       "\t7 & BHF & 2017-07-26 & \\emph{missing} & \\emph{missing} & \\emph{missing} & 69.0842 & 3 \\\\\n",
       "\t8 & BHF & 2017-07-28 & 67.26 & 67.26 & 67.26 & 67.26 & 101 \\\\\n",
       "\\end{tabular}\n"
      ],
      "text/plain": [
       "8×7 DataFrame. Omitted printing of 1 columns\n",
       "│ Row │ symbol │ date       │ open     │ high     │ low      │ close   │\n",
       "│     │ \u001b[90mString\u001b[39m │ \u001b[90mDates.Date\u001b[39m │ \u001b[90mFloat64?\u001b[39m │ \u001b[90mFloat64?\u001b[39m │ \u001b[90mFloat64?\u001b[39m │ \u001b[90mFloat64\u001b[39m │\n",
       "├─────┼────────┼────────────┼──────────┼──────────┼──────────┼─────────┤\n",
       "│ 1   │ WRK    │ 2015-06-26 │ \u001b[90mmissing\u001b[39m  │ \u001b[90mmissing\u001b[39m  │ \u001b[90mmissing\u001b[39m  │ 61.9    │\n",
       "│ 2   │ WRK    │ 2015-06-29 │ 60.92    │ 60.92    │ 60.8     │ 60.8    │\n",
       "│ 3   │ DHR    │ 2016-01-12 │ \u001b[90mmissing\u001b[39m  │ \u001b[90mmissing\u001b[39m  │ \u001b[90mmissing\u001b[39m  │ 88.55   │\n",
       "│ 4   │ O      │ 2016-01-12 │ \u001b[90mmissing\u001b[39m  │ \u001b[90mmissing\u001b[39m  │ \u001b[90mmissing\u001b[39m  │ 52.43   │\n",
       "│ 5   │ UA     │ 2016-04-07 │ \u001b[90mmissing\u001b[39m  │ \u001b[90mmissing\u001b[39m  │ \u001b[90mmissing\u001b[39m  │ 41.56   │\n",
       "│ 6   │ FTV    │ 2016-07-01 │ \u001b[90mmissing\u001b[39m  │ \u001b[90mmissing\u001b[39m  │ \u001b[90mmissing\u001b[39m  │ 49.54   │\n",
       "│ 7   │ BHF    │ 2017-07-26 │ \u001b[90mmissing\u001b[39m  │ \u001b[90mmissing\u001b[39m  │ \u001b[90mmissing\u001b[39m  │ 69.0842 │\n",
       "│ 8   │ BHF    │ 2017-07-28 │ 67.26    │ 67.26    │ 67.26    │ 67.26   │"
      ]
     },
     "execution_count": 33,
     "metadata": {},
     "output_type": "execute_result"
    }
   ],
   "source": [
    "sp500[sp500.volume .< 1000, :]"
   ]
  },
  {
   "cell_type": "code",
   "execution_count": 35,
   "metadata": {},
   "outputs": [
    {
     "data": {
      "text/html": [
       "<table class=\"data-frame\"><thead><tr><th></th><th>symbol</th><th>date</th><th>open</th><th>high</th><th>low</th><th>close</th><th>volume</th></tr><tr><th></th><th>String</th><th>Date…</th><th>Float64?</th><th>Float64?</th><th>Float64?</th><th>Float64</th><th>Int64</th></tr></thead><tbody><p>5 rows × 7 columns</p><tr><th>1</th><td>WRK</td><td>2015-06-26</td><td><em>missing</em></td><td><em>missing</em></td><td><em>missing</em></td><td>61.9</td><td>100</td></tr><tr><th>2</th><td>WRK</td><td>2015-06-29</td><td>60.92</td><td>60.92</td><td>60.8</td><td>60.8</td><td>300</td></tr><tr><th>3</th><td>DHR</td><td>2016-01-12</td><td><em>missing</em></td><td><em>missing</em></td><td><em>missing</em></td><td>88.55</td><td>0</td></tr><tr><th>4</th><td>BHF</td><td>2017-07-26</td><td><em>missing</em></td><td><em>missing</em></td><td><em>missing</em></td><td>69.0842</td><td>3</td></tr><tr><th>5</th><td>BHF</td><td>2017-07-28</td><td>67.26</td><td>67.26</td><td>67.26</td><td>67.26</td><td>101</td></tr></tbody></table>"
      ],
      "text/latex": [
       "\\begin{tabular}{r|ccccccc}\n",
       "\t& symbol & date & open & high & low & close & volume\\\\\n",
       "\t\\hline\n",
       "\t& String & Date… & Float64? & Float64? & Float64? & Float64 & Int64\\\\\n",
       "\t\\hline\n",
       "\t1 & WRK & 2015-06-26 & \\emph{missing} & \\emph{missing} & \\emph{missing} & 61.9 & 100 \\\\\n",
       "\t2 & WRK & 2015-06-29 & 60.92 & 60.92 & 60.8 & 60.8 & 300 \\\\\n",
       "\t3 & DHR & 2016-01-12 & \\emph{missing} & \\emph{missing} & \\emph{missing} & 88.55 & 0 \\\\\n",
       "\t4 & BHF & 2017-07-26 & \\emph{missing} & \\emph{missing} & \\emph{missing} & 69.0842 & 3 \\\\\n",
       "\t5 & BHF & 2017-07-28 & 67.26 & 67.26 & 67.26 & 67.26 & 101 \\\\\n",
       "\\end{tabular}\n"
      ],
      "text/plain": [
       "5×7 DataFrame. Omitted printing of 1 columns\n",
       "│ Row │ symbol │ date       │ open     │ high     │ low      │ close   │\n",
       "│     │ \u001b[90mString\u001b[39m │ \u001b[90mDates.Date\u001b[39m │ \u001b[90mFloat64?\u001b[39m │ \u001b[90mFloat64?\u001b[39m │ \u001b[90mFloat64?\u001b[39m │ \u001b[90mFloat64\u001b[39m │\n",
       "├─────┼────────┼────────────┼──────────┼──────────┼──────────┼─────────┤\n",
       "│ 1   │ WRK    │ 2015-06-26 │ \u001b[90mmissing\u001b[39m  │ \u001b[90mmissing\u001b[39m  │ \u001b[90mmissing\u001b[39m  │ 61.9    │\n",
       "│ 2   │ WRK    │ 2015-06-29 │ 60.92    │ 60.92    │ 60.8     │ 60.8    │\n",
       "│ 3   │ DHR    │ 2016-01-12 │ \u001b[90mmissing\u001b[39m  │ \u001b[90mmissing\u001b[39m  │ \u001b[90mmissing\u001b[39m  │ 88.55   │\n",
       "│ 4   │ BHF    │ 2017-07-26 │ \u001b[90mmissing\u001b[39m  │ \u001b[90mmissing\u001b[39m  │ \u001b[90mmissing\u001b[39m  │ 69.0842 │\n",
       "│ 5   │ BHF    │ 2017-07-28 │ 67.26    │ 67.26    │ 67.26    │ 67.26   │"
      ]
     },
     "execution_count": 35,
     "metadata": {},
     "output_type": "execute_result"
    }
   ],
   "source": [
    "sp500[(sp500.volume .< 1000).&(sp500.close .> 60),:]"
   ]
  },
  {
   "cell_type": "markdown",
   "metadata": {},
   "source": [
    "### Usando Queryverse"
   ]
  },
  {
   "cell_type": "code",
   "execution_count": 63,
   "metadata": {},
   "outputs": [
    {
     "data": {
      "text/html": [
       "<table class=\"data-frame\"><thead><tr><th></th><th>symbol</th><th>date</th><th>open</th><th>high</th><th>low</th><th>close</th><th>volume</th></tr><tr><th></th><th>String</th><th>Date…</th><th>Float64?</th><th>Float64?</th><th>Float64?</th><th>Float64</th><th>Int64</th></tr></thead><tbody><p>8 rows × 7 columns</p><tr><th>1</th><td>WRK</td><td>2015-06-26</td><td><em>missing</em></td><td><em>missing</em></td><td><em>missing</em></td><td>61.9</td><td>100</td></tr><tr><th>2</th><td>WRK</td><td>2015-06-29</td><td>60.92</td><td>60.92</td><td>60.8</td><td>60.8</td><td>300</td></tr><tr><th>3</th><td>DHR</td><td>2016-01-12</td><td><em>missing</em></td><td><em>missing</em></td><td><em>missing</em></td><td>88.55</td><td>0</td></tr><tr><th>4</th><td>O</td><td>2016-01-12</td><td><em>missing</em></td><td><em>missing</em></td><td><em>missing</em></td><td>52.43</td><td>0</td></tr><tr><th>5</th><td>UA</td><td>2016-04-07</td><td><em>missing</em></td><td><em>missing</em></td><td><em>missing</em></td><td>41.56</td><td>0</td></tr><tr><th>6</th><td>FTV</td><td>2016-07-01</td><td><em>missing</em></td><td><em>missing</em></td><td><em>missing</em></td><td>49.54</td><td>0</td></tr><tr><th>7</th><td>BHF</td><td>2017-07-26</td><td><em>missing</em></td><td><em>missing</em></td><td><em>missing</em></td><td>69.0842</td><td>3</td></tr><tr><th>8</th><td>BHF</td><td>2017-07-28</td><td>67.26</td><td>67.26</td><td>67.26</td><td>67.26</td><td>101</td></tr></tbody></table>"
      ],
      "text/latex": [
       "\\begin{tabular}{r|ccccccc}\n",
       "\t& symbol & date & open & high & low & close & volume\\\\\n",
       "\t\\hline\n",
       "\t& String & Date… & Float64? & Float64? & Float64? & Float64 & Int64\\\\\n",
       "\t\\hline\n",
       "\t1 & WRK & 2015-06-26 & \\emph{missing} & \\emph{missing} & \\emph{missing} & 61.9 & 100 \\\\\n",
       "\t2 & WRK & 2015-06-29 & 60.92 & 60.92 & 60.8 & 60.8 & 300 \\\\\n",
       "\t3 & DHR & 2016-01-12 & \\emph{missing} & \\emph{missing} & \\emph{missing} & 88.55 & 0 \\\\\n",
       "\t4 & O & 2016-01-12 & \\emph{missing} & \\emph{missing} & \\emph{missing} & 52.43 & 0 \\\\\n",
       "\t5 & UA & 2016-04-07 & \\emph{missing} & \\emph{missing} & \\emph{missing} & 41.56 & 0 \\\\\n",
       "\t6 & FTV & 2016-07-01 & \\emph{missing} & \\emph{missing} & \\emph{missing} & 49.54 & 0 \\\\\n",
       "\t7 & BHF & 2017-07-26 & \\emph{missing} & \\emph{missing} & \\emph{missing} & 69.0842 & 3 \\\\\n",
       "\t8 & BHF & 2017-07-28 & 67.26 & 67.26 & 67.26 & 67.26 & 101 \\\\\n",
       "\\end{tabular}\n"
      ],
      "text/plain": [
       "8×7 DataFrame. Omitted printing of 1 columns\n",
       "│ Row │ symbol │ date       │ open     │ high     │ low      │ close   │\n",
       "│     │ \u001b[90mString\u001b[39m │ \u001b[90mDates.Date\u001b[39m │ \u001b[90mFloat64?\u001b[39m │ \u001b[90mFloat64?\u001b[39m │ \u001b[90mFloat64?\u001b[39m │ \u001b[90mFloat64\u001b[39m │\n",
       "├─────┼────────┼────────────┼──────────┼──────────┼──────────┼─────────┤\n",
       "│ 1   │ WRK    │ 2015-06-26 │ \u001b[90mmissing\u001b[39m  │ \u001b[90mmissing\u001b[39m  │ \u001b[90mmissing\u001b[39m  │ 61.9    │\n",
       "│ 2   │ WRK    │ 2015-06-29 │ 60.92    │ 60.92    │ 60.8     │ 60.8    │\n",
       "│ 3   │ DHR    │ 2016-01-12 │ \u001b[90mmissing\u001b[39m  │ \u001b[90mmissing\u001b[39m  │ \u001b[90mmissing\u001b[39m  │ 88.55   │\n",
       "│ 4   │ O      │ 2016-01-12 │ \u001b[90mmissing\u001b[39m  │ \u001b[90mmissing\u001b[39m  │ \u001b[90mmissing\u001b[39m  │ 52.43   │\n",
       "│ 5   │ UA     │ 2016-04-07 │ \u001b[90mmissing\u001b[39m  │ \u001b[90mmissing\u001b[39m  │ \u001b[90mmissing\u001b[39m  │ 41.56   │\n",
       "│ 6   │ FTV    │ 2016-07-01 │ \u001b[90mmissing\u001b[39m  │ \u001b[90mmissing\u001b[39m  │ \u001b[90mmissing\u001b[39m  │ 49.54   │\n",
       "│ 7   │ BHF    │ 2017-07-26 │ \u001b[90mmissing\u001b[39m  │ \u001b[90mmissing\u001b[39m  │ \u001b[90mmissing\u001b[39m  │ 69.0842 │\n",
       "│ 8   │ BHF    │ 2017-07-28 │ 67.26    │ 67.26    │ 67.26    │ 67.26   │"
      ]
     },
     "execution_count": 63,
     "metadata": {},
     "output_type": "execute_result"
    }
   ],
   "source": [
    "sp500 |>\n",
    "    @filter(_.volume < 1000) |>\n",
    "    DataFrame"
   ]
  },
  {
   "cell_type": "code",
   "execution_count": 62,
   "metadata": {},
   "outputs": [
    {
     "data": {
      "text/html": [
       "<table class=\"data-frame\"><thead><tr><th></th><th>symbol</th><th>date</th><th>open</th><th>high</th><th>low</th><th>close</th><th>volume</th></tr><tr><th></th><th>String</th><th>Date…</th><th>Float64?</th><th>Float64?</th><th>Float64?</th><th>Float64</th><th>Int64</th></tr></thead><tbody><p>5 rows × 7 columns</p><tr><th>1</th><td>WRK</td><td>2015-06-26</td><td><em>missing</em></td><td><em>missing</em></td><td><em>missing</em></td><td>61.9</td><td>100</td></tr><tr><th>2</th><td>WRK</td><td>2015-06-29</td><td>60.92</td><td>60.92</td><td>60.8</td><td>60.8</td><td>300</td></tr><tr><th>3</th><td>DHR</td><td>2016-01-12</td><td><em>missing</em></td><td><em>missing</em></td><td><em>missing</em></td><td>88.55</td><td>0</td></tr><tr><th>4</th><td>BHF</td><td>2017-07-26</td><td><em>missing</em></td><td><em>missing</em></td><td><em>missing</em></td><td>69.0842</td><td>3</td></tr><tr><th>5</th><td>BHF</td><td>2017-07-28</td><td>67.26</td><td>67.26</td><td>67.26</td><td>67.26</td><td>101</td></tr></tbody></table>"
      ],
      "text/latex": [
       "\\begin{tabular}{r|ccccccc}\n",
       "\t& symbol & date & open & high & low & close & volume\\\\\n",
       "\t\\hline\n",
       "\t& String & Date… & Float64? & Float64? & Float64? & Float64 & Int64\\\\\n",
       "\t\\hline\n",
       "\t1 & WRK & 2015-06-26 & \\emph{missing} & \\emph{missing} & \\emph{missing} & 61.9 & 100 \\\\\n",
       "\t2 & WRK & 2015-06-29 & 60.92 & 60.92 & 60.8 & 60.8 & 300 \\\\\n",
       "\t3 & DHR & 2016-01-12 & \\emph{missing} & \\emph{missing} & \\emph{missing} & 88.55 & 0 \\\\\n",
       "\t4 & BHF & 2017-07-26 & \\emph{missing} & \\emph{missing} & \\emph{missing} & 69.0842 & 3 \\\\\n",
       "\t5 & BHF & 2017-07-28 & 67.26 & 67.26 & 67.26 & 67.26 & 101 \\\\\n",
       "\\end{tabular}\n"
      ],
      "text/plain": [
       "5×7 DataFrame. Omitted printing of 1 columns\n",
       "│ Row │ symbol │ date       │ open     │ high     │ low      │ close   │\n",
       "│     │ \u001b[90mString\u001b[39m │ \u001b[90mDates.Date\u001b[39m │ \u001b[90mFloat64?\u001b[39m │ \u001b[90mFloat64?\u001b[39m │ \u001b[90mFloat64?\u001b[39m │ \u001b[90mFloat64\u001b[39m │\n",
       "├─────┼────────┼────────────┼──────────┼──────────┼──────────┼─────────┤\n",
       "│ 1   │ WRK    │ 2015-06-26 │ \u001b[90mmissing\u001b[39m  │ \u001b[90mmissing\u001b[39m  │ \u001b[90mmissing\u001b[39m  │ 61.9    │\n",
       "│ 2   │ WRK    │ 2015-06-29 │ 60.92    │ 60.92    │ 60.8     │ 60.8    │\n",
       "│ 3   │ DHR    │ 2016-01-12 │ \u001b[90mmissing\u001b[39m  │ \u001b[90mmissing\u001b[39m  │ \u001b[90mmissing\u001b[39m  │ 88.55   │\n",
       "│ 4   │ BHF    │ 2017-07-26 │ \u001b[90mmissing\u001b[39m  │ \u001b[90mmissing\u001b[39m  │ \u001b[90mmissing\u001b[39m  │ 69.0842 │\n",
       "│ 5   │ BHF    │ 2017-07-28 │ 67.26    │ 67.26    │ 67.26    │ 67.26   │"
      ]
     },
     "execution_count": 62,
     "metadata": {},
     "output_type": "execute_result"
    }
   ],
   "source": [
    "sp500 |>\n",
    "    @filter(_.volume < 1000 && _.close > 60) |>\n",
    "    DataFrame"
   ]
  },
  {
   "cell_type": "markdown",
   "metadata": {},
   "source": [
    "### Select "
   ]
  },
  {
   "cell_type": "code",
   "execution_count": 69,
   "metadata": {},
   "outputs": [
    {
     "name": "stdout",
     "output_type": "stream",
     "text": [
      "  0.104276 seconds (271.57 k allocations: 16.317 MiB)\n"
     ]
    },
    {
     "data": {
      "text/html": [
       "<table class=\"data-frame\"><thead><tr><th></th><th>volume</th></tr><tr><th></th><th>Int64</th></tr></thead><tbody><p>497,472 rows × 1 columns</p><tr><th>1</th><td>8998943</td></tr><tr><th>2</th><td>58791957</td></tr><tr><th>3</th><td>542711</td></tr><tr><th>4</th><td>4569061</td></tr><tr><th>5</th><td>1148391</td></tr><tr><th>6</th><td>4967472</td></tr><tr><th>7</th><td>2405384</td></tr><tr><th>8</th><td>2746370</td></tr><tr><th>9</th><td>2799092</td></tr><tr><th>10</th><td>2753765</td></tr><tr><th>11</th><td>1965869</td></tr><tr><th>12</th><td>2488043</td></tr><tr><th>13</th><td>547808</td></tr><tr><th>14</th><td>1394264</td></tr><tr><th>15</th><td>2752002</td></tr><tr><th>16</th><td>3987216</td></tr><tr><th>17</th><td>1650687</td></tr><tr><th>18</th><td>1914657</td></tr><tr><th>19</th><td>1268722</td></tr><tr><th>20</th><td>9198092</td></tr><tr><th>21</th><td>844901</td></tr><tr><th>22</th><td>375524</td></tr><tr><th>23</th><td>483694</td></tr><tr><th>24</th><td>935107</td></tr><tr><th>25</th><td>548782</td></tr><tr><th>26</th><td>437600</td></tr><tr><th>27</th><td>900234</td></tr><tr><th>28</th><td>992872</td></tr><tr><th>29</th><td>1909106</td></tr><tr><th>30</th><td>760197</td></tr><tr><th>&vellip;</th><td>&vellip;</td></tr></tbody></table>"
      ],
      "text/latex": [
       "\\begin{tabular}{r|c}\n",
       "\t& volume\\\\\n",
       "\t\\hline\n",
       "\t& Int64\\\\\n",
       "\t\\hline\n",
       "\t1 & 8998943 \\\\\n",
       "\t2 & 58791957 \\\\\n",
       "\t3 & 542711 \\\\\n",
       "\t4 & 4569061 \\\\\n",
       "\t5 & 1148391 \\\\\n",
       "\t6 & 4967472 \\\\\n",
       "\t7 & 2405384 \\\\\n",
       "\t8 & 2746370 \\\\\n",
       "\t9 & 2799092 \\\\\n",
       "\t10 & 2753765 \\\\\n",
       "\t11 & 1965869 \\\\\n",
       "\t12 & 2488043 \\\\\n",
       "\t13 & 547808 \\\\\n",
       "\t14 & 1394264 \\\\\n",
       "\t15 & 2752002 \\\\\n",
       "\t16 & 3987216 \\\\\n",
       "\t17 & 1650687 \\\\\n",
       "\t18 & 1914657 \\\\\n",
       "\t19 & 1268722 \\\\\n",
       "\t20 & 9198092 \\\\\n",
       "\t21 & 844901 \\\\\n",
       "\t22 & 375524 \\\\\n",
       "\t23 & 483694 \\\\\n",
       "\t24 & 935107 \\\\\n",
       "\t25 & 548782 \\\\\n",
       "\t26 & 437600 \\\\\n",
       "\t27 & 900234 \\\\\n",
       "\t28 & 992872 \\\\\n",
       "\t29 & 1909106 \\\\\n",
       "\t30 & 760197 \\\\\n",
       "\t$\\dots$ & $\\dots$ \\\\\n",
       "\\end{tabular}\n"
      ],
      "text/plain": [
       "497472×1 DataFrame\n",
       "│ Row    │ volume   │\n",
       "│        │ \u001b[90mInt64\u001b[39m    │\n",
       "├────────┼──────────┤\n",
       "│ 1      │ 8998943  │\n",
       "│ 2      │ 58791957 │\n",
       "│ 3      │ 542711   │\n",
       "│ 4      │ 4569061  │\n",
       "│ 5      │ 1148391  │\n",
       "│ 6      │ 4967472  │\n",
       "│ 7      │ 2405384  │\n",
       "│ 8      │ 2746370  │\n",
       "│ 9      │ 2799092  │\n",
       "│ 10     │ 2753765  │\n",
       "⋮\n",
       "│ 497462 │ 2770633  │\n",
       "│ 497463 │ 959640   │\n",
       "│ 497464 │ 1017964  │\n",
       "│ 497465 │ 8523411  │\n",
       "│ 497466 │ 917075   │\n",
       "│ 497467 │ 1537390  │\n",
       "│ 497468 │ 1046677  │\n",
       "│ 497469 │ 1347613  │\n",
       "│ 497470 │ 1023624  │\n",
       "│ 497471 │ 1261916  │\n",
       "│ 497472 │ 1704122  │"
      ]
     },
     "execution_count": 69,
     "metadata": {},
     "output_type": "execute_result"
    }
   ],
   "source": [
    "# Vamos selecionar as colunas que iniciam com v\n",
    "sp500 |>\n",
    "    @select(startswith(\"v\")) |>\n",
    "    DataFrame"
   ]
  },
  {
   "cell_type": "code",
   "execution_count": 70,
   "metadata": {},
   "outputs": [
    {
     "data": {
      "text/html": [
       "<table class=\"data-frame\"><thead><tr><th></th><th>symbol</th><th>date</th><th>open</th><th>high</th><th>low</th><th>close</th></tr><tr><th></th><th>String</th><th>Date…</th><th>Float64?</th><th>Float64?</th><th>Float64?</th><th>Float64</th></tr></thead><tbody><p>497,472 rows × 6 columns</p><tr><th>1</th><td>AAL</td><td>2014-01-02</td><td>25.07</td><td>25.82</td><td>25.06</td><td>25.36</td></tr><tr><th>2</th><td>AAPL</td><td>2014-01-02</td><td>79.3828</td><td>79.5756</td><td>78.8601</td><td>79.0185</td></tr><tr><th>3</th><td>AAP</td><td>2014-01-02</td><td>110.36</td><td>111.88</td><td>109.29</td><td>109.74</td></tr><tr><th>4</th><td>ABBV</td><td>2014-01-02</td><td>52.12</td><td>52.33</td><td>51.52</td><td>51.98</td></tr><tr><th>5</th><td>ABC</td><td>2014-01-02</td><td>70.11</td><td>70.23</td><td>69.48</td><td>69.89</td></tr><tr><th>6</th><td>ABT</td><td>2014-01-02</td><td>38.09</td><td>38.4</td><td>38.0</td><td>38.23</td></tr><tr><th>7</th><td>ACN</td><td>2014-01-02</td><td>81.5</td><td>81.92</td><td>81.09</td><td>81.13</td></tr><tr><th>8</th><td>ADBE</td><td>2014-01-02</td><td>59.06</td><td>59.53</td><td>58.94</td><td>59.29</td></tr><tr><th>9</th><td>ADI</td><td>2014-01-02</td><td>49.52</td><td>49.75</td><td>49.04</td><td>49.28</td></tr><tr><th>10</th><td>ADM</td><td>2014-01-02</td><td>43.22</td><td>43.29</td><td>42.79</td><td>42.99</td></tr><tr><th>11</th><td>ADP</td><td>2014-01-02</td><td>80.17</td><td>80.45</td><td>79.38</td><td>79.86</td></tr><tr><th>12</th><td>ADSK</td><td>2014-01-02</td><td>49.33</td><td>49.74</td><td>48.88</td><td>49.25</td></tr><tr><th>13</th><td>ADS</td><td>2014-01-02</td><td>262.44</td><td>262.68</td><td>258.78</td><td>262.34</td></tr><tr><th>14</th><td>AEE</td><td>2014-01-02</td><td>36.05</td><td>36.11</td><td>35.47</td><td>35.53</td></tr><tr><th>15</th><td>AEP</td><td>2014-01-02</td><td>46.98</td><td>47.06</td><td>46.04</td><td>46.13</td></tr><tr><th>16</th><td>AES</td><td>2014-01-02</td><td>14.51</td><td>14.56</td><td>14.19</td><td>14.27</td></tr><tr><th>17</th><td>AET</td><td>2014-01-02</td><td>68.21</td><td>68.6</td><td>67.52</td><td>67.56</td></tr><tr><th>18</th><td>AFL</td><td>2014-01-02</td><td>66.63</td><td>66.694</td><td>65.81</td><td>65.96</td></tr><tr><th>19</th><td>AGN</td><td>2014-01-02</td><td>167.33</td><td>170.71</td><td>166.594</td><td>168.05</td></tr><tr><th>20</th><td>AIG</td><td>2014-01-02</td><td>50.81</td><td>51.3</td><td>50.47</td><td>50.71</td></tr><tr><th>21</th><td>AIV</td><td>2014-01-02</td><td>25.9</td><td>26.14</td><td>25.66</td><td>25.91</td></tr><tr><th>22</th><td>AIZ</td><td>2014-01-02</td><td>66.04</td><td>66.19</td><td>65.15</td><td>65.32</td></tr><tr><th>23</th><td>AJG</td><td>2014-01-02</td><td>46.67</td><td>46.89</td><td>46.09</td><td>46.15</td></tr><tr><th>24</th><td>AKAM</td><td>2014-01-02</td><td>47.11</td><td>47.1799</td><td>46.42</td><td>46.53</td></tr><tr><th>25</th><td>ALB</td><td>2014-01-02</td><td>63.38</td><td>63.6</td><td>62.6</td><td>63.14</td></tr><tr><th>26</th><td>ALGN</td><td>2014-01-02</td><td>57.06</td><td>57.37</td><td>56.43</td><td>56.96</td></tr><tr><th>27</th><td>ALK</td><td>2014-01-02</td><td>36.665</td><td>36.965</td><td>36.275</td><td>36.59</td></tr><tr><th>28</th><td>ALLE</td><td>2014-01-02</td><td>44.08</td><td>44.18</td><td>43.27</td><td>43.65</td></tr><tr><th>29</th><td>ALL</td><td>2014-01-02</td><td>54.09</td><td>54.45</td><td>53.5</td><td>53.55</td></tr><tr><th>30</th><td>ALXN</td><td>2014-01-02</td><td>132.46</td><td>133.82</td><td>130.54</td><td>133.44</td></tr><tr><th>&vellip;</th><td>&vellip;</td><td>&vellip;</td><td>&vellip;</td><td>&vellip;</td><td>&vellip;</td><td>&vellip;</td></tr></tbody></table>"
      ],
      "text/latex": [
       "\\begin{tabular}{r|cccccc}\n",
       "\t& symbol & date & open & high & low & close\\\\\n",
       "\t\\hline\n",
       "\t& String & Date… & Float64? & Float64? & Float64? & Float64\\\\\n",
       "\t\\hline\n",
       "\t1 & AAL & 2014-01-02 & 25.07 & 25.82 & 25.06 & 25.36 \\\\\n",
       "\t2 & AAPL & 2014-01-02 & 79.3828 & 79.5756 & 78.8601 & 79.0185 \\\\\n",
       "\t3 & AAP & 2014-01-02 & 110.36 & 111.88 & 109.29 & 109.74 \\\\\n",
       "\t4 & ABBV & 2014-01-02 & 52.12 & 52.33 & 51.52 & 51.98 \\\\\n",
       "\t5 & ABC & 2014-01-02 & 70.11 & 70.23 & 69.48 & 69.89 \\\\\n",
       "\t6 & ABT & 2014-01-02 & 38.09 & 38.4 & 38.0 & 38.23 \\\\\n",
       "\t7 & ACN & 2014-01-02 & 81.5 & 81.92 & 81.09 & 81.13 \\\\\n",
       "\t8 & ADBE & 2014-01-02 & 59.06 & 59.53 & 58.94 & 59.29 \\\\\n",
       "\t9 & ADI & 2014-01-02 & 49.52 & 49.75 & 49.04 & 49.28 \\\\\n",
       "\t10 & ADM & 2014-01-02 & 43.22 & 43.29 & 42.79 & 42.99 \\\\\n",
       "\t11 & ADP & 2014-01-02 & 80.17 & 80.45 & 79.38 & 79.86 \\\\\n",
       "\t12 & ADSK & 2014-01-02 & 49.33 & 49.74 & 48.88 & 49.25 \\\\\n",
       "\t13 & ADS & 2014-01-02 & 262.44 & 262.68 & 258.78 & 262.34 \\\\\n",
       "\t14 & AEE & 2014-01-02 & 36.05 & 36.11 & 35.47 & 35.53 \\\\\n",
       "\t15 & AEP & 2014-01-02 & 46.98 & 47.06 & 46.04 & 46.13 \\\\\n",
       "\t16 & AES & 2014-01-02 & 14.51 & 14.56 & 14.19 & 14.27 \\\\\n",
       "\t17 & AET & 2014-01-02 & 68.21 & 68.6 & 67.52 & 67.56 \\\\\n",
       "\t18 & AFL & 2014-01-02 & 66.63 & 66.694 & 65.81 & 65.96 \\\\\n",
       "\t19 & AGN & 2014-01-02 & 167.33 & 170.71 & 166.594 & 168.05 \\\\\n",
       "\t20 & AIG & 2014-01-02 & 50.81 & 51.3 & 50.47 & 50.71 \\\\\n",
       "\t21 & AIV & 2014-01-02 & 25.9 & 26.14 & 25.66 & 25.91 \\\\\n",
       "\t22 & AIZ & 2014-01-02 & 66.04 & 66.19 & 65.15 & 65.32 \\\\\n",
       "\t23 & AJG & 2014-01-02 & 46.67 & 46.89 & 46.09 & 46.15 \\\\\n",
       "\t24 & AKAM & 2014-01-02 & 47.11 & 47.1799 & 46.42 & 46.53 \\\\\n",
       "\t25 & ALB & 2014-01-02 & 63.38 & 63.6 & 62.6 & 63.14 \\\\\n",
       "\t26 & ALGN & 2014-01-02 & 57.06 & 57.37 & 56.43 & 56.96 \\\\\n",
       "\t27 & ALK & 2014-01-02 & 36.665 & 36.965 & 36.275 & 36.59 \\\\\n",
       "\t28 & ALLE & 2014-01-02 & 44.08 & 44.18 & 43.27 & 43.65 \\\\\n",
       "\t29 & ALL & 2014-01-02 & 54.09 & 54.45 & 53.5 & 53.55 \\\\\n",
       "\t30 & ALXN & 2014-01-02 & 132.46 & 133.82 & 130.54 & 133.44 \\\\\n",
       "\t$\\dots$ & $\\dots$ & $\\dots$ & $\\dots$ & $\\dots$ & $\\dots$ & $\\dots$ \\\\\n",
       "\\end{tabular}\n"
      ],
      "text/plain": [
       "497472×6 DataFrame\n",
       "│ Row    │ symbol │ date       │ open     │ high     │ low      │ close   │\n",
       "│        │ \u001b[90mString\u001b[39m │ \u001b[90mDates.Date\u001b[39m │ \u001b[90mFloat64?\u001b[39m │ \u001b[90mFloat64?\u001b[39m │ \u001b[90mFloat64?\u001b[39m │ \u001b[90mFloat64\u001b[39m │\n",
       "├────────┼────────┼────────────┼──────────┼──────────┼──────────┼─────────┤\n",
       "│ 1      │ AAL    │ 2014-01-02 │ 25.07    │ 25.82    │ 25.06    │ 25.36   │\n",
       "│ 2      │ AAPL   │ 2014-01-02 │ 79.3828  │ 79.5756  │ 78.8601  │ 79.0185 │\n",
       "│ 3      │ AAP    │ 2014-01-02 │ 110.36   │ 111.88   │ 109.29   │ 109.74  │\n",
       "│ 4      │ ABBV   │ 2014-01-02 │ 52.12    │ 52.33    │ 51.52    │ 51.98   │\n",
       "│ 5      │ ABC    │ 2014-01-02 │ 70.11    │ 70.23    │ 69.48    │ 69.89   │\n",
       "│ 6      │ ABT    │ 2014-01-02 │ 38.09    │ 38.4     │ 38.0     │ 38.23   │\n",
       "│ 7      │ ACN    │ 2014-01-02 │ 81.5     │ 81.92    │ 81.09    │ 81.13   │\n",
       "│ 8      │ ADBE   │ 2014-01-02 │ 59.06    │ 59.53    │ 58.94    │ 59.29   │\n",
       "│ 9      │ ADI    │ 2014-01-02 │ 49.52    │ 49.75    │ 49.04    │ 49.28   │\n",
       "│ 10     │ ADM    │ 2014-01-02 │ 43.22    │ 43.29    │ 42.79    │ 42.99   │\n",
       "⋮\n",
       "│ 497462 │ XEL    │ 2017-12-29 │ 48.11    │ 48.29    │ 48.07    │ 48.11   │\n",
       "│ 497463 │ XLNX   │ 2017-12-29 │ 68.5     │ 68.75    │ 67.4     │ 67.42   │\n",
       "│ 497464 │ XL     │ 2017-12-29 │ 35.45    │ 35.45    │ 35.16    │ 35.16   │\n",
       "│ 497465 │ XOM    │ 2017-12-29 │ 84.0     │ 84.2     │ 83.64    │ 83.64   │\n",
       "│ 497466 │ XRAY   │ 2017-12-29 │ 66.3     │ 66.72    │ 65.77    │ 65.83   │\n",
       "│ 497467 │ XRX    │ 2017-12-29 │ 29.4     │ 29.47    │ 29.12    │ 29.15   │\n",
       "│ 497468 │ XYL    │ 2017-12-29 │ 68.53    │ 68.8     │ 67.92    │ 68.2    │\n",
       "│ 497469 │ YUM    │ 2017-12-29 │ 82.64    │ 82.71    │ 81.59    │ 81.61   │\n",
       "│ 497470 │ ZBH    │ 2017-12-29 │ 121.75   │ 121.95   │ 120.62   │ 120.67  │\n",
       "│ 497471 │ ZION   │ 2017-12-29 │ 51.28    │ 51.55    │ 50.81    │ 50.83   │\n",
       "│ 497472 │ ZTS    │ 2017-12-29 │ 72.55    │ 72.76    │ 72.04    │ 72.04   │"
      ]
     },
     "execution_count": 70,
     "metadata": {},
     "output_type": "execute_result"
    }
   ],
   "source": [
    "# Não vamos selecionar as colunas que iniciam com v\n",
    "sp500 |>\n",
    "    @select(!startswith(\"v\")) |>\n",
    "    DataFrame"
   ]
  },
  {
   "cell_type": "code",
   "execution_count": 81,
   "metadata": {},
   "outputs": [
    {
     "data": {
      "text/html": [
       "<table class=\"data-frame\"><thead><tr><th></th><th>close</th><th>volume</th></tr><tr><th></th><th>Float64</th><th>Int64</th></tr></thead><tbody><p>497,472 rows × 2 columns</p><tr><th>1</th><td>25.36</td><td>8998943</td></tr><tr><th>2</th><td>79.0185</td><td>58791957</td></tr><tr><th>3</th><td>109.74</td><td>542711</td></tr><tr><th>4</th><td>51.98</td><td>4569061</td></tr><tr><th>5</th><td>69.89</td><td>1148391</td></tr><tr><th>6</th><td>38.23</td><td>4967472</td></tr><tr><th>7</th><td>81.13</td><td>2405384</td></tr><tr><th>8</th><td>59.29</td><td>2746370</td></tr><tr><th>9</th><td>49.28</td><td>2799092</td></tr><tr><th>10</th><td>42.99</td><td>2753765</td></tr><tr><th>11</th><td>79.86</td><td>1965869</td></tr><tr><th>12</th><td>49.25</td><td>2488043</td></tr><tr><th>13</th><td>262.34</td><td>547808</td></tr><tr><th>14</th><td>35.53</td><td>1394264</td></tr><tr><th>15</th><td>46.13</td><td>2752002</td></tr><tr><th>16</th><td>14.27</td><td>3987216</td></tr><tr><th>17</th><td>67.56</td><td>1650687</td></tr><tr><th>18</th><td>65.96</td><td>1914657</td></tr><tr><th>19</th><td>168.05</td><td>1268722</td></tr><tr><th>20</th><td>50.71</td><td>9198092</td></tr><tr><th>21</th><td>25.91</td><td>844901</td></tr><tr><th>22</th><td>65.32</td><td>375524</td></tr><tr><th>23</th><td>46.15</td><td>483694</td></tr><tr><th>24</th><td>46.53</td><td>935107</td></tr><tr><th>25</th><td>63.14</td><td>548782</td></tr><tr><th>26</th><td>56.96</td><td>437600</td></tr><tr><th>27</th><td>36.59</td><td>900234</td></tr><tr><th>28</th><td>43.65</td><td>992872</td></tr><tr><th>29</th><td>53.55</td><td>1909106</td></tr><tr><th>30</th><td>133.44</td><td>760197</td></tr><tr><th>&vellip;</th><td>&vellip;</td><td>&vellip;</td></tr></tbody></table>"
      ],
      "text/latex": [
       "\\begin{tabular}{r|cc}\n",
       "\t& close & volume\\\\\n",
       "\t\\hline\n",
       "\t& Float64 & Int64\\\\\n",
       "\t\\hline\n",
       "\t1 & 25.36 & 8998943 \\\\\n",
       "\t2 & 79.0185 & 58791957 \\\\\n",
       "\t3 & 109.74 & 542711 \\\\\n",
       "\t4 & 51.98 & 4569061 \\\\\n",
       "\t5 & 69.89 & 1148391 \\\\\n",
       "\t6 & 38.23 & 4967472 \\\\\n",
       "\t7 & 81.13 & 2405384 \\\\\n",
       "\t8 & 59.29 & 2746370 \\\\\n",
       "\t9 & 49.28 & 2799092 \\\\\n",
       "\t10 & 42.99 & 2753765 \\\\\n",
       "\t11 & 79.86 & 1965869 \\\\\n",
       "\t12 & 49.25 & 2488043 \\\\\n",
       "\t13 & 262.34 & 547808 \\\\\n",
       "\t14 & 35.53 & 1394264 \\\\\n",
       "\t15 & 46.13 & 2752002 \\\\\n",
       "\t16 & 14.27 & 3987216 \\\\\n",
       "\t17 & 67.56 & 1650687 \\\\\n",
       "\t18 & 65.96 & 1914657 \\\\\n",
       "\t19 & 168.05 & 1268722 \\\\\n",
       "\t20 & 50.71 & 9198092 \\\\\n",
       "\t21 & 25.91 & 844901 \\\\\n",
       "\t22 & 65.32 & 375524 \\\\\n",
       "\t23 & 46.15 & 483694 \\\\\n",
       "\t24 & 46.53 & 935107 \\\\\n",
       "\t25 & 63.14 & 548782 \\\\\n",
       "\t26 & 56.96 & 437600 \\\\\n",
       "\t27 & 36.59 & 900234 \\\\\n",
       "\t28 & 43.65 & 992872 \\\\\n",
       "\t29 & 53.55 & 1909106 \\\\\n",
       "\t30 & 133.44 & 760197 \\\\\n",
       "\t$\\dots$ & $\\dots$ & $\\dots$ \\\\\n",
       "\\end{tabular}\n"
      ],
      "text/plain": [
       "497472×2 DataFrame\n",
       "│ Row    │ close   │ volume   │\n",
       "│        │ \u001b[90mFloat64\u001b[39m │ \u001b[90mInt64\u001b[39m    │\n",
       "├────────┼─────────┼──────────┤\n",
       "│ 1      │ 25.36   │ 8998943  │\n",
       "│ 2      │ 79.0185 │ 58791957 │\n",
       "│ 3      │ 109.74  │ 542711   │\n",
       "│ 4      │ 51.98   │ 4569061  │\n",
       "│ 5      │ 69.89   │ 1148391  │\n",
       "│ 6      │ 38.23   │ 4967472  │\n",
       "│ 7      │ 81.13   │ 2405384  │\n",
       "│ 8      │ 59.29   │ 2746370  │\n",
       "│ 9      │ 49.28   │ 2799092  │\n",
       "│ 10     │ 42.99   │ 2753765  │\n",
       "⋮\n",
       "│ 497462 │ 48.11   │ 2770633  │\n",
       "│ 497463 │ 67.42   │ 959640   │\n",
       "│ 497464 │ 35.16   │ 1017964  │\n",
       "│ 497465 │ 83.64   │ 8523411  │\n",
       "│ 497466 │ 65.83   │ 917075   │\n",
       "│ 497467 │ 29.15   │ 1537390  │\n",
       "│ 497468 │ 68.2    │ 1046677  │\n",
       "│ 497469 │ 81.61   │ 1347613  │\n",
       "│ 497470 │ 120.67  │ 1023624  │\n",
       "│ 497471 │ 50.83   │ 1261916  │\n",
       "│ 497472 │ 72.04   │ 1704122  │"
      ]
     },
     "execution_count": 81,
     "metadata": {},
     "output_type": "execute_result"
    }
   ],
   "source": [
    "# Mais de uma condição\n",
    "sp500 |>\n",
    "    @select(startswith(\"c\"), startswith(\"v\")) |>\n",
    "    DataFrame"
   ]
  },
  {
   "cell_type": "markdown",
   "metadata": {},
   "source": [
    "### Groupby"
   ]
  },
  {
   "cell_type": "code",
   "execution_count": 45,
   "metadata": {},
   "outputs": [],
   "source": [
    "using Statistics"
   ]
  },
  {
   "cell_type": "code",
   "execution_count": 51,
   "metadata": {},
   "outputs": [
    {
     "data": {
      "application/vnd.dataresource+json": {
       "data": [
        {
         "Key": "AAL",
         "media": 9751521.264150944
        },
        {
         "Key": "AAPL",
         "media": 45169571.17080437
        },
        {
         "Key": "AAP",
         "media": 1137306.708043694
        },
        {
         "Key": "ABBV",
         "media": 8408835.982125124
        },
        {
         "Key": "ABC",
         "media": 2020126.5034756702
        },
        {
         "Key": "ABT",
         "media": 6877534.586891757
        },
        {
         "Key": "ACN",
         "media": 2485149.1857000994
        },
        {
         "Key": "ADBE",
         "media": 2864825.352532274
        },
        {
         "Key": "ADI",
         "media": 2521618.819265144
        },
        {
         "Key": "ADM",
         "media": 3532299.542204568
        },
        {
         "Key": "ADP",
         "media": 2075933.8550148958
        },
        {
         "Key": "ADSK",
         "media": 2374625.424031778
        },
        {
         "Key": "ADS",
         "media": 628081.2919563059
        },
        {
         "Key": "AEE",
         "media": 1622603.01489573
        },
        {
         "Key": "AEP",
         "media": 2652208.299900695
        },
        {
         "Key": "AES",
         "media": 5489659.383316782
        },
        {
         "Key": "AET",
         "media": 2659575.2581926514
        },
        {
         "Key": "AFL",
         "media": 2000464.3008937438
        },
        {
         "Key": "AGN",
         "media": 3211514.722939424
        },
        {
         "Key": "AIG",
         "media": 7387528.882820258
        },
        {
         "Key": "AIV",
         "media": 1213160.9016881827
        },
        {
         "Key": "AIZ",
         "media": 526565.9354518371
        },
        {
         "Key": "AJG",
         "media": 986975.1906653426
        },
        {
         "Key": "AKAM",
         "media": 2099811.7100297916
        },
        {
         "Key": "ALB",
         "media": 1234936.3803376365
        },
        {
         "Key": "ALGN",
         "media": 881906.6653426018
        },
        {
         "Key": "ALK",
         "media": 1470175.7904667328
        },
        {
         "Key": "ALLE",
         "media": 710360.9572989077
        },
        {
         "Key": "ALL",
         "media": 2282951.1946375375
        },
        {
         "Key": "ALXN",
         "media": 1833761.8172790466
        },
        {
         "Key": "AMAT",
         "media": 13382835.246276068
        },
        {
         "Key": "AMD",
         "media": 33289509.07447865
        },
        {
         "Key": "AME",
         "media": 1336122.3763654418
        },
        {
         "Key": "AMGN",
         "media": 3426952.028798411
        },
        {
         "Key": "AMG",
         "media": 472021.3426017875
        },
        {
         "Key": "AMP",
         "media": 1116452.3664349553
        },
        {
         "Key": "AMT",
         "media": 2139419.0963257197
        },
        {
         "Key": "AMZN",
         "media": 3880124.5670307847
        },
        {
         "Key": "ANDV",
         "media": 2422015.7805362465
        },
        {
         "Key": "ANSS",
         "media": 466012.74875868915
        },
        {
         "Key": "ANTM",
         "media": 1857724.600794439
        },
        {
         "Key": "AON",
         "media": 1222668.8987090366
        },
        {
         "Key": "AOS",
         "media": 1220657.5739821251
        },
        {
         "Key": "APA",
         "media": 3959927.909632572
        },
        {
         "Key": "APC",
         "media": 5323283.742800397
        },
        {
         "Key": "APD",
         "media": 1325574.0417080438
        },
        {
         "Key": "APH",
         "media": 1216058.536246276
        },
        {
         "Key": "ARE",
         "media": 524500.3634558093
        },
        {
         "Key": "ARNC",
         "media": 6879965.9662363455
        },
        {
         "Key": "ATVI",
         "media": 7644870.510427011
        },
        {
         "Key": "AVB",
         "media": 765749.1132075472
        },
        {
         "Key": "AVGO",
         "media": 2889738.394240318
        },
        {
         "Key": "AVY",
         "media": 769322.4399205561
        },
        {
         "Key": "AWK",
         "media": 963622.2552135055
        },
        {
         "Key": "AXP",
         "media": 4826863.14796425
        },
        {
         "Key": "AYI",
         "media": 503364.8093346574
        },
        {
         "Key": "AZO",
         "media": 321176.97120158887
        },
        {
         "Key": "A",
         "media": 2191931.5670307847
        },
        {
         "Key": "BAC",
         "media": 89362903.7020854
        },
        {
         "Key": "BAX",
         "media": 4298420.541211519
        },
        {
         "Key": "BA",
         "media": 3982024.1866931478
        },
        {
         "Key": "BBT",
         "media": 4291543.842105263
        },
        {
         "Key": "BBY",
         "media": 5377656.535253228
        },
        {
         "Key": "BDX",
         "media": 1109879.4726911618
        },
        {
         "Key": "BEN",
         "media": 2582417.9285004963
        },
        {
         "Key": "BF.B",
         "media": 1057751.102284012
        },
        {
         "Key": "BIIB",
         "media": 1730180.6683217478
        },
        {
         "Key": "BK",
         "media": 5424443.331678253
        },
        {
         "Key": "BLK",
         "media": 620532.2522343595
        },
        {
         "Key": "BLL",
         "media": 2436812.0139026814
        },
        {
         "Key": "BMY",
         "media": 7921294.675273089
        },
        {
         "Key": "BRK.B",
         "media": 3538845.971201589
        },
        {
         "Key": "BSX",
         "media": 9695616.141012909
        },
        {
         "Key": "BWA",
         "media": 1947358.1936444887
        },
        {
         "Key": "BXP",
         "media": 766978.3704071499
        },
        {
         "Key": "CAG",
         "media": 3292329.9652432967
        },
        {
         "Key": "CAH",
         "media": 2289203.586891758
        },
        {
         "Key": "CAT",
         "media": 5260017.3008937435
        },
        {
         "Key": "CA",
         "media": 2718395.8123138035
        },
        {
         "Key": "CBG",
         "media": 2188037.1181727904
        },
        {
         "Key": "CBOE",
         "media": 756971.1181727905
        },
        {
         "Key": "CBS",
         "media": 5625879.418073486
        },
        {
         "Key": "CB",
         "media": 1613372.8679245282
        },
        {
         "Key": "CCI",
         "media": 2424164.9314796426
        },
        {
         "Key": "CCL",
         "media": 3999016.5124131083
        },
        {
         "Key": "CDNS",
         "media": 2835744.020854022
        },
        {
         "Key": "CELG",
         "media": 5165598.175769613
        },
        {
         "Key": "CERN",
         "media": 2148275.070506455
        },
        {
         "Key": "CF",
         "media": 4143026.1876861965
        },
        {
         "Key": "CHD",
         "media": 1600977.9463753724
        },
        {
         "Key": "CHK",
         "media": 27885401.57199603
        },
        {
         "Key": "CHRW",
         "media": 1594421.9642502482
        },
        {
         "Key": "CHTR",
         "media": 1690510.4965243298
        },
        {
         "Key": "CINF",
         "media": 589876.1281032771
        },
        {
         "Key": "CI",
         "media": 1624901.9165839127
        },
        {
         "Key": "CLX",
         "media": 970822.6633565045
        },
        {
         "Key": "CL",
         "media": 3310711.1976166833
        },
        {
         "Key": "CMA",
         "media": 1972468.061569017
        },
        {
         "Key": "CMCSA",
         "media": 24603642.48957299
        },
        {
         "Key": "CME",
         "media": 1553869.9364448858
        },
        {
         "Key": "CMG",
         "media": 902061.2055610724
        },
        {
         "Key": "CMI",
         "media": 1646010.4270109236
        },
        {
         "Key": "CMS",
         "media": 2268865.547169811
        },
        {
         "Key": "CNC",
         "media": 1717232.4468718967
        },
        {
         "Key": "CNP",
         "media": 3795752.382323734
        },
        {
         "Key": "COF",
         "media": 3022717.4786494537
        },
        {
         "Key": "COG",
         "media": 6400357.367428004
        },
        {
         "Key": "COL",
         "media": 1079078.221449851
        },
        {
         "Key": "COO",
         "media": 480214.27010923537
        },
        {
         "Key": "COP",
         "media": 7909820.335650447
        },
        {
         "Key": "COST",
         "media": 2428074.0764647466
        },
        {
         "Key": "COTY",
         "media": 3173534.637537239
        },
        {
         "Key": "CPB",
         "media": 1739926.332671301
        },
        {
         "Key": "CRM",
         "media": 4952395.655412115
        },
        {
         "Key": "CSCO",
         "media": 26250828.448857993
        },
        {
         "Key": "CSX",
         "media": 8025956.561072493
        },
        {
         "Key": "CTAS",
         "media": 623357.5322740815
        },
        {
         "Key": "CTL",
         "media": 6729053.664349553
        },
        {
         "Key": "CTSH",
         "media": 4226123.110228402
        },
        {
         "Key": "CTXS",
         "media": 1906965.367428004
        },
        {
         "Key": "CVS",
         "media": 5591303.514399205
        },
        {
         "Key": "CVX",
         "media": 7354249.023833168
        },
        {
         "Key": "CXO",
         "media": 1510154.005958292
        },
        {
         "Key": "C",
         "media": 19485211.842105262
        },
        {
         "Key": "DAL",
         "media": 10436452.416087389
        },
        {
         "Key": "DE",
         "media": 2978777.7567030783
        },
        {
         "Key": "DFS",
         "media": 2979437.8649453823
        },
        {
         "Key": "DGX",
         "media": 1329907.3714001987
        },
        {
         "Key": "DG",
         "media": 3635020.280039722
        },
        {
         "Key": "DHI",
         "media": 4969840.962264151
        },
        {
         "Key": "DHR",
         "media": 2960003.568844221
        },
        {
         "Key": "DISCA",
         "media": 3405331.9443892753
        },
        {
         "Key": "DISCK",
         "media": 1962736.5640516386
        },
        {
         "Key": "DISH",
         "media": 2246613.174776564
        },
        {
         "Key": "DIS",
         "media": 7642072.732869911
        },
        {
         "Key": "DLR",
         "media": 1368729.1986097319
        },
        {
         "Key": "DLTR",
         "media": 2691963.6901688185
        },
        {
         "Key": "DOV",
         "media": 1433598.3485600795
        },
        {
         "Key": "DPS",
         "media": 1369705.2591857002
        },
        {
         "Key": "DRE",
         "media": 2492055.8341608737
        },
        {
         "Key": "DRI",
         "media": 1668822.031777557
        },
        {
         "Key": "DTE",
         "media": 1031724.9205561073
        },
        {
         "Key": "DUK",
         "media": 3123601.263157895
        },
        {
         "Key": "DVA",
         "media": 1377418.7845084409
        },
        {
         "Key": "DVN",
         "media": 5519452.315789473
        },
        {
         "Key": "D",
         "media": 2552334.6097318768
        },
        {
         "Key": "EA",
         "media": 3551909.0566037735
        },
        {
         "Key": "EBAY",
         "media": 10904865.88182721
        },
        {
         "Key": "ECL",
         "media": 1106049.0456802384
        },
        {
         "Key": "ED",
         "media": 1997109.7239324728
        },
        {
         "Key": "EFX",
         "media": 836199.2264150943
        },
        {
         "Key": "EIX",
         "media": 2056768.6037735848
        },
        {
         "Key": "EL",
         "media": 1840636.7944389274
        },
        {
         "Key": "EMN",
         "media": 1351735.2115193645
        },
        {
         "Key": "EMR",
         "media": 3874576.0367428004
        },
        {
         "Key": "EOG",
         "media": 3972735.334657398
        },
        {
         "Key": "EQIX",
         "media": 687478.9384309831
        },
        {
         "Key": "EQR",
         "media": 1887416.4766633564
        },
        {
         "Key": "EQT",
         "media": 2016539.4041708044
        },
        {
         "Key": "ESRX",
         "media": 4316552.897715988
        },
        {
         "Key": "ESS",
         "media": 403199.6871896723
        },
        {
         "Key": "ES",
         "media": 1588160.1023069208
        },
        {
         "Key": "ETFC",
         "media": 3348223.8470705063
        },
        {
         "Key": "ETN",
         "media": 2811855.002979146
        },
        {
         "Key": "ETR",
         "media": 1433531.571002979
        },
        {
         "Key": "EW",
         "media": 1967245.411122145
        },
        {
         "Key": "EXC",
         "media": 6448901.04468719
        },
        {
         "Key": "EXPD",
         "media": 1360566.5223435948
        },
        {
         "Key": "EXPE",
         "media": 2144959.3833167823
        },
        {
         "Key": "EXR",
         "media": 954868.2045680238
        },
        {
         "Key": "FAST",
         "media": 2569519.9781529293
        },
        {
         "Key": "FBHS",
         "media": 1339359.489572989
        },
        {
         "Key": "FB",
         "media": 29227823.607745778
        },
        {
         "Key": "FCX",
         "media": 25619817.831181727
        },
        {
         "Key": "FDX",
         "media": 1707865.7090367428
        },
        {
         "Key": "FE",
         "media": 3820869.3475670307
        },
        {
         "Key": "FFIV",
         "media": 1016062.3306852035
        },
        {
         "Key": "FISV",
         "media": 1068542.3316782522
        },
        {
         "Key": "FIS",
         "media": 1576919.7765640516
        },
        {
         "Key": "FITB",
         "media": 7337367.6583912615
        },
        {
         "Key": "FLIR",
         "media": 907437.1181727905
        },
        {
         "Key": "FLR",
         "media": 1486154.4995034756
        },
        {
         "Key": "FLS",
         "media": 1317027.775571003
        },
        {
         "Key": "FL",
         "media": 2479203.148957299
        },
        {
         "Key": "FMC",
         "media": 1226765.329692155
        },
        {
         "Key": "FOXA",
         "media": 12038988.197616683
        },
        {
         "Key": "FOX",
         "media": 3815001.3992055613
        },
        {
         "Key": "FRT",
         "media": 424499.8411122145
        },
        {
         "Key": "FTI",
         "media": 3265395.092353525
        },
        {
         "Key": "F",
         "media": 32914300.938430984
        },
        {
         "Key": "GD",
         "media": 1535392.6921549155
        },
        {
         "Key": "GE",
         "media": 41443942.51936445
        },
        {
         "Key": "GGP",
         "media": 4759001.089374379
        },
        {
         "Key": "GILD",
         "media": 11462190.735849056
        },
        {
         "Key": "GIS",
         "media": 3306504.060575968
        },
        {
         "Key": "GLW",
         "media": 8809419.79344588
        },
        {
         "Key": "GM",
         "media": 14941006.449851044
        },
        {
         "Key": "GOOGL",
         "media": 2107183.871896723
        },
        {
         "Key": "GPC",
         "media": 740102.2780536247
        },
        {
         "Key": "GPN",
         "media": 1373203.1857000992
        },
        {
         "Key": "GPS",
         "media": 5419374.817279046
        },
        {
         "Key": "GRMN",
         "media": 1338494.6216484609
        },
        {
         "Key": "GS",
         "media": 3176691.2075471696
        },
        {
         "Key": "GT",
         "media": 3447586.0168818273
        },
        {
         "Key": "GWW",
         "media": 675196.2850049653
        },
        {
         "Key": "HAL",
         "media": 10880856
        },
        {
         "Key": "HAS",
         "media": 1274801.165839126
        },
        {
         "Key": "HBAN",
         "media": 10356219.774577955
        },
        {
         "Key": "HBI",
         "media": 4024538.08142999
        },
        {
         "Key": "HCA",
         "media": 3147744.2055610726
        },
        {
         "Key": "HCN",
         "media": 2169049.6425024825
        },
        {
         "Key": "HCP",
         "media": 3450969.7715988085
        },
        {
         "Key": "HD",
         "media": 5291993.037735849
        },
        {
         "Key": "HES",
         "media": 3732980.9433962265
        },
        {
         "Key": "HIG",
         "media": 2921863.2691161865
        },
        {
         "Key": "HII",
         "media": 333140.6494538232
        },
        {
         "Key": "HOG",
         "media": 2292037.2383316783
        },
        {
         "Key": "HOLX",
         "media": 2559188.204568024
        },
        {
         "Key": "HON",
         "media": 2996014.2264150945
        },
        {
         "Key": "HP",
         "media": 1898833.7924528301
        },
        {
         "Key": "HRB",
         "media": 2937154.203574975
        },
        {
         "Key": "HRL",
         "media": 2185867.6206554123
        },
        {
         "Key": "HRS",
         "media": 814584.7884806355
        },
        {
         "Key": "HSIC",
         "media": 1075231.1966236345
        },
        {
         "Key": "HST",
         "media": 7882477.854021847
        },
        {
         "Key": "HSY",
         "media": 1188105.4528301887
        },
        {
         "Key": "HUM",
         "media": 1398356.8460774578
        },
        {
         "Key": "IBM",
         "media": 4304876.615690169
        },
        {
         "Key": "ICE",
         "media": 3598467.2296222663
        },
        {
         "Key": "IDXX",
         "media": 712680.8848063555
        },
        {
         "Key": "IFF",
         "media": 473382.40913604765
        },
        {
         "Key": "ILMN",
         "media": 1391562.0824230388
        },
        {
         "Key": "INCY",
         "media": 1591348.834160874
        },
        {
         "Key": "INTC",
         "media": 27161138.316782523
        },
        {
         "Key": "INTU",
         "media": 1592066.766633565
        },
        {
         "Key": "IPG",
         "media": 4431021.605759682
        },
        {
         "Key": "IP",
         "media": 3029514.645481629
        },
        {
         "Key": "IQV",
         "media": 1046291.5948361469
        },
        {
         "Key": "IRM",
         "media": 1681076.1817279046
        },
        {
         "Key": "IR",
         "media": 2044839.8351539224
        },
        {
         "Key": "ISRG",
         "media": 1061752.2075471699
        },
        {
         "Key": "ITW",
         "media": 1636556.099304866
        },
        {
         "Key": "IT",
         "media": 463316.3932472691
        },
        {
         "Key": "IVZ",
         "media": 3224609.776564052
        },
        {
         "Key": "JBHT",
         "media": 928635.6037735849
        },
        {
         "Key": "JCI",
         "media": 3811157.4816285996
        },
        {
         "Key": "JEC",
         "media": 1059752.676266137
        },
        {
         "Key": "JNJ",
         "media": 7298176.874875869
        },
        {
         "Key": "JNPR",
         "media": 5651145.684210527
        },
        {
         "Key": "JPM",
         "media": 15680002.048659384
        },
        {
         "Key": "JWN",
         "media": 2461174.6981132077
        },
        {
         "Key": "KEY",
         "media": 11852610.001986098
        },
        {
         "Key": "KIM",
         "media": 3332048.474677259
        },
        {
         "Key": "KLAC",
         "media": 1528921.6365441906
        },
        {
         "Key": "KMB",
         "media": 1716954.7388282025
        },
        {
         "Key": "KMI",
         "media": 15388090.723932473
        },
        {
         "Key": "KMX",
         "media": 2144254.688182721
        },
        {
         "Key": "KORS",
         "media": 3309939.9026812315
        },
        {
         "Key": "KO",
         "media": 13604295.628599802
        },
        {
         "Key": "KR",
         "media": 9095971.687189672
        },
        {
         "Key": "KSS",
         "media": 3580094.637537239
        },
        {
         "Key": "KSU",
         "media": 1331588.3624627606
        },
        {
         "Key": "K",
         "media": 2093119.5640516386
        },
        {
         "Key": "LB",
         "media": 2528265.9741807347
        },
        {
         "Key": "LEG",
         "media": 954525.4726911619
        },
        {
         "Key": "LEN",
         "media": 2946344.7596822246
        },
        {
         "Key": "LH",
         "media": 912762.9354518371
        },
        {
         "Key": "LKQ",
         "media": 1956678.5064548163
        },
        {
         "Key": "LLL",
         "media": 669578.7984111222
        },
        {
         "Key": "LLY",
         "media": 4499438.143992055
        },
        {
         "Key": "LMT",
         "media": 1456262.3952333664
        },
        {
         "Key": "LNC",
         "media": 1914320.6425024825
        },
        {
         "Key": "LNT",
         "media": 1280132.3455809334
        },
        {
         "Key": "LOW",
         "media": 5523275.454816286
        },
        {
         "Key": "LRCX",
         "media": 2233373.539225422
        },
        {
         "Key": "LUK",
         "media": 1750322.1727904668
        },
        {
         "Key": "LUV",
         "media": 6874725.61469712
        },
        {
         "Key": "LYB",
         "media": 3447382.623634558
        },
        {
         "Key": "L",
         "media": 1099143.5143992056
        },
        {
         "Key": "MAA",
         "media": 616155.719960278
        },
        {
         "Key": "MAC",
         "media": 1177753.3624627606
        },
        {
         "Key": "MAR",
         "media": 2757099.2403177754
        },
        {
         "Key": "MAS",
         "media": 3855959.9453823236
        },
        {
         "Key": "MAT",
         "media": 5305116.949354518
        },
        {
         "Key": "MA",
         "media": 4277174.02184707
        },
        {
         "Key": "MCD",
         "media": 5232241.439920556
        },
        {
         "Key": "MCHP",
         "media": 2273780.317775571
        },
        {
         "Key": "MCK",
         "media": 1615407.1847070507
        },
        {
         "Key": "MCO",
         "media": 1015282.4498510427
        },
        {
         "Key": "MDLZ",
         "media": 8665360.250248263
        },
        {
         "Key": "MDT",
         "media": 5941370.982125124
        },
        {
         "Key": "MET",
         "media": 6254518.136047666
        },
        {
         "Key": "MGM",
         "media": 8559301.86693148
        },
        {
         "Key": "MHK",
         "media": 650956.9294935452
        },
        {
         "Key": "MKC",
         "media": 733526.7209533267
        },
        {
         "Key": "MLM",
         "media": 787846.0506454817
        },
        {
         "Key": "MMC",
         "media": 2006050.2850049653
        },
        {
         "Key": "MMM",
         "media": 2223501.9334657397
        },
        {
         "Key": "MNST",
         "media": 3498379.606752731
        },
        {
         "Key": "MON",
         "media": 3097596.6395233367
        },
        {
         "Key": "MOS",
         "media": 4319160.098311817
        },
        {
         "Key": "MO",
         "media": 6769701.814299901
        },
        {
         "Key": "MPC",
         "media": 5703992.791459781
        },
        {
         "Key": "MRK",
         "media": 10405565.523336643
        },
        {
         "Key": "MRO",
         "media": 13129083.853028798
        },
        {
         "Key": "MSFT",
         "media": 30712613.148957297
        },
        {
         "Key": "MSI",
         "media": 1478067.6901688182
        },
        {
         "Key": "MS",
         "media": 11302608.120158888
        },
        {
         "Key": "MTB",
         "media": 840966.3714001987
        },
        {
         "Key": "MTD",
         "media": 171919.862959285
        },
        {
         "Key": "MU",
         "media": 27962814.084409136
        },
        {
         "Key": "MYL",
         "media": 5973802.950347567
        },
        {
         "Key": "M",
         "media": 6607835.179741807
        },
        {
         "Key": "NBL",
         "media": 4181704.515392254
        },
        {
         "Key": "NCLH",
         "media": 1635444.6752730883
        },
        {
         "Key": "NDAQ",
         "media": 1055116.4349553129
        },
        {
         "Key": "NEE",
         "media": 2060707.7279046674
        },
        {
         "Key": "NEM",
         "media": 7566430.820258193
        },
        {
         "Key": "NFLX",
         "media": 14373715.261171797
        },
        {
         "Key": "NFX",
         "media": 3231963.9662363455
        },
        {
         "Key": "NI",
         "media": 2578031.82224429
        },
        {
         "Key": "NKE",
         "media": 8598706.20059583
        },
        {
         "Key": "NLSN",
         "media": 2516597.551142006
        },
        {
         "Key": "NOC",
         "media": 1066874.9066534261
        },
        {
         "Key": "NOV",
         "media": 4586959.519364449
        },
        {
         "Key": "NRG",
         "media": 5419424.849056603
        },
        {
         "Key": "NSC",
         "media": 1885108.2959285006
        },
        {
         "Key": "NTAP",
         "media": 3486056.402184707
        },
        {
         "Key": "NTRS",
         "media": 1219021.1757696127
        },
        {
         "Key": "NUE",
         "media": 2460707.4587884806
        },
        {
         "Key": "NVDA",
         "media": 10761294.52631579
        },
        {
         "Key": "NWL",
         "media": 3429207.231380338
        },
        {
         "Key": "NWSA",
         "media": 3020694.5491559086
        },
        {
         "Key": "NWS",
         "media": 949625.6544190665
        },
        {
         "Key": "OKE",
         "media": 2463804.0427010925
        },
        {
         "Key": "OMC",
         "media": 1679199.6792452831
        },
        {
         "Key": "ORCL",
         "media": 14351289.696127111
        },
        {
         "Key": "ORLY",
         "media": 860428.2015888778
        },
        {
         "Key": "OXY",
         "media": 4622960.819265144
        },
        {
         "Key": "O",
         "media": 1931644.28040201
        },
        {
         "Key": "PAYX",
         "media": 2138793.4995034756
        },
        {
         "Key": "PBCT",
         "media": 3398270.8440913605
        },
        {
         "Key": "PCAR",
         "media": 2016817.195630586
        },
        {
         "Key": "PCG",
         "media": 3078697.728897716
        },
        {
         "Key": "PCLN",
         "media": 632928.2264150943
        },
        {
         "Key": "PDCO",
         "media": 1036414.9652432969
        },
        {
         "Key": "PEG",
         "media": 3171612.433962264
        },
        {
         "Key": "PEP",
         "media": 4421610.2601787485
        },
        {
         "Key": "PFE",
         "media": 26419734.285998013
        },
        {
         "Key": "PFG",
         "media": 1348682.9930486593
        },
        {
         "Key": "PGR",
         "media": 3409088.8152929493
        },
        {
         "Key": "PG",
         "media": 9071261.277060576
        },
        {
         "Key": "PHM",
         "media": 5596230.856007945
        },
        {
         "Key": "PH",
         "media": 1192556.9404170804
        },
        {
         "Key": "PKG",
         "media": 970958.8718967229
        },
        {
         "Key": "PKI",
         "media": 751260.8967229394
        },
        {
         "Key": "PLD",
         "media": 2700934.9424031777
        },
        {
         "Key": "PM",
         "media": 4523094.692154916
        },
        {
         "Key": "PNC",
         "media": 2384588.1142005958
        },
        {
         "Key": "PNR",
         "media": 1329206.7994041708
        },
        {
         "Key": "PNW",
         "media": 820196.5571002979
        },
        {
         "Key": "PPG",
         "media": 1561849.005958292
        },
        {
         "Key": "PPL",
         "media": 4326505.263157895
        },
        {
         "Key": "PRGO",
         "media": 1654320.579940417
        },
        {
         "Key": "PRU",
         "media": 2402524.0625620657
        },
        {
         "Key": "PSA",
         "media": 747006.6861966236
        },
        {
         "Key": "PSX",
         "media": 3141830.253227408
        },
        {
         "Key": "PVH",
         "media": 1070058.1678252234
        },
        {
         "Key": "PWR",
         "media": 2166216.4359483616
        },
        {
         "Key": "PXD",
         "media": 1989536.0695134061
        },
        {
         "Key": "PX",
         "media": 1343697.2452830188
        },
        {
         "Key": "QCOM",
         "media": 10965368.937437935
        },
        {
         "Key": "RCL",
         "media": 2117974.113207547
        },
        {
         "Key": "REGN",
         "media": 878588.4339622641
        },
        {
         "Key": "REG",
         "media": 730584.9275074479
        },
        {
         "Key": "RE",
         "media": 338280.51042701094
        },
        {
         "Key": "RF",
         "media": 16745652.335650448
        },
        {
         "Key": "RHI",
         "media": 1075867.4965243298
        },
        {
         "Key": "RHT",
         "media": 1582721.2482621649
        },
        {
         "Key": "RJF",
         "media": 768073.4458788481
        },
        {
         "Key": "RL",
         "media": 1167186.8212512413
        },
        {
         "Key": "RMD",
         "media": 936197.5988083417
        },
        {
         "Key": "ROK",
         "media": 928125.9344587885
        },
        {
         "Key": "ROP",
         "media": 464291.7924528302
        },
        {
         "Key": "ROST",
         "media": 2992340.3495531282
        },
        {
         "Key": "RRC",
         "media": 4187861.583912612
        },
        {
         "Key": "RSG",
         "media": 1458985.5471698113
        },
        {
         "Key": "RTN",
         "media": 1708389.8828202581
        },
        {
         "Key": "SBAC",
         "media": 1103945.8679245282
        },
        {
         "Key": "SBUX",
         "media": 9202718.246276068
        },
        {
         "Key": "SCG",
         "media": 1022799.9890764648
        },
        {
         "Key": "SCHW",
         "media": 8014892.153922542
        },
        {
         "Key": "SEE",
         "media": 1992359.4766633564
        },
        {
         "Key": "SHW",
         "media": 709485.3753723933
        },
        {
         "Key": "SIG",
         "media": 1352601.1976166833
        },
        {
         "Key": "SJM",
         "media": 884157.9235352533
        },
        {
         "Key": "SLB",
         "media": 7463408.328699106
        },
        {
         "Key": "SLG",
         "media": 746580.8897715989
        },
        {
         "Key": "SNA",
         "media": 448825.3495531281
        },
        {
         "Key": "SNI",
         "media": 1229689.7964250247
        },
        {
         "Key": "SNPS",
         "media": 836234.5322740815
        },
        {
         "Key": "SO",
         "media": 5037913.100297915
        },
        {
         "Key": "SPGI",
         "media": 1258729.6802383317
        },
        {
         "Key": "SPG",
         "media": 1472545.959285005
        },
        {
         "Key": "SRCL",
         "media": 762803.5928500496
        },
        {
         "Key": "SRE",
         "media": 1191963.5670307844
        },
        {
         "Key": "STI",
         "media": 3608513.203574975
        },
        {
         "Key": "STT",
         "media": 2373905.3833167823
        },
        {
         "Key": "STX",
         "media": 4506156.356504469
        },
        {
         "Key": "STZ",
         "media": 1352515.4419066533
        },
        {
         "Key": "SWKS",
         "media": 3205761.8540218472
        },
        {
         "Key": "SWK",
         "media": 1105480.084409136
        },
        {
         "Key": "SYK",
         "media": 1364511.6077457794
        },
        {
         "Key": "SYMC",
         "media": 6743249.888778551
        },
        {
         "Key": "SYY",
         "media": 3682664.6077457797
        },
        {
         "Key": "TAP",
         "media": 1711566.0367428004
        },
        {
         "Key": "TDG",
         "media": 537044.997020854
        },
        {
         "Key": "TEL",
         "media": 1785022.230387289
        },
        {
         "Key": "TGT",
         "media": 5838830.357497517
        },
        {
         "Key": "TIF",
         "media": 1553807.1886792453
        },
        {
         "Key": "TJX",
         "media": 3689995.6415094337
        },
        {
         "Key": "TMK",
         "media": 598708.585898709
        },
        {
         "Key": "TMO",
         "media": 1755206.1062562065
        },
        {
         "Key": "TPR",
         "media": 4146847.0883813305
        },
        {
         "Key": "TRIP",
         "media": 2380336.1181727904
        },
        {
         "Key": "TROW",
         "media": 1537326.804369414
        },
        {
         "Key": "TRV",
         "media": 1829248.6713008936
        },
        {
         "Key": "TSCO",
         "media": 1474106.233366435
        },
        {
         "Key": "TSN",
         "media": 3733959.808341609
        },
        {
         "Key": "TSS",
         "media": 1264231.6554121152
        },
        {
         "Key": "TWX",
         "media": 5269124.2919563055
        },
        {
         "Key": "TXN",
         "media": 5673404.60774578
        },
        {
         "Key": "TXT",
         "media": 1788988.1916583912
        },
        {
         "Key": "T",
         "media": 25476621.12611718
        },
        {
         "Key": "UAA",
         "media": 5744744.776564051
        },
        {
         "Key": "UAL",
         "media": 5435901.662363456
        },
        {
         "Key": "UDR",
         "media": 1635336.3962264152
        },
        {
         "Key": "UHS",
         "media": 834801.6226415094
        },
        {
         "Key": "ULTA",
         "media": 979659.6295928501
        },
        {
         "Key": "UNH",
         "media": 3748667.75571003
        },
        {
         "Key": "UNM",
         "media": 1535311.9195630585
        },
        {
         "Key": "UNP",
         "media": 4347300.678252234
        },
        {
         "Key": "UPS",
         "media": 2923271.5441906652
        },
        {
         "Key": "URI",
         "media": 1908861.2631578948
        },
        {
         "Key": "USB",
         "media": 6797734.339622642
        },
        {
         "Key": "UTX",
         "media": 3935788.393247269
        },
        {
         "Key": "VAR",
         "media": 769150.1102284011
        },
        {
         "Key": "VFC",
         "media": 2412527.280039722
        },
        {
         "Key": "VIAB",
         "media": 3996423.448857994
        },
        {
         "Key": "VLO",
         "media": 6092125.090367428
        },
        {
         "Key": "VMC",
         "media": 1130427.8381330685
        },
        {
         "Key": "VNO",
         "media": 889450.0645481629
        },
        {
         "Key": "VRSK",
         "media": 893288.679245283
        },
        {
         "Key": "VRSN",
         "media": 1049525.3594836148
        },
        {
         "Key": "VRTX",
         "media": 1800779.2949354518
        },
        {
         "Key": "VTR",
         "media": 2212991.9314796426
        },
        {
         "Key": "VZ",
         "media": 16815282.203574974
        },
        {
         "Key": "V",
         "media": 9445688.896722939
        },
        {
         "Key": "WAT",
         "media": 510557.63654419064
        },
        {
         "Key": "WBA",
         "media": 5346100.42999007
        },
        {
         "Key": "WDC",
         "media": 3552176.6415094337
        },
        {
         "Key": "WEC",
         "media": 1843199.2135054618
        },
        {
         "Key": "WFC",
         "media": 18181604.624627605
        },
        {
         "Key": "WHR",
         "media": 961330.5034756704
        },
        {
         "Key": "WMB",
         "media": 8361432.758689175
        },
        {
         "Key": "WMT",
         "media": 8455316.679245284
        },
        {
         "Key": "WM",
         "media": 2011212.201588878
        },
        {
         "Key": "WU",
         "media": 4950959.420059583
        },
        {
         "Key": "WYNN",
         "media": 2612087.668321748
        },
        {
         "Key": "WYN",
         "media": 1144501.8142999008
        },
        {
         "Key": "WY",
         "media": 4152800.043694141
        },
        {
         "Key": "XEC",
         "media": 1172201.1509433961
        },
        {
         "Key": "XEL",
         "media": 2984541.784508441
        },
        {
         "Key": "XLNX",
         "media": 3050131.6285998016
        },
        {
         "Key": "XL",
         "media": 2222880.980139027
        },
        {
         "Key": "XOM",
         "media": 12298770.501489572
        },
        {
         "Key": "XRAY",
         "media": 1263296.7547169812
        },
        {
         "Key": "XRX",
         "media": 2332453.9285004963
        },
        {
         "Key": "XYL",
         "media": 1159214.0625620654
        },
        {
         "Key": "YUM",
         "media": 3225015.9314796426
        },
        {
         "Key": "ZBH",
         "media": 1349760.218470705
        },
        {
         "Key": "ZION",
         "media": 2758079.000993049
        },
        {
         "Key": "ZTS",
         "media": 3485038.123138034
        },
        {
         "Key": "GOOG",
         "media": 1809883.4826132772
        },
        {
         "Key": "NAVI",
         "media": 3192472.7601713063
        },
        {
         "Key": "INFO",
         "media": 1409418.5420875421
        },
        {
         "Key": "SYF",
         "media": 5954646.168213457
        },
        {
         "Key": "CFG",
         "media": 5255591.29854369
        },
        {
         "Key": "QRVO",
         "media": 1785139.0966887418
        },
        {
         "Key": "WRK",
         "media": 1678282.2091194969
        },
        {
         "Key": "KHC",
         "media": 3277263.7360890303
        },
        {
         "Key": "PYPL",
         "media": 8748565.54689984
        },
        {
         "Key": "HPE",
         "media": 11674529.385585586
        },
        {
         "Key": "HPQ",
         "media": 12735119.221621621
        },
        {
         "Key": "CSRA",
         "media": 1275567.5588785047
        },
        {
         "Key": "WLTW",
         "media": 792991.4581673307
        },
        {
         "Key": "UA",
         "media": 3247084.342465753
        },
        {
         "Key": "FTV",
         "media": 1509497.4788359788
        },
        {
         "Key": "EVHC",
         "media": 2251497.6088560885
        },
        {
         "Key": "HLT",
         "media": 2588031.752
        },
        {
         "Key": "DXC",
         "media": 2038838.4814814816
        },
        {
         "Key": "BHGE",
         "media": 3864731
        },
        {
         "Key": "BHF",
         "media": 1048437.9401709401
        },
        {
         "Key": "DWDP",
         "media": 7645956.759036144
        },
        {
         "Key": "APTV",
         "media": 2017035.7222222222
        }
       ],
       "schema": {
        "fields": [
         {
          "name": "Key",
          "type": "string"
         },
         {
          "name": "media",
          "type": "number"
         }
        ]
       }
      },
      "text/html": [
       "<table><thead><tr><th>Key</th><th>media</th></tr></thead><tbody><tr><td>&quot;AAL&quot;</td><td>9.75152e6</td></tr><tr><td>&quot;AAPL&quot;</td><td>4.51696e7</td></tr><tr><td>&quot;AAP&quot;</td><td>1.13731e6</td></tr><tr><td>&quot;ABBV&quot;</td><td>8.40884e6</td></tr><tr><td>&quot;ABC&quot;</td><td>2.02013e6</td></tr><tr><td>&quot;ABT&quot;</td><td>6.87753e6</td></tr><tr><td>&quot;ACN&quot;</td><td>2.48515e6</td></tr><tr><td>&quot;ADBE&quot;</td><td>2.86483e6</td></tr><tr><td>&quot;ADI&quot;</td><td>2.52162e6</td></tr><tr><td>&quot;ADM&quot;</td><td>3.5323e6</td></tr><tr><td>&vellip;</td><td>&vellip;</td></tr></tbody></table><p>... with more rows.</p>"
      ],
      "text/plain": [
       "?x2 query result\n",
       "Key  │ media    \n",
       "─────┼──────────\n",
       "AAL  │ 9.75152e6\n",
       "AAPL │ 4.51696e7\n",
       "AAP  │ 1.13731e6\n",
       "ABBV │ 8.40884e6\n",
       "ABC  │ 2.02013e6\n",
       "ABT  │ 6.87753e6\n",
       "ACN  │ 2.48515e6\n",
       "ADBE │ 2.86483e6\n",
       "ADI  │ 2.52162e6\n",
       "ADM  │ 3.5323e6 \n",
       "... with more rows"
      ]
     },
     "execution_count": 51,
     "metadata": {},
     "output_type": "execute_result"
    }
   ],
   "source": [
    "# vamos fazer o grupo por symbol e calcular a média do volume\n",
    "sp500 |>\n",
    "    @groupby(_.symbol) |> \n",
    "    @map({Key=key(_), media=mean(_.volume)})"
   ]
  },
  {
   "cell_type": "code",
   "execution_count": 57,
   "metadata": {},
   "outputs": [
    {
     "data": {
      "application/vnd.dataresource+json": {
       "data": [
        {
         "Key": "BAC",
         "media": 89362903.7020854
        },
        {
         "Key": "AAPL",
         "media": 45169571.17080437
        },
        {
         "Key": "GE",
         "media": 41443942.51936445
        },
        {
         "Key": "AMD",
         "media": 33289509.07447865
        },
        {
         "Key": "F",
         "media": 32914300.938430984
        },
        {
         "Key": "MSFT",
         "media": 30712613.148957297
        },
        {
         "Key": "FB",
         "media": 29227823.607745778
        },
        {
         "Key": "MU",
         "media": 27962814.084409136
        },
        {
         "Key": "CHK",
         "media": 27885401.57199603
        },
        {
         "Key": "INTC",
         "media": 27161138.316782523
        },
        {
         "Key": "PFE",
         "media": 26419734.285998013
        },
        {
         "Key": "CSCO",
         "media": 26250828.448857993
        },
        {
         "Key": "FCX",
         "media": 25619817.831181727
        },
        {
         "Key": "T",
         "media": 25476621.12611718
        },
        {
         "Key": "CMCSA",
         "media": 24603642.48957299
        },
        {
         "Key": "C",
         "media": 19485211.842105262
        },
        {
         "Key": "WFC",
         "media": 18181604.624627605
        },
        {
         "Key": "VZ",
         "media": 16815282.203574974
        },
        {
         "Key": "RF",
         "media": 16745652.335650448
        },
        {
         "Key": "JPM",
         "media": 15680002.048659384
        },
        {
         "Key": "KMI",
         "media": 15388090.723932473
        },
        {
         "Key": "GM",
         "media": 14941006.449851044
        },
        {
         "Key": "NFLX",
         "media": 14373715.261171797
        },
        {
         "Key": "ORCL",
         "media": 14351289.696127111
        },
        {
         "Key": "KO",
         "media": 13604295.628599802
        },
        {
         "Key": "AMAT",
         "media": 13382835.246276068
        },
        {
         "Key": "MRO",
         "media": 13129083.853028798
        },
        {
         "Key": "HPQ",
         "media": 12735119.221621621
        },
        {
         "Key": "XOM",
         "media": 12298770.501489572
        },
        {
         "Key": "FOXA",
         "media": 12038988.197616683
        },
        {
         "Key": "KEY",
         "media": 11852610.001986098
        },
        {
         "Key": "HPE",
         "media": 11674529.385585586
        },
        {
         "Key": "GILD",
         "media": 11462190.735849056
        },
        {
         "Key": "MS",
         "media": 11302608.120158888
        },
        {
         "Key": "QCOM",
         "media": 10965368.937437935
        },
        {
         "Key": "EBAY",
         "media": 10904865.88182721
        },
        {
         "Key": "HAL",
         "media": 10880856
        },
        {
         "Key": "NVDA",
         "media": 10761294.52631579
        },
        {
         "Key": "DAL",
         "media": 10436452.416087389
        },
        {
         "Key": "MRK",
         "media": 10405565.523336643
        },
        {
         "Key": "HBAN",
         "media": 10356219.774577955
        },
        {
         "Key": "AAL",
         "media": 9751521.264150944
        },
        {
         "Key": "BSX",
         "media": 9695616.141012909
        },
        {
         "Key": "V",
         "media": 9445688.896722939
        },
        {
         "Key": "SBUX",
         "media": 9202718.246276068
        },
        {
         "Key": "KR",
         "media": 9095971.687189672
        },
        {
         "Key": "PG",
         "media": 9071261.277060576
        },
        {
         "Key": "GLW",
         "media": 8809419.79344588
        },
        {
         "Key": "PYPL",
         "media": 8748565.54689984
        },
        {
         "Key": "MDLZ",
         "media": 8665360.250248263
        },
        {
         "Key": "NKE",
         "media": 8598706.20059583
        },
        {
         "Key": "MGM",
         "media": 8559301.86693148
        },
        {
         "Key": "WMT",
         "media": 8455316.679245284
        },
        {
         "Key": "ABBV",
         "media": 8408835.982125124
        },
        {
         "Key": "WMB",
         "media": 8361432.758689175
        },
        {
         "Key": "CSX",
         "media": 8025956.561072493
        },
        {
         "Key": "SCHW",
         "media": 8014892.153922542
        },
        {
         "Key": "BMY",
         "media": 7921294.675273089
        },
        {
         "Key": "COP",
         "media": 7909820.335650447
        },
        {
         "Key": "HST",
         "media": 7882477.854021847
        },
        {
         "Key": "DWDP",
         "media": 7645956.759036144
        },
        {
         "Key": "ATVI",
         "media": 7644870.510427011
        },
        {
         "Key": "DIS",
         "media": 7642072.732869911
        },
        {
         "Key": "NEM",
         "media": 7566430.820258193
        },
        {
         "Key": "SLB",
         "media": 7463408.328699106
        },
        {
         "Key": "AIG",
         "media": 7387528.882820258
        },
        {
         "Key": "CVX",
         "media": 7354249.023833168
        },
        {
         "Key": "FITB",
         "media": 7337367.6583912615
        },
        {
         "Key": "JNJ",
         "media": 7298176.874875869
        },
        {
         "Key": "ARNC",
         "media": 6879965.9662363455
        },
        {
         "Key": "ABT",
         "media": 6877534.586891757
        },
        {
         "Key": "LUV",
         "media": 6874725.61469712
        },
        {
         "Key": "USB",
         "media": 6797734.339622642
        },
        {
         "Key": "MO",
         "media": 6769701.814299901
        },
        {
         "Key": "SYMC",
         "media": 6743249.888778551
        },
        {
         "Key": "CTL",
         "media": 6729053.664349553
        },
        {
         "Key": "M",
         "media": 6607835.179741807
        },
        {
         "Key": "EXC",
         "media": 6448901.04468719
        },
        {
         "Key": "COG",
         "media": 6400357.367428004
        },
        {
         "Key": "MET",
         "media": 6254518.136047666
        },
        {
         "Key": "VLO",
         "media": 6092125.090367428
        },
        {
         "Key": "MYL",
         "media": 5973802.950347567
        },
        {
         "Key": "SYF",
         "media": 5954646.168213457
        },
        {
         "Key": "MDT",
         "media": 5941370.982125124
        },
        {
         "Key": "TGT",
         "media": 5838830.357497517
        },
        {
         "Key": "UAA",
         "media": 5744744.776564051
        },
        {
         "Key": "MPC",
         "media": 5703992.791459781
        },
        {
         "Key": "TXN",
         "media": 5673404.60774578
        },
        {
         "Key": "JNPR",
         "media": 5651145.684210527
        },
        {
         "Key": "CBS",
         "media": 5625879.418073486
        },
        {
         "Key": "PHM",
         "media": 5596230.856007945
        },
        {
         "Key": "CVS",
         "media": 5591303.514399205
        },
        {
         "Key": "LOW",
         "media": 5523275.454816286
        },
        {
         "Key": "DVN",
         "media": 5519452.315789473
        },
        {
         "Key": "AES",
         "media": 5489659.383316782
        },
        {
         "Key": "UAL",
         "media": 5435901.662363456
        },
        {
         "Key": "BK",
         "media": 5424443.331678253
        },
        {
         "Key": "NRG",
         "media": 5419424.849056603
        },
        {
         "Key": "GPS",
         "media": 5419374.817279046
        },
        {
         "Key": "BBY",
         "media": 5377656.535253228
        },
        {
         "Key": "WBA",
         "media": 5346100.42999007
        },
        {
         "Key": "APC",
         "media": 5323283.742800397
        },
        {
         "Key": "MAT",
         "media": 5305116.949354518
        },
        {
         "Key": "HD",
         "media": 5291993.037735849
        },
        {
         "Key": "TWX",
         "media": 5269124.2919563055
        },
        {
         "Key": "CAT",
         "media": 5260017.3008937435
        },
        {
         "Key": "CFG",
         "media": 5255591.29854369
        },
        {
         "Key": "MCD",
         "media": 5232241.439920556
        },
        {
         "Key": "CELG",
         "media": 5165598.175769613
        },
        {
         "Key": "SO",
         "media": 5037913.100297915
        },
        {
         "Key": "DHI",
         "media": 4969840.962264151
        },
        {
         "Key": "CRM",
         "media": 4952395.655412115
        },
        {
         "Key": "WU",
         "media": 4950959.420059583
        },
        {
         "Key": "AXP",
         "media": 4826863.14796425
        },
        {
         "Key": "GGP",
         "media": 4759001.089374379
        },
        {
         "Key": "OXY",
         "media": 4622960.819265144
        },
        {
         "Key": "NOV",
         "media": 4586959.519364449
        },
        {
         "Key": "PM",
         "media": 4523094.692154916
        },
        {
         "Key": "STX",
         "media": 4506156.356504469
        },
        {
         "Key": "LLY",
         "media": 4499438.143992055
        },
        {
         "Key": "IPG",
         "media": 4431021.605759682
        },
        {
         "Key": "PEP",
         "media": 4421610.2601787485
        },
        {
         "Key": "UNP",
         "media": 4347300.678252234
        },
        {
         "Key": "PPL",
         "media": 4326505.263157895
        },
        {
         "Key": "MOS",
         "media": 4319160.098311817
        },
        {
         "Key": "ESRX",
         "media": 4316552.897715988
        },
        {
         "Key": "IBM",
         "media": 4304876.615690169
        },
        {
         "Key": "BAX",
         "media": 4298420.541211519
        },
        {
         "Key": "BBT",
         "media": 4291543.842105263
        },
        {
         "Key": "MA",
         "media": 4277174.02184707
        },
        {
         "Key": "CTSH",
         "media": 4226123.110228402
        },
        {
         "Key": "RRC",
         "media": 4187861.583912612
        },
        {
         "Key": "NBL",
         "media": 4181704.515392254
        },
        {
         "Key": "WY",
         "media": 4152800.043694141
        },
        {
         "Key": "TPR",
         "media": 4146847.0883813305
        },
        {
         "Key": "CF",
         "media": 4143026.1876861965
        },
        {
         "Key": "HBI",
         "media": 4024538.08142999
        },
        {
         "Key": "CCL",
         "media": 3999016.5124131083
        },
        {
         "Key": "VIAB",
         "media": 3996423.448857994
        },
        {
         "Key": "BA",
         "media": 3982024.1866931478
        },
        {
         "Key": "EOG",
         "media": 3972735.334657398
        },
        {
         "Key": "APA",
         "media": 3959927.909632572
        },
        {
         "Key": "UTX",
         "media": 3935788.393247269
        },
        {
         "Key": "AMZN",
         "media": 3880124.5670307847
        },
        {
         "Key": "EMR",
         "media": 3874576.0367428004
        },
        {
         "Key": "BHGE",
         "media": 3864731
        },
        {
         "Key": "MAS",
         "media": 3855959.9453823236
        },
        {
         "Key": "FE",
         "media": 3820869.3475670307
        },
        {
         "Key": "FOX",
         "media": 3815001.3992055613
        },
        {
         "Key": "JCI",
         "media": 3811157.4816285996
        },
        {
         "Key": "CNP",
         "media": 3795752.382323734
        },
        {
         "Key": "UNH",
         "media": 3748667.75571003
        },
        {
         "Key": "TSN",
         "media": 3733959.808341609
        },
        {
         "Key": "HES",
         "media": 3732980.9433962265
        },
        {
         "Key": "TJX",
         "media": 3689995.6415094337
        },
        {
         "Key": "SYY",
         "media": 3682664.6077457797
        },
        {
         "Key": "DG",
         "media": 3635020.280039722
        },
        {
         "Key": "STI",
         "media": 3608513.203574975
        },
        {
         "Key": "ICE",
         "media": 3598467.2296222663
        },
        {
         "Key": "KSS",
         "media": 3580094.637537239
        },
        {
         "Key": "WDC",
         "media": 3552176.6415094337
        },
        {
         "Key": "EA",
         "media": 3551909.0566037735
        },
        {
         "Key": "BRK.B",
         "media": 3538845.971201589
        },
        {
         "Key": "ADM",
         "media": 3532299.542204568
        },
        {
         "Key": "MNST",
         "media": 3498379.606752731
        },
        {
         "Key": "NTAP",
         "media": 3486056.402184707
        },
        {
         "Key": "ZTS",
         "media": 3485038.123138034
        },
        {
         "Key": "HCP",
         "media": 3450969.7715988085
        },
        {
         "Key": "GT",
         "media": 3447586.0168818273
        },
        {
         "Key": "LYB",
         "media": 3447382.623634558
        },
        {
         "Key": "NWL",
         "media": 3429207.231380338
        },
        {
         "Key": "AMGN",
         "media": 3426952.028798411
        },
        {
         "Key": "PGR",
         "media": 3409088.8152929493
        },
        {
         "Key": "DISCA",
         "media": 3405331.9443892753
        },
        {
         "Key": "PBCT",
         "media": 3398270.8440913605
        },
        {
         "Key": "ETFC",
         "media": 3348223.8470705063
        },
        {
         "Key": "KIM",
         "media": 3332048.474677259
        },
        {
         "Key": "CL",
         "media": 3310711.1976166833
        },
        {
         "Key": "KORS",
         "media": 3309939.9026812315
        },
        {
         "Key": "GIS",
         "media": 3306504.060575968
        },
        {
         "Key": "CAG",
         "media": 3292329.9652432967
        },
        {
         "Key": "KHC",
         "media": 3277263.7360890303
        },
        {
         "Key": "FTI",
         "media": 3265395.092353525
        },
        {
         "Key": "UA",
         "media": 3247084.342465753
        },
        {
         "Key": "NFX",
         "media": 3231963.9662363455
        },
        {
         "Key": "YUM",
         "media": 3225015.9314796426
        },
        {
         "Key": "IVZ",
         "media": 3224609.776564052
        },
        {
         "Key": "AGN",
         "media": 3211514.722939424
        },
        {
         "Key": "SWKS",
         "media": 3205761.8540218472
        },
        {
         "Key": "NAVI",
         "media": 3192472.7601713063
        },
        {
         "Key": "GS",
         "media": 3176691.2075471696
        },
        {
         "Key": "COTY",
         "media": 3173534.637537239
        },
        {
         "Key": "PEG",
         "media": 3171612.433962264
        },
        {
         "Key": "HCA",
         "media": 3147744.2055610726
        },
        {
         "Key": "PSX",
         "media": 3141830.253227408
        },
        {
         "Key": "DUK",
         "media": 3123601.263157895
        },
        {
         "Key": "MON",
         "media": 3097596.6395233367
        },
        {
         "Key": "PCG",
         "media": 3078697.728897716
        },
        {
         "Key": "XLNX",
         "media": 3050131.6285998016
        },
        {
         "Key": "IP",
         "media": 3029514.645481629
        },
        {
         "Key": "COF",
         "media": 3022717.4786494537
        },
        {
         "Key": "NWSA",
         "media": 3020694.5491559086
        },
        {
         "Key": "HON",
         "media": 2996014.2264150945
        },
        {
         "Key": "ROST",
         "media": 2992340.3495531282
        },
        {
         "Key": "XEL",
         "media": 2984541.784508441
        },
        {
         "Key": "DFS",
         "media": 2979437.8649453823
        },
        {
         "Key": "DE",
         "media": 2978777.7567030783
        },
        {
         "Key": "DHR",
         "media": 2960003.568844221
        },
        {
         "Key": "LEN",
         "media": 2946344.7596822246
        },
        {
         "Key": "HRB",
         "media": 2937154.203574975
        },
        {
         "Key": "UPS",
         "media": 2923271.5441906652
        },
        {
         "Key": "HIG",
         "media": 2921863.2691161865
        },
        {
         "Key": "AVGO",
         "media": 2889738.394240318
        },
        {
         "Key": "ADBE",
         "media": 2864825.352532274
        },
        {
         "Key": "CDNS",
         "media": 2835744.020854022
        },
        {
         "Key": "ETN",
         "media": 2811855.002979146
        },
        {
         "Key": "ZION",
         "media": 2758079.000993049
        },
        {
         "Key": "MAR",
         "media": 2757099.2403177754
        },
        {
         "Key": "CA",
         "media": 2718395.8123138035
        },
        {
         "Key": "PLD",
         "media": 2700934.9424031777
        },
        {
         "Key": "DLTR",
         "media": 2691963.6901688185
        },
        {
         "Key": "AET",
         "media": 2659575.2581926514
        },
        {
         "Key": "AEP",
         "media": 2652208.299900695
        },
        {
         "Key": "WYNN",
         "media": 2612087.668321748
        },
        {
         "Key": "HLT",
         "media": 2588031.752
        },
        {
         "Key": "BEN",
         "media": 2582417.9285004963
        },
        {
         "Key": "NI",
         "media": 2578031.82224429
        },
        {
         "Key": "FAST",
         "media": 2569519.9781529293
        },
        {
         "Key": "HOLX",
         "media": 2559188.204568024
        },
        {
         "Key": "D",
         "media": 2552334.6097318768
        },
        {
         "Key": "LB",
         "media": 2528265.9741807347
        },
        {
         "Key": "ADI",
         "media": 2521618.819265144
        },
        {
         "Key": "NLSN",
         "media": 2516597.551142006
        },
        {
         "Key": "DRE",
         "media": 2492055.8341608737
        },
        {
         "Key": "ACN",
         "media": 2485149.1857000994
        },
        {
         "Key": "FL",
         "media": 2479203.148957299
        },
        {
         "Key": "OKE",
         "media": 2463804.0427010925
        },
        {
         "Key": "JWN",
         "media": 2461174.6981132077
        },
        {
         "Key": "NUE",
         "media": 2460707.4587884806
        },
        {
         "Key": "BLL",
         "media": 2436812.0139026814
        },
        {
         "Key": "COST",
         "media": 2428074.0764647466
        },
        {
         "Key": "CCI",
         "media": 2424164.9314796426
        },
        {
         "Key": "ANDV",
         "media": 2422015.7805362465
        },
        {
         "Key": "VFC",
         "media": 2412527.280039722
        },
        {
         "Key": "PRU",
         "media": 2402524.0625620657
        },
        {
         "Key": "PNC",
         "media": 2384588.1142005958
        },
        {
         "Key": "TRIP",
         "media": 2380336.1181727904
        },
        {
         "Key": "ADSK",
         "media": 2374625.424031778
        },
        {
         "Key": "STT",
         "media": 2373905.3833167823
        },
        {
         "Key": "XRX",
         "media": 2332453.9285004963
        },
        {
         "Key": "HOG",
         "media": 2292037.2383316783
        },
        {
         "Key": "CAH",
         "media": 2289203.586891758
        },
        {
         "Key": "ALL",
         "media": 2282951.1946375375
        },
        {
         "Key": "MCHP",
         "media": 2273780.317775571
        },
        {
         "Key": "CMS",
         "media": 2268865.547169811
        },
        {
         "Key": "EVHC",
         "media": 2251497.6088560885
        },
        {
         "Key": "DISH",
         "media": 2246613.174776564
        },
        {
         "Key": "LRCX",
         "media": 2233373.539225422
        },
        {
         "Key": "MMM",
         "media": 2223501.9334657397
        },
        {
         "Key": "XL",
         "media": 2222880.980139027
        },
        {
         "Key": "VTR",
         "media": 2212991.9314796426
        },
        {
         "Key": "A",
         "media": 2191931.5670307847
        },
        {
         "Key": "CBG",
         "media": 2188037.1181727904
        },
        {
         "Key": "HRL",
         "media": 2185867.6206554123
        },
        {
         "Key": "HCN",
         "media": 2169049.6425024825
        },
        {
         "Key": "PWR",
         "media": 2166216.4359483616
        },
        {
         "Key": "CERN",
         "media": 2148275.070506455
        },
        {
         "Key": "EXPE",
         "media": 2144959.3833167823
        },
        {
         "Key": "KMX",
         "media": 2144254.688182721
        },
        {
         "Key": "AMT",
         "media": 2139419.0963257197
        },
        {
         "Key": "PAYX",
         "media": 2138793.4995034756
        },
        {
         "Key": "RCL",
         "media": 2117974.113207547
        },
        {
         "Key": "GOOGL",
         "media": 2107183.871896723
        },
        {
         "Key": "AKAM",
         "media": 2099811.7100297916
        },
        {
         "Key": "K",
         "media": 2093119.5640516386
        },
        {
         "Key": "ADP",
         "media": 2075933.8550148958
        },
        {
         "Key": "NEE",
         "media": 2060707.7279046674
        },
        {
         "Key": "EIX",
         "media": 2056768.6037735848
        },
        {
         "Key": "IR",
         "media": 2044839.8351539224
        },
        {
         "Key": "DXC",
         "media": 2038838.4814814816
        },
        {
         "Key": "ABC",
         "media": 2020126.5034756702
        },
        {
         "Key": "APTV",
         "media": 2017035.7222222222
        },
        {
         "Key": "PCAR",
         "media": 2016817.195630586
        },
        {
         "Key": "EQT",
         "media": 2016539.4041708044
        },
        {
         "Key": "WM",
         "media": 2011212.201588878
        },
        {
         "Key": "MMC",
         "media": 2006050.2850049653
        },
        {
         "Key": "AFL",
         "media": 2000464.3008937438
        },
        {
         "Key": "ED",
         "media": 1997109.7239324728
        },
        {
         "Key": "SEE",
         "media": 1992359.4766633564
        },
        {
         "Key": "PXD",
         "media": 1989536.0695134061
        },
        {
         "Key": "CMA",
         "media": 1972468.061569017
        },
        {
         "Key": "EW",
         "media": 1967245.411122145
        },
        {
         "Key": "DISCK",
         "media": 1962736.5640516386
        },
        {
         "Key": "LKQ",
         "media": 1956678.5064548163
        },
        {
         "Key": "BWA",
         "media": 1947358.1936444887
        },
        {
         "Key": "O",
         "media": 1931644.28040201
        },
        {
         "Key": "LNC",
         "media": 1914320.6425024825
        },
        {
         "Key": "URI",
         "media": 1908861.2631578948
        },
        {
         "Key": "CTXS",
         "media": 1906965.367428004
        },
        {
         "Key": "HP",
         "media": 1898833.7924528301
        },
        {
         "Key": "EQR",
         "media": 1887416.4766633564
        },
        {
         "Key": "NSC",
         "media": 1885108.2959285006
        },
        {
         "Key": "ANTM",
         "media": 1857724.600794439
        },
        {
         "Key": "WEC",
         "media": 1843199.2135054618
        },
        {
         "Key": "EL",
         "media": 1840636.7944389274
        },
        {
         "Key": "ALXN",
         "media": 1833761.8172790466
        },
        {
         "Key": "TRV",
         "media": 1829248.6713008936
        },
        {
         "Key": "GOOG",
         "media": 1809883.4826132772
        },
        {
         "Key": "VRTX",
         "media": 1800779.2949354518
        },
        {
         "Key": "TXT",
         "media": 1788988.1916583912
        },
        {
         "Key": "QRVO",
         "media": 1785139.0966887418
        },
        {
         "Key": "TEL",
         "media": 1785022.230387289
        },
        {
         "Key": "TMO",
         "media": 1755206.1062562065
        },
        {
         "Key": "LUK",
         "media": 1750322.1727904668
        },
        {
         "Key": "CPB",
         "media": 1739926.332671301
        },
        {
         "Key": "BIIB",
         "media": 1730180.6683217478
        },
        {
         "Key": "CNC",
         "media": 1717232.4468718967
        },
        {
         "Key": "KMB",
         "media": 1716954.7388282025
        },
        {
         "Key": "TAP",
         "media": 1711566.0367428004
        },
        {
         "Key": "RTN",
         "media": 1708389.8828202581
        },
        {
         "Key": "FDX",
         "media": 1707865.7090367428
        },
        {
         "Key": "CHTR",
         "media": 1690510.4965243298
        },
        {
         "Key": "IRM",
         "media": 1681076.1817279046
        },
        {
         "Key": "OMC",
         "media": 1679199.6792452831
        },
        {
         "Key": "WRK",
         "media": 1678282.2091194969
        },
        {
         "Key": "DRI",
         "media": 1668822.031777557
        },
        {
         "Key": "PRGO",
         "media": 1654320.579940417
        },
        {
         "Key": "CMI",
         "media": 1646010.4270109236
        },
        {
         "Key": "ITW",
         "media": 1636556.099304866
        },
        {
         "Key": "NCLH",
         "media": 1635444.6752730883
        },
        {
         "Key": "UDR",
         "media": 1635336.3962264152
        },
        {
         "Key": "CI",
         "media": 1624901.9165839127
        },
        {
         "Key": "AEE",
         "media": 1622603.01489573
        },
        {
         "Key": "MCK",
         "media": 1615407.1847070507
        },
        {
         "Key": "CB",
         "media": 1613372.8679245282
        },
        {
         "Key": "CHD",
         "media": 1600977.9463753724
        },
        {
         "Key": "CHRW",
         "media": 1594421.9642502482
        },
        {
         "Key": "INTU",
         "media": 1592066.766633565
        },
        {
         "Key": "INCY",
         "media": 1591348.834160874
        },
        {
         "Key": "ES",
         "media": 1588160.1023069208
        },
        {
         "Key": "RHT",
         "media": 1582721.2482621649
        },
        {
         "Key": "FIS",
         "media": 1576919.7765640516
        },
        {
         "Key": "PPG",
         "media": 1561849.005958292
        },
        {
         "Key": "CME",
         "media": 1553869.9364448858
        },
        {
         "Key": "TIF",
         "media": 1553807.1886792453
        },
        {
         "Key": "TROW",
         "media": 1537326.804369414
        },
        {
         "Key": "GD",
         "media": 1535392.6921549155
        },
        {
         "Key": "UNM",
         "media": 1535311.9195630585
        },
        {
         "Key": "KLAC",
         "media": 1528921.6365441906
        },
        {
         "Key": "CXO",
         "media": 1510154.005958292
        },
        {
         "Key": "FTV",
         "media": 1509497.4788359788
        },
        {
         "Key": "FLR",
         "media": 1486154.4995034756
        },
        {
         "Key": "MSI",
         "media": 1478067.6901688182
        },
        {
         "Key": "TSCO",
         "media": 1474106.233366435
        },
        {
         "Key": "SPG",
         "media": 1472545.959285005
        },
        {
         "Key": "ALK",
         "media": 1470175.7904667328
        },
        {
         "Key": "RSG",
         "media": 1458985.5471698113
        },
        {
         "Key": "LMT",
         "media": 1456262.3952333664
        },
        {
         "Key": "DOV",
         "media": 1433598.3485600795
        },
        {
         "Key": "ETR",
         "media": 1433531.571002979
        },
        {
         "Key": "INFO",
         "media": 1409418.5420875421
        },
        {
         "Key": "HUM",
         "media": 1398356.8460774578
        },
        {
         "Key": "ILMN",
         "media": 1391562.0824230388
        },
        {
         "Key": "DVA",
         "media": 1377418.7845084409
        },
        {
         "Key": "GPN",
         "media": 1373203.1857000992
        },
        {
         "Key": "DPS",
         "media": 1369705.2591857002
        },
        {
         "Key": "DLR",
         "media": 1368729.1986097319
        },
        {
         "Key": "SYK",
         "media": 1364511.6077457794
        },
        {
         "Key": "EXPD",
         "media": 1360566.5223435948
        },
        {
         "Key": "SIG",
         "media": 1352601.1976166833
        },
        {
         "Key": "STZ",
         "media": 1352515.4419066533
        },
        {
         "Key": "EMN",
         "media": 1351735.2115193645
        },
        {
         "Key": "ZBH",
         "media": 1349760.218470705
        },
        {
         "Key": "PFG",
         "media": 1348682.9930486593
        },
        {
         "Key": "PX",
         "media": 1343697.2452830188
        },
        {
         "Key": "FBHS",
         "media": 1339359.489572989
        },
        {
         "Key": "GRMN",
         "media": 1338494.6216484609
        },
        {
         "Key": "AME",
         "media": 1336122.3763654418
        },
        {
         "Key": "KSU",
         "media": 1331588.3624627606
        },
        {
         "Key": "DGX",
         "media": 1329907.3714001987
        },
        {
         "Key": "PNR",
         "media": 1329206.7994041708
        },
        {
         "Key": "APD",
         "media": 1325574.0417080438
        },
        {
         "Key": "FLS",
         "media": 1317027.775571003
        },
        {
         "Key": "LNT",
         "media": 1280132.3455809334
        },
        {
         "Key": "CSRA",
         "media": 1275567.5588785047
        },
        {
         "Key": "HAS",
         "media": 1274801.165839126
        },
        {
         "Key": "TSS",
         "media": 1264231.6554121152
        },
        {
         "Key": "XRAY",
         "media": 1263296.7547169812
        },
        {
         "Key": "SPGI",
         "media": 1258729.6802383317
        },
        {
         "Key": "ALB",
         "media": 1234936.3803376365
        },
        {
         "Key": "SNI",
         "media": 1229689.7964250247
        },
        {
         "Key": "FMC",
         "media": 1226765.329692155
        },
        {
         "Key": "AON",
         "media": 1222668.8987090366
        },
        {
         "Key": "AOS",
         "media": 1220657.5739821251
        },
        {
         "Key": "NTRS",
         "media": 1219021.1757696127
        },
        {
         "Key": "APH",
         "media": 1216058.536246276
        },
        {
         "Key": "AIV",
         "media": 1213160.9016881827
        },
        {
         "Key": "PH",
         "media": 1192556.9404170804
        },
        {
         "Key": "SRE",
         "media": 1191963.5670307844
        },
        {
         "Key": "HSY",
         "media": 1188105.4528301887
        },
        {
         "Key": "MAC",
         "media": 1177753.3624627606
        },
        {
         "Key": "XEC",
         "media": 1172201.1509433961
        },
        {
         "Key": "RL",
         "media": 1167186.8212512413
        },
        {
         "Key": "XYL",
         "media": 1159214.0625620654
        },
        {
         "Key": "WYN",
         "media": 1144501.8142999008
        },
        {
         "Key": "AAP",
         "media": 1137306.708043694
        },
        {
         "Key": "VMC",
         "media": 1130427.8381330685
        },
        {
         "Key": "AMP",
         "media": 1116452.3664349553
        },
        {
         "Key": "BDX",
         "media": 1109879.4726911618
        },
        {
         "Key": "ECL",
         "media": 1106049.0456802384
        },
        {
         "Key": "SWK",
         "media": 1105480.084409136
        },
        {
         "Key": "SBAC",
         "media": 1103945.8679245282
        },
        {
         "Key": "L",
         "media": 1099143.5143992056
        },
        {
         "Key": "COL",
         "media": 1079078.221449851
        },
        {
         "Key": "RHI",
         "media": 1075867.4965243298
        },
        {
         "Key": "HSIC",
         "media": 1075231.1966236345
        },
        {
         "Key": "PVH",
         "media": 1070058.1678252234
        },
        {
         "Key": "FISV",
         "media": 1068542.3316782522
        },
        {
         "Key": "NOC",
         "media": 1066874.9066534261
        },
        {
         "Key": "ISRG",
         "media": 1061752.2075471699
        },
        {
         "Key": "JEC",
         "media": 1059752.676266137
        },
        {
         "Key": "BF.B",
         "media": 1057751.102284012
        },
        {
         "Key": "NDAQ",
         "media": 1055116.4349553129
        },
        {
         "Key": "VRSN",
         "media": 1049525.3594836148
        },
        {
         "Key": "BHF",
         "media": 1048437.9401709401
        },
        {
         "Key": "IQV",
         "media": 1046291.5948361469
        },
        {
         "Key": "PDCO",
         "media": 1036414.9652432969
        },
        {
         "Key": "DTE",
         "media": 1031724.9205561073
        },
        {
         "Key": "SCG",
         "media": 1022799.9890764648
        },
        {
         "Key": "FFIV",
         "media": 1016062.3306852035
        },
        {
         "Key": "MCO",
         "media": 1015282.4498510427
        },
        {
         "Key": "AJG",
         "media": 986975.1906653426
        },
        {
         "Key": "ULTA",
         "media": 979659.6295928501
        },
        {
         "Key": "PKG",
         "media": 970958.8718967229
        },
        {
         "Key": "CLX",
         "media": 970822.6633565045
        },
        {
         "Key": "AWK",
         "media": 963622.2552135055
        },
        {
         "Key": "WHR",
         "media": 961330.5034756704
        },
        {
         "Key": "EXR",
         "media": 954868.2045680238
        },
        {
         "Key": "LEG",
         "media": 954525.4726911619
        },
        {
         "Key": "NWS",
         "media": 949625.6544190665
        },
        {
         "Key": "RMD",
         "media": 936197.5988083417
        },
        {
         "Key": "JBHT",
         "media": 928635.6037735849
        },
        {
         "Key": "ROK",
         "media": 928125.9344587885
        },
        {
         "Key": "LH",
         "media": 912762.9354518371
        },
        {
         "Key": "FLIR",
         "media": 907437.1181727905
        },
        {
         "Key": "CMG",
         "media": 902061.2055610724
        },
        {
         "Key": "VRSK",
         "media": 893288.679245283
        },
        {
         "Key": "VNO",
         "media": 889450.0645481629
        },
        {
         "Key": "SJM",
         "media": 884157.9235352533
        },
        {
         "Key": "ALGN",
         "media": 881906.6653426018
        },
        {
         "Key": "REGN",
         "media": 878588.4339622641
        },
        {
         "Key": "ORLY",
         "media": 860428.2015888778
        },
        {
         "Key": "MTB",
         "media": 840966.3714001987
        },
        {
         "Key": "SNPS",
         "media": 836234.5322740815
        },
        {
         "Key": "EFX",
         "media": 836199.2264150943
        },
        {
         "Key": "UHS",
         "media": 834801.6226415094
        },
        {
         "Key": "PNW",
         "media": 820196.5571002979
        },
        {
         "Key": "HRS",
         "media": 814584.7884806355
        },
        {
         "Key": "WLTW",
         "media": 792991.4581673307
        },
        {
         "Key": "MLM",
         "media": 787846.0506454817
        },
        {
         "Key": "AVY",
         "media": 769322.4399205561
        },
        {
         "Key": "VAR",
         "media": 769150.1102284011
        },
        {
         "Key": "RJF",
         "media": 768073.4458788481
        },
        {
         "Key": "BXP",
         "media": 766978.3704071499
        },
        {
         "Key": "AVB",
         "media": 765749.1132075472
        },
        {
         "Key": "SRCL",
         "media": 762803.5928500496
        },
        {
         "Key": "CBOE",
         "media": 756971.1181727905
        },
        {
         "Key": "PKI",
         "media": 751260.8967229394
        },
        {
         "Key": "PSA",
         "media": 747006.6861966236
        },
        {
         "Key": "SLG",
         "media": 746580.8897715989
        },
        {
         "Key": "GPC",
         "media": 740102.2780536247
        },
        {
         "Key": "MKC",
         "media": 733526.7209533267
        },
        {
         "Key": "REG",
         "media": 730584.9275074479
        },
        {
         "Key": "IDXX",
         "media": 712680.8848063555
        },
        {
         "Key": "ALLE",
         "media": 710360.9572989077
        },
        {
         "Key": "SHW",
         "media": 709485.3753723933
        },
        {
         "Key": "EQIX",
         "media": 687478.9384309831
        },
        {
         "Key": "GWW",
         "media": 675196.2850049653
        },
        {
         "Key": "LLL",
         "media": 669578.7984111222
        },
        {
         "Key": "MHK",
         "media": 650956.9294935452
        },
        {
         "Key": "PCLN",
         "media": 632928.2264150943
        },
        {
         "Key": "ADS",
         "media": 628081.2919563059
        },
        {
         "Key": "CTAS",
         "media": 623357.5322740815
        },
        {
         "Key": "BLK",
         "media": 620532.2522343595
        },
        {
         "Key": "MAA",
         "media": 616155.719960278
        },
        {
         "Key": "TMK",
         "media": 598708.585898709
        },
        {
         "Key": "CINF",
         "media": 589876.1281032771
        },
        {
         "Key": "TDG",
         "media": 537044.997020854
        },
        {
         "Key": "AIZ",
         "media": 526565.9354518371
        },
        {
         "Key": "ARE",
         "media": 524500.3634558093
        },
        {
         "Key": "WAT",
         "media": 510557.63654419064
        },
        {
         "Key": "AYI",
         "media": 503364.8093346574
        },
        {
         "Key": "COO",
         "media": 480214.27010923537
        },
        {
         "Key": "IFF",
         "media": 473382.40913604765
        },
        {
         "Key": "AMG",
         "media": 472021.3426017875
        },
        {
         "Key": "ANSS",
         "media": 466012.74875868915
        },
        {
         "Key": "ROP",
         "media": 464291.7924528302
        },
        {
         "Key": "IT",
         "media": 463316.3932472691
        },
        {
         "Key": "SNA",
         "media": 448825.3495531281
        },
        {
         "Key": "FRT",
         "media": 424499.8411122145
        },
        {
         "Key": "ESS",
         "media": 403199.6871896723
        },
        {
         "Key": "RE",
         "media": 338280.51042701094
        },
        {
         "Key": "HII",
         "media": 333140.6494538232
        },
        {
         "Key": "AZO",
         "media": 321176.97120158887
        },
        {
         "Key": "MTD",
         "media": 171919.862959285
        }
       ],
       "schema": {
        "fields": [
         {
          "name": "Key",
          "type": "string"
         },
         {
          "name": "media",
          "type": "number"
         }
        ]
       }
      },
      "text/html": [
       "<table><thead><tr><th>Key</th><th>media</th></tr></thead><tbody><tr><td>&quot;BAC&quot;</td><td>8.93629e7</td></tr><tr><td>&quot;AAPL&quot;</td><td>4.51696e7</td></tr><tr><td>&quot;GE&quot;</td><td>4.14439e7</td></tr><tr><td>&quot;AMD&quot;</td><td>3.32895e7</td></tr><tr><td>&quot;F&quot;</td><td>3.29143e7</td></tr><tr><td>&quot;MSFT&quot;</td><td>3.07126e7</td></tr><tr><td>&quot;FB&quot;</td><td>2.92278e7</td></tr><tr><td>&quot;MU&quot;</td><td>2.79628e7</td></tr><tr><td>&quot;CHK&quot;</td><td>2.78854e7</td></tr><tr><td>&quot;INTC&quot;</td><td>2.71611e7</td></tr><tr><td>&vellip;</td><td>&vellip;</td></tr></tbody></table><p>... with more rows.</p>"
      ],
      "text/plain": [
       "?x2 query result\n",
       "Key  │ media    \n",
       "─────┼──────────\n",
       "BAC  │ 8.93629e7\n",
       "AAPL │ 4.51696e7\n",
       "GE   │ 4.14439e7\n",
       "AMD  │ 3.32895e7\n",
       "F    │ 3.29143e7\n",
       "MSFT │ 3.07126e7\n",
       "FB   │ 2.92278e7\n",
       "MU   │ 2.79628e7\n",
       "CHK  │ 2.78854e7\n",
       "INTC │ 2.71611e7\n",
       "... with more rows"
      ]
     },
     "execution_count": 57,
     "metadata": {},
     "output_type": "execute_result"
    }
   ],
   "source": [
    "# ordenando de forma decrescente\n",
    "sp500 |>\n",
    "    @groupby(_.symbol) |> \n",
    "    @map({Key=key(_), media=mean(_.volume)}) |>\n",
    "    @orderby_descending(_.media)"
   ]
  },
  {
   "cell_type": "code",
   "execution_count": null,
   "metadata": {},
   "outputs": [],
   "source": []
  }
 ],
 "metadata": {
  "kernelspec": {
   "display_name": "Julia 1.4.1",
   "language": "julia",
   "name": "julia-1.4"
  },
  "language_info": {
   "file_extension": ".jl",
   "mimetype": "application/julia",
   "name": "julia",
   "version": "1.4.1"
  }
 },
 "nbformat": 4,
 "nbformat_minor": 4
}
