{
 "cells": [
  {
   "cell_type": "markdown",
   "metadata": {},
   "source": [
    "# Julia"
   ]
  },
  {
   "cell_type": "markdown",
   "metadata": {},
   "source": [
    "## Manipulação de dados\n",
    "### DataFrames\n",
    "\n",
    "O que veremos nesse tutorial?\n",
    "\n",
    "1. leitura de dados\n",
    "2. selecionar linhas\n",
    "3. selecionar colunas\n",
    "4. filtro de linhas\n",
    "5. groupby com estatísticas\n",
    "6. renomear colunas \n",
    "7. dados faltantes\n"
   ]
  },
  {
   "cell_type": "markdown",
   "metadata": {},
   "source": [
    "## 1. Leitura de dados"
   ]
  },
  {
   "cell_type": "code",
   "execution_count": null,
   "metadata": {},
   "outputs": [],
   "source": [
    "# importando biblioteca\n",
    "# using Pkg\n",
    "# Pkg.add(\"DataFrames\")\n",
    "# Pkg.add(\"CSV\")\n",
    "# Pkg.add(\"Queryverse\")\n",
    "# Pkg.add(\"BenchmarkTools\")\n",
    "# Pkg.add(\"Pipe\")\n",
    "using DataFrames\n",
    "using CSV\n",
    "using Queryverse\n",
    "using BenchmarkTools\n",
    "using Pipe"
   ]
  },
  {
   "cell_type": "code",
   "execution_count": null,
   "metadata": {},
   "outputs": [],
   "source": [
    "# ler os dados\n",
    "sp500 = CSV.read(\"data/sp500.csv\", DataFrame);"
   ]
  },
  {
   "cell_type": "markdown",
   "metadata": {},
   "source": [
    "### Mensurando tempo de exeução da leitura dos dados"
   ]
  },
  {
   "cell_type": "code",
   "execution_count": null,
   "metadata": {},
   "outputs": [],
   "source": [
    "@time CSV.read(\"data/sp500.csv\", DataFrame);"
   ]
  },
  {
   "cell_type": "code",
   "execution_count": null,
   "metadata": {},
   "outputs": [],
   "source": [
    "@benchmark df = CSV.read(\"data/sp500.csv\", DataFrame)\n",
    "# @benchmark CSV.read(\"data/sp500.csv\", DataFrame, tasks=8)"
   ]
  },
  {
   "cell_type": "markdown",
   "metadata": {},
   "source": [
    "#### Mostrando as 10 primeiras linhas"
   ]
  },
  {
   "cell_type": "code",
   "execution_count": null,
   "metadata": {},
   "outputs": [],
   "source": [
    "first(sp500, 10)"
   ]
  },
  {
   "cell_type": "markdown",
   "metadata": {},
   "source": [
    "## 2. Selecionar linhas"
   ]
  },
  {
   "cell_type": "code",
   "execution_count": null,
   "metadata": {},
   "outputs": [],
   "source": [
    "## selecionando as linhas 1, 10 e 100\n",
    "sp500[[1, 10, 100],:]"
   ]
  },
  {
   "cell_type": "code",
   "execution_count": null,
   "metadata": {},
   "outputs": [],
   "source": [
    "## Remover as linhas 1, 10 e 100\n",
    "sp500[Not([1, 10, 100]), :]\n",
    "\n",
    "# deleta as linhas inplace\n",
    "# delete!(sp500, [1, 10, 100])"
   ]
  },
  {
   "cell_type": "markdown",
   "metadata": {},
   "source": [
    "## 3. Selecionando colunas"
   ]
  },
  {
   "cell_type": "code",
   "execution_count": null,
   "metadata": {},
   "outputs": [],
   "source": [
    "sp500.close\n",
    "sp500.\"close\"\n",
    "sp500[!, :close]\n",
    "sp500[!, \"close\"]\n",
    "\n",
    "# se vc quiser fazer uma cópia da coluna\n",
    "sp500[:, :close] # usar \":\" no lugar de \"!\""
   ]
  },
  {
   "cell_type": "code",
   "execution_count": null,
   "metadata": {},
   "outputs": [],
   "source": [
    "# mais de uma coluna - preferível \n",
    "sp500[!, [:symbol, :close, :volume]]\n",
    "\n",
    "# alternativa \n",
    "sp500[!, [\"symbol\", \"close\", \"volume\"]]\n",
    "\n",
    "# select\n",
    "select(sp500, [:symbol, :close, :volume])\n",
    "\n",
    "# se quiser fazer o inplace, alterar o sp500 use \"!\"\n",
    "# select!(sp500, [:symbol, :close, :volume])"
   ]
  },
  {
   "cell_type": "code",
   "execution_count": null,
   "metadata": {},
   "outputs": [],
   "source": [
    "## removendo colunas específicas\n",
    "sp500[!, Not([:high, :open])]\n",
    "\n",
    "## select\n",
    "select(sp500, Not([:high, :open]))"
   ]
  },
  {
   "cell_type": "markdown",
   "metadata": {},
   "source": [
    "## 4. Selecionando linhas a partir de condições"
   ]
  },
  {
   "cell_type": "code",
   "execution_count": null,
   "metadata": {},
   "outputs": [],
   "source": [
    "## DataFrames \n",
    "# diversas maneiras\n",
    "sp500[sp500.volume .< 1000, :]\n",
    "\n",
    "filter(:volume => volume -> volume<1000, sp500)\n",
    "\n",
    "filter(sp500 -> sp500.volume < 1000, sp500)\n"
   ]
  },
  {
   "cell_type": "code",
   "execution_count": null,
   "metadata": {},
   "outputs": [],
   "source": [
    "sp500[(sp500.volume .< 1000).&(sp500.close .> 60),:]\n",
    "\n",
    "filter([:volume, :close] => (volume, close) -> volume < 1000 && close > 60, sp500)"
   ]
  },
  {
   "cell_type": "markdown",
   "metadata": {},
   "source": [
    "#### Usando Queryverse"
   ]
  },
  {
   "cell_type": "code",
   "execution_count": null,
   "metadata": {},
   "outputs": [],
   "source": [
    "sp500 |>\n",
    "    @filter(_.volume < 1000) |>\n",
    "    DataFrame"
   ]
  },
  {
   "cell_type": "code",
   "execution_count": null,
   "metadata": {},
   "outputs": [],
   "source": [
    "sp500 |>\n",
    "    @filter(_.volume < 1000 && _.close > 60) |>\n",
    "    DataFrame"
   ]
  },
  {
   "cell_type": "markdown",
   "metadata": {},
   "source": [
    "### Select "
   ]
  },
  {
   "cell_type": "code",
   "execution_count": null,
   "metadata": {},
   "outputs": [],
   "source": [
    "# Vamos selecionar as colunas que iniciam com v\n",
    "sp500 |>\n",
    "    @select(startswith(\"v\")) |>\n",
    "    DataFrame"
   ]
  },
  {
   "cell_type": "code",
   "execution_count": null,
   "metadata": {},
   "outputs": [],
   "source": [
    "# Não vamos selecionar as colunas que iniciam com v\n",
    "sp500 |>\n",
    "    @select(!startswith(\"v\")) |>\n",
    "    DataFrame"
   ]
  },
  {
   "cell_type": "code",
   "execution_count": null,
   "metadata": {},
   "outputs": [],
   "source": [
    "# Mais de uma condição\n",
    "sp500 |>\n",
    "    @select(startswith(\"c\"), startswith(\"v\")) |>\n",
    "    DataFrame"
   ]
  },
  {
   "cell_type": "markdown",
   "metadata": {},
   "source": [
    "## 5. Groupby\n",
    "\n",
    "#### Calculando estatísticas"
   ]
  },
  {
   "cell_type": "code",
   "execution_count": null,
   "metadata": {},
   "outputs": [],
   "source": [
    "using Statistics"
   ]
  },
  {
   "cell_type": "code",
   "execution_count": null,
   "metadata": {},
   "outputs": [],
   "source": [
    "## Descrevendo as estatísticas básicas\n",
    "describe(sp500)"
   ]
  },
  {
   "cell_type": "code",
   "execution_count": null,
   "metadata": {},
   "outputs": [],
   "source": [
    "# Estatísticas específicas\n",
    "describe(sp500, :mean, :std)"
   ]
  },
  {
   "cell_type": "code",
   "execution_count": null,
   "metadata": {},
   "outputs": [],
   "source": [
    "#vamos fazer o grupo por symbol e calcular a média do volume\n",
    "grupos = groupby(sp500, :symbol)\n",
    "combine(grupos, :volume=>mean)"
   ]
  },
  {
   "cell_type": "code",
   "execution_count": null,
   "metadata": {},
   "outputs": [],
   "source": [
    "@pipe sp500 |>\n",
    "    groupby(_,:symbol) |>\n",
    "    combine(_,:volume=>mean)\n",
    "\n",
    "# alterando nome da coluna\n",
    "@pipe sp500 |>\n",
    "    groupby(_,:symbol) |>\n",
    "    combine(_,:volume=>mean=>:media)"
   ]
  },
  {
   "cell_type": "code",
   "execution_count": null,
   "metadata": {},
   "outputs": [],
   "source": [
    "# vamos fazer o grupo por symbol e calcular a média do volume\n",
    "sp500 |>\n",
    "    @groupby(_.symbol) |> \n",
    "    @map({\n",
    "        Key=key(_),\n",
    "        media=mean(_.volume)}) |>\n",
    "    DataFrame"
   ]
  },
  {
   "cell_type": "code",
   "execution_count": null,
   "metadata": {},
   "outputs": [],
   "source": [
    "# ordenando de forma crescente\n",
    "@pipe sp500 |>\n",
    "    groupby(_,:symbol) |>\n",
    "    combine(_,:volume=>mean=>:media) |>\n",
    "    sort(_,:media)\n",
    "\n",
    "# ordenando de forma decrescente\n",
    "@pipe sp500 |>\n",
    "    groupby(_,:symbol) |>\n",
    "    combine(_,:volume=>mean=>:media) |>\n",
    "    sort(_,:media, rev=true)"
   ]
  },
  {
   "cell_type": "code",
   "execution_count": null,
   "metadata": {},
   "outputs": [],
   "source": [
    "# ordenando de forma crescente\n",
    "sp500 |>\n",
    "    @groupby(_.symbol) |> \n",
    "    @map({\n",
    "        symbol=key(_), \n",
    "        media=mean(_.volume)}) |>\n",
    "    @orderby(_.media) |>\n",
    "    DataFrame\n",
    "\n",
    "# ordenando de forma decrescente\n",
    "sp500 |>\n",
    "    @groupby(_.symbol) |> \n",
    "    @map({\n",
    "        symbol=key(_), \n",
    "        media=mean(_.volume)}) |>\n",
    "    @orderby_descending(_.media) |>\n",
    "    DataFrame"
   ]
  },
  {
   "cell_type": "code",
   "execution_count": null,
   "metadata": {},
   "outputs": [],
   "source": [
    "@pipe sp500 |>\n",
    "    groupby(_,:symbol) |>\n",
    "    combine(_,:close=>mean,\n",
    "              :close=>std)\n",
    "\n",
    "@pipe sp500 |>\n",
    "    groupby(_,:symbol) |>\n",
    "    combine(_,:close=>mean=>:media,\n",
    "              :close=>std=>:desvio)"
   ]
  },
  {
   "cell_type": "code",
   "execution_count": null,
   "metadata": {},
   "outputs": [],
   "source": [
    "estatisticas = sp500 |>\n",
    "    @groupby(_.symbol) |> \n",
    "    @map({Key=key(_), \n",
    "          mean=mean(_.close), \n",
    "          std=std(_.close)}) |>\n",
    "    DataFrame "
   ]
  },
  {
   "cell_type": "markdown",
   "metadata": {},
   "source": [
    "## 6. Renomear colunas"
   ]
  },
  {
   "cell_type": "code",
   "execution_count": null,
   "metadata": {},
   "outputs": [],
   "source": [
    "estatisticas |>\n",
    "    @rename(:Key => :ticker, \n",
    "            :mean => :media, \n",
    "            :std => :desvio) |>\n",
    "    DataFrame"
   ]
  },
  {
   "cell_type": "markdown",
   "metadata": {},
   "source": [
    "## 7. Dados faltantes"
   ]
  },
  {
   "cell_type": "code",
   "execution_count": null,
   "metadata": {},
   "outputs": [],
   "source": [
    "# função ismissing retorna bool\n",
    "# somar a quantidade de dados faltantes para cada coluna\n",
    "sum_ismiss(df) = sum(ismissing.(df))\n",
    "[sum_ismiss(col) for col = eachcol(sp500)]\n",
    "\n",
    "# usando mapcols\n",
    "mapcols(sum_ismiss, sp500)"
   ]
  },
  {
   "cell_type": "code",
   "execution_count": null,
   "metadata": {},
   "outputs": [],
   "source": [
    "## Missing Data\n",
    "dropmissing(sp500) # todas as colunas"
   ]
  },
  {
   "cell_type": "code",
   "execution_count": null,
   "metadata": {},
   "outputs": [],
   "source": [
    "# dropando missing apenas de open, high\n",
    "dropmissing(sp500, :high)"
   ]
  },
  {
   "cell_type": "code",
   "execution_count": null,
   "metadata": {},
   "outputs": [],
   "source": []
  }
 ],
 "metadata": {
  "kernelspec": {
   "display_name": "Julia 1.4.1",
   "language": "julia",
   "name": "julia-1.4"
  },
  "language_info": {
   "file_extension": ".jl",
   "mimetype": "application/julia",
   "name": "julia",
   "version": "1.4.1"
  }
 },
 "nbformat": 4,
 "nbformat_minor": 4
}
