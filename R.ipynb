{
 "cells": [
  {
   "cell_type": "markdown",
   "metadata": {},
   "source": [
    "# R"
   ]
  },
  {
   "cell_type": "markdown",
   "metadata": {},
   "source": [
    "### DataFrames\n",
    "\n",
    "Utilidade: Manipulação de dados."
   ]
  },
  {
   "cell_type": "code",
   "execution_count": 1,
   "metadata": {},
   "outputs": [
    {
     "name": "stderr",
     "output_type": "stream",
     "text": [
      "── Attaching packages ─────────────────────────────────────── tidyverse 1.3.0 ──\n",
      "✔ ggplot2 3.3.2     ✔ purrr   0.3.4\n",
      "✔ tibble  3.0.4     ✔ dplyr   1.0.2\n",
      "✔ tidyr   1.1.2     ✔ stringr 1.4.0\n",
      "✔ readr   1.4.0     ✔ forcats 0.5.0\n",
      "── Conflicts ────────────────────────────────────────── tidyverse_conflicts() ──\n",
      "✖ dplyr::filter() masks stats::filter()\n",
      "✖ dplyr::lag()    masks stats::lag()\n"
     ]
    }
   ],
   "source": [
    "# importando biblioteca\n",
    "# install.packages(\"tidyverse\")\n",
    "library(\"tidyverse\")"
   ]
  },
  {
   "cell_type": "code",
   "execution_count": 3,
   "metadata": {},
   "outputs": [
    {
     "name": "stderr",
     "output_type": "stream",
     "text": [
      "\n",
      "── Column specification ────────────────────────────────────────────────────────\n",
      "cols(\n",
      "  symbol = col_character(),\n",
      "  date = col_date(format = \"\"),\n",
      "  open = col_double(),\n",
      "  high = col_double(),\n",
      "  low = col_double(),\n",
      "  close = col_double(),\n",
      "  volume = col_double()\n",
      ")\n",
      "\n"
     ]
    }
   ],
   "source": [
    "sp500 = read_csv('data/sp500.csv')"
   ]
  },
  {
   "cell_type": "markdown",
   "metadata": {},
   "source": [
    "### Mensurando tempo de exeução da leitura dos dados"
   ]
  },
  {
   "cell_type": "code",
   "execution_count": 5,
   "metadata": {},
   "outputs": [
    {
     "name": "stderr",
     "output_type": "stream",
     "text": [
      "\n",
      "── Column specification ────────────────────────────────────────────────────────\n",
      "cols(\n",
      "  symbol = col_character(),\n",
      "  date = col_date(format = \"\"),\n",
      "  open = col_double(),\n",
      "  high = col_double(),\n",
      "  low = col_double(),\n",
      "  close = col_double(),\n",
      "  volume = col_double()\n",
      ")\n",
      "\n"
     ]
    },
    {
     "data": {
      "text/plain": [
       "   user  system elapsed \n",
       "  0.391   0.004   0.396 "
      ]
     },
     "metadata": {},
     "output_type": "display_data"
    }
   ],
   "source": [
    "system.time(read_csv('data/sp500.csv'))"
   ]
  },
  {
   "cell_type": "code",
   "execution_count": 7,
   "metadata": {},
   "outputs": [
    {
     "data": {
      "text/html": [
       "<ol class=list-inline>\n",
       "\t<li>25.36</li>\n",
       "\t<li>79.0185</li>\n",
       "\t<li>109.74</li>\n",
       "\t<li>51.98</li>\n",
       "\t<li>69.89</li>\n",
       "\t<li>38.23</li>\n",
       "</ol>\n"
      ],
      "text/latex": [
       "\\begin{enumerate*}\n",
       "\\item 25.36\n",
       "\\item 79.0185\n",
       "\\item 109.74\n",
       "\\item 51.98\n",
       "\\item 69.89\n",
       "\\item 38.23\n",
       "\\end{enumerate*}\n"
      ],
      "text/markdown": [
       "1. 25.36\n",
       "2. 79.0185\n",
       "3. 109.74\n",
       "4. 51.98\n",
       "5. 69.89\n",
       "6. 38.23\n",
       "\n",
       "\n"
      ],
      "text/plain": [
       "[1]  25.3600  79.0185 109.7400  51.9800  69.8900  38.2300"
      ]
     },
     "metadata": {},
     "output_type": "display_data"
    }
   ],
   "source": [
    "head(sp500$close)"
   ]
  },
  {
   "cell_type": "code",
   "execution_count": null,
   "metadata": {},
   "outputs": [],
   "source": []
  }
 ],
 "metadata": {
  "kernelspec": {
   "display_name": "R",
   "language": "R",
   "name": "ir"
  },
  "language_info": {
   "codemirror_mode": "r",
   "file_extension": ".r",
   "mimetype": "text/x-r-source",
   "name": "R",
   "pygments_lexer": "r",
   "version": "3.6.1"
  }
 },
 "nbformat": 4,
 "nbformat_minor": 4
}
