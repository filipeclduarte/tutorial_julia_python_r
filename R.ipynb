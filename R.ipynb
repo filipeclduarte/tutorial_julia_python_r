{
 "cells": [
  {
   "cell_type": "markdown",
   "metadata": {},
   "source": [
    "# R"
   ]
  },
  {
   "cell_type": "markdown",
   "metadata": {},
   "source": [
    "## Manipulação de dados\n",
    "### DataFrames\n",
    "\n",
    "O que veremos nesse tutorial?\n",
    "\n",
    "1. leitura de dados\n",
    "2. selecionar linhas\n",
    "3. selecionar colunas\n",
    "4. filtro de linhas\n",
    "5. groupby com estatísticas\n",
    "6. renomear colunas \n",
    "7. dados faltantes\n"
   ]
  },
  {
   "cell_type": "markdown",
   "metadata": {},
   "source": [
    "## 1. Leitura de dados"
   ]
  },
  {
   "cell_type": "code",
   "execution_count": null,
   "metadata": {},
   "outputs": [],
   "source": [
    "# importando biblioteca\n",
    "# install.packages(\"tidyverse\")\n",
    "# install.packages(\"data.table\")\n",
    "# install.packages(\"microbenchmark\")\n",
    "library('tidyverse')\n",
    "library('data.table')\n",
    "library('microbenchmark')"
   ]
  },
  {
   "cell_type": "code",
   "execution_count": null,
   "metadata": {},
   "outputs": [],
   "source": [
    "# sp500 = read_csv('data/sp500.csv')\n",
    "sp500 = fread('data/sp500.csv') # data.table bem mais rápido\n",
    "\n",
    "# sp500 = data.frame(sp500)"
   ]
  },
  {
   "cell_type": "markdown",
   "metadata": {},
   "source": [
    "### Mensurando tempo de exeução da leitura dos dados"
   ]
  },
  {
   "cell_type": "code",
   "execution_count": null,
   "metadata": {},
   "outputs": [],
   "source": [
    "print(microbenchmark(read_csv('data/sp500.csv')))"
   ]
  },
  {
   "cell_type": "code",
   "execution_count": null,
   "metadata": {},
   "outputs": [],
   "source": [
    "print(microbenchmark(fread('data/sp500.csv')))"
   ]
  },
  {
   "cell_type": "markdown",
   "metadata": {},
   "source": [
    "#### Mostrando as 10 primeiras linhas"
   ]
  },
  {
   "cell_type": "code",
   "execution_count": null,
   "metadata": {},
   "outputs": [],
   "source": [
    "head(sp500, 10)"
   ]
  },
  {
   "cell_type": "markdown",
   "metadata": {},
   "source": [
    "## 2. Selecionar linhas"
   ]
  },
  {
   "cell_type": "code",
   "execution_count": null,
   "metadata": {},
   "outputs": [],
   "source": [
    "## selecionando as linhas 1, 10 e 100\n",
    "sp500[c(1,10,100),]"
   ]
  },
  {
   "cell_type": "code",
   "execution_count": null,
   "metadata": {},
   "outputs": [],
   "source": [
    "## removendo as linhas 1, 10 e 100\n",
    "sp500[-c(1, 10, 100), ]"
   ]
  },
  {
   "cell_type": "markdown",
   "metadata": {},
   "source": [
    "## 3. Selecionar colunas"
   ]
  },
  {
   "cell_type": "code",
   "execution_count": null,
   "metadata": {},
   "outputs": [],
   "source": [
    "head(sp500$close)\n",
    "head(sp500[,'close'])\n",
    "\n",
    "# em R não é necessário fazer a cópia"
   ]
  },
  {
   "cell_type": "code",
   "execution_count": null,
   "metadata": {},
   "outputs": [],
   "source": [
    "## mais de uma coluna\n",
    "sp500[,c('symbol','close', 'volume')]\n",
    "\n",
    "## dplyr\n",
    "sp500 %>%\n",
    "    select(symbol, close, volume)"
   ]
  },
  {
   "cell_type": "code",
   "execution_count": null,
   "metadata": {},
   "outputs": [],
   "source": [
    "## removendo colunas específicas\n",
    "subset(sp500, select=-c(high, open))\n",
    "\n",
    "## dplyr\n",
    "sp500 %>%\n",
    "    select(-high, -open)"
   ]
  },
  {
   "cell_type": "markdown",
   "metadata": {},
   "source": [
    "## 4. Selecionando linhas a partir de condições"
   ]
  },
  {
   "cell_type": "code",
   "execution_count": null,
   "metadata": {},
   "outputs": [],
   "source": [
    "sp500[sp500$volume < 1000,]"
   ]
  },
  {
   "cell_type": "code",
   "execution_count": null,
   "metadata": {},
   "outputs": [],
   "source": [
    "sp500 %>%\n",
    "    filter(volume < 1000)"
   ]
  },
  {
   "cell_type": "code",
   "execution_count": null,
   "metadata": {},
   "outputs": [],
   "source": [
    "sp500 %>%\n",
    "    filter(volume < 1000, close > 60)"
   ]
  },
  {
   "cell_type": "markdown",
   "metadata": {},
   "source": [
    "### Select"
   ]
  },
  {
   "cell_type": "code",
   "execution_count": null,
   "metadata": {},
   "outputs": [],
   "source": [
    "# selecionar as colunas que iniciam com v\n",
    "sp500 %>%\n",
    "    select(starts_with('v'))"
   ]
  },
  {
   "cell_type": "code",
   "execution_count": null,
   "metadata": {},
   "outputs": [],
   "source": [
    "# não vamos selecionar as colunas que iniciam com v\n",
    "sp500 %>%\n",
    "    select(!starts_with('v'))"
   ]
  },
  {
   "cell_type": "code",
   "execution_count": null,
   "metadata": {},
   "outputs": [],
   "source": [
    "# mais de uma condição\n",
    "sp500 %>%\n",
    "    select(starts_with('v'), starts_with('c'))"
   ]
  },
  {
   "cell_type": "markdown",
   "metadata": {},
   "source": [
    "## 5. Groupby\n",
    "\n",
    "#### Calculando estatísticas"
   ]
  },
  {
   "cell_type": "code",
   "execution_count": null,
   "metadata": {},
   "outputs": [],
   "source": [
    "## Descrevendo as estatísticas básicas\n",
    "summary(sp500)"
   ]
  },
  {
   "cell_type": "code",
   "execution_count": null,
   "metadata": {},
   "outputs": [],
   "source": [
    "# vamos fazer o grupo por symbol e calcular a média do volume\n",
    "sp500 %>%\n",
    "    group_by(symbol) %>%\n",
    "    summarise(media = mean(volume))\n",
    "    "
   ]
  },
  {
   "cell_type": "code",
   "execution_count": null,
   "metadata": {},
   "outputs": [],
   "source": [
    "# ordenando de forma crescente\n",
    "sp500 %>%\n",
    "    group_by(symbol) %>%\n",
    "    summarise(media = mean(volume)) %>%\n",
    "    arrange(media)\n",
    "\n",
    "# ordenando de forma decrescente\n",
    "sp500 %>%\n",
    "    group_by(symbol) %>%\n",
    "    summarise(media = mean(volume)) %>%\n",
    "    arrange(desc(media))\n",
    "    "
   ]
  },
  {
   "cell_type": "code",
   "execution_count": null,
   "metadata": {},
   "outputs": [],
   "source": [
    "estatisticas <- sp500 %>%\n",
    "    group_by(symbol) %>%\n",
    "    summarise(mean=mean(close), std=sd(close))\n",
    "\n",
    "estatisticas"
   ]
  },
  {
   "cell_type": "markdown",
   "metadata": {},
   "source": [
    "## 6. Renomeando colunas"
   ]
  },
  {
   "cell_type": "code",
   "execution_count": null,
   "metadata": {},
   "outputs": [],
   "source": [
    "estatisticas %>%\n",
    "    rename(ticker=symbol,\n",
    "           media=mean,\n",
    "           desvio=std)"
   ]
  },
  {
   "cell_type": "markdown",
   "metadata": {},
   "source": [
    "## 7. Dados faltantes"
   ]
  },
  {
   "cell_type": "code",
   "execution_count": null,
   "metadata": {},
   "outputs": [],
   "source": [
    "# somar a quantidade de dados faltantes para cada coluna\n",
    "sum_na <- function(df){\n",
    "    sum(is.na(df))\n",
    "}\n",
    "\n",
    "# usando apply\n",
    "apply(sp500, FUN=sum_na, MARGIN=2)"
   ]
  },
  {
   "cell_type": "code",
   "execution_count": null,
   "metadata": {},
   "outputs": [],
   "source": [
    "# drop NA \n",
    "na.omit(sp500)\n",
    "# alternativa\n",
    "drop_na(sp500)"
   ]
  },
  {
   "cell_type": "code",
   "execution_count": null,
   "metadata": {},
   "outputs": [],
   "source": [
    "# dropando NA apenas de high\n",
    "sp500 %>%\n",
    "    drop_na(high)"
   ]
  },
  {
   "cell_type": "code",
   "execution_count": null,
   "metadata": {},
   "outputs": [],
   "source": []
  }
 ],
 "metadata": {
  "kernelspec": {
   "display_name": "R",
   "language": "R",
   "name": "ir"
  },
  "language_info": {
   "codemirror_mode": "r",
   "file_extension": ".r",
   "mimetype": "text/x-r-source",
   "name": "R",
   "pygments_lexer": "r",
   "version": "3.6.1"
  }
 },
 "nbformat": 4,
 "nbformat_minor": 4
}
